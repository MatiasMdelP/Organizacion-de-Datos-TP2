{
 "cells": [
  {
   "cell_type": "code",
   "execution_count": 1,
   "metadata": {},
   "outputs": [],
   "source": [
    "import pandas as pd"
   ]
  },
  {
   "cell_type": "code",
   "execution_count": 2,
   "metadata": {},
   "outputs": [],
   "source": [
    "dtype = {\n",
    "    'device_id': 'int64',\n",
    "    'auctionsCount': 'float64',\n",
    "    'auctionsMostFreqDay': 'float64',\n",
    "    'auctionsStdDevInterval': 'float64',\n",
    "    'auctionsAproxFreq': 'float64',\n",
    "    'auctionsLast': 'float64'\n",
    "}"
   ]
  },
  {
   "cell_type": "code",
   "execution_count": 3,
   "metadata": {},
   "outputs": [],
   "source": [
    "featuresAuctions = pd.read_csv('data/auctionsFeaturesFirstThreeDays.csv', usecols=dtype.keys(), dtype=dtype)"
   ]
  },
  {
   "cell_type": "code",
   "execution_count": 4,
   "metadata": {},
   "outputs": [],
   "source": [
    "dtype = {\n",
    "    'device_id': 'int64',\n",
    "    'eventsCount': 'float64',\n",
    "    'eventsMostFreqDay': 'float64',\n",
    "    'eventsStdDevInterval': 'float64',\n",
    "    'eventsAproxFreq': 'float64',\n",
    "    'eventsLast': 'float64'\n",
    "}"
   ]
  },
  {
   "cell_type": "code",
   "execution_count": 5,
   "metadata": {},
   "outputs": [],
   "source": [
    "featuresEvents = pd.read_csv('data/eventsFeaturesFirstThreeDays.csv', usecols=dtype.keys(), dtype=dtype)"
   ]
  },
  {
   "cell_type": "code",
   "execution_count": 6,
   "metadata": {},
   "outputs": [],
   "source": [
    "features = pd.merge(featuresAuctions, featuresEvents, how='outer')"
   ]
  },
  {
   "cell_type": "code",
   "execution_count": 7,
   "metadata": {},
   "outputs": [],
   "source": [
    "dtype = {\n",
    "    'device_id': 'int64',\n",
    "    'st': 'float64'\n",
    "}"
   ]
  },
  {
   "cell_type": "code",
   "execution_count": 8,
   "metadata": {},
   "outputs": [],
   "source": [
    "labels = pd.read_csv('data/labelsFirstThreeDays.csv', usecols=dtype.keys(), dtype=dtype)"
   ]
  },
  {
   "cell_type": "code",
   "execution_count": 9,
   "metadata": {},
   "outputs": [],
   "source": [
    "labels = labels.merge(features[['device_id']])"
   ]
  },
  {
   "cell_type": "markdown",
   "metadata": {},
   "source": [
    "El id del device no me interesa, pero las filas labels y features deben coincidir para un dispositivo. Por eso ordeno por dispositivo y luego tiro los id."
   ]
  },
  {
   "cell_type": "code",
   "execution_count": 10,
   "metadata": {},
   "outputs": [],
   "source": [
    "labels = labels.sort_values(by='device_id').reset_index(drop=True)"
   ]
  },
  {
   "cell_type": "code",
   "execution_count": 11,
   "metadata": {},
   "outputs": [],
   "source": [
    "features = features.sort_values(by='device_id').reset_index(drop=True)"
   ]
  },
  {
   "cell_type": "code",
   "execution_count": 12,
   "metadata": {},
   "outputs": [],
   "source": [
    "labels = labels.drop('device_id', axis=1)"
   ]
  },
  {
   "cell_type": "code",
   "execution_count": 13,
   "metadata": {},
   "outputs": [],
   "source": [
    "features = features.drop('device_id', axis=1)"
   ]
  },
  {
   "cell_type": "code",
   "execution_count": 14,
   "metadata": {},
   "outputs": [],
   "source": [
    "labels['uncensored'] = labels['st'].notnull()"
   ]
  },
  {
   "cell_type": "code",
   "execution_count": 15,
   "metadata": {},
   "outputs": [],
   "source": [
    "secondsInThreeDays = 3 * 24 * 60 * 60\n",
    "labels['st'] = labels['st'].fillna(secondsInThreeDays)"
   ]
  },
  {
   "cell_type": "code",
   "execution_count": 16,
   "metadata": {},
   "outputs": [],
   "source": [
    "features = features.fillna(0)"
   ]
  },
  {
   "cell_type": "code",
   "execution_count": 17,
   "metadata": {
    "scrolled": true
   },
   "outputs": [
    {
     "data": {
      "text/html": [
       "<div>\n",
       "<style scoped>\n",
       "    .dataframe tbody tr th:only-of-type {\n",
       "        vertical-align: middle;\n",
       "    }\n",
       "\n",
       "    .dataframe tbody tr th {\n",
       "        vertical-align: top;\n",
       "    }\n",
       "\n",
       "    .dataframe thead th {\n",
       "        text-align: right;\n",
       "    }\n",
       "</style>\n",
       "<table border=\"1\" class=\"dataframe\">\n",
       "  <thead>\n",
       "    <tr style=\"text-align: right;\">\n",
       "      <th></th>\n",
       "      <th>st</th>\n",
       "      <th>uncensored</th>\n",
       "    </tr>\n",
       "  </thead>\n",
       "  <tbody>\n",
       "    <tr>\n",
       "      <th>0</th>\n",
       "      <td>259200.000000</td>\n",
       "      <td>False</td>\n",
       "    </tr>\n",
       "    <tr>\n",
       "      <th>1</th>\n",
       "      <td>259200.000000</td>\n",
       "      <td>False</td>\n",
       "    </tr>\n",
       "    <tr>\n",
       "      <th>2</th>\n",
       "      <td>259200.000000</td>\n",
       "      <td>False</td>\n",
       "    </tr>\n",
       "    <tr>\n",
       "      <th>3</th>\n",
       "      <td>259200.000000</td>\n",
       "      <td>False</td>\n",
       "    </tr>\n",
       "    <tr>\n",
       "      <th>4</th>\n",
       "      <td>88.851558</td>\n",
       "      <td>True</td>\n",
       "    </tr>\n",
       "  </tbody>\n",
       "</table>\n",
       "</div>"
      ],
      "text/plain": [
       "              st  uncensored\n",
       "0  259200.000000       False\n",
       "1  259200.000000       False\n",
       "2  259200.000000       False\n",
       "3  259200.000000       False\n",
       "4      88.851558        True"
      ]
     },
     "execution_count": 17,
     "metadata": {},
     "output_type": "execute_result"
    }
   ],
   "source": [
    "labels.head()"
   ]
  },
  {
   "cell_type": "code",
   "execution_count": 18,
   "metadata": {},
   "outputs": [
    {
     "data": {
      "text/plain": [
       "True     247656\n",
       "False    159413\n",
       "Name: uncensored, dtype: int64"
      ]
     },
     "execution_count": 18,
     "metadata": {},
     "output_type": "execute_result"
    }
   ],
   "source": [
    "labels['uncensored'].value_counts()"
   ]
  },
  {
   "cell_type": "code",
   "execution_count": 19,
   "metadata": {
    "scrolled": true
   },
   "outputs": [
    {
     "data": {
      "text/html": [
       "<div>\n",
       "<style scoped>\n",
       "    .dataframe tbody tr th:only-of-type {\n",
       "        vertical-align: middle;\n",
       "    }\n",
       "\n",
       "    .dataframe tbody tr th {\n",
       "        vertical-align: top;\n",
       "    }\n",
       "\n",
       "    .dataframe thead th {\n",
       "        text-align: right;\n",
       "    }\n",
       "</style>\n",
       "<table border=\"1\" class=\"dataframe\">\n",
       "  <thead>\n",
       "    <tr style=\"text-align: right;\">\n",
       "      <th></th>\n",
       "      <th>auctionsCount</th>\n",
       "      <th>auctionsMostFreqDay</th>\n",
       "      <th>auctionsAproxFreq</th>\n",
       "      <th>auctionsStdDevInterval</th>\n",
       "      <th>auctionsLast</th>\n",
       "      <th>eventsCount</th>\n",
       "      <th>eventsMostFreqDay</th>\n",
       "      <th>eventsAproxFreq</th>\n",
       "      <th>eventsStdDevInterval</th>\n",
       "      <th>eventsLast</th>\n",
       "    </tr>\n",
       "  </thead>\n",
       "  <tbody>\n",
       "    <tr>\n",
       "      <th>0</th>\n",
       "      <td>35.0</td>\n",
       "      <td>3.0</td>\n",
       "      <td>0.000185</td>\n",
       "      <td>26777.818183</td>\n",
       "      <td>189019.920750</td>\n",
       "      <td>88.0</td>\n",
       "      <td>3.0</td>\n",
       "      <td>0.000457</td>\n",
       "      <td>12501.025059</td>\n",
       "      <td>192746.512</td>\n",
       "    </tr>\n",
       "    <tr>\n",
       "      <th>1</th>\n",
       "      <td>8.0</td>\n",
       "      <td>3.0</td>\n",
       "      <td>0.000042</td>\n",
       "      <td>66376.255608</td>\n",
       "      <td>188652.769083</td>\n",
       "      <td>0.0</td>\n",
       "      <td>0.0</td>\n",
       "      <td>0.000000</td>\n",
       "      <td>0.000000</td>\n",
       "      <td>0.000</td>\n",
       "    </tr>\n",
       "    <tr>\n",
       "      <th>2</th>\n",
       "      <td>6.0</td>\n",
       "      <td>1.0</td>\n",
       "      <td>0.000572</td>\n",
       "      <td>4222.014848</td>\n",
       "      <td>10489.540987</td>\n",
       "      <td>8.0</td>\n",
       "      <td>2.0</td>\n",
       "      <td>0.000054</td>\n",
       "      <td>52213.999252</td>\n",
       "      <td>148055.839</td>\n",
       "    </tr>\n",
       "    <tr>\n",
       "      <th>3</th>\n",
       "      <td>1.0</td>\n",
       "      <td>3.0</td>\n",
       "      <td>0.000004</td>\n",
       "      <td>0.000000</td>\n",
       "      <td>256765.420614</td>\n",
       "      <td>0.0</td>\n",
       "      <td>0.0</td>\n",
       "      <td>0.000000</td>\n",
       "      <td>0.000000</td>\n",
       "      <td>0.000</td>\n",
       "    </tr>\n",
       "    <tr>\n",
       "      <th>4</th>\n",
       "      <td>7.0</td>\n",
       "      <td>3.0</td>\n",
       "      <td>0.000027</td>\n",
       "      <td>46058.714104</td>\n",
       "      <td>257677.264901</td>\n",
       "      <td>13.0</td>\n",
       "      <td>1.0</td>\n",
       "      <td>0.000215</td>\n",
       "      <td>16645.826680</td>\n",
       "      <td>60350.055</td>\n",
       "    </tr>\n",
       "  </tbody>\n",
       "</table>\n",
       "</div>"
      ],
      "text/plain": [
       "   auctionsCount  auctionsMostFreqDay  auctionsAproxFreq  \\\n",
       "0           35.0                  3.0           0.000185   \n",
       "1            8.0                  3.0           0.000042   \n",
       "2            6.0                  1.0           0.000572   \n",
       "3            1.0                  3.0           0.000004   \n",
       "4            7.0                  3.0           0.000027   \n",
       "\n",
       "   auctionsStdDevInterval   auctionsLast  eventsCount  eventsMostFreqDay  \\\n",
       "0            26777.818183  189019.920750         88.0                3.0   \n",
       "1            66376.255608  188652.769083          0.0                0.0   \n",
       "2             4222.014848   10489.540987          8.0                2.0   \n",
       "3                0.000000  256765.420614          0.0                0.0   \n",
       "4            46058.714104  257677.264901         13.0                1.0   \n",
       "\n",
       "   eventsAproxFreq  eventsStdDevInterval  eventsLast  \n",
       "0         0.000457          12501.025059  192746.512  \n",
       "1         0.000000              0.000000       0.000  \n",
       "2         0.000054          52213.999252  148055.839  \n",
       "3         0.000000              0.000000       0.000  \n",
       "4         0.000215          16645.826680   60350.055  "
      ]
     },
     "execution_count": 19,
     "metadata": {},
     "output_type": "execute_result"
    }
   ],
   "source": [
    "features.head()"
   ]
  },
  {
   "cell_type": "code",
   "execution_count": 20,
   "metadata": {},
   "outputs": [],
   "source": [
    "n = 10000"
   ]
  },
  {
   "cell_type": "code",
   "execution_count": 21,
   "metadata": {},
   "outputs": [],
   "source": [
    "labels = labels[:2*n]"
   ]
  },
  {
   "cell_type": "code",
   "execution_count": 22,
   "metadata": {},
   "outputs": [],
   "source": [
    "features = features[:2*n]"
   ]
  },
  {
   "cell_type": "code",
   "execution_count": 23,
   "metadata": {},
   "outputs": [],
   "source": [
    "labelsTrain = labels.iloc[:n]"
   ]
  },
  {
   "cell_type": "code",
   "execution_count": 24,
   "metadata": {},
   "outputs": [],
   "source": [
    "labelsTest = labels.iloc[n:2*n]"
   ]
  },
  {
   "cell_type": "code",
   "execution_count": 25,
   "metadata": {},
   "outputs": [],
   "source": [
    "featuresTrain = features.iloc[:n]"
   ]
  },
  {
   "cell_type": "code",
   "execution_count": 26,
   "metadata": {},
   "outputs": [],
   "source": [
    "featuresTest = features.iloc[n:2*n]"
   ]
  },
  {
   "cell_type": "code",
   "execution_count": 27,
   "metadata": {},
   "outputs": [],
   "source": [
    "from sksurv.linear_model import CoxPHSurvivalAnalysis\n",
    "estimator = CoxPHSurvivalAnalysis(verbose=True)"
   ]
  },
  {
   "cell_type": "code",
   "execution_count": 28,
   "metadata": {},
   "outputs": [],
   "source": [
    "from sksurv.util import Surv\n",
    "util = Surv()\n",
    "saLabels = util.from_dataframe('uncensored', 'st', labels)\n",
    "saLabelsTrain = util.from_dataframe('uncensored', 'st', labelsTrain)\n",
    "saLabelsTest = util.from_dataframe('uncensored', 'st', labelsTest)"
   ]
  },
  {
   "cell_type": "code",
   "execution_count": 29,
   "metadata": {},
   "outputs": [
    {
     "name": "stderr",
     "output_type": "stream",
     "text": [
      "C:\\Users\\matias\\Anaconda3\\lib\\site-packages\\sksurv\\linear_model\\coxph.py:330: LinAlgWarning: Ill-conditioned matrix (rcond=7.42985e-17): result may not be accurate.\n",
      "  overwrite_a=False, overwrite_b=False, check_finite=False)\n",
      "C:\\Users\\matias\\Anaconda3\\lib\\site-packages\\sksurv\\linear_model\\coxph.py:330: LinAlgWarning: Ill-conditioned matrix (rcond=2.92859e-17): result may not be accurate.\n",
      "  overwrite_a=False, overwrite_b=False, check_finite=False)\n",
      "C:\\Users\\matias\\Anaconda3\\lib\\site-packages\\sksurv\\linear_model\\coxph.py:330: LinAlgWarning: Ill-conditioned matrix (rcond=5.0076e-17): result may not be accurate.\n",
      "  overwrite_a=False, overwrite_b=False, check_finite=False)\n",
      "C:\\Users\\matias\\Anaconda3\\lib\\site-packages\\sksurv\\linear_model\\coxph.py:330: LinAlgWarning: Ill-conditioned matrix (rcond=4.0935e-17): result may not be accurate.\n",
      "  overwrite_a=False, overwrite_b=False, check_finite=False)\n",
      "C:\\Users\\matias\\Anaconda3\\lib\\site-packages\\sksurv\\linear_model\\coxph.py:330: LinAlgWarning: Ill-conditioned matrix (rcond=4.40294e-17): result may not be accurate.\n",
      "  overwrite_a=False, overwrite_b=False, check_finite=False)\n",
      "C:\\Users\\matias\\Anaconda3\\lib\\site-packages\\sksurv\\linear_model\\coxph.py:330: LinAlgWarning: Ill-conditioned matrix (rcond=4.42105e-17): result may not be accurate.\n",
      "  overwrite_a=False, overwrite_b=False, check_finite=False)\n",
      "C:\\Users\\matias\\Anaconda3\\lib\\site-packages\\sksurv\\linear_model\\coxph.py:330: LinAlgWarning: Ill-conditioned matrix (rcond=4.44511e-17): result may not be accurate.\n",
      "  overwrite_a=False, overwrite_b=False, check_finite=False)\n",
      "C:\\Users\\matias\\Anaconda3\\lib\\site-packages\\sksurv\\linear_model\\coxph.py:330: LinAlgWarning: Ill-conditioned matrix (rcond=4.45292e-17): result may not be accurate.\n",
      "  overwrite_a=False, overwrite_b=False, check_finite=False)\n",
      "C:\\Users\\matias\\Anaconda3\\lib\\site-packages\\sksurv\\linear_model\\coxph.py:330: LinAlgWarning: Ill-conditioned matrix (rcond=4.45366e-17): result may not be accurate.\n",
      "  overwrite_a=False, overwrite_b=False, check_finite=False)\n"
     ]
    },
    {
     "name": "stdout",
     "output_type": "stream",
     "text": [
      "iter     10: optimization converged\n"
     ]
    },
    {
     "name": "stderr",
     "output_type": "stream",
     "text": [
      "C:\\Users\\matias\\Anaconda3\\lib\\site-packages\\sksurv\\linear_model\\coxph.py:330: LinAlgWarning: Ill-conditioned matrix (rcond=4.45361e-17): result may not be accurate.\n",
      "  overwrite_a=False, overwrite_b=False, check_finite=False)\n"
     ]
    },
    {
     "data": {
      "text/plain": [
       "CoxPHSurvivalAnalysis(alpha=0, n_iter=100, tol=1e-09, verbose=True)"
      ]
     },
     "execution_count": 29,
     "metadata": {},
     "output_type": "execute_result"
    }
   ],
   "source": [
    "estimator.fit(features, saLabels)"
   ]
  },
  {
   "cell_type": "code",
   "execution_count": 30,
   "metadata": {},
   "outputs": [
    {
     "data": {
      "text/plain": [
       "0.7316257827642384"
      ]
     },
     "execution_count": 30,
     "metadata": {},
     "output_type": "execute_result"
    }
   ],
   "source": [
    "estimator.score(featuresTest, saLabelsTest)"
   ]
  },
  {
   "cell_type": "code",
   "execution_count": 31,
   "metadata": {},
   "outputs": [],
   "source": [
    "import numpy as np"
   ]
  },
  {
   "cell_type": "code",
   "execution_count": 32,
   "metadata": {},
   "outputs": [],
   "source": [
    "def quantileOfStepSurvivalFunction (t, p, t0):\n",
    "    i = np.searchsorted(t, t0, side='right')\n",
    "    if i - 1 < 0: return p[0]\n",
    "    else: return p[i-1]"
   ]
  },
  {
   "cell_type": "code",
   "execution_count": 33,
   "metadata": {},
   "outputs": [],
   "source": [
    "quantiles = np.array([])\n",
    "for i, x in features.iterrows():\n",
    "    pred_surv = estimator.predict_survival_function(x)\n",
    "    newQuantile = quantileOfStepSurvivalFunction(pred_surv[0].x, pred_surv[0].y, labels.loc[i]['st'])\n",
    "    quantiles = np.append(quantiles, newQuantile)"
   ]
  },
  {
   "cell_type": "code",
   "execution_count": 34,
   "metadata": {},
   "outputs": [],
   "source": [
    "quantilesTrain = quantiles[:n]\n",
    "quantilesTest = quantiles[n:2*n]"
   ]
  },
  {
   "cell_type": "code",
   "execution_count": 35,
   "metadata": {},
   "outputs": [
    {
     "data": {
      "text/plain": [
       "Ridge(alpha=1.0, copy_X=True, fit_intercept=True, max_iter=None,\n",
       "   normalize=False, random_state=None, solver='auto', tol=0.001)"
      ]
     },
     "execution_count": 35,
     "metadata": {},
     "output_type": "execute_result"
    }
   ],
   "source": [
    "from sklearn.linear_model import Ridge\n",
    "\n",
    "quantileEstimator = Ridge()\n",
    "quantileEstimator.fit(featuresTrain, quantilesTrain)"
   ]
  },
  {
   "cell_type": "code",
   "execution_count": 36,
   "metadata": {},
   "outputs": [
    {
     "data": {
      "text/plain": [
       "0.18632831169594932"
      ]
     },
     "execution_count": 36,
     "metadata": {},
     "output_type": "execute_result"
    }
   ],
   "source": [
    "quantileEstimator.score(featuresTrain, quantilesTrain)"
   ]
  },
  {
   "cell_type": "code",
   "execution_count": 37,
   "metadata": {},
   "outputs": [
    {
     "data": {
      "text/plain": [
       "0.19767767868149266"
      ]
     },
     "execution_count": 37,
     "metadata": {},
     "output_type": "execute_result"
    }
   ],
   "source": [
    "quantileEstimator.score(featuresTest, quantilesTest)"
   ]
  },
  {
   "cell_type": "code",
   "execution_count": 38,
   "metadata": {},
   "outputs": [],
   "source": [
    "predictedQuantiles = quantileEstimator.predict(featuresTest)"
   ]
  },
  {
   "cell_type": "code",
   "execution_count": 39,
   "metadata": {},
   "outputs": [],
   "source": [
    "def preimageOfStepSurvivalFunction (t, p, p0):\n",
    "    i = p.size - np.searchsorted(p[::-1], p0, side = \"left\")\n",
    "    if i >= t.size: return t[t.size - 1]\n",
    "    elif i - 1 < 0: return t[0]\n",
    "    else: return (t[i] + t[i-1]) / 2"
   ]
  },
  {
   "cell_type": "code",
   "execution_count": 40,
   "metadata": {},
   "outputs": [],
   "source": [
    "ecm = 0\n",
    "errs = np.array([])\n",
    "j = 0\n",
    "for i, x in featuresTest[:1000].iterrows():\n",
    "    pred_surv = estimator.predict_survival_function(x)\n",
    "    err = abs(preimageOfStepSurvivalFunction(pred_surv[0].x, pred_surv[0].y, predictedQuantiles[j]) - labelsTest.loc[i]['st'])\n",
    "    errs = np.append(errs, err)\n",
    "    ecm += err**2\n",
    "    j += 1\n",
    "\n",
    "ecm /= 1000"
   ]
  },
  {
   "cell_type": "code",
   "execution_count": 41,
   "metadata": {},
   "outputs": [
    {
     "data": {
      "text/plain": [
       "9207840487.837994"
      ]
     },
     "execution_count": 41,
     "metadata": {},
     "output_type": "execute_result"
    }
   ],
   "source": [
    "ecm"
   ]
  },
  {
   "cell_type": "code",
   "execution_count": 42,
   "metadata": {},
   "outputs": [
    {
     "data": {
      "text/plain": [
       "20.055673685508058"
      ]
     },
     "execution_count": 42,
     "metadata": {},
     "output_type": "execute_result"
    }
   ],
   "source": [
    "errs.mean() / 60 / 60"
   ]
  },
  {
   "cell_type": "markdown",
   "metadata": {},
   "source": [
    "Los resultados son parecidos a las otras opciones. Igual, todavia se puede mejorar."
   ]
  }
 ],
 "metadata": {
  "kernelspec": {
   "display_name": "Python 3",
   "language": "python",
   "name": "python3"
  },
  "language_info": {
   "codemirror_mode": {
    "name": "ipython",
    "version": 3
   },
   "file_extension": ".py",
   "mimetype": "text/x-python",
   "name": "python",
   "nbconvert_exporter": "python",
   "pygments_lexer": "ipython3",
   "version": "3.7.3"
  }
 },
 "nbformat": 4,
 "nbformat_minor": 2
}
