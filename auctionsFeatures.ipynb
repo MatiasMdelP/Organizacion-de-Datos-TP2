{
 "cells": [
  {
   "cell_type": "code",
   "execution_count": 1,
   "metadata": {},
   "outputs": [],
   "source": [
    "import pandas as pd"
   ]
  },
  {
   "cell_type": "markdown",
   "metadata": {},
   "source": [
    "Trabajo en el siguiente rango de dias:"
   ]
  },
  {
   "cell_type": "code",
   "execution_count": 2,
   "metadata": {},
   "outputs": [],
   "source": [
    "firstDay = pd.Timestamp(2019, 4, 18)\n",
    "lastDay = pd.Timestamp(2019, 4, 21)"
   ]
  },
  {
   "cell_type": "markdown",
   "metadata": {},
   "source": [
    "Los datos son los siguientes"
   ]
  },
  {
   "cell_type": "code",
   "execution_count": 3,
   "metadata": {},
   "outputs": [],
   "source": [
    "location = 'data/'\n",
    "auctionsFile = location + 'auctions.csv'"
   ]
  },
  {
   "cell_type": "markdown",
   "metadata": {},
   "source": [
    "Cargo los datos de las auctions en el rango de dias indicado"
   ]
  },
  {
   "cell_type": "code",
   "execution_count": 4,
   "metadata": {},
   "outputs": [],
   "source": [
    "dtype = {\n",
    "    'device_id': 'int64',\n",
    "    'date': 'str',\n",
    "    'ref_type_id': 'category',\n",
    "    'source_id': 'category',\n",
    "}"
   ]
  },
  {
   "cell_type": "code",
   "execution_count": 5,
   "metadata": {},
   "outputs": [],
   "source": [
    "chunksize = 50000"
   ]
  },
  {
   "cell_type": "code",
   "execution_count": 6,
   "metadata": {},
   "outputs": [],
   "source": [
    "auctionsIterator = pd.read_csv(auctionsFile, usecols=dtype.keys(), dtype=dtype, parse_dates=['date'], chunksize=chunksize)"
   ]
  },
  {
   "cell_type": "code",
   "execution_count": 7,
   "metadata": {},
   "outputs": [],
   "source": [
    "auctions = pd.DataFrame()\n",
    "for chunk in auctionsIterator:\n",
    "    chunkIsInDateInterval = (chunk['date'] >= firstDay) & (chunk['date'] < lastDay)\n",
    "    auctions = pd.concat([auctions, chunk[chunkIsInDateInterval]], sort = False)"
   ]
  },
  {
   "cell_type": "code",
   "execution_count": 8,
   "metadata": {},
   "outputs": [],
   "source": [
    "auctions['day'] = auctions['date'].dt.day - firstDay.day + 1\n",
    "auctions['hour'] = auctions['date'].dt.hour + auctions['date'].dt.minute / 60 + auctions['date'].dt.second / (60**2)\n",
    "auctions['seconds'] = (auctions['date'] - firstDay).dt.total_seconds()"
   ]
  },
  {
   "cell_type": "code",
   "execution_count": 9,
   "metadata": {},
   "outputs": [
    {
     "data": {
      "text/html": [
       "<div>\n",
       "<style scoped>\n",
       "    .dataframe tbody tr th:only-of-type {\n",
       "        vertical-align: middle;\n",
       "    }\n",
       "\n",
       "    .dataframe tbody tr th {\n",
       "        vertical-align: top;\n",
       "    }\n",
       "\n",
       "    .dataframe thead th {\n",
       "        text-align: right;\n",
       "    }\n",
       "</style>\n",
       "<table border=\"1\" class=\"dataframe\">\n",
       "  <thead>\n",
       "    <tr style=\"text-align: right;\">\n",
       "      <th></th>\n",
       "      <th>date</th>\n",
       "      <th>device_id</th>\n",
       "      <th>ref_type_id</th>\n",
       "      <th>source_id</th>\n",
       "      <th>day</th>\n",
       "      <th>hour</th>\n",
       "      <th>seconds</th>\n",
       "    </tr>\n",
       "  </thead>\n",
       "  <tbody>\n",
       "    <tr>\n",
       "      <th>221726</th>\n",
       "      <td>2019-04-20 23:57:27.912838</td>\n",
       "      <td>1109595589636746168</td>\n",
       "      <td>7</td>\n",
       "      <td>0</td>\n",
       "      <td>3</td>\n",
       "      <td>23.957500</td>\n",
       "      <td>259047.912838</td>\n",
       "    </tr>\n",
       "    <tr>\n",
       "      <th>221727</th>\n",
       "      <td>2019-04-20 23:57:28.381114</td>\n",
       "      <td>5896614299191635403</td>\n",
       "      <td>1</td>\n",
       "      <td>0</td>\n",
       "      <td>3</td>\n",
       "      <td>23.957778</td>\n",
       "      <td>259048.381114</td>\n",
       "    </tr>\n",
       "    <tr>\n",
       "      <th>221728</th>\n",
       "      <td>2019-04-20 23:57:28.515423</td>\n",
       "      <td>4172466725848941608</td>\n",
       "      <td>1</td>\n",
       "      <td>0</td>\n",
       "      <td>3</td>\n",
       "      <td>23.957778</td>\n",
       "      <td>259048.515423</td>\n",
       "    </tr>\n",
       "    <tr>\n",
       "      <th>221729</th>\n",
       "      <td>2019-04-20 23:57:28.700884</td>\n",
       "      <td>2616279795187318849</td>\n",
       "      <td>7</td>\n",
       "      <td>0</td>\n",
       "      <td>3</td>\n",
       "      <td>23.957778</td>\n",
       "      <td>259048.700884</td>\n",
       "    </tr>\n",
       "    <tr>\n",
       "      <th>221730</th>\n",
       "      <td>2019-04-20 23:57:28.868312</td>\n",
       "      <td>8034952072073026056</td>\n",
       "      <td>1</td>\n",
       "      <td>0</td>\n",
       "      <td>3</td>\n",
       "      <td>23.957778</td>\n",
       "      <td>259048.868312</td>\n",
       "    </tr>\n",
       "  </tbody>\n",
       "</table>\n",
       "</div>"
      ],
      "text/plain": [
       "                             date            device_id ref_type_id source_id  \\\n",
       "221726 2019-04-20 23:57:27.912838  1109595589636746168           7         0   \n",
       "221727 2019-04-20 23:57:28.381114  5896614299191635403           1         0   \n",
       "221728 2019-04-20 23:57:28.515423  4172466725848941608           1         0   \n",
       "221729 2019-04-20 23:57:28.700884  2616279795187318849           7         0   \n",
       "221730 2019-04-20 23:57:28.868312  8034952072073026056           1         0   \n",
       "\n",
       "        day       hour        seconds  \n",
       "221726    3  23.957500  259047.912838  \n",
       "221727    3  23.957778  259048.381114  \n",
       "221728    3  23.957778  259048.515423  \n",
       "221729    3  23.957778  259048.700884  \n",
       "221730    3  23.957778  259048.868312  "
      ]
     },
     "execution_count": 9,
     "metadata": {},
     "output_type": "execute_result"
    }
   ],
   "source": [
    "auctions.head()"
   ]
  },
  {
   "cell_type": "code",
   "execution_count": 10,
   "metadata": {},
   "outputs": [
    {
     "name": "stdout",
     "output_type": "stream",
     "text": [
      "<class 'pandas.core.frame.DataFrame'>\n",
      "Int64Index: 15644775 entries, 221726 to 47409527\n",
      "Data columns (total 7 columns):\n",
      "date           datetime64[ns]\n",
      "device_id      int64\n",
      "ref_type_id    category\n",
      "source_id      object\n",
      "day            int64\n",
      "hour           float64\n",
      "seconds        float64\n",
      "dtypes: category(1), datetime64[ns](1), float64(2), int64(2), object(1)\n",
      "memory usage: 850.4+ MB\n"
     ]
    }
   ],
   "source": [
    "auctions.info()"
   ]
  },
  {
   "cell_type": "markdown",
   "metadata": {},
   "source": [
    "## Busqueda de features"
   ]
  },
  {
   "cell_type": "code",
   "execution_count": 11,
   "metadata": {},
   "outputs": [],
   "source": [
    "features = pd.DataFrame(auctions['device_id'].unique(), columns=['device_id'])"
   ]
  },
  {
   "cell_type": "code",
   "execution_count": 12,
   "metadata": {},
   "outputs": [
    {
     "data": {
      "text/html": [
       "<div>\n",
       "<style scoped>\n",
       "    .dataframe tbody tr th:only-of-type {\n",
       "        vertical-align: middle;\n",
       "    }\n",
       "\n",
       "    .dataframe tbody tr th {\n",
       "        vertical-align: top;\n",
       "    }\n",
       "\n",
       "    .dataframe thead th {\n",
       "        text-align: right;\n",
       "    }\n",
       "</style>\n",
       "<table border=\"1\" class=\"dataframe\">\n",
       "  <thead>\n",
       "    <tr style=\"text-align: right;\">\n",
       "      <th></th>\n",
       "      <th>device_id</th>\n",
       "    </tr>\n",
       "  </thead>\n",
       "  <tbody>\n",
       "    <tr>\n",
       "      <th>0</th>\n",
       "      <td>1109595589636746168</td>\n",
       "    </tr>\n",
       "    <tr>\n",
       "      <th>1</th>\n",
       "      <td>5896614299191635403</td>\n",
       "    </tr>\n",
       "    <tr>\n",
       "      <th>2</th>\n",
       "      <td>4172466725848941608</td>\n",
       "    </tr>\n",
       "    <tr>\n",
       "      <th>3</th>\n",
       "      <td>2616279795187318849</td>\n",
       "    </tr>\n",
       "    <tr>\n",
       "      <th>4</th>\n",
       "      <td>8034952072073026056</td>\n",
       "    </tr>\n",
       "  </tbody>\n",
       "</table>\n",
       "</div>"
      ],
      "text/plain": [
       "             device_id\n",
       "0  1109595589636746168\n",
       "1  5896614299191635403\n",
       "2  4172466725848941608\n",
       "3  2616279795187318849\n",
       "4  8034952072073026056"
      ]
     },
     "execution_count": 12,
     "metadata": {},
     "output_type": "execute_result"
    }
   ],
   "source": [
    "features.head()"
   ]
  },
  {
   "cell_type": "code",
   "execution_count": 13,
   "metadata": {},
   "outputs": [],
   "source": [
    "auctionsMeanHour = auctions[['device_id', 'hour']].groupby(by=['device_id']).mean()\n",
    "auctionsMeanHour = auctionsMeanHour.reset_index().rename(columns={'hour': 'auctionsMeanHour'})\n",
    "features = features.merge(auctionsMeanHour, how='left')"
   ]
  },
  {
   "cell_type": "code",
   "execution_count": 14,
   "metadata": {},
   "outputs": [],
   "source": [
    "auctionsStdDevHour = auctions[['device_id', 'hour']].groupby(by=['device_id']).std()\n",
    "auctionsStdDevHour = auctionsStdDevHour.reset_index().rename(columns={'hour': 'auctionsStdDevHour'})\n",
    "features = features.merge(auctionsStdDevHour, how='left')"
   ]
  },
  {
   "cell_type": "code",
   "execution_count": 15,
   "metadata": {},
   "outputs": [],
   "source": [
    "auctionsCount = auctions[['device_id']].groupby(by=['device_id']).size()\n",
    "auctionsCount = auctionsCount.reset_index().rename(columns={0: 'auctionsCount'})\n",
    "features = features.merge(auctionsCount, how='left')"
   ]
  },
  {
   "cell_type": "code",
   "execution_count": 16,
   "metadata": {},
   "outputs": [],
   "source": [
    "auctionsMostFreqDay = auctions[['device_id', 'day']].groupby(by=['device_id']).agg(lambda x: x.value_counts().index[0])\n",
    "auctionsMostFreqDay = auctionsMostFreqDay.reset_index().rename(columns={'day': 'auctionsMostFreqDay'})\n",
    "features = features.merge(auctionsMostFreqDay, how='left')"
   ]
  },
  {
   "cell_type": "code",
   "execution_count": 17,
   "metadata": {},
   "outputs": [],
   "source": [
    "auctionsMeanInstant = auctions[['device_id', 'seconds']].groupby(by=['device_id']).mean()\n",
    "auctionsMeanInstant = auctionsMeanInstant.reset_index().rename(columns={'seconds': 'auctionsMeanInstant'})\n",
    "features = features.merge(auctionsMeanInstant, how='left')"
   ]
  },
  {
   "cell_type": "code",
   "execution_count": 18,
   "metadata": {},
   "outputs": [],
   "source": [
    "auctionsStdDevInstant = auctions[['device_id', 'seconds']].groupby(by=['device_id']).std()\n",
    "auctionsStdDevInstant = auctionsStdDevInstant.reset_index().rename(columns={'seconds': 'auctionsStdDevInstant'})\n",
    "features = features.merge(auctionsStdDevInstant, how='left')"
   ]
  },
  {
   "cell_type": "code",
   "execution_count": 19,
   "metadata": {},
   "outputs": [],
   "source": [
    "import numpy as np\n",
    "\n",
    "def topSeconds (dataFrame):\n",
    "    hist, bin_edges = np.histogram(dataFrame['seconds'], bins=20)\n",
    "    k = np.argmax(hist)\n",
    "    return (bin_edges[k] + bin_edges[k+1]) / 2"
   ]
  },
  {
   "cell_type": "code",
   "execution_count": 20,
   "metadata": {
    "scrolled": false
   },
   "outputs": [],
   "source": [
    "auctionsTopSecond = auctions[['device_id', 'seconds']].groupby(by='device_id').agg(topSeconds)\n",
    "auctionsTopSecond = auctionsTopSecond.reset_index().rename(columns={'seconds': 'auctionsTopSecond'})\n",
    "features = features.merge(auctionsTopSecond, how='left')"
   ]
  },
  {
   "cell_type": "code",
   "execution_count": 21,
   "metadata": {},
   "outputs": [],
   "source": [
    "auctionsMeanInterval = auctions[['device_id', 'seconds']].sort_values(by='seconds').groupby(by='device_id').agg(lambda x: (x['seconds'] - x['seconds'].shift(1).fillna(0)).mean())\n",
    "auctionsMeanInterval = auctionsMeanInterval.reset_index().rename(columns={'seconds': 'auctionsMeanInterval'})\n",
    "features = features.merge(auctionsMeanInterval, how='left')"
   ]
  },
  {
   "cell_type": "code",
   "execution_count": 22,
   "metadata": {},
   "outputs": [],
   "source": [
    "features['auctionsAproxFreq'] = features['auctionsMeanInterval']**-1"
   ]
  },
  {
   "cell_type": "code",
   "execution_count": 23,
   "metadata": {},
   "outputs": [],
   "source": [
    "auctionsStdDevInterval = auctions[['device_id', 'seconds']].sort_values(by='seconds').groupby(by='device_id').agg(lambda x: (x['seconds'] - x['seconds'].shift(1).fillna(0)).std())\n",
    "auctionsStdDevInterval = auctionsStdDevInterval.reset_index().rename(columns={'seconds': 'auctionsStdDevInterval'})\n",
    "features = features.merge(auctionsStdDevInterval, how='left')"
   ]
  },
  {
   "cell_type": "code",
   "execution_count": 24,
   "metadata": {},
   "outputs": [],
   "source": [
    "auctionsLast = auctions[['device_id', 'seconds']].groupby(by='device_id').max()\n",
    "auctionsLast = auctionsLast.reset_index().rename(columns={'seconds': 'auctionsLast'})\n",
    "features = features.merge(auctionsLast, how='left')"
   ]
  },
  {
   "cell_type": "code",
   "execution_count": 25,
   "metadata": {},
   "outputs": [
    {
     "data": {
      "text/html": [
       "<div>\n",
       "<style scoped>\n",
       "    .dataframe tbody tr th:only-of-type {\n",
       "        vertical-align: middle;\n",
       "    }\n",
       "\n",
       "    .dataframe tbody tr th {\n",
       "        vertical-align: top;\n",
       "    }\n",
       "\n",
       "    .dataframe thead th {\n",
       "        text-align: right;\n",
       "    }\n",
       "</style>\n",
       "<table border=\"1\" class=\"dataframe\">\n",
       "  <thead>\n",
       "    <tr style=\"text-align: right;\">\n",
       "      <th></th>\n",
       "      <th>device_id</th>\n",
       "      <th>auctionsMeanHour</th>\n",
       "      <th>auctionsStdDevHour</th>\n",
       "      <th>auctionsCount</th>\n",
       "      <th>auctionsMostFreqDay</th>\n",
       "      <th>auctionsMeanInstant</th>\n",
       "      <th>auctionsStdDevInstant</th>\n",
       "      <th>auctionsTopSecond</th>\n",
       "      <th>auctionsMeanInterval</th>\n",
       "      <th>auctionsAproxFreq</th>\n",
       "      <th>auctionsStdDevInterval</th>\n",
       "      <th>auctionsLast</th>\n",
       "    </tr>\n",
       "  </thead>\n",
       "  <tbody>\n",
       "    <tr>\n",
       "      <th>0</th>\n",
       "      <td>1109595589636746168</td>\n",
       "      <td>20.344831</td>\n",
       "      <td>5.775980</td>\n",
       "      <td>128</td>\n",
       "      <td>3</td>\n",
       "      <td>217691.904097</td>\n",
       "      <td>78348.145610</td>\n",
       "      <td>252711.397215</td>\n",
       "      <td>2024.923399</td>\n",
       "      <td>0.000494</td>\n",
       "      <td>16024.489017</td>\n",
       "      <td>259190.195048</td>\n",
       "    </tr>\n",
       "    <tr>\n",
       "      <th>1</th>\n",
       "      <td>5896614299191635403</td>\n",
       "      <td>22.110936</td>\n",
       "      <td>5.441725</td>\n",
       "      <td>46</td>\n",
       "      <td>3</td>\n",
       "      <td>252399.878976</td>\n",
       "      <td>19590.204861</td>\n",
       "      <td>257059.673527</td>\n",
       "      <td>5631.657083</td>\n",
       "      <td>0.000178</td>\n",
       "      <td>28188.818505</td>\n",
       "      <td>259056.225835</td>\n",
       "    </tr>\n",
       "    <tr>\n",
       "      <th>2</th>\n",
       "      <td>4172466725848941608</td>\n",
       "      <td>21.253534</td>\n",
       "      <td>5.540618</td>\n",
       "      <td>252</td>\n",
       "      <td>3</td>\n",
       "      <td>227027.493094</td>\n",
       "      <td>65290.937857</td>\n",
       "      <td>253271.814659</td>\n",
       "      <td>1028.449490</td>\n",
       "      <td>0.000972</td>\n",
       "      <td>6203.952111</td>\n",
       "      <td>259169.271544</td>\n",
       "    </tr>\n",
       "    <tr>\n",
       "      <th>3</th>\n",
       "      <td>2616279795187318849</td>\n",
       "      <td>16.785580</td>\n",
       "      <td>7.204283</td>\n",
       "      <td>191</td>\n",
       "      <td>1</td>\n",
       "      <td>128734.373984</td>\n",
       "      <td>72254.139672</td>\n",
       "      <td>155144.580698</td>\n",
       "      <td>1356.284096</td>\n",
       "      <td>0.000737</td>\n",
       "      <td>7480.476963</td>\n",
       "      <td>259050.262283</td>\n",
       "    </tr>\n",
       "    <tr>\n",
       "      <th>4</th>\n",
       "      <td>8034952072073026056</td>\n",
       "      <td>9.002714</td>\n",
       "      <td>6.712023</td>\n",
       "      <td>166</td>\n",
       "      <td>2</td>\n",
       "      <td>117769.315541</td>\n",
       "      <td>59901.949880</td>\n",
       "      <td>98475.225948</td>\n",
       "      <td>1560.535351</td>\n",
       "      <td>0.000641</td>\n",
       "      <td>5658.585669</td>\n",
       "      <td>259048.868312</td>\n",
       "    </tr>\n",
       "  </tbody>\n",
       "</table>\n",
       "</div>"
      ],
      "text/plain": [
       "             device_id  auctionsMeanHour  auctionsStdDevHour  auctionsCount  \\\n",
       "0  1109595589636746168         20.344831            5.775980            128   \n",
       "1  5896614299191635403         22.110936            5.441725             46   \n",
       "2  4172466725848941608         21.253534            5.540618            252   \n",
       "3  2616279795187318849         16.785580            7.204283            191   \n",
       "4  8034952072073026056          9.002714            6.712023            166   \n",
       "\n",
       "   auctionsMostFreqDay  auctionsMeanInstant  auctionsStdDevInstant  \\\n",
       "0                    3        217691.904097           78348.145610   \n",
       "1                    3        252399.878976           19590.204861   \n",
       "2                    3        227027.493094           65290.937857   \n",
       "3                    1        128734.373984           72254.139672   \n",
       "4                    2        117769.315541           59901.949880   \n",
       "\n",
       "   auctionsTopSecond  auctionsMeanInterval  auctionsAproxFreq  \\\n",
       "0      252711.397215           2024.923399           0.000494   \n",
       "1      257059.673527           5631.657083           0.000178   \n",
       "2      253271.814659           1028.449490           0.000972   \n",
       "3      155144.580698           1356.284096           0.000737   \n",
       "4       98475.225948           1560.535351           0.000641   \n",
       "\n",
       "   auctionsStdDevInterval   auctionsLast  \n",
       "0            16024.489017  259190.195048  \n",
       "1            28188.818505  259056.225835  \n",
       "2             6203.952111  259169.271544  \n",
       "3             7480.476963  259050.262283  \n",
       "4             5658.585669  259048.868312  "
      ]
     },
     "execution_count": 25,
     "metadata": {},
     "output_type": "execute_result"
    }
   ],
   "source": [
    "features.head()"
   ]
  },
  {
   "cell_type": "code",
   "execution_count": 26,
   "metadata": {},
   "outputs": [],
   "source": [
    "features.to_csv('data/auctionsFeaturesFirstThreeDays.csv', index=False)"
   ]
  },
  {
   "cell_type": "code",
   "execution_count": null,
   "metadata": {},
   "outputs": [],
   "source": []
  }
 ],
 "metadata": {
  "kernelspec": {
   "display_name": "Python 3",
   "language": "python",
   "name": "python3"
  },
  "language_info": {
   "codemirror_mode": {
    "name": "ipython",
    "version": 3
   },
   "file_extension": ".py",
   "mimetype": "text/x-python",
   "name": "python",
   "nbconvert_exporter": "python",
   "pygments_lexer": "ipython3",
   "version": "3.7.3"
  }
 },
 "nbformat": 4,
 "nbformat_minor": 2
}
