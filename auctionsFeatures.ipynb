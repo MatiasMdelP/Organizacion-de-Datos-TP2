{
 "cells": [
  {
   "cell_type": "code",
   "execution_count": 1,
   "metadata": {},
   "outputs": [],
   "source": [
    "import pandas as pd"
   ]
  },
  {
   "cell_type": "markdown",
   "metadata": {},
   "source": [
    "Trabajo en el siguiente rango de dias:"
   ]
  },
  {
   "cell_type": "code",
   "execution_count": 2,
   "metadata": {},
   "outputs": [],
   "source": [
    "firstDay = pd.Timestamp(2019, 4, 24)\n",
    "lastDay = pd.Timestamp(2019, 4, 27)"
   ]
  },
  {
   "cell_type": "markdown",
   "metadata": {},
   "source": [
    "Los datos son los siguientes"
   ]
  },
  {
   "cell_type": "code",
   "execution_count": 3,
   "metadata": {},
   "outputs": [],
   "source": [
    "location = 'data/'\n",
    "auctionsFile = location + 'auctions.csv'"
   ]
  },
  {
   "cell_type": "markdown",
   "metadata": {},
   "source": [
    "Cargo los datos de las auctions en el rango de dias indicado"
   ]
  },
  {
   "cell_type": "code",
   "execution_count": 4,
   "metadata": {},
   "outputs": [],
   "source": [
    "dtype = {\n",
    "    'device_id': 'int64',\n",
    "    'date': 'str',\n",
    "    'ref_type_id': 'category',\n",
    "    'source_id': 'category',\n",
    "}"
   ]
  },
  {
   "cell_type": "code",
   "execution_count": 5,
   "metadata": {},
   "outputs": [],
   "source": [
    "chunksize = 50000"
   ]
  },
  {
   "cell_type": "code",
   "execution_count": 6,
   "metadata": {},
   "outputs": [],
   "source": [
    "auctionsIterator = pd.read_csv(auctionsFile, usecols=dtype.keys(), dtype=dtype, parse_dates=['date'], chunksize=chunksize)"
   ]
  },
  {
   "cell_type": "code",
   "execution_count": 7,
   "metadata": {},
   "outputs": [],
   "source": [
    "auctions = pd.DataFrame()\n",
    "for chunk in auctionsIterator:\n",
    "    chunkIsInDateInterval = (chunk['date'] >= firstDay) & (chunk['date'] < lastDay)\n",
    "    auctions = pd.concat([auctions, chunk[chunkIsInDateInterval]], sort = False)"
   ]
  },
  {
   "cell_type": "code",
   "execution_count": 8,
   "metadata": {},
   "outputs": [],
   "source": [
    "auctions['day'] = auctions['date'].dt.day - firstDay.day + 1\n",
    "auctions['hour'] = auctions['date'].dt.hour + auctions['date'].dt.minute / 60 + auctions['date'].dt.second / (60**2)\n",
    "auctions['seconds'] = (auctions['date'] - firstDay).dt.total_seconds()"
   ]
  },
  {
   "cell_type": "code",
   "execution_count": 9,
   "metadata": {},
   "outputs": [
    {
     "data": {
      "text/html": [
       "<div>\n",
       "<style scoped>\n",
       "    .dataframe tbody tr th:only-of-type {\n",
       "        vertical-align: middle;\n",
       "    }\n",
       "\n",
       "    .dataframe tbody tr th {\n",
       "        vertical-align: top;\n",
       "    }\n",
       "\n",
       "    .dataframe thead th {\n",
       "        text-align: right;\n",
       "    }\n",
       "</style>\n",
       "<table border=\"1\" class=\"dataframe\">\n",
       "  <thead>\n",
       "    <tr style=\"text-align: right;\">\n",
       "      <th></th>\n",
       "      <th>date</th>\n",
       "      <th>device_id</th>\n",
       "      <th>ref_type_id</th>\n",
       "      <th>source_id</th>\n",
       "      <th>day</th>\n",
       "      <th>hour</th>\n",
       "      <th>seconds</th>\n",
       "    </tr>\n",
       "  </thead>\n",
       "  <tbody>\n",
       "    <tr>\n",
       "      <th>853132</th>\n",
       "      <td>2019-04-26 23:52:29.135354</td>\n",
       "      <td>1384623003476985820</td>\n",
       "      <td>1</td>\n",
       "      <td>7</td>\n",
       "      <td>3</td>\n",
       "      <td>23.874722</td>\n",
       "      <td>258749.135354</td>\n",
       "    </tr>\n",
       "    <tr>\n",
       "      <th>853133</th>\n",
       "      <td>2019-04-26 23:52:39.367477</td>\n",
       "      <td>3714738743084512188</td>\n",
       "      <td>1</td>\n",
       "      <td>7</td>\n",
       "      <td>3</td>\n",
       "      <td>23.877500</td>\n",
       "      <td>258759.367477</td>\n",
       "    </tr>\n",
       "    <tr>\n",
       "      <th>853134</th>\n",
       "      <td>2019-04-26 23:52:54.714361</td>\n",
       "      <td>5697386557321863111</td>\n",
       "      <td>1</td>\n",
       "      <td>7</td>\n",
       "      <td>3</td>\n",
       "      <td>23.881667</td>\n",
       "      <td>258774.714361</td>\n",
       "    </tr>\n",
       "    <tr>\n",
       "      <th>853135</th>\n",
       "      <td>2019-04-26 23:53:13.729835</td>\n",
       "      <td>5583037045722622336</td>\n",
       "      <td>1</td>\n",
       "      <td>7</td>\n",
       "      <td>3</td>\n",
       "      <td>23.886944</td>\n",
       "      <td>258793.729835</td>\n",
       "    </tr>\n",
       "    <tr>\n",
       "      <th>853136</th>\n",
       "      <td>2019-04-26 23:53:48.577115</td>\n",
       "      <td>6383034009915294411</td>\n",
       "      <td>1</td>\n",
       "      <td>7</td>\n",
       "      <td>3</td>\n",
       "      <td>23.896667</td>\n",
       "      <td>258828.577115</td>\n",
       "    </tr>\n",
       "  </tbody>\n",
       "</table>\n",
       "</div>"
      ],
      "text/plain": [
       "                             date            device_id ref_type_id source_id  \\\n",
       "853132 2019-04-26 23:52:29.135354  1384623003476985820           1         7   \n",
       "853133 2019-04-26 23:52:39.367477  3714738743084512188           1         7   \n",
       "853134 2019-04-26 23:52:54.714361  5697386557321863111           1         7   \n",
       "853135 2019-04-26 23:53:13.729835  5583037045722622336           1         7   \n",
       "853136 2019-04-26 23:53:48.577115  6383034009915294411           1         7   \n",
       "\n",
       "        day       hour        seconds  \n",
       "853132    3  23.874722  258749.135354  \n",
       "853133    3  23.877500  258759.367477  \n",
       "853134    3  23.881667  258774.714361  \n",
       "853135    3  23.886944  258793.729835  \n",
       "853136    3  23.896667  258828.577115  "
      ]
     },
     "execution_count": 9,
     "metadata": {},
     "output_type": "execute_result"
    }
   ],
   "source": [
    "auctions.head()"
   ]
  },
  {
   "cell_type": "code",
   "execution_count": 10,
   "metadata": {},
   "outputs": [
    {
     "name": "stdout",
     "output_type": "stream",
     "text": [
      "<class 'pandas.core.frame.DataFrame'>\n",
      "Int64Index: 15836843 entries, 853132 to 46624682\n",
      "Data columns (total 7 columns):\n",
      "date           datetime64[ns]\n",
      "device_id      int64\n",
      "ref_type_id    category\n",
      "source_id      object\n",
      "day            int64\n",
      "hour           float64\n",
      "seconds        float64\n",
      "dtypes: category(1), datetime64[ns](1), float64(2), int64(2), object(1)\n",
      "memory usage: 860.9+ MB\n"
     ]
    }
   ],
   "source": [
    "auctions.info()"
   ]
  },
  {
   "cell_type": "markdown",
   "metadata": {},
   "source": [
    "## Busqueda de features"
   ]
  },
  {
   "cell_type": "code",
   "execution_count": 11,
   "metadata": {},
   "outputs": [],
   "source": [
    "features = pd.DataFrame(auctions['device_id'].unique(), columns=['device_id'])"
   ]
  },
  {
   "cell_type": "code",
   "execution_count": 12,
   "metadata": {},
   "outputs": [
    {
     "data": {
      "text/html": [
       "<div>\n",
       "<style scoped>\n",
       "    .dataframe tbody tr th:only-of-type {\n",
       "        vertical-align: middle;\n",
       "    }\n",
       "\n",
       "    .dataframe tbody tr th {\n",
       "        vertical-align: top;\n",
       "    }\n",
       "\n",
       "    .dataframe thead th {\n",
       "        text-align: right;\n",
       "    }\n",
       "</style>\n",
       "<table border=\"1\" class=\"dataframe\">\n",
       "  <thead>\n",
       "    <tr style=\"text-align: right;\">\n",
       "      <th></th>\n",
       "      <th>device_id</th>\n",
       "    </tr>\n",
       "  </thead>\n",
       "  <tbody>\n",
       "    <tr>\n",
       "      <th>0</th>\n",
       "      <td>1384623003476985820</td>\n",
       "    </tr>\n",
       "    <tr>\n",
       "      <th>1</th>\n",
       "      <td>3714738743084512188</td>\n",
       "    </tr>\n",
       "    <tr>\n",
       "      <th>2</th>\n",
       "      <td>5697386557321863111</td>\n",
       "    </tr>\n",
       "    <tr>\n",
       "      <th>3</th>\n",
       "      <td>5583037045722622336</td>\n",
       "    </tr>\n",
       "    <tr>\n",
       "      <th>4</th>\n",
       "      <td>6383034009915294411</td>\n",
       "    </tr>\n",
       "  </tbody>\n",
       "</table>\n",
       "</div>"
      ],
      "text/plain": [
       "             device_id\n",
       "0  1384623003476985820\n",
       "1  3714738743084512188\n",
       "2  5697386557321863111\n",
       "3  5583037045722622336\n",
       "4  6383034009915294411"
      ]
     },
     "execution_count": 12,
     "metadata": {},
     "output_type": "execute_result"
    }
   ],
   "source": [
    "features.head()"
   ]
  },
  {
   "cell_type": "code",
   "execution_count": 13,
   "metadata": {},
   "outputs": [],
   "source": [
    "auctionsCount = auctions[['device_id']].groupby(by=['device_id']).size()\n",
    "auctionsCount = auctionsCount.reset_index().rename(columns={0: 'auctionsCount'})\n",
    "features = features.merge(auctionsCount, how='left')"
   ]
  },
  {
   "cell_type": "code",
   "execution_count": 14,
   "metadata": {},
   "outputs": [],
   "source": [
    "auctionsMostFreqDay = auctions[['device_id', 'day']].groupby(by=['device_id']).agg(lambda x: x.value_counts().index[0])\n",
    "auctionsMostFreqDay = auctionsMostFreqDay.reset_index().rename(columns={'day': 'auctionsMostFreqDay'})\n",
    "features = features.merge(auctionsMostFreqDay, how='left')"
   ]
  },
  {
   "cell_type": "code",
   "execution_count": 15,
   "metadata": {},
   "outputs": [],
   "source": [
    "auctionsMeanInterval = auctions[['device_id', 'seconds']].sort_values(by='seconds').groupby(by='device_id').agg(lambda x: (x['seconds'] - x['seconds'].shift(1).fillna(0)).mean())\n",
    "auctionsMeanInterval = auctionsMeanInterval.reset_index().rename(columns={'seconds': 'auctionsMeanInterval'})\n",
    "features = features.merge(auctionsMeanInterval, how='left')"
   ]
  },
  {
   "cell_type": "code",
   "execution_count": 16,
   "metadata": {},
   "outputs": [],
   "source": [
    "features['auctionsAproxFreq'] = features['auctionsMeanInterval']**-1"
   ]
  },
  {
   "cell_type": "code",
   "execution_count": 17,
   "metadata": {},
   "outputs": [],
   "source": [
    "auctionsStdDevInterval = auctions[['device_id', 'seconds']].sort_values(by='seconds').groupby(by='device_id').agg(lambda x: (x['seconds'] - x['seconds'].shift(1).fillna(0)).std())\n",
    "auctionsStdDevInterval = auctionsStdDevInterval.reset_index().rename(columns={'seconds': 'auctionsStdDevInterval'})\n",
    "features = features.merge(auctionsStdDevInterval, how='left')"
   ]
  },
  {
   "cell_type": "code",
   "execution_count": 18,
   "metadata": {},
   "outputs": [],
   "source": [
    "auctionsLast = auctions[['device_id', 'seconds']].groupby(by='device_id').max()\n",
    "auctionsLast = auctionsLast.reset_index().rename(columns={'seconds': 'auctionsLast'})\n",
    "features = features.merge(auctionsLast, how='left')"
   ]
  },
  {
   "cell_type": "code",
   "execution_count": 19,
   "metadata": {},
   "outputs": [
    {
     "data": {
      "text/html": [
       "<div>\n",
       "<style scoped>\n",
       "    .dataframe tbody tr th:only-of-type {\n",
       "        vertical-align: middle;\n",
       "    }\n",
       "\n",
       "    .dataframe tbody tr th {\n",
       "        vertical-align: top;\n",
       "    }\n",
       "\n",
       "    .dataframe thead th {\n",
       "        text-align: right;\n",
       "    }\n",
       "</style>\n",
       "<table border=\"1\" class=\"dataframe\">\n",
       "  <thead>\n",
       "    <tr style=\"text-align: right;\">\n",
       "      <th></th>\n",
       "      <th>device_id</th>\n",
       "      <th>auctionsCount</th>\n",
       "      <th>auctionsMostFreqDay</th>\n",
       "      <th>auctionsMeanInterval</th>\n",
       "      <th>auctionsAproxFreq</th>\n",
       "      <th>auctionsStdDevInterval</th>\n",
       "      <th>auctionsLast</th>\n",
       "    </tr>\n",
       "  </thead>\n",
       "  <tbody>\n",
       "    <tr>\n",
       "      <th>0</th>\n",
       "      <td>1384623003476985820</td>\n",
       "      <td>1</td>\n",
       "      <td>3</td>\n",
       "      <td>258749.135354</td>\n",
       "      <td>0.000004</td>\n",
       "      <td>NaN</td>\n",
       "      <td>258749.135354</td>\n",
       "    </tr>\n",
       "    <tr>\n",
       "      <th>1</th>\n",
       "      <td>3714738743084512188</td>\n",
       "      <td>303</td>\n",
       "      <td>3</td>\n",
       "      <td>854.076045</td>\n",
       "      <td>0.001171</td>\n",
       "      <td>4126.474758</td>\n",
       "      <td>258785.041630</td>\n",
       "    </tr>\n",
       "    <tr>\n",
       "      <th>2</th>\n",
       "      <td>5697386557321863111</td>\n",
       "      <td>6</td>\n",
       "      <td>3</td>\n",
       "      <td>43129.119060</td>\n",
       "      <td>0.000023</td>\n",
       "      <td>71127.649481</td>\n",
       "      <td>258774.714361</td>\n",
       "    </tr>\n",
       "    <tr>\n",
       "      <th>3</th>\n",
       "      <td>5583037045722622336</td>\n",
       "      <td>35</td>\n",
       "      <td>3</td>\n",
       "      <td>7394.106567</td>\n",
       "      <td>0.000135</td>\n",
       "      <td>12428.320871</td>\n",
       "      <td>258793.729835</td>\n",
       "    </tr>\n",
       "    <tr>\n",
       "      <th>4</th>\n",
       "      <td>6383034009915294411</td>\n",
       "      <td>68</td>\n",
       "      <td>1</td>\n",
       "      <td>3806.302605</td>\n",
       "      <td>0.000263</td>\n",
       "      <td>11689.377607</td>\n",
       "      <td>258828.577115</td>\n",
       "    </tr>\n",
       "  </tbody>\n",
       "</table>\n",
       "</div>"
      ],
      "text/plain": [
       "             device_id  auctionsCount  auctionsMostFreqDay  \\\n",
       "0  1384623003476985820              1                    3   \n",
       "1  3714738743084512188            303                    3   \n",
       "2  5697386557321863111              6                    3   \n",
       "3  5583037045722622336             35                    3   \n",
       "4  6383034009915294411             68                    1   \n",
       "\n",
       "   auctionsMeanInterval  auctionsAproxFreq  auctionsStdDevInterval  \\\n",
       "0         258749.135354           0.000004                     NaN   \n",
       "1            854.076045           0.001171             4126.474758   \n",
       "2          43129.119060           0.000023            71127.649481   \n",
       "3           7394.106567           0.000135            12428.320871   \n",
       "4           3806.302605           0.000263            11689.377607   \n",
       "\n",
       "    auctionsLast  \n",
       "0  258749.135354  \n",
       "1  258785.041630  \n",
       "2  258774.714361  \n",
       "3  258793.729835  \n",
       "4  258828.577115  "
      ]
     },
     "execution_count": 19,
     "metadata": {},
     "output_type": "execute_result"
    }
   ],
   "source": [
    "features.head()"
   ]
  },
  {
   "cell_type": "code",
   "execution_count": 20,
   "metadata": {},
   "outputs": [],
   "source": [
    "features.to_csv('data/auctionsFeatures7.csv', index=False)"
   ]
  },
  {
   "cell_type": "code",
   "execution_count": null,
   "metadata": {},
   "outputs": [],
   "source": []
  }
 ],
 "metadata": {
  "kernelspec": {
   "display_name": "Python 3",
   "language": "python",
   "name": "python3"
  },
  "language_info": {
   "codemirror_mode": {
    "name": "ipython",
    "version": 3
   },
   "file_extension": ".py",
   "mimetype": "text/x-python",
   "name": "python",
   "nbconvert_exporter": "python",
   "pygments_lexer": "ipython3",
   "version": "3.7.3"
  }
 },
 "nbformat": 4,
 "nbformat_minor": 2
}
