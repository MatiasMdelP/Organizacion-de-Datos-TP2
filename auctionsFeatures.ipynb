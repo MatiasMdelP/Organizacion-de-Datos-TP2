{
 "cells": [
  {
   "cell_type": "markdown",
   "metadata": {},
   "source": [
    "# Features"
   ]
  },
  {
   "cell_type": "code",
   "execution_count": 2,
   "metadata": {},
   "outputs": [],
   "source": [
    "import pandas as pd"
   ]
  },
  {
   "cell_type": "markdown",
   "metadata": {},
   "source": [
    "Trabajo en el siguiente rango de dias:"
   ]
  },
  {
   "cell_type": "code",
   "execution_count": 3,
   "metadata": {},
   "outputs": [],
   "source": [
    "firstDay = pd.Timestamp(2019, 4, 18)\n",
    "lastDay = pd.Timestamp(2019, 4, 21)"
   ]
  },
  {
   "cell_type": "markdown",
   "metadata": {},
   "source": [
    "Los datos son los siguientes"
   ]
  },
  {
   "cell_type": "code",
   "execution_count": 4,
   "metadata": {},
   "outputs": [],
   "source": [
    "location = 'data/'\n",
    "auctionsFile = location + 'auctions.csv'\n",
    "eventsFile = location + 'events.csv'\n",
    "clicksFile = location + 'clicks.csv'\n",
    "installsFile = location + 'installs.csv'"
   ]
  },
  {
   "cell_type": "markdown",
   "metadata": {},
   "source": [
    "Cargo los datos de los primeros 3 dias"
   ]
  },
  {
   "cell_type": "markdown",
   "metadata": {},
   "source": [
    "## Clicks"
   ]
  },
  {
   "cell_type": "code",
   "execution_count": 63,
   "metadata": {},
   "outputs": [],
   "source": [
    "dtype = {\n",
    "    'advertiser_id': 'category',\n",
    "    'source_id': 'category',\n",
    "    'created': 'str',\n",
    "    'latitude': 'float32',\n",
    "    'longitude': 'float32',\n",
    "    'wifi_connection': 'bool',\n",
    "    'carrier_id': 'category',\n",
    "    'os_minor': 'category',\n",
    "    'os_major': 'category',\n",
    "    'agent_device': 'category',\n",
    "    'specs_brand': 'category',\n",
    "    'brand': 'category',\n",
    "    'timeToClick': 'float32',\n",
    "    'touchX': 'str',\n",
    "    'touchY': 'str',\n",
    "    'ref_type': 'category',\n",
    "    'ref_hash': 'int64',\n",
    "}"
   ]
  },
  {
   "cell_type": "code",
   "execution_count": 64,
   "metadata": {},
   "outputs": [],
   "source": [
    "clicks = pd.read_csv(clicksFile, usecols=dtype.keys(), dtype=dtype, parse_dates=['created'])"
   ]
  },
  {
   "cell_type": "code",
   "execution_count": 67,
   "metadata": {},
   "outputs": [
    {
     "data": {
      "text/html": [
       "<div>\n",
       "<style scoped>\n",
       "    .dataframe tbody tr th:only-of-type {\n",
       "        vertical-align: middle;\n",
       "    }\n",
       "\n",
       "    .dataframe tbody tr th {\n",
       "        vertical-align: top;\n",
       "    }\n",
       "\n",
       "    .dataframe thead th {\n",
       "        text-align: right;\n",
       "    }\n",
       "</style>\n",
       "<table border=\"1\" class=\"dataframe\">\n",
       "  <thead>\n",
       "    <tr style=\"text-align: right;\">\n",
       "      <th></th>\n",
       "      <th>advertiser_id</th>\n",
       "      <th>source_id</th>\n",
       "      <th>created</th>\n",
       "      <th>latitude</th>\n",
       "      <th>longitude</th>\n",
       "      <th>wifi_connection</th>\n",
       "      <th>carrier_id</th>\n",
       "      <th>os_minor</th>\n",
       "      <th>agent_device</th>\n",
       "      <th>os_major</th>\n",
       "      <th>specs_brand</th>\n",
       "      <th>brand</th>\n",
       "      <th>timeToClick</th>\n",
       "      <th>touchX</th>\n",
       "      <th>touchY</th>\n",
       "      <th>ref_type</th>\n",
       "      <th>ref_hash</th>\n",
       "    </tr>\n",
       "  </thead>\n",
       "  <tbody>\n",
       "    <tr>\n",
       "      <th>7854</th>\n",
       "      <td>2</td>\n",
       "      <td>6</td>\n",
       "      <td>2019-04-13 01:31:38.175</td>\n",
       "      <td>1.714512</td>\n",
       "      <td>0.871062</td>\n",
       "      <td>False</td>\n",
       "      <td>25.0</td>\n",
       "      <td>5.1066709110782554e+17</td>\n",
       "      <td>6.794880020077885e+18</td>\n",
       "      <td>7.623717670320203e+18</td>\n",
       "      <td>71913840936116953</td>\n",
       "      <td>NaN</td>\n",
       "      <td>NaN</td>\n",
       "      <td>Infinity</td>\n",
       "      <td>Infinity</td>\n",
       "      <td>1494519392962156891</td>\n",
       "      <td>7295739950564334720</td>\n",
       "    </tr>\n",
       "  </tbody>\n",
       "</table>\n",
       "</div>"
      ],
      "text/plain": [
       "     advertiser_id source_id                 created  latitude  longitude  \\\n",
       "7854             2         6 2019-04-13 01:31:38.175  1.714512   0.871062   \n",
       "\n",
       "      wifi_connection carrier_id                os_minor  \\\n",
       "7854            False       25.0  5.1066709110782554e+17   \n",
       "\n",
       "               agent_device               os_major        specs_brand brand  \\\n",
       "7854  6.794880020077885e+18  7.623717670320203e+18  71913840936116953   NaN   \n",
       "\n",
       "      timeToClick    touchX    touchY             ref_type  \\\n",
       "7854          NaN  Infinity  Infinity  1494519392962156891   \n",
       "\n",
       "                 ref_hash  \n",
       "7854  7295739950564334720  "
      ]
     },
     "execution_count": 67,
     "metadata": {},
     "output_type": "execute_result"
    }
   ],
   "source": [
    "clicks[clicks['touchX'] == 'Infinity']"
   ]
  },
  {
   "cell_type": "code",
   "execution_count": 68,
   "metadata": {},
   "outputs": [],
   "source": [
    "clicks = clicks.drop([7854])"
   ]
  },
  {
   "cell_type": "code",
   "execution_count": 69,
   "metadata": {},
   "outputs": [],
   "source": [
    "clicks['touchX'] = clicks['touchX'].astype('float32')"
   ]
  },
  {
   "cell_type": "code",
   "execution_count": 70,
   "metadata": {},
   "outputs": [],
   "source": [
    "clicks['touchY'] = clicks['touchY'].astype('float32')"
   ]
  },
  {
   "cell_type": "code",
   "execution_count": 71,
   "metadata": {},
   "outputs": [],
   "source": [
    "clicks['created'] = clicks['created'].dt.tz_localize(None)"
   ]
  },
  {
   "cell_type": "code",
   "execution_count": 72,
   "metadata": {},
   "outputs": [],
   "source": [
    "clicksIsInDateInterval = (clicks['created'] >= firstDay) & (clicks['created'] < lastDay)\n",
    "clicks = clicks[clicksIsInDateInterval]"
   ]
  },
  {
   "cell_type": "code",
   "execution_count": 73,
   "metadata": {},
   "outputs": [
    {
     "data": {
      "text/html": [
       "<div>\n",
       "<style scoped>\n",
       "    .dataframe tbody tr th:only-of-type {\n",
       "        vertical-align: middle;\n",
       "    }\n",
       "\n",
       "    .dataframe tbody tr th {\n",
       "        vertical-align: top;\n",
       "    }\n",
       "\n",
       "    .dataframe thead th {\n",
       "        text-align: right;\n",
       "    }\n",
       "</style>\n",
       "<table border=\"1\" class=\"dataframe\">\n",
       "  <thead>\n",
       "    <tr style=\"text-align: right;\">\n",
       "      <th></th>\n",
       "      <th>advertiser_id</th>\n",
       "      <th>source_id</th>\n",
       "      <th>created</th>\n",
       "      <th>latitude</th>\n",
       "      <th>longitude</th>\n",
       "      <th>wifi_connection</th>\n",
       "      <th>carrier_id</th>\n",
       "      <th>os_minor</th>\n",
       "      <th>agent_device</th>\n",
       "      <th>os_major</th>\n",
       "      <th>specs_brand</th>\n",
       "      <th>brand</th>\n",
       "      <th>timeToClick</th>\n",
       "      <th>touchX</th>\n",
       "      <th>touchY</th>\n",
       "      <th>ref_type</th>\n",
       "      <th>ref_hash</th>\n",
       "    </tr>\n",
       "  </thead>\n",
       "  <tbody>\n",
       "    <tr>\n",
       "      <th>0</th>\n",
       "      <td>1</td>\n",
       "      <td>2</td>\n",
       "      <td>2019-04-18 05:27:42.197</td>\n",
       "      <td>1.714547</td>\n",
       "      <td>0.871535</td>\n",
       "      <td>False</td>\n",
       "      <td>3.0</td>\n",
       "      <td>1.5176438893491397e+18</td>\n",
       "      <td>NaN</td>\n",
       "      <td>5.131615556736863e+18</td>\n",
       "      <td>71913840936116953</td>\n",
       "      <td>0.0</td>\n",
       "      <td>2.317000</td>\n",
       "      <td>0.968</td>\n",
       "      <td>0.503</td>\n",
       "      <td>1891515180541284343</td>\n",
       "      <td>1293710398598742392</td>\n",
       "    </tr>\n",
       "    <tr>\n",
       "      <th>1</th>\n",
       "      <td>1</td>\n",
       "      <td>1</td>\n",
       "      <td>2019-04-18 05:27:03.164</td>\n",
       "      <td>1.714512</td>\n",
       "      <td>0.871062</td>\n",
       "      <td>True</td>\n",
       "      <td>2.0</td>\n",
       "      <td>1.2885781261232225e+18</td>\n",
       "      <td>NaN</td>\n",
       "      <td>3.908390200756879e+18</td>\n",
       "      <td>3576558787748411622</td>\n",
       "      <td>1.0</td>\n",
       "      <td>7.653000</td>\n",
       "      <td>0.712</td>\n",
       "      <td>1.689</td>\n",
       "      <td>1891515180541284343</td>\n",
       "      <td>1663930990551616564</td>\n",
       "    </tr>\n",
       "    <tr>\n",
       "      <th>2</th>\n",
       "      <td>1</td>\n",
       "      <td>1</td>\n",
       "      <td>2019-04-18 05:42:07.926</td>\n",
       "      <td>1.714547</td>\n",
       "      <td>0.871535</td>\n",
       "      <td>True</td>\n",
       "      <td>4.0</td>\n",
       "      <td>2.2387361390161664e+18</td>\n",
       "      <td>NaN</td>\n",
       "      <td>3.581232574980917e+18</td>\n",
       "      <td>3576558787748411622</td>\n",
       "      <td>NaN</td>\n",
       "      <td>464.795990</td>\n",
       "      <td>0.227</td>\n",
       "      <td>0.251</td>\n",
       "      <td>1891515180541284343</td>\n",
       "      <td>8488038938665586188</td>\n",
       "    </tr>\n",
       "    <tr>\n",
       "      <th>3</th>\n",
       "      <td>1</td>\n",
       "      <td>1</td>\n",
       "      <td>2019-04-18 05:26:04.446</td>\n",
       "      <td>1.708041</td>\n",
       "      <td>0.870772</td>\n",
       "      <td>True</td>\n",
       "      <td>1.0</td>\n",
       "      <td>2.411639939918313e+18</td>\n",
       "      <td>NaN</td>\n",
       "      <td>3.908390200756879e+18</td>\n",
       "      <td>3576558787748411622</td>\n",
       "      <td>NaN</td>\n",
       "      <td>225.311005</td>\n",
       "      <td>0.696</td>\n",
       "      <td>6.587</td>\n",
       "      <td>1891515180541284343</td>\n",
       "      <td>6488361690105189959</td>\n",
       "    </tr>\n",
       "    <tr>\n",
       "      <th>4</th>\n",
       "      <td>1</td>\n",
       "      <td>1</td>\n",
       "      <td>2019-04-18 05:23:37.764</td>\n",
       "      <td>1.715514</td>\n",
       "      <td>0.870772</td>\n",
       "      <td>True</td>\n",
       "      <td>2.0</td>\n",
       "      <td>1.5176438893491397e+18</td>\n",
       "      <td>NaN</td>\n",
       "      <td>5.131615556736863e+18</td>\n",
       "      <td>3576558787748411622</td>\n",
       "      <td>0.0</td>\n",
       "      <td>84.736000</td>\n",
       "      <td>0.059</td>\n",
       "      <td>0.142</td>\n",
       "      <td>1891515180541284343</td>\n",
       "      <td>1348993302102753419</td>\n",
       "    </tr>\n",
       "  </tbody>\n",
       "</table>\n",
       "</div>"
      ],
      "text/plain": [
       "  advertiser_id source_id                 created  latitude  longitude  \\\n",
       "0             1         2 2019-04-18 05:27:42.197  1.714547   0.871535   \n",
       "1             1         1 2019-04-18 05:27:03.164  1.714512   0.871062   \n",
       "2             1         1 2019-04-18 05:42:07.926  1.714547   0.871535   \n",
       "3             1         1 2019-04-18 05:26:04.446  1.708041   0.870772   \n",
       "4             1         1 2019-04-18 05:23:37.764  1.715514   0.870772   \n",
       "\n",
       "   wifi_connection carrier_id                os_minor agent_device  \\\n",
       "0            False        3.0  1.5176438893491397e+18          NaN   \n",
       "1             True        2.0  1.2885781261232225e+18          NaN   \n",
       "2             True        4.0  2.2387361390161664e+18          NaN   \n",
       "3             True        1.0   2.411639939918313e+18          NaN   \n",
       "4             True        2.0  1.5176438893491397e+18          NaN   \n",
       "\n",
       "                os_major          specs_brand brand  timeToClick  touchX  \\\n",
       "0  5.131615556736863e+18    71913840936116953   0.0     2.317000   0.968   \n",
       "1  3.908390200756879e+18  3576558787748411622   1.0     7.653000   0.712   \n",
       "2  3.581232574980917e+18  3576558787748411622   NaN   464.795990   0.227   \n",
       "3  3.908390200756879e+18  3576558787748411622   NaN   225.311005   0.696   \n",
       "4  5.131615556736863e+18  3576558787748411622   0.0    84.736000   0.059   \n",
       "\n",
       "   touchY             ref_type             ref_hash  \n",
       "0   0.503  1891515180541284343  1293710398598742392  \n",
       "1   1.689  1891515180541284343  1663930990551616564  \n",
       "2   0.251  1891515180541284343  8488038938665586188  \n",
       "3   6.587  1891515180541284343  6488361690105189959  \n",
       "4   0.142  1891515180541284343  1348993302102753419  "
      ]
     },
     "execution_count": 73,
     "metadata": {},
     "output_type": "execute_result"
    }
   ],
   "source": [
    "clicks.head()"
   ]
  },
  {
   "cell_type": "code",
   "execution_count": 74,
   "metadata": {},
   "outputs": [
    {
     "name": "stdout",
     "output_type": "stream",
     "text": [
      "<class 'pandas.core.frame.DataFrame'>\n",
      "Int64Index: 12768 entries, 0 to 64212\n",
      "Data columns (total 17 columns):\n",
      "advertiser_id      12768 non-null category\n",
      "source_id          12768 non-null category\n",
      "created            12768 non-null datetime64[ns]\n",
      "latitude           12768 non-null float32\n",
      "longitude          12768 non-null float32\n",
      "wifi_connection    12768 non-null bool\n",
      "carrier_id         12548 non-null category\n",
      "os_minor           12761 non-null category\n",
      "agent_device       2004 non-null category\n",
      "os_major           12761 non-null category\n",
      "specs_brand        12768 non-null category\n",
      "brand              2923 non-null category\n",
      "timeToClick        7510 non-null float32\n",
      "touchX             8571 non-null float32\n",
      "touchY             8571 non-null float32\n",
      "ref_type           12768 non-null category\n",
      "ref_hash           12768 non-null int64\n",
      "dtypes: bool(1), category(9), datetime64[ns](1), float32(5), int64(1)\n",
      "memory usage: 720.6 KB\n"
     ]
    }
   ],
   "source": [
    "clicks.info()"
   ]
  },
  {
   "cell_type": "markdown",
   "metadata": {},
   "source": [
    "## Installs"
   ]
  },
  {
   "cell_type": "code",
   "execution_count": 58,
   "metadata": {},
   "outputs": [],
   "source": [
    "dtype = {\n",
    "    'created': 'str',\n",
    "    'application_id': 'category',\n",
    "    'ref_type': 'category',\n",
    "    'ref_hash': 'int64',\n",
    "    'click_hash': 'str',\n",
    "    'attributed': 'bool',\n",
    "    'implicit': 'bool',\n",
    "    'device_brand': 'float64',\n",
    "    'device_model': 'float64',\n",
    "    'session_user_agent': 'str',\n",
    "    'user_agent': 'str',\n",
    "    'event_uuid': 'str',\n",
    "    'kind': 'str',\n",
    "    'wifi': 'str',\n",
    "    'trans_id': 'str',\n",
    "    'ip_address': 'int64',\n",
    "    'device_language': 'category',\n",
    "}"
   ]
  },
  {
   "cell_type": "code",
   "execution_count": 59,
   "metadata": {},
   "outputs": [],
   "source": [
    "installs = pd.read_csv(installsFile, usecols=dtype.keys(), dtype=dtype, parse_dates=['created'])"
   ]
  },
  {
   "cell_type": "code",
   "execution_count": 60,
   "metadata": {},
   "outputs": [],
   "source": [
    "installsIsInDateInterval = (installs['created'] >= firstDay) & (installs['created'] < lastDay)\n",
    "installs = installs[installsIsInDateInterval]"
   ]
  },
  {
   "cell_type": "code",
   "execution_count": 61,
   "metadata": {},
   "outputs": [
    {
     "data": {
      "text/html": [
       "<div>\n",
       "<style scoped>\n",
       "    .dataframe tbody tr th:only-of-type {\n",
       "        vertical-align: middle;\n",
       "    }\n",
       "\n",
       "    .dataframe tbody tr th {\n",
       "        vertical-align: top;\n",
       "    }\n",
       "\n",
       "    .dataframe thead th {\n",
       "        text-align: right;\n",
       "    }\n",
       "</style>\n",
       "<table border=\"1\" class=\"dataframe\">\n",
       "  <thead>\n",
       "    <tr style=\"text-align: right;\">\n",
       "      <th></th>\n",
       "      <th>created</th>\n",
       "      <th>application_id</th>\n",
       "      <th>ref_type</th>\n",
       "      <th>ref_hash</th>\n",
       "      <th>click_hash</th>\n",
       "      <th>attributed</th>\n",
       "      <th>implicit</th>\n",
       "      <th>device_brand</th>\n",
       "      <th>device_model</th>\n",
       "      <th>session_user_agent</th>\n",
       "      <th>user_agent</th>\n",
       "      <th>event_uuid</th>\n",
       "      <th>kind</th>\n",
       "      <th>wifi</th>\n",
       "      <th>trans_id</th>\n",
       "      <th>ip_address</th>\n",
       "      <th>device_language</th>\n",
       "    </tr>\n",
       "  </thead>\n",
       "  <tbody>\n",
       "    <tr>\n",
       "      <th>2</th>\n",
       "      <td>2019-04-20 10:15:36.274</td>\n",
       "      <td>1</td>\n",
       "      <td>1494519392962156891</td>\n",
       "      <td>5230323462636548010</td>\n",
       "      <td>NaN</td>\n",
       "      <td>False</td>\n",
       "      <td>True</td>\n",
       "      <td>NaN</td>\n",
       "      <td>8.355496e+18</td>\n",
       "      <td>adjust.com</td>\n",
       "      <td>NaN</td>\n",
       "      <td>dda99e3c-9c4b-487d-891c-79f0a02cb4a8</td>\n",
       "      <td>app_open</td>\n",
       "      <td>NaN</td>\n",
       "      <td>NaN</td>\n",
       "      <td>8291809486355890410</td>\n",
       "      <td>4.060929664968129e+18</td>\n",
       "    </tr>\n",
       "    <tr>\n",
       "      <th>3</th>\n",
       "      <td>2019-04-20 21:56:47.151</td>\n",
       "      <td>1</td>\n",
       "      <td>1494519392962156891</td>\n",
       "      <td>5097163995161606833</td>\n",
       "      <td>NaN</td>\n",
       "      <td>False</td>\n",
       "      <td>True</td>\n",
       "      <td>NaN</td>\n",
       "      <td>2.355772e+18</td>\n",
       "      <td>adjust.com</td>\n",
       "      <td>NaN</td>\n",
       "      <td>7010c3ce-0fcf-46c6-9be8-374cc0e20af4</td>\n",
       "      <td>app_open</td>\n",
       "      <td>NaN</td>\n",
       "      <td>NaN</td>\n",
       "      <td>4006811922873399949</td>\n",
       "      <td>3.3013777759776993e+18</td>\n",
       "    </tr>\n",
       "    <tr>\n",
       "      <th>4</th>\n",
       "      <td>2019-04-20 22:40:41.239</td>\n",
       "      <td>1</td>\n",
       "      <td>1494519392962156891</td>\n",
       "      <td>6328027616411983332</td>\n",
       "      <td>NaN</td>\n",
       "      <td>False</td>\n",
       "      <td>False</td>\n",
       "      <td>NaN</td>\n",
       "      <td>6.156971e+18</td>\n",
       "      <td>adjust.com</td>\n",
       "      <td>NaN</td>\n",
       "      <td>NaN</td>\n",
       "      <td>NaN</td>\n",
       "      <td>NaN</td>\n",
       "      <td>NaN</td>\n",
       "      <td>3386455054590810771</td>\n",
       "      <td>3.3013777759776993e+18</td>\n",
       "    </tr>\n",
       "    <tr>\n",
       "      <th>5</th>\n",
       "      <td>2019-04-20 18:19:27.485</td>\n",
       "      <td>1</td>\n",
       "      <td>1494519392962156891</td>\n",
       "      <td>7522785771858684314</td>\n",
       "      <td>NaN</td>\n",
       "      <td>False</td>\n",
       "      <td>True</td>\n",
       "      <td>NaN</td>\n",
       "      <td>6.208879e+18</td>\n",
       "      <td>adjust.com</td>\n",
       "      <td>NaN</td>\n",
       "      <td>35e7504f-cd9b-4a78-b89f-7335a8bd735a</td>\n",
       "      <td>app_open</td>\n",
       "      <td>NaN</td>\n",
       "      <td>NaN</td>\n",
       "      <td>7297343258015606683</td>\n",
       "      <td>3.3013777759776993e+18</td>\n",
       "    </tr>\n",
       "    <tr>\n",
       "      <th>6</th>\n",
       "      <td>2019-04-20 03:40:21.239</td>\n",
       "      <td>1</td>\n",
       "      <td>1494519392962156891</td>\n",
       "      <td>7882044913917355073</td>\n",
       "      <td>NaN</td>\n",
       "      <td>False</td>\n",
       "      <td>True</td>\n",
       "      <td>NaN</td>\n",
       "      <td>4.566898e+18</td>\n",
       "      <td>adjust.com</td>\n",
       "      <td>NaN</td>\n",
       "      <td>f3a8649c-bd47-4874-a20e-8d3d5cedac2e</td>\n",
       "      <td>app_open</td>\n",
       "      <td>NaN</td>\n",
       "      <td>NaN</td>\n",
       "      <td>4764130939738113581</td>\n",
       "      <td>4.060929664968129e+18</td>\n",
       "    </tr>\n",
       "  </tbody>\n",
       "</table>\n",
       "</div>"
      ],
      "text/plain": [
       "                  created application_id             ref_type  \\\n",
       "2 2019-04-20 10:15:36.274              1  1494519392962156891   \n",
       "3 2019-04-20 21:56:47.151              1  1494519392962156891   \n",
       "4 2019-04-20 22:40:41.239              1  1494519392962156891   \n",
       "5 2019-04-20 18:19:27.485              1  1494519392962156891   \n",
       "6 2019-04-20 03:40:21.239              1  1494519392962156891   \n",
       "\n",
       "              ref_hash click_hash  attributed  implicit  device_brand  \\\n",
       "2  5230323462636548010        NaN       False      True           NaN   \n",
       "3  5097163995161606833        NaN       False      True           NaN   \n",
       "4  6328027616411983332        NaN       False     False           NaN   \n",
       "5  7522785771858684314        NaN       False      True           NaN   \n",
       "6  7882044913917355073        NaN       False      True           NaN   \n",
       "\n",
       "   device_model session_user_agent user_agent  \\\n",
       "2  8.355496e+18         adjust.com        NaN   \n",
       "3  2.355772e+18         adjust.com        NaN   \n",
       "4  6.156971e+18         adjust.com        NaN   \n",
       "5  6.208879e+18         adjust.com        NaN   \n",
       "6  4.566898e+18         adjust.com        NaN   \n",
       "\n",
       "                             event_uuid      kind wifi trans_id  \\\n",
       "2  dda99e3c-9c4b-487d-891c-79f0a02cb4a8  app_open  NaN      NaN   \n",
       "3  7010c3ce-0fcf-46c6-9be8-374cc0e20af4  app_open  NaN      NaN   \n",
       "4                                   NaN       NaN  NaN      NaN   \n",
       "5  35e7504f-cd9b-4a78-b89f-7335a8bd735a  app_open  NaN      NaN   \n",
       "6  f3a8649c-bd47-4874-a20e-8d3d5cedac2e  app_open  NaN      NaN   \n",
       "\n",
       "            ip_address         device_language  \n",
       "2  8291809486355890410   4.060929664968129e+18  \n",
       "3  4006811922873399949  3.3013777759776993e+18  \n",
       "4  3386455054590810771  3.3013777759776993e+18  \n",
       "5  7297343258015606683  3.3013777759776993e+18  \n",
       "6  4764130939738113581   4.060929664968129e+18  "
      ]
     },
     "execution_count": 61,
     "metadata": {},
     "output_type": "execute_result"
    }
   ],
   "source": [
    "installs.head()"
   ]
  },
  {
   "cell_type": "code",
   "execution_count": 62,
   "metadata": {
    "scrolled": false
   },
   "outputs": [
    {
     "name": "stdout",
     "output_type": "stream",
     "text": [
      "<class 'pandas.core.frame.DataFrame'>\n",
      "Int64Index: 160861 entries, 2 to 481415\n",
      "Data columns (total 17 columns):\n",
      "created               160861 non-null datetime64[ns]\n",
      "application_id        160861 non-null category\n",
      "ref_type              160861 non-null category\n",
      "ref_hash              160861 non-null int64\n",
      "click_hash            307 non-null object\n",
      "attributed            160861 non-null bool\n",
      "implicit              160861 non-null bool\n",
      "device_brand          95803 non-null float64\n",
      "device_model          152978 non-null float64\n",
      "session_user_agent    156740 non-null object\n",
      "user_agent            111880 non-null object\n",
      "event_uuid            35226 non-null object\n",
      "kind                  35226 non-null object\n",
      "wifi                  100903 non-null object\n",
      "trans_id              2867 non-null object\n",
      "ip_address            160861 non-null int64\n",
      "device_language       153042 non-null category\n",
      "dtypes: bool(2), category(3), datetime64[ns](1), float64(2), int64(2), object(7)\n",
      "memory usage: 17.1+ MB\n"
     ]
    }
   ],
   "source": [
    "installs.info()"
   ]
  },
  {
   "cell_type": "markdown",
   "metadata": {},
   "source": [
    "## Events"
   ]
  },
  {
   "cell_type": "code",
   "execution_count": 53,
   "metadata": {},
   "outputs": [],
   "source": [
    "dtype = {\n",
    "    'date': 'str',\n",
    "    'event_id': 'int8',\n",
    "    'ref_type': 'category',\n",
    "    'ref_hash': 'int64',\n",
    "    'application_id': 'int64',\n",
    "    'attributed': 'bool',\n",
    "    'device_os_version': 'float64',\n",
    "    'device_brand': 'float64',\n",
    "    'device_model': 'float64',\n",
    "    'device_city': 'float64',\n",
    "    'session_user_agent': 'float64',\n",
    "    'trans_id': 'str',\n",
    "    'user_agent': 'float64',\n",
    "    'event_uuid': 'str',\n",
    "    'carrier': 'float64',\n",
    "    'kind': 'float64',\n",
    "    'device_os': 'category',\n",
    "    'wifi': 'bool',\n",
    "    'connection_type': 'category',\n",
    "    'ip_address': 'int64',\n",
    "    'device_language': 'category'\n",
    "}"
   ]
  },
  {
   "cell_type": "code",
   "execution_count": 54,
   "metadata": {},
   "outputs": [],
   "source": [
    "events = pd.read_csv(eventsFile, usecols=dtype.keys(), dtype=dtype, parse_dates=['date'])"
   ]
  },
  {
   "cell_type": "code",
   "execution_count": 55,
   "metadata": {},
   "outputs": [],
   "source": [
    "eventsIsInDateInterval = (events['date'] >= firstDay) & (events['date'] < lastDay)\n",
    "events = events[eventsIsInDateInterval]"
   ]
  },
  {
   "cell_type": "code",
   "execution_count": 56,
   "metadata": {
    "scrolled": false
   },
   "outputs": [
    {
     "data": {
      "text/html": [
       "<div>\n",
       "<style scoped>\n",
       "    .dataframe tbody tr th:only-of-type {\n",
       "        vertical-align: middle;\n",
       "    }\n",
       "\n",
       "    .dataframe tbody tr th {\n",
       "        vertical-align: top;\n",
       "    }\n",
       "\n",
       "    .dataframe thead th {\n",
       "        text-align: right;\n",
       "    }\n",
       "</style>\n",
       "<table border=\"1\" class=\"dataframe\">\n",
       "  <thead>\n",
       "    <tr style=\"text-align: right;\">\n",
       "      <th></th>\n",
       "      <th>date</th>\n",
       "      <th>event_id</th>\n",
       "      <th>ref_type</th>\n",
       "      <th>ref_hash</th>\n",
       "      <th>application_id</th>\n",
       "      <th>attributed</th>\n",
       "      <th>device_os_version</th>\n",
       "      <th>device_brand</th>\n",
       "      <th>device_model</th>\n",
       "      <th>device_city</th>\n",
       "      <th>...</th>\n",
       "      <th>trans_id</th>\n",
       "      <th>user_agent</th>\n",
       "      <th>event_uuid</th>\n",
       "      <th>carrier</th>\n",
       "      <th>kind</th>\n",
       "      <th>device_os</th>\n",
       "      <th>wifi</th>\n",
       "      <th>connection_type</th>\n",
       "      <th>ip_address</th>\n",
       "      <th>device_language</th>\n",
       "    </tr>\n",
       "  </thead>\n",
       "  <tbody>\n",
       "    <tr>\n",
       "      <th>0</th>\n",
       "      <td>2019-04-20 01:42:49.120</td>\n",
       "      <td>0</td>\n",
       "      <td>1891515180541284343</td>\n",
       "      <td>5857744372586891366</td>\n",
       "      <td>210</td>\n",
       "      <td>False</td>\n",
       "      <td>NaN</td>\n",
       "      <td>NaN</td>\n",
       "      <td>4.318294e+18</td>\n",
       "      <td>NaN</td>\n",
       "      <td>...</td>\n",
       "      <td>NaN</td>\n",
       "      <td>5.046185e+18</td>\n",
       "      <td>5b506964-5f47-4b28-a8c2-8a92d6c23379</td>\n",
       "      <td>NaN</td>\n",
       "      <td>5.882882e+18</td>\n",
       "      <td>NaN</td>\n",
       "      <td>False</td>\n",
       "      <td>NaN</td>\n",
       "      <td>7544543351571901618</td>\n",
       "      <td>3.3013777759776993e+18</td>\n",
       "    </tr>\n",
       "    <tr>\n",
       "      <th>1</th>\n",
       "      <td>2019-04-20 01:42:49.340</td>\n",
       "      <td>1</td>\n",
       "      <td>1891515180541284343</td>\n",
       "      <td>7642521036780133571</td>\n",
       "      <td>210</td>\n",
       "      <td>False</td>\n",
       "      <td>NaN</td>\n",
       "      <td>NaN</td>\n",
       "      <td>NaN</td>\n",
       "      <td>NaN</td>\n",
       "      <td>...</td>\n",
       "      <td>NaN</td>\n",
       "      <td>NaN</td>\n",
       "      <td>f1fb9d15-1a7b-4116-8d3b-c4c403e197e2</td>\n",
       "      <td>NaN</td>\n",
       "      <td>4.017674e+18</td>\n",
       "      <td>NaN</td>\n",
       "      <td>False</td>\n",
       "      <td>NaN</td>\n",
       "      <td>6949523255335024165</td>\n",
       "      <td>NaN</td>\n",
       "    </tr>\n",
       "    <tr>\n",
       "      <th>2</th>\n",
       "      <td>2019-04-20 01:42:49.365</td>\n",
       "      <td>1</td>\n",
       "      <td>1891515180541284343</td>\n",
       "      <td>2548841562898283198</td>\n",
       "      <td>210</td>\n",
       "      <td>False</td>\n",
       "      <td>NaN</td>\n",
       "      <td>NaN</td>\n",
       "      <td>NaN</td>\n",
       "      <td>NaN</td>\n",
       "      <td>...</td>\n",
       "      <td>NaN</td>\n",
       "      <td>NaN</td>\n",
       "      <td>c85a0b15-a5d7-472e-8116-6bfa3db19687</td>\n",
       "      <td>NaN</td>\n",
       "      <td>4.017674e+18</td>\n",
       "      <td>NaN</td>\n",
       "      <td>False</td>\n",
       "      <td>NaN</td>\n",
       "      <td>6428537280982666957</td>\n",
       "      <td>NaN</td>\n",
       "    </tr>\n",
       "    <tr>\n",
       "      <th>3</th>\n",
       "      <td>2019-04-20 01:42:51.438</td>\n",
       "      <td>2</td>\n",
       "      <td>1891515180541284343</td>\n",
       "      <td>609402887625919085</td>\n",
       "      <td>210</td>\n",
       "      <td>False</td>\n",
       "      <td>NaN</td>\n",
       "      <td>NaN</td>\n",
       "      <td>NaN</td>\n",
       "      <td>NaN</td>\n",
       "      <td>...</td>\n",
       "      <td>NaN</td>\n",
       "      <td>NaN</td>\n",
       "      <td>f4aa0a97-2de6-4f22-95c6-1b3150112cb9</td>\n",
       "      <td>NaN</td>\n",
       "      <td>6.168309e+18</td>\n",
       "      <td>NaN</td>\n",
       "      <td>False</td>\n",
       "      <td>NaN</td>\n",
       "      <td>7607371352198017145</td>\n",
       "      <td>NaN</td>\n",
       "    </tr>\n",
       "    <tr>\n",
       "      <th>4</th>\n",
       "      <td>2019-04-20 01:42:51.838</td>\n",
       "      <td>1</td>\n",
       "      <td>1891515180541284343</td>\n",
       "      <td>9114651763556439823</td>\n",
       "      <td>210</td>\n",
       "      <td>False</td>\n",
       "      <td>NaN</td>\n",
       "      <td>NaN</td>\n",
       "      <td>NaN</td>\n",
       "      <td>NaN</td>\n",
       "      <td>...</td>\n",
       "      <td>NaN</td>\n",
       "      <td>NaN</td>\n",
       "      <td>08e2f7f7-875f-4aa0-b337-b9b87b0d83ea</td>\n",
       "      <td>NaN</td>\n",
       "      <td>4.017674e+18</td>\n",
       "      <td>NaN</td>\n",
       "      <td>False</td>\n",
       "      <td>NaN</td>\n",
       "      <td>2901772839007473756</td>\n",
       "      <td>NaN</td>\n",
       "    </tr>\n",
       "  </tbody>\n",
       "</table>\n",
       "<p>5 rows × 21 columns</p>\n",
       "</div>"
      ],
      "text/plain": [
       "                     date  event_id             ref_type             ref_hash  \\\n",
       "0 2019-04-20 01:42:49.120         0  1891515180541284343  5857744372586891366   \n",
       "1 2019-04-20 01:42:49.340         1  1891515180541284343  7642521036780133571   \n",
       "2 2019-04-20 01:42:49.365         1  1891515180541284343  2548841562898283198   \n",
       "3 2019-04-20 01:42:51.438         2  1891515180541284343   609402887625919085   \n",
       "4 2019-04-20 01:42:51.838         1  1891515180541284343  9114651763556439823   \n",
       "\n",
       "   application_id  attributed  device_os_version  device_brand  device_model  \\\n",
       "0             210       False                NaN           NaN  4.318294e+18   \n",
       "1             210       False                NaN           NaN           NaN   \n",
       "2             210       False                NaN           NaN           NaN   \n",
       "3             210       False                NaN           NaN           NaN   \n",
       "4             210       False                NaN           NaN           NaN   \n",
       "\n",
       "   device_city           ...            trans_id    user_agent  \\\n",
       "0          NaN           ...                 NaN  5.046185e+18   \n",
       "1          NaN           ...                 NaN           NaN   \n",
       "2          NaN           ...                 NaN           NaN   \n",
       "3          NaN           ...                 NaN           NaN   \n",
       "4          NaN           ...                 NaN           NaN   \n",
       "\n",
       "                             event_uuid carrier          kind  device_os  \\\n",
       "0  5b506964-5f47-4b28-a8c2-8a92d6c23379     NaN  5.882882e+18        NaN   \n",
       "1  f1fb9d15-1a7b-4116-8d3b-c4c403e197e2     NaN  4.017674e+18        NaN   \n",
       "2  c85a0b15-a5d7-472e-8116-6bfa3db19687     NaN  4.017674e+18        NaN   \n",
       "3  f4aa0a97-2de6-4f22-95c6-1b3150112cb9     NaN  6.168309e+18        NaN   \n",
       "4  08e2f7f7-875f-4aa0-b337-b9b87b0d83ea     NaN  4.017674e+18        NaN   \n",
       "\n",
       "    wifi  connection_type           ip_address         device_language  \n",
       "0  False              NaN  7544543351571901618  3.3013777759776993e+18  \n",
       "1  False              NaN  6949523255335024165                     NaN  \n",
       "2  False              NaN  6428537280982666957                     NaN  \n",
       "3  False              NaN  7607371352198017145                     NaN  \n",
       "4  False              NaN  2901772839007473756                     NaN  \n",
       "\n",
       "[5 rows x 21 columns]"
      ]
     },
     "execution_count": 56,
     "metadata": {},
     "output_type": "execute_result"
    }
   ],
   "source": [
    "events.head()"
   ]
  },
  {
   "cell_type": "code",
   "execution_count": 57,
   "metadata": {},
   "outputs": [
    {
     "name": "stdout",
     "output_type": "stream",
     "text": [
      "<class 'pandas.core.frame.DataFrame'>\n",
      "Int64Index: 2261451 entries, 0 to 7744308\n",
      "Data columns (total 21 columns):\n",
      "date                  datetime64[ns]\n",
      "event_id              int8\n",
      "ref_type              category\n",
      "ref_hash              int64\n",
      "application_id        int64\n",
      "attributed            bool\n",
      "device_os_version     float64\n",
      "device_brand          float64\n",
      "device_model          float64\n",
      "device_city           float64\n",
      "session_user_agent    float64\n",
      "trans_id              object\n",
      "user_agent            float64\n",
      "event_uuid            object\n",
      "carrier               float64\n",
      "kind                  float64\n",
      "device_os             category\n",
      "wifi                  bool\n",
      "connection_type       category\n",
      "ip_address            int64\n",
      "device_language       category\n",
      "dtypes: bool(2), category(4), datetime64[ns](1), float64(8), int64(3), int8(1), object(2)\n",
      "memory usage: 276.1+ MB\n"
     ]
    }
   ],
   "source": [
    "events.info()"
   ]
  },
  {
   "cell_type": "markdown",
   "metadata": {},
   "source": [
    "## Auctions"
   ]
  },
  {
   "cell_type": "code",
   "execution_count": 5,
   "metadata": {},
   "outputs": [],
   "source": [
    "dtype = {\n",
    "    'date': 'str',\n",
    "    'device_id': 'int64',\n",
    "    'ref_type_id': 'category',\n",
    "    'source_id': 'category',\n",
    "}"
   ]
  },
  {
   "cell_type": "code",
   "execution_count": 6,
   "metadata": {},
   "outputs": [],
   "source": [
    "auctionsIterator = pd.read_csv(auctionsFile, usecols=dtype.keys(), dtype=dtype, parse_dates=['date'], chunksize=50000)"
   ]
  },
  {
   "cell_type": "code",
   "execution_count": 7,
   "metadata": {},
   "outputs": [],
   "source": [
    "auctions = pd.DataFrame()\n",
    "for chunk in auctionsIterator:\n",
    "    chunkIsInDateInterval = (chunk['date'] >= firstDay) & (chunk['date'] < lastDay)\n",
    "    auctions = pd.concat([auctions, chunk[chunkIsInDateInterval]], sort = False)"
   ]
  },
  {
   "cell_type": "code",
   "execution_count": 19,
   "metadata": {},
   "outputs": [
    {
     "data": {
      "text/html": [
       "<div>\n",
       "<style scoped>\n",
       "    .dataframe tbody tr th:only-of-type {\n",
       "        vertical-align: middle;\n",
       "    }\n",
       "\n",
       "    .dataframe tbody tr th {\n",
       "        vertical-align: top;\n",
       "    }\n",
       "\n",
       "    .dataframe thead th {\n",
       "        text-align: right;\n",
       "    }\n",
       "</style>\n",
       "<table border=\"1\" class=\"dataframe\">\n",
       "  <thead>\n",
       "    <tr style=\"text-align: right;\">\n",
       "      <th></th>\n",
       "      <th>date</th>\n",
       "      <th>device_id</th>\n",
       "      <th>ref_type_id</th>\n",
       "      <th>source_id</th>\n",
       "      <th>day</th>\n",
       "      <th>hour</th>\n",
       "    </tr>\n",
       "  </thead>\n",
       "  <tbody>\n",
       "    <tr>\n",
       "      <th>221726</th>\n",
       "      <td>2019-04-20 23:57:27.912838</td>\n",
       "      <td>1109595589636746168</td>\n",
       "      <td>7</td>\n",
       "      <td>0</td>\n",
       "      <td>3</td>\n",
       "      <td>23.957500</td>\n",
       "    </tr>\n",
       "    <tr>\n",
       "      <th>221727</th>\n",
       "      <td>2019-04-20 23:57:28.381114</td>\n",
       "      <td>5896614299191635403</td>\n",
       "      <td>1</td>\n",
       "      <td>0</td>\n",
       "      <td>3</td>\n",
       "      <td>23.957778</td>\n",
       "    </tr>\n",
       "    <tr>\n",
       "      <th>221728</th>\n",
       "      <td>2019-04-20 23:57:28.515423</td>\n",
       "      <td>4172466725848941608</td>\n",
       "      <td>1</td>\n",
       "      <td>0</td>\n",
       "      <td>3</td>\n",
       "      <td>23.957778</td>\n",
       "    </tr>\n",
       "    <tr>\n",
       "      <th>221729</th>\n",
       "      <td>2019-04-20 23:57:28.700884</td>\n",
       "      <td>2616279795187318849</td>\n",
       "      <td>7</td>\n",
       "      <td>0</td>\n",
       "      <td>3</td>\n",
       "      <td>23.957778</td>\n",
       "    </tr>\n",
       "    <tr>\n",
       "      <th>221730</th>\n",
       "      <td>2019-04-20 23:57:28.868312</td>\n",
       "      <td>8034952072073026056</td>\n",
       "      <td>1</td>\n",
       "      <td>0</td>\n",
       "      <td>3</td>\n",
       "      <td>23.957778</td>\n",
       "    </tr>\n",
       "  </tbody>\n",
       "</table>\n",
       "</div>"
      ],
      "text/plain": [
       "                             date            device_id ref_type_id source_id  \\\n",
       "221726 2019-04-20 23:57:27.912838  1109595589636746168           7         0   \n",
       "221727 2019-04-20 23:57:28.381114  5896614299191635403           1         0   \n",
       "221728 2019-04-20 23:57:28.515423  4172466725848941608           1         0   \n",
       "221729 2019-04-20 23:57:28.700884  2616279795187318849           7         0   \n",
       "221730 2019-04-20 23:57:28.868312  8034952072073026056           1         0   \n",
       "\n",
       "        day       hour  \n",
       "221726    3  23.957500  \n",
       "221727    3  23.957778  \n",
       "221728    3  23.957778  \n",
       "221729    3  23.957778  \n",
       "221730    3  23.957778  "
      ]
     },
     "execution_count": 19,
     "metadata": {},
     "output_type": "execute_result"
    }
   ],
   "source": [
    "auctions.head()"
   ]
  },
  {
   "cell_type": "code",
   "execution_count": 20,
   "metadata": {},
   "outputs": [
    {
     "name": "stdout",
     "output_type": "stream",
     "text": [
      "<class 'pandas.core.frame.DataFrame'>\n",
      "Int64Index: 15644775 entries, 221726 to 47409527\n",
      "Data columns (total 6 columns):\n",
      "date           datetime64[ns]\n",
      "device_id      int64\n",
      "ref_type_id    category\n",
      "source_id      object\n",
      "day            int64\n",
      "hour           float64\n",
      "dtypes: category(1), datetime64[ns](1), float64(1), int64(2), object(1)\n",
      "memory usage: 1.3+ GB\n"
     ]
    }
   ],
   "source": [
    "auctions.info()"
   ]
  },
  {
   "cell_type": "markdown",
   "metadata": {},
   "source": [
    "## Busqueda de features"
   ]
  },
  {
   "cell_type": "code",
   "execution_count": 75,
   "metadata": {},
   "outputs": [],
   "source": [
    "devicesInAuctions = pd.Series(auctions['device_id'].unique())\n",
    "devicesInEvents = pd.Series(events['ref_hash'].unique())\n",
    "devicesInClicks = pd.Series(clicks['ref_hash'].unique())\n",
    "devicesInInstalls = pd.Series(installs['ref_hash'].unique())"
   ]
  },
  {
   "cell_type": "code",
   "execution_count": 87,
   "metadata": {},
   "outputs": [],
   "source": [
    "devices = pd.concat([devicesInAuctions, devicesInEvents, devicesInClicks, devicesInInstalls])\n",
    "devices = devices.drop_duplicates().reset_index(drop=True)\n",
    "devices.name = 'device'"
   ]
  },
  {
   "cell_type": "code",
   "execution_count": 122,
   "metadata": {},
   "outputs": [],
   "source": [
    "features = pd.DataFrame(devices)"
   ]
  },
  {
   "cell_type": "code",
   "execution_count": 12,
   "metadata": {},
   "outputs": [],
   "source": [
    "auctions['day'] = auctions['date'].dt.day - firstDay.day + 1\n",
    "auctions['hour'] = auctions['date'].dt.hour + auctions['date'].dt.minute / 60 + auctions['date'].dt.second / (60**2)"
   ]
  },
  {
   "cell_type": "code",
   "execution_count": 124,
   "metadata": {},
   "outputs": [],
   "source": [
    "meanAuctionHour = auctions[['device_id', 'hour']].groupby(by=['device_id']).mean()\n",
    "meanAuctionHour = meanAuctionHour.reset_index().rename(columns={'hour': 'meanAuctionHour'})\n",
    "features = features.merge(meanAuctionHour, left_on='device', right_on='device_id', how='left').drop('device_id', axis=1)"
   ]
  },
  {
   "cell_type": "code",
   "execution_count": 126,
   "metadata": {},
   "outputs": [],
   "source": [
    "auctionsFrequency = auctions[['device_id']].groupby(by=['device_id']).size()\n",
    "auctionsFrequency = auctionsFrequency.reset_index().rename(columns={0: 'auctionsFrequency'})\n",
    "features = features.merge(auctionsFrequency, left_on='device', right_on='device_id', how='left').drop('device_id', axis=1)"
   ]
  },
  {
   "cell_type": "code",
   "execution_count": 128,
   "metadata": {},
   "outputs": [],
   "source": [
    "mostAuctionsDay = auctions[['device_id', 'day']].groupby(by=['device_id']).agg(lambda x: x.value_counts().index[0])\n",
    "mostAuctionsDay = mostAuctionsDay.reset_index().rename(columns={'day': 'mostAuctionsDay'})\n",
    "features = features.merge(mostAuctionsDay, left_on='device', right_on='device_id', how='left').drop('device_id', axis=1)"
   ]
  },
  {
   "cell_type": "code",
   "execution_count": 116,
   "metadata": {},
   "outputs": [],
   "source": [
    "auctions['seconds'] = (auctions['date'] - firstDay).dt.total_seconds()"
   ]
  },
  {
   "cell_type": "code",
   "execution_count": 133,
   "metadata": {},
   "outputs": [],
   "source": [
    "auctionMeanInstant = auctions[['device_id', 'seconds']].groupby(by=['device_id']).mean()\n",
    "auctionMeanInstant = auctionMeanInstant.reset_index().rename(columns={'seconds': 'auctionMeanInstant'})\n",
    "features = features.merge(auctionMeanInstant, left_on='device', right_on='device_id', how='left').drop('device_id', axis=1)"
   ]
  },
  {
   "cell_type": "code",
   "execution_count": 134,
   "metadata": {},
   "outputs": [],
   "source": [
    "auctionStdDevInstant = auctions[['device_id', 'seconds']].groupby(by=['device_id']).std()\n",
    "auctionStdDevInstant = auctionStdDevInstant.reset_index().rename(columns={'seconds': 'auctionStdDevInstant'})\n",
    "features = features.merge(auctionStdDevInstant, left_on='device', right_on='device_id', how='left').drop('device_id', axis=1)"
   ]
  },
  {
   "cell_type": "code",
   "execution_count": 138,
   "metadata": {},
   "outputs": [],
   "source": [
    "features['device_id'] = features['device']\n",
    "features.drop('device', axis=1)\n",
    "features = features[['device_id', 'meanAuctionHour', 'auctionsFrequency', 'mostAuctionsDay', 'auctionMeanInstant', 'auctionStdDevInstant']]"
   ]
  },
  {
   "cell_type": "code",
   "execution_count": 140,
   "metadata": {},
   "outputs": [],
   "source": [
    "features.to_csv('data/featuresFirstThreeDays.csv', index=False)"
   ]
  }
 ],
 "metadata": {
  "kernelspec": {
   "display_name": "Python 3",
   "language": "python",
   "name": "python3"
  },
  "language_info": {
   "codemirror_mode": {
    "name": "ipython",
    "version": 3
   },
   "file_extension": ".py",
   "mimetype": "text/x-python",
   "name": "python",
   "nbconvert_exporter": "python",
   "pygments_lexer": "ipython3",
   "version": "3.7.3"
  }
 },
 "nbformat": 4,
 "nbformat_minor": 2
}
