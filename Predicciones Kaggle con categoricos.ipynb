{
 "cells": [
  {
   "cell_type": "code",
   "execution_count": 1,
   "metadata": {},
   "outputs": [],
   "source": [
    "import pandas as pd\n",
    "import sklearn\n",
    "import numpy as np"
   ]
  },
  {
   "cell_type": "code",
   "execution_count": 2,
   "metadata": {},
   "outputs": [],
   "source": [
    "location = 'data/'\n",
    "featuresFile = location + 'features.csv'\n",
    "labelsFile = location + 'labels.csv'\n",
    "targetFile = location + 'target_competencia_ids.csv'\n",
    "featuresPredictFile = location + 'FeaturesFiltrado7.csv'\n",
    "featuresPredictFile2 = location + 'featuresPredict.csv'\n",
    "featuresCategoricoFile = location + 'featuresCategorico.csv'"
   ]
  },
  {
   "cell_type": "code",
   "execution_count": 3,
   "metadata": {},
   "outputs": [],
   "source": [
    "dtypeFeatures = {\n",
    "    'device_id': 'str',\n",
    "    'eventsCount': 'float64',\n",
    "    'eventsMostFreqDay': 'float64',\n",
    "    'eventsMeanInterval': 'float64',\n",
    "    'eventsAproxFreq': 'float64',\n",
    "    'eventsStdDevInterval': 'float64',\n",
    "    'eventsLast': 'float64',\n",
    "    'installsCount': 'float64',\n",
    "    'installsMostFreqDay': 'float64',\n",
    "    'installsMeanInterval': 'float64',\n",
    "    'installsAproxFreq': 'float64',\n",
    "    'installsStdDevInterval': 'float64',\n",
    "    'installsLast': 'float64',\n",
    "    'clicksCount': 'float64',\n",
    "    'clicksMostFreqDay': 'float64',\n",
    "    'clicksMeanInterval': 'float64',\n",
    "    'clicksAproxFreq': 'float64',\n",
    "    'clicksStdDevInterval': 'float64',\n",
    "    'clicksLast': 'float64',\n",
    "    'auctionsCount': 'float64',\n",
    "    'auctionsMostFreqDay': 'float64',\n",
    "    'auctionsMeanInterval': 'float64',\n",
    "    'auctionsAproxFreq': 'float64',\n",
    "    'auctionsStdDevInterval': 'float64',\n",
    "    'auctionsLast': 'float64'\n",
    "}\n",
    "dtypeLabels = {\n",
    "    'device_id': 'str',\n",
    "    'st': 'float64',\n",
    "    'sc': 'float64'\n",
    "}\n",
    "dtypeTarget = {\n",
    "    'ref_hash': 'str',\n",
    "    'obj': 'float64',\n",
    "}"
   ]
  },
  {
   "cell_type": "code",
   "execution_count": 4,
   "metadata": {},
   "outputs": [],
   "source": [
    "labels = pd.read_csv(labelsFile, usecols=dtypeLabels.keys(), dtype=dtypeLabels)\n",
    "features = pd.read_csv(featuresFile, usecols=dtypeFeatures.keys(), dtype=dtypeFeatures)\n",
    "featuresCategorico = pd.read_csv(featuresCategoricoFile)"
   ]
  },
  {
   "cell_type": "code",
   "execution_count": 5,
   "metadata": {},
   "outputs": [],
   "source": [
    "labels = labels.sort_values(by='device_id').reset_index(drop=True)\n",
    "features = features.sort_values(by='device_id').reset_index(drop=True)\n",
    "featuresCategorico = featuresCategorico.sort_values(by='device_id').reset_index(drop=True)"
   ]
  },
  {
   "cell_type": "code",
   "execution_count": null,
   "metadata": {},
   "outputs": [],
   "source": []
  },
  {
   "cell_type": "code",
   "execution_count": 6,
   "metadata": {},
   "outputs": [],
   "source": [
    "labels = labels.drop('device_id', axis=1)"
   ]
  },
  {
   "cell_type": "code",
   "execution_count": 7,
   "metadata": {},
   "outputs": [],
   "source": [
    "featuresPredict = pd.read_csv(featuresPredictFile, usecols=dtypeFeatures.keys(), dtype=dtypeFeatures)\n",
    "featuresPredict2 = pd.read_csv(featuresPredictFile2, usecols=dtypeFeatures.keys(), dtype=dtypeFeatures)\n",
    "target = pd.read_csv(targetFile, usecols=dtypeTarget.keys(), dtype=dtypeTarget)"
   ]
  },
  {
   "cell_type": "code",
   "execution_count": 8,
   "metadata": {},
   "outputs": [],
   "source": [
    "target['device_id'] = target['ref_hash'].str[:-3]\n",
    "target = target.drop('ref_hash', axis=1)\n",
    "target = target.drop_duplicates(subset='device_id')"
   ]
  },
  {
   "cell_type": "code",
   "execution_count": 9,
   "metadata": {},
   "outputs": [],
   "source": [
    "labels=labels.fillna(259200)"
   ]
  },
  {
   "cell_type": "code",
   "execution_count": 10,
   "metadata": {},
   "outputs": [],
   "source": [
    "features = features.reindex(sorted(features.columns), axis=1)\n",
    "featuresPredict = featuresPredict.reindex(sorted(featuresPredict.columns), axis=1)\n",
    "featuresPredict2 = featuresPredict2.reindex(sorted(featuresPredict.columns), axis=1)\n",
    "featuresCategorico = featuresCategorico.reindex(sorted(featuresCategorico.columns), axis=1)"
   ]
  },
  {
   "cell_type": "code",
   "execution_count": 11,
   "metadata": {},
   "outputs": [
    {
     "name": "stdout",
     "output_type": "stream",
     "text": [
      "\n"
     ]
    }
   ],
   "source": [
    "'''features['auctionsAproxFreq']=features['auctionsAproxFreq'].fillna(features['auctionsAproxFreq'].mean())\n",
    "features['auctionsCount']=features['auctionsCount'].fillna(features['auctionsCount'].mean())\n",
    "features['auctionsLast']=features['auctionsLast'].fillna(features['auctionsLast'].mean())\n",
    "features['auctionsMeanInterval']=features['auctionsMeanInterval'].fillna(features['auctionsMeanInterval'].mean())\n",
    "features['auctionsMostFreqDay']=features['auctionsMostFreqDay'].fillna(features['auctionsMostFreqDay'].mean())\n",
    "features['auctionsStdDevInterval']=features['auctionsStdDevInterval'].fillna(features['auctionsStdDevInterval'].mean())\n",
    "features['clicksAproxFreq']=features['clicksAproxFreq'].fillna(features['clicksAproxFreq'].mean())\n",
    "features['clicksCount']=features['clicksCount'].fillna(features['clicksCount'].mean())\n",
    "features['clicksLast']=features['clicksLast'].fillna(features['clicksLast'].mean())\n",
    "features['clicksMeanInterval']=features['clicksMeanInterval'].fillna(features['clicksMeanInterval'].mean())\n",
    "features['clicksMostFreqDay']=features['clicksMostFreqDay'].fillna(features['clicksMostFreqDay'].mean())\n",
    "features['clicksStdDevInterval']=features['clicksStdDevInterval'].fillna(features['clicksStdDevInterval'].mean())\n",
    "features['eventsAproxFreq']=features['eventsAproxFreq'].fillna(features['eventsAproxFreq'].mean())\n",
    "features['eventsCount']=features['eventsCount'].fillna(features['eventsCount'].mean())\n",
    "features['eventsLast']=features['eventsLast'].fillna(features['eventsLast'].mean())\n",
    "features['eventsMeanInterval']=features['eventsMeanInterval'].fillna(features['eventsMeanInterval'].mean())\n",
    "features['eventsMostFreqDay']=features['eventsMostFreqDay'].fillna(features['eventsMostFreqDay'].mean())\n",
    "features['eventsStdDevInterval']=features['eventsStdDevInterval'].fillna(features['eventsStdDevInterval'].mean())\n",
    "features['installsAproxFreq']=features['installsAproxFreq'].fillna(features['installsAproxFreq'].mean())\n",
    "features['installsCount']=features['installsCount'].fillna(features['installsCount'].mean())\n",
    "features['installsLast']=features['installsLast'].fillna(features['installsLast'].mean())\n",
    "features['installsMeanInterval']=features['installsMeanInterval'].fillna(features['installsMeanInterval'].mean())\n",
    "features['installsMostFreqDay']=features['installsMostFreqDay'].fillna(features['installsMostFreqDay'].mean())\n",
    "features['installsStdDevInterval']=features['installsStdDevInterval'].fillna(features['installsStdDevInterval'].mean())\n",
    "\n",
    "featuresPredict['auctionsAproxFreq']=features['auctionsAproxFreq'].fillna(features['auctionsAproxFreq'].mean())\n",
    "featuresPredict['auctionsCount']=features['auctionsCount'].fillna(features['auctionsCount'].mean())\n",
    "featuresPredict['auctionsLast']=features['auctionsLast'].fillna(features['auctionsLast'].mean())\n",
    "featuresPredict['auctionsMeanInterval']=features['auctionsMeanInterval'].fillna(features['auctionsMeanInterval'].mean())\n",
    "featuresPredict['auctionsMostFreqDay']=features['auctionsMostFreqDay'].fillna(features['auctionsMostFreqDay'].mean())\n",
    "featuresPredict['auctionsStdDevInterval']=features['auctionsStdDevInterval'].fillna(features['auctionsStdDevInterval'].mean())\n",
    "featuresPredict['clicksAproxFreq']=features['clicksAproxFreq'].fillna(features['clicksAproxFreq'].mean())\n",
    "featuresPredict['clicksCount']=features['clicksCount'].fillna(features['clicksCount'].mean())\n",
    "featuresPredict['clicksLast']=features['clicksLast'].fillna(features['clicksLast'].mean())\n",
    "featuresPredict['clicksMeanInterval']=features['clicksMeanInterval'].fillna(features['clicksMeanInterval'].mean())\n",
    "featuresPredict['clicksMostFreqDay']=features['clicksMostFreqDay'].fillna(features['clicksMostFreqDay'].mean())\n",
    "featuresPredict['clicksStdDevInterval']=features['clicksStdDevInterval'].fillna(features['clicksStdDevInterval'].mean())\n",
    "featuresPredict['eventsAproxFreq']=features['eventsAproxFreq'].fillna(features['eventsAproxFreq'].mean())\n",
    "featuresPredict['eventsCount']=features['eventsCount'].fillna(features['eventsCount'].mean())\n",
    "featuresPredict['eventsLast']=features['eventsLast'].fillna(features['eventsLast'].mean())\n",
    "featuresPredict['eventsMeanInterval']=features['eventsMeanInterval'].fillna(features['eventsMeanInterval'].mean())\n",
    "featuresPredict['eventsMostFreqDay']=features['eventsMostFreqDay'].fillna(features['eventsMostFreqDay'].mean())\n",
    "featuresPredict['eventsStdDevInterval']=features['eventsStdDevInterval'].fillna(features['eventsStdDevInterval'].mean())\n",
    "featuresPredict['installsAproxFreq']=features['installsAproxFreq'].fillna(features['installsAproxFreq'].mean())\n",
    "featuresPredict['installsCount']=features['installsCount'].fillna(features['installsCount'].mean())\n",
    "featuresPredict['installsLast']=features['installsLast'].fillna(features['installsLast'].mean())\n",
    "featuresPredict['installsMeanInterval']=features['installsMeanInterval'].fillna(features['installsMeanInterval'].mean())\n",
    "featuresPredict['installsMostFreqDay']=features['installsMostFreqDay'].fillna(features['installsMostFreqDay'].mean())\n",
    "featuresPredict['installsStdDevInterval']=features['installsStdDevInterval'].fillna(features['installsStdDevInterval'].mean())'''\n",
    "print('')"
   ]
  },
  {
   "cell_type": "code",
   "execution_count": null,
   "metadata": {},
   "outputs": [],
   "source": []
  },
  {
   "cell_type": "code",
   "execution_count": 12,
   "metadata": {},
   "outputs": [],
   "source": [
    "featuresCategorico=featuresCategorico.astype({'device_id':'str'})\n",
    "features['device_id2']=features['device_id'].str[:-2]"
   ]
  },
  {
   "cell_type": "code",
   "execution_count": null,
   "metadata": {},
   "outputs": [],
   "source": []
  },
  {
   "cell_type": "code",
   "execution_count": null,
   "metadata": {},
   "outputs": [],
   "source": []
  },
  {
   "cell_type": "code",
   "execution_count": 13,
   "metadata": {},
   "outputs": [],
   "source": [
    "featuresPredict[['auctionsCount','clicksCount','eventsCount','installsCount','auctionsLast','clicksLast','eventsLast','installsLast','auctionsMostFreqDay','clicksMostFreqDay','eventsMostFreqDay','installsMostFreqDay']]=0\n",
    "targetFeatures=target.merge(featuresPredict2,on='device_id')\n",
    "targetFeatures=targetFeatures.append(target.merge(featuresPredict,on='device_id'))\n",
    "targetFeatures=targetFeatures.drop_duplicates(subset='device_id',keep='first')"
   ]
  },
  {
   "cell_type": "code",
   "execution_count": 14,
   "metadata": {},
   "outputs": [
    {
     "data": {
      "text/html": [
       "<div>\n",
       "<style scoped>\n",
       "    .dataframe tbody tr th:only-of-type {\n",
       "        vertical-align: middle;\n",
       "    }\n",
       "\n",
       "    .dataframe tbody tr th {\n",
       "        vertical-align: top;\n",
       "    }\n",
       "\n",
       "    .dataframe thead th {\n",
       "        text-align: right;\n",
       "    }\n",
       "</style>\n",
       "<table border=\"1\" class=\"dataframe\">\n",
       "  <thead>\n",
       "    <tr style=\"text-align: right;\">\n",
       "      <th></th>\n",
       "      <th>obj</th>\n",
       "      <th>device_id</th>\n",
       "      <th>auctionsAproxFreq</th>\n",
       "      <th>auctionsCount</th>\n",
       "      <th>auctionsLast</th>\n",
       "      <th>auctionsMeanInterval</th>\n",
       "      <th>auctionsMostFreqDay</th>\n",
       "      <th>auctionsStdDevInterval</th>\n",
       "      <th>clicksAproxFreq</th>\n",
       "      <th>clicksCount</th>\n",
       "      <th>...</th>\n",
       "      <th>event_wifiFalse</th>\n",
       "      <th>event_wifiTrue</th>\n",
       "      <th>installs_attributed_false</th>\n",
       "      <th>installs_attributed_true</th>\n",
       "      <th>installs_implicit_false</th>\n",
       "      <th>installs_implicit_true</th>\n",
       "      <th>installs_wifi_false</th>\n",
       "      <th>installs_wifi_true</th>\n",
       "      <th>installs_wifi_unknown</th>\n",
       "      <th>unknown</th>\n",
       "    </tr>\n",
       "  </thead>\n",
       "  <tbody>\n",
       "    <tr>\n",
       "      <th>0</th>\n",
       "      <td>0.0</td>\n",
       "      <td>1000169251625791246</td>\n",
       "      <td>0.000051</td>\n",
       "      <td>13.0</td>\n",
       "      <td>255742.213270</td>\n",
       "      <td>19672.477944</td>\n",
       "      <td>3.0</td>\n",
       "      <td>25426.078244</td>\n",
       "      <td>NaN</td>\n",
       "      <td>NaN</td>\n",
       "      <td>...</td>\n",
       "      <td>32.0</td>\n",
       "      <td>0.0</td>\n",
       "      <td>1.0</td>\n",
       "      <td>0.0</td>\n",
       "      <td>1.0</td>\n",
       "      <td>0.0</td>\n",
       "      <td>0.0</td>\n",
       "      <td>0.0</td>\n",
       "      <td>1.0</td>\n",
       "      <td>0.0</td>\n",
       "    </tr>\n",
       "    <tr>\n",
       "      <th>1</th>\n",
       "      <td>0.0</td>\n",
       "      <td>1000395625957344683</td>\n",
       "      <td>0.000060</td>\n",
       "      <td>15.0</td>\n",
       "      <td>251092.530737</td>\n",
       "      <td>16739.502049</td>\n",
       "      <td>1.0</td>\n",
       "      <td>24761.609512</td>\n",
       "      <td>NaN</td>\n",
       "      <td>NaN</td>\n",
       "      <td>...</td>\n",
       "      <td>0.0</td>\n",
       "      <td>2.0</td>\n",
       "      <td>2.0</td>\n",
       "      <td>0.0</td>\n",
       "      <td>1.0</td>\n",
       "      <td>1.0</td>\n",
       "      <td>0.0</td>\n",
       "      <td>2.0</td>\n",
       "      <td>0.0</td>\n",
       "      <td>2.0</td>\n",
       "    </tr>\n",
       "    <tr>\n",
       "      <th>2</th>\n",
       "      <td>0.0</td>\n",
       "      <td>1003027494996471685</td>\n",
       "      <td>0.001590</td>\n",
       "      <td>168.0</td>\n",
       "      <td>105662.836023</td>\n",
       "      <td>628.945453</td>\n",
       "      <td>1.0</td>\n",
       "      <td>4624.605939</td>\n",
       "      <td>NaN</td>\n",
       "      <td>NaN</td>\n",
       "      <td>...</td>\n",
       "      <td>9.0</td>\n",
       "      <td>45.0</td>\n",
       "      <td>2.0</td>\n",
       "      <td>0.0</td>\n",
       "      <td>1.0</td>\n",
       "      <td>1.0</td>\n",
       "      <td>0.0</td>\n",
       "      <td>0.0</td>\n",
       "      <td>2.0</td>\n",
       "      <td>54.0</td>\n",
       "    </tr>\n",
       "    <tr>\n",
       "      <th>3</th>\n",
       "      <td>0.0</td>\n",
       "      <td>1006670001679961544</td>\n",
       "      <td>0.000013</td>\n",
       "      <td>3.0</td>\n",
       "      <td>237780.114576</td>\n",
       "      <td>79260.038192</td>\n",
       "      <td>3.0</td>\n",
       "      <td>87349.815378</td>\n",
       "      <td>NaN</td>\n",
       "      <td>NaN</td>\n",
       "      <td>...</td>\n",
       "      <td>2.0</td>\n",
       "      <td>1.0</td>\n",
       "      <td>2.0</td>\n",
       "      <td>0.0</td>\n",
       "      <td>1.0</td>\n",
       "      <td>1.0</td>\n",
       "      <td>2.0</td>\n",
       "      <td>0.0</td>\n",
       "      <td>0.0</td>\n",
       "      <td>3.0</td>\n",
       "    </tr>\n",
       "    <tr>\n",
       "      <th>4</th>\n",
       "      <td>0.0</td>\n",
       "      <td>1007573308966476713</td>\n",
       "      <td>0.000028</td>\n",
       "      <td>7.0</td>\n",
       "      <td>254084.485745</td>\n",
       "      <td>36297.783678</td>\n",
       "      <td>1.0</td>\n",
       "      <td>29939.808375</td>\n",
       "      <td>NaN</td>\n",
       "      <td>NaN</td>\n",
       "      <td>...</td>\n",
       "      <td>6.0</td>\n",
       "      <td>0.0</td>\n",
       "      <td>1.0</td>\n",
       "      <td>0.0</td>\n",
       "      <td>1.0</td>\n",
       "      <td>0.0</td>\n",
       "      <td>0.0</td>\n",
       "      <td>0.0</td>\n",
       "      <td>1.0</td>\n",
       "      <td>0.0</td>\n",
       "    </tr>\n",
       "  </tbody>\n",
       "</table>\n",
       "<p>5 rows × 82 columns</p>\n",
       "</div>"
      ],
      "text/plain": [
       "   obj            device_id  auctionsAproxFreq  auctionsCount   auctionsLast  \\\n",
       "0  0.0  1000169251625791246           0.000051           13.0  255742.213270   \n",
       "1  0.0  1000395625957344683           0.000060           15.0  251092.530737   \n",
       "2  0.0  1003027494996471685           0.001590          168.0  105662.836023   \n",
       "3  0.0  1006670001679961544           0.000013            3.0  237780.114576   \n",
       "4  0.0  1007573308966476713           0.000028            7.0  254084.485745   \n",
       "\n",
       "   auctionsMeanInterval  auctionsMostFreqDay  auctionsStdDevInterval  \\\n",
       "0          19672.477944                  3.0            25426.078244   \n",
       "1          16739.502049                  1.0            24761.609512   \n",
       "2            628.945453                  1.0             4624.605939   \n",
       "3          79260.038192                  3.0            87349.815378   \n",
       "4          36297.783678                  1.0            29939.808375   \n",
       "\n",
       "   clicksAproxFreq  clicksCount   ...     event_wifiFalse  event_wifiTrue  \\\n",
       "0              NaN          NaN   ...                32.0             0.0   \n",
       "1              NaN          NaN   ...                 0.0             2.0   \n",
       "2              NaN          NaN   ...                 9.0            45.0   \n",
       "3              NaN          NaN   ...                 2.0             1.0   \n",
       "4              NaN          NaN   ...                 6.0             0.0   \n",
       "\n",
       "   installs_attributed_false  installs_attributed_true  \\\n",
       "0                        1.0                       0.0   \n",
       "1                        2.0                       0.0   \n",
       "2                        2.0                       0.0   \n",
       "3                        2.0                       0.0   \n",
       "4                        1.0                       0.0   \n",
       "\n",
       "   installs_implicit_false  installs_implicit_true  installs_wifi_false  \\\n",
       "0                      1.0                     0.0                  0.0   \n",
       "1                      1.0                     1.0                  0.0   \n",
       "2                      1.0                     1.0                  0.0   \n",
       "3                      1.0                     1.0                  2.0   \n",
       "4                      1.0                     0.0                  0.0   \n",
       "\n",
       "   installs_wifi_true  installs_wifi_unknown  unknown  \n",
       "0                 0.0                    1.0      0.0  \n",
       "1                 2.0                    0.0      2.0  \n",
       "2                 0.0                    2.0     54.0  \n",
       "3                 0.0                    0.0      3.0  \n",
       "4                 0.0                    1.0      0.0  \n",
       "\n",
       "[5 rows x 82 columns]"
      ]
     },
     "execution_count": 14,
     "metadata": {},
     "output_type": "execute_result"
    }
   ],
   "source": [
    "targetFeatures=targetFeatures.merge(featuresCategorico,on='device_id')\n",
    "targetFeatures.head()"
   ]
  },
  {
   "cell_type": "code",
   "execution_count": 15,
   "metadata": {},
   "outputs": [
    {
     "data": {
      "text/html": [
       "<div>\n",
       "<style scoped>\n",
       "    .dataframe tbody tr th:only-of-type {\n",
       "        vertical-align: middle;\n",
       "    }\n",
       "\n",
       "    .dataframe tbody tr th {\n",
       "        vertical-align: top;\n",
       "    }\n",
       "\n",
       "    .dataframe thead th {\n",
       "        text-align: right;\n",
       "    }\n",
       "</style>\n",
       "<table border=\"1\" class=\"dataframe\">\n",
       "  <thead>\n",
       "    <tr style=\"text-align: right;\">\n",
       "      <th></th>\n",
       "      <th>auctionsAproxFreq</th>\n",
       "      <th>auctionsCount</th>\n",
       "      <th>auctionsLast</th>\n",
       "      <th>auctionsMeanInterval</th>\n",
       "      <th>auctionsMostFreqDay</th>\n",
       "      <th>auctionsStdDevInterval</th>\n",
       "      <th>clicksAproxFreq</th>\n",
       "      <th>clicksCount</th>\n",
       "      <th>clicksLast</th>\n",
       "      <th>clicksMeanInterval</th>\n",
       "      <th>...</th>\n",
       "      <th>event_wifiFalse</th>\n",
       "      <th>event_wifiTrue</th>\n",
       "      <th>installs_attributed_false</th>\n",
       "      <th>installs_attributed_true</th>\n",
       "      <th>installs_implicit_false</th>\n",
       "      <th>installs_implicit_true</th>\n",
       "      <th>installs_wifi_false</th>\n",
       "      <th>installs_wifi_true</th>\n",
       "      <th>installs_wifi_unknown</th>\n",
       "      <th>unknown</th>\n",
       "    </tr>\n",
       "  </thead>\n",
       "  <tbody>\n",
       "    <tr>\n",
       "      <th>0</th>\n",
       "      <td>0.000015</td>\n",
       "      <td>3.0</td>\n",
       "      <td>196173.950039</td>\n",
       "      <td>65391.316680</td>\n",
       "      <td>3.0</td>\n",
       "      <td>113207.422851</td>\n",
       "      <td>NaN</td>\n",
       "      <td>NaN</td>\n",
       "      <td>NaN</td>\n",
       "      <td>NaN</td>\n",
       "      <td>...</td>\n",
       "      <td>11.0</td>\n",
       "      <td>0.0</td>\n",
       "      <td>1.0</td>\n",
       "      <td>0.0</td>\n",
       "      <td>1.0</td>\n",
       "      <td>0.0</td>\n",
       "      <td>0.0</td>\n",
       "      <td>0.0</td>\n",
       "      <td>1.0</td>\n",
       "      <td>10.0</td>\n",
       "    </tr>\n",
       "    <tr>\n",
       "      <th>1</th>\n",
       "      <td>0.000027</td>\n",
       "      <td>3.0</td>\n",
       "      <td>109773.950039</td>\n",
       "      <td>36591.316680</td>\n",
       "      <td>2.0</td>\n",
       "      <td>63324.361119</td>\n",
       "      <td>NaN</td>\n",
       "      <td>NaN</td>\n",
       "      <td>NaN</td>\n",
       "      <td>NaN</td>\n",
       "      <td>...</td>\n",
       "      <td>11.0</td>\n",
       "      <td>0.0</td>\n",
       "      <td>1.0</td>\n",
       "      <td>0.0</td>\n",
       "      <td>1.0</td>\n",
       "      <td>0.0</td>\n",
       "      <td>0.0</td>\n",
       "      <td>0.0</td>\n",
       "      <td>1.0</td>\n",
       "      <td>10.0</td>\n",
       "    </tr>\n",
       "    <tr>\n",
       "      <th>2</th>\n",
       "      <td>0.000128</td>\n",
       "      <td>3.0</td>\n",
       "      <td>23373.950039</td>\n",
       "      <td>7791.316680</td>\n",
       "      <td>1.0</td>\n",
       "      <td>13441.310709</td>\n",
       "      <td>NaN</td>\n",
       "      <td>NaN</td>\n",
       "      <td>NaN</td>\n",
       "      <td>NaN</td>\n",
       "      <td>...</td>\n",
       "      <td>11.0</td>\n",
       "      <td>0.0</td>\n",
       "      <td>1.0</td>\n",
       "      <td>0.0</td>\n",
       "      <td>1.0</td>\n",
       "      <td>0.0</td>\n",
       "      <td>0.0</td>\n",
       "      <td>0.0</td>\n",
       "      <td>1.0</td>\n",
       "      <td>10.0</td>\n",
       "    </tr>\n",
       "    <tr>\n",
       "      <th>3</th>\n",
       "      <td>NaN</td>\n",
       "      <td>NaN</td>\n",
       "      <td>NaN</td>\n",
       "      <td>NaN</td>\n",
       "      <td>NaN</td>\n",
       "      <td>NaN</td>\n",
       "      <td>NaN</td>\n",
       "      <td>NaN</td>\n",
       "      <td>NaN</td>\n",
       "      <td>NaN</td>\n",
       "      <td>...</td>\n",
       "      <td>11.0</td>\n",
       "      <td>0.0</td>\n",
       "      <td>1.0</td>\n",
       "      <td>0.0</td>\n",
       "      <td>1.0</td>\n",
       "      <td>0.0</td>\n",
       "      <td>0.0</td>\n",
       "      <td>0.0</td>\n",
       "      <td>1.0</td>\n",
       "      <td>10.0</td>\n",
       "    </tr>\n",
       "    <tr>\n",
       "      <th>4</th>\n",
       "      <td>0.000043</td>\n",
       "      <td>8.0</td>\n",
       "      <td>186198.308893</td>\n",
       "      <td>23274.788612</td>\n",
       "      <td>2.0</td>\n",
       "      <td>27735.809750</td>\n",
       "      <td>NaN</td>\n",
       "      <td>NaN</td>\n",
       "      <td>NaN</td>\n",
       "      <td>NaN</td>\n",
       "      <td>...</td>\n",
       "      <td>NaN</td>\n",
       "      <td>NaN</td>\n",
       "      <td>NaN</td>\n",
       "      <td>NaN</td>\n",
       "      <td>NaN</td>\n",
       "      <td>NaN</td>\n",
       "      <td>NaN</td>\n",
       "      <td>NaN</td>\n",
       "      <td>NaN</td>\n",
       "      <td>NaN</td>\n",
       "    </tr>\n",
       "  </tbody>\n",
       "</table>\n",
       "<p>5 rows × 83 columns</p>\n",
       "</div>"
      ],
      "text/plain": [
       "   auctionsAproxFreq  auctionsCount   auctionsLast  auctionsMeanInterval  \\\n",
       "0           0.000015            3.0  196173.950039          65391.316680   \n",
       "1           0.000027            3.0  109773.950039          36591.316680   \n",
       "2           0.000128            3.0   23373.950039           7791.316680   \n",
       "3                NaN            NaN            NaN                   NaN   \n",
       "4           0.000043            8.0  186198.308893          23274.788612   \n",
       "\n",
       "   auctionsMostFreqDay  auctionsStdDevInterval  clicksAproxFreq  clicksCount  \\\n",
       "0                  3.0           113207.422851              NaN          NaN   \n",
       "1                  2.0            63324.361119              NaN          NaN   \n",
       "2                  1.0            13441.310709              NaN          NaN   \n",
       "3                  NaN                     NaN              NaN          NaN   \n",
       "4                  2.0            27735.809750              NaN          NaN   \n",
       "\n",
       "   clicksLast  clicksMeanInterval   ...     event_wifiFalse  event_wifiTrue  \\\n",
       "0         NaN                 NaN   ...                11.0             0.0   \n",
       "1         NaN                 NaN   ...                11.0             0.0   \n",
       "2         NaN                 NaN   ...                11.0             0.0   \n",
       "3         NaN                 NaN   ...                11.0             0.0   \n",
       "4         NaN                 NaN   ...                 NaN             NaN   \n",
       "\n",
       "  installs_attributed_false  installs_attributed_true  \\\n",
       "0                       1.0                       0.0   \n",
       "1                       1.0                       0.0   \n",
       "2                       1.0                       0.0   \n",
       "3                       1.0                       0.0   \n",
       "4                       NaN                       NaN   \n",
       "\n",
       "   installs_implicit_false  installs_implicit_true  installs_wifi_false  \\\n",
       "0                      1.0                     0.0                  0.0   \n",
       "1                      1.0                     0.0                  0.0   \n",
       "2                      1.0                     0.0                  0.0   \n",
       "3                      1.0                     0.0                  0.0   \n",
       "4                      NaN                     NaN                  NaN   \n",
       "\n",
       "   installs_wifi_true  installs_wifi_unknown  unknown  \n",
       "0                 0.0                    1.0     10.0  \n",
       "1                 0.0                    1.0     10.0  \n",
       "2                 0.0                    1.0     10.0  \n",
       "3                 0.0                    1.0     10.0  \n",
       "4                 NaN                    NaN      NaN  \n",
       "\n",
       "[5 rows x 83 columns]"
      ]
     },
     "execution_count": 15,
     "metadata": {},
     "output_type": "execute_result"
    }
   ],
   "source": [
    "features['device_id2']=features['device_id'].str[:-2]\n",
    "features=features.merge(featuresCategorico,left_on='device_id2',right_on='device_id')\n",
    "features.head()"
   ]
  },
  {
   "cell_type": "code",
   "execution_count": null,
   "metadata": {},
   "outputs": [],
   "source": []
  },
  {
   "cell_type": "code",
   "execution_count": 16,
   "metadata": {},
   "outputs": [],
   "source": [
    "targetFeatures=targetFeatures.fillna(0)\n",
    "targetFeatures.loc[targetFeatures['installsAproxFreq'] == float('inf'), 'installsAproxFreq'] = 0\n",
    "targetFeatures=targetFeatures.drop(['device_id','obj'],axis=1)\n",
    "targetFeatures=targetFeatures.transform(lambda x: (x-x.mean())/x.std())"
   ]
  },
  {
   "cell_type": "code",
   "execution_count": 17,
   "metadata": {},
   "outputs": [],
   "source": [
    "features=features.fillna(0)\n",
    "features.loc[features['installsAproxFreq'] == float('inf'), 'installsAproxFreq'] = 0\n",
    "features=features.drop(['device_id_x','device_id_y','device_id2'],axis=1)\n",
    "features=features.transform(lambda x: (x-x.mean())/x.std())"
   ]
  },
  {
   "cell_type": "code",
   "execution_count": 18,
   "metadata": {},
   "outputs": [],
   "source": [
    "targetFeatures=targetFeatures.fillna(0)"
   ]
  },
  {
   "cell_type": "code",
   "execution_count": null,
   "metadata": {},
   "outputs": [],
   "source": []
  },
  {
   "cell_type": "markdown",
   "metadata": {},
   "source": [
    "Prediccion ST"
   ]
  },
  {
   "cell_type": "code",
   "execution_count": 19,
   "metadata": {},
   "outputs": [],
   "source": [
    "labelsST=labels['st']"
   ]
  },
  {
   "cell_type": "code",
   "execution_count": 20,
   "metadata": {},
   "outputs": [
    {
     "data": {
      "text/plain": [
       "0    259200.000000\n",
       "1    259200.000000\n",
       "2    184052.302630\n",
       "3     97652.302630\n",
       "4     24628.726364\n",
       "Name: st, dtype: float64"
      ]
     },
     "execution_count": 20,
     "metadata": {},
     "output_type": "execute_result"
    }
   ],
   "source": [
    "labelsST.head()"
   ]
  },
  {
   "cell_type": "code",
   "execution_count": 21,
   "metadata": {},
   "outputs": [],
   "source": [
    "X = features\n",
    "#X = X.drop('device_id', axis=1)\n",
    "y = labelsST"
   ]
  },
  {
   "cell_type": "code",
   "execution_count": 22,
   "metadata": {
    "scrolled": true
   },
   "outputs": [],
   "source": [
    "from sklearn.linear_model import Ridge\n",
    "RidgeModel=Ridge(alpha=0.1)\n",
    "RidgeModel.fit(X,y)\n",
    "ridge_predictST=RidgeModel.predict(targetFeatures)"
   ]
  },
  {
   "cell_type": "code",
   "execution_count": 23,
   "metadata": {},
   "outputs": [],
   "source": [
    "from sklearn import linear_model\n",
    "lasso = linear_model.Lasso(alpha=0.1,positive=True)\n",
    "lasso.fit(X,y)  \n",
    "lasso_predictST=lasso.predict(targetFeatures)"
   ]
  },
  {
   "cell_type": "code",
   "execution_count": 24,
   "metadata": {},
   "outputs": [],
   "source": [
    "from sklearn.linear_model import ElasticNet\n",
    "ElasticNet = ElasticNet(random_state=0)\n",
    "ElasticNet.fit(X, y)\n",
    "Elastic_predictST=ElasticNet.predict(targetFeatures)"
   ]
  },
  {
   "cell_type": "code",
   "execution_count": null,
   "metadata": {},
   "outputs": [],
   "source": [
    "#from sklearn.metrics import mean_squared_error\n",
    "#mean_squared_error(y_test, ridge_predict)"
   ]
  },
  {
   "cell_type": "code",
   "execution_count": 25,
   "metadata": {},
   "outputs": [
    {
     "data": {
      "text/plain": [
       "0     71760.964608\n",
       "1     76468.100749\n",
       "2    174678.070429\n",
       "3    125717.355098\n",
       "4     85427.017427\n",
       "dtype: float64"
      ]
     },
     "execution_count": 25,
     "metadata": {},
     "output_type": "execute_result"
    }
   ],
   "source": [
    "pd.Series(ridge_predictST).head()"
   ]
  },
  {
   "cell_type": "code",
   "execution_count": 26,
   "metadata": {},
   "outputs": [
    {
     "data": {
      "text/plain": [
       "0    151471.212196\n",
       "1    120596.255486\n",
       "2    161954.509836\n",
       "3    128413.117208\n",
       "4    122623.863453\n",
       "dtype: float64"
      ]
     },
     "execution_count": 26,
     "metadata": {},
     "output_type": "execute_result"
    }
   ],
   "source": [
    "pd.Series(lasso_predictST).head()"
   ]
  },
  {
   "cell_type": "code",
   "execution_count": 27,
   "metadata": {},
   "outputs": [
    {
     "data": {
      "text/plain": [
       "0    102150.449858\n",
       "1    121842.802954\n",
       "2    169099.278552\n",
       "3    122958.292789\n",
       "4    127622.270249\n",
       "dtype: float64"
      ]
     },
     "execution_count": 27,
     "metadata": {},
     "output_type": "execute_result"
    }
   ],
   "source": [
    "pd.Series(Elastic_predictST).head()"
   ]
  },
  {
   "cell_type": "code",
   "execution_count": null,
   "metadata": {},
   "outputs": [],
   "source": []
  },
  {
   "cell_type": "code",
   "execution_count": null,
   "metadata": {},
   "outputs": [],
   "source": []
  },
  {
   "cell_type": "markdown",
   "metadata": {},
   "source": [
    "Predicciones SC"
   ]
  },
  {
   "cell_type": "code",
   "execution_count": 28,
   "metadata": {},
   "outputs": [],
   "source": [
    "labelsSC=labels['sc']"
   ]
  },
  {
   "cell_type": "code",
   "execution_count": 29,
   "metadata": {},
   "outputs": [],
   "source": [
    "X = features\n",
    "#X = X.drop('device_id', axis=1)\n",
    "y = labelsSC"
   ]
  },
  {
   "cell_type": "code",
   "execution_count": 30,
   "metadata": {},
   "outputs": [],
   "source": [
    "from sklearn.linear_model import Ridge\n",
    "RidgeModel=Ridge(alpha=0.1)\n",
    "RidgeModel.fit(X,y)\n",
    "ridge_predictSC=RidgeModel.predict(targetFeatures)"
   ]
  },
  {
   "cell_type": "code",
   "execution_count": 31,
   "metadata": {},
   "outputs": [
    {
     "name": "stderr",
     "output_type": "stream",
     "text": [
      "/home/nicolas/.local/lib/python2.7/site-packages/sklearn/linear_model/coordinate_descent.py:492: ConvergenceWarning: Objective did not converge. You might want to increase the number of iterations. Fitting data with very small alpha may cause precision problems.\n",
      "  ConvergenceWarning)\n"
     ]
    }
   ],
   "source": [
    "from sklearn import linear_model\n",
    "lasso = linear_model.Lasso(alpha=0.1)\n",
    "lasso.fit(X,y)  \n",
    "lasso_predictSC=lasso.predict(targetFeatures)"
   ]
  },
  {
   "cell_type": "code",
   "execution_count": 32,
   "metadata": {},
   "outputs": [],
   "source": [
    "from sklearn.linear_model import ElasticNet\n",
    "ElasticNet = ElasticNet(random_state=0)\n",
    "ElasticNet.fit(X, y)\n",
    "Elastic_predictSC=ElasticNet.predict(targetFeatures)"
   ]
  },
  {
   "cell_type": "code",
   "execution_count": 33,
   "metadata": {},
   "outputs": [],
   "source": [
    "#from sklearn.metrics import mean_squared_error\n",
    "#mean_squared_error(y_test, ridge_predict)"
   ]
  },
  {
   "cell_type": "code",
   "execution_count": 34,
   "metadata": {},
   "outputs": [
    {
     "data": {
      "text/plain": [
       "0    231355.254055\n",
       "1    206310.922957\n",
       "2    210046.095527\n",
       "3    205457.307333\n",
       "4    230061.066149\n",
       "dtype: float64"
      ]
     },
     "execution_count": 34,
     "metadata": {},
     "output_type": "execute_result"
    }
   ],
   "source": [
    "pd.Series(ridge_predictSC).head()"
   ]
  },
  {
   "cell_type": "code",
   "execution_count": 35,
   "metadata": {},
   "outputs": [
    {
     "data": {
      "text/plain": [
       "0    234143.571444\n",
       "1    200624.749989\n",
       "2    204441.588592\n",
       "3    198698.416077\n",
       "4    232927.817434\n",
       "dtype: float64"
      ]
     },
     "execution_count": 35,
     "metadata": {},
     "output_type": "execute_result"
    }
   ],
   "source": [
    "pd.Series(lasso_predictSC).head()"
   ]
  },
  {
   "cell_type": "code",
   "execution_count": 36,
   "metadata": {},
   "outputs": [
    {
     "data": {
      "text/plain": [
       "0    235241.884107\n",
       "1    218970.415574\n",
       "2    222333.931224\n",
       "3    217138.257486\n",
       "4    234846.760190\n",
       "dtype: float64"
      ]
     },
     "execution_count": 36,
     "metadata": {},
     "output_type": "execute_result"
    }
   ],
   "source": [
    "pd.Series(Elastic_predictSC).head()"
   ]
  },
  {
   "cell_type": "code",
   "execution_count": null,
   "metadata": {},
   "outputs": [],
   "source": []
  },
  {
   "cell_type": "code",
   "execution_count": null,
   "metadata": {},
   "outputs": [],
   "source": []
  },
  {
   "cell_type": "code",
   "execution_count": null,
   "metadata": {},
   "outputs": [],
   "source": []
  },
  {
   "cell_type": "code",
   "execution_count": 37,
   "metadata": {},
   "outputs": [],
   "source": [
    "def funcionMistica(lista1,lista2,lista3):\n",
    "    a=[]\n",
    "    for i in range(len(lista1)):\n",
    "        a.append((str(lista3[i])+'_st',lista1[i]))\n",
    "        a.append((str(lista3[i])+'_sc',lista2[i]))\n",
    "    return a"
   ]
  },
  {
   "cell_type": "code",
   "execution_count": 38,
   "metadata": {},
   "outputs": [],
   "source": [
    "prediccionesRidge=pd.DataFrame(funcionMistica(abs(ridge_predictST),abs(ridge_predictSC),list(target['device_id'])))#.to_csv('data/prediccionesConcat.csv',index=False)\n",
    "prediccionesRidge=prediccionesRidge.rename(columns={0:'ref_hash',1:'obj'})\n",
    "prediccionesRidge.to_csv('data/prediccionesRidge.csv',index=False)"
   ]
  },
  {
   "cell_type": "code",
   "execution_count": 39,
   "metadata": {},
   "outputs": [],
   "source": [
    "prediccionesLasso=pd.DataFrame(funcionMistica(abs(lasso_predictST),abs(lasso_predictSC),list(target['device_id'])))\n",
    "prediccionesLasso=prediccionesLasso.rename(columns={0:'ref_hash',1:'obj'})\n",
    "prediccionesLasso.to_csv('data/prediccionesLasso.csv',index=False)"
   ]
  },
  {
   "cell_type": "code",
   "execution_count": 40,
   "metadata": {},
   "outputs": [],
   "source": [
    "prediccionesElastic=pd.DataFrame(funcionMistica(abs(Elastic_predictST),abs(Elastic_predictSC),list(target['device_id'])))\n",
    "prediccionesElastic=prediccionesElastic.rename(columns={0:'ref_hash',1:'obj'})\n",
    "prediccionesElastic.to_csv('data/prediccionesElastic.csv',index=False)"
   ]
  },
  {
   "cell_type": "code",
   "execution_count": null,
   "metadata": {},
   "outputs": [],
   "source": []
  },
  {
   "cell_type": "code",
   "execution_count": null,
   "metadata": {},
   "outputs": [],
   "source": []
  },
  {
   "cell_type": "code",
   "execution_count": 41,
   "metadata": {},
   "outputs": [
    {
     "data": {
      "text/html": [
       "<div>\n",
       "<style scoped>\n",
       "    .dataframe tbody tr th:only-of-type {\n",
       "        vertical-align: middle;\n",
       "    }\n",
       "\n",
       "    .dataframe tbody tr th {\n",
       "        vertical-align: top;\n",
       "    }\n",
       "\n",
       "    .dataframe thead th {\n",
       "        text-align: right;\n",
       "    }\n",
       "</style>\n",
       "<table border=\"1\" class=\"dataframe\">\n",
       "  <thead>\n",
       "    <tr style=\"text-align: right;\">\n",
       "      <th></th>\n",
       "      <th>ref_hash</th>\n",
       "      <th>obj</th>\n",
       "    </tr>\n",
       "  </thead>\n",
       "  <tbody>\n",
       "    <tr>\n",
       "      <th>0</th>\n",
       "      <td>1000169251625791246_st</td>\n",
       "      <td>71760.964608</td>\n",
       "    </tr>\n",
       "    <tr>\n",
       "      <th>1</th>\n",
       "      <td>1000169251625791246_sc</td>\n",
       "      <td>231355.254055</td>\n",
       "    </tr>\n",
       "    <tr>\n",
       "      <th>2</th>\n",
       "      <td>1000395625957344683_st</td>\n",
       "      <td>76468.100749</td>\n",
       "    </tr>\n",
       "    <tr>\n",
       "      <th>3</th>\n",
       "      <td>1000395625957344683_sc</td>\n",
       "      <td>206310.922957</td>\n",
       "    </tr>\n",
       "    <tr>\n",
       "      <th>4</th>\n",
       "      <td>1003027494996471685_st</td>\n",
       "      <td>174678.070429</td>\n",
       "    </tr>\n",
       "  </tbody>\n",
       "</table>\n",
       "</div>"
      ],
      "text/plain": [
       "                 ref_hash            obj\n",
       "0  1000169251625791246_st   71760.964608\n",
       "1  1000169251625791246_sc  231355.254055\n",
       "2  1000395625957344683_st   76468.100749\n",
       "3  1000395625957344683_sc  206310.922957\n",
       "4  1003027494996471685_st  174678.070429"
      ]
     },
     "execution_count": 41,
     "metadata": {},
     "output_type": "execute_result"
    }
   ],
   "source": [
    "prediccionesRidge.head()"
   ]
  },
  {
   "cell_type": "code",
   "execution_count": 42,
   "metadata": {},
   "outputs": [
    {
     "data": {
      "text/html": [
       "<div>\n",
       "<style scoped>\n",
       "    .dataframe tbody tr th:only-of-type {\n",
       "        vertical-align: middle;\n",
       "    }\n",
       "\n",
       "    .dataframe tbody tr th {\n",
       "        vertical-align: top;\n",
       "    }\n",
       "\n",
       "    .dataframe thead th {\n",
       "        text-align: right;\n",
       "    }\n",
       "</style>\n",
       "<table border=\"1\" class=\"dataframe\">\n",
       "  <thead>\n",
       "    <tr style=\"text-align: right;\">\n",
       "      <th></th>\n",
       "      <th>ref_hash</th>\n",
       "      <th>obj</th>\n",
       "    </tr>\n",
       "  </thead>\n",
       "  <tbody>\n",
       "    <tr>\n",
       "      <th>0</th>\n",
       "      <td>1000169251625791246_st</td>\n",
       "      <td>151471.212196</td>\n",
       "    </tr>\n",
       "    <tr>\n",
       "      <th>1</th>\n",
       "      <td>1000169251625791246_sc</td>\n",
       "      <td>234143.571444</td>\n",
       "    </tr>\n",
       "    <tr>\n",
       "      <th>2</th>\n",
       "      <td>1000395625957344683_st</td>\n",
       "      <td>120596.255486</td>\n",
       "    </tr>\n",
       "    <tr>\n",
       "      <th>3</th>\n",
       "      <td>1000395625957344683_sc</td>\n",
       "      <td>200624.749989</td>\n",
       "    </tr>\n",
       "    <tr>\n",
       "      <th>4</th>\n",
       "      <td>1003027494996471685_st</td>\n",
       "      <td>161954.509836</td>\n",
       "    </tr>\n",
       "  </tbody>\n",
       "</table>\n",
       "</div>"
      ],
      "text/plain": [
       "                 ref_hash            obj\n",
       "0  1000169251625791246_st  151471.212196\n",
       "1  1000169251625791246_sc  234143.571444\n",
       "2  1000395625957344683_st  120596.255486\n",
       "3  1000395625957344683_sc  200624.749989\n",
       "4  1003027494996471685_st  161954.509836"
      ]
     },
     "execution_count": 42,
     "metadata": {},
     "output_type": "execute_result"
    }
   ],
   "source": [
    "prediccionesLasso.head()"
   ]
  },
  {
   "cell_type": "code",
   "execution_count": 43,
   "metadata": {},
   "outputs": [
    {
     "data": {
      "text/html": [
       "<div>\n",
       "<style scoped>\n",
       "    .dataframe tbody tr th:only-of-type {\n",
       "        vertical-align: middle;\n",
       "    }\n",
       "\n",
       "    .dataframe tbody tr th {\n",
       "        vertical-align: top;\n",
       "    }\n",
       "\n",
       "    .dataframe thead th {\n",
       "        text-align: right;\n",
       "    }\n",
       "</style>\n",
       "<table border=\"1\" class=\"dataframe\">\n",
       "  <thead>\n",
       "    <tr style=\"text-align: right;\">\n",
       "      <th></th>\n",
       "      <th>ref_hash</th>\n",
       "      <th>obj</th>\n",
       "    </tr>\n",
       "  </thead>\n",
       "  <tbody>\n",
       "    <tr>\n",
       "      <th>0</th>\n",
       "      <td>1000169251625791246_st</td>\n",
       "      <td>102150.449858</td>\n",
       "    </tr>\n",
       "    <tr>\n",
       "      <th>1</th>\n",
       "      <td>1000169251625791246_sc</td>\n",
       "      <td>235241.884107</td>\n",
       "    </tr>\n",
       "    <tr>\n",
       "      <th>2</th>\n",
       "      <td>1000395625957344683_st</td>\n",
       "      <td>121842.802954</td>\n",
       "    </tr>\n",
       "    <tr>\n",
       "      <th>3</th>\n",
       "      <td>1000395625957344683_sc</td>\n",
       "      <td>218970.415574</td>\n",
       "    </tr>\n",
       "    <tr>\n",
       "      <th>4</th>\n",
       "      <td>1003027494996471685_st</td>\n",
       "      <td>169099.278552</td>\n",
       "    </tr>\n",
       "  </tbody>\n",
       "</table>\n",
       "</div>"
      ],
      "text/plain": [
       "                 ref_hash            obj\n",
       "0  1000169251625791246_st  102150.449858\n",
       "1  1000169251625791246_sc  235241.884107\n",
       "2  1000395625957344683_st  121842.802954\n",
       "3  1000395625957344683_sc  218970.415574\n",
       "4  1003027494996471685_st  169099.278552"
      ]
     },
     "execution_count": 43,
     "metadata": {},
     "output_type": "execute_result"
    }
   ],
   "source": [
    "prediccionesElastic.head()"
   ]
  },
  {
   "cell_type": "code",
   "execution_count": null,
   "metadata": {},
   "outputs": [],
   "source": []
  },
  {
   "cell_type": "code",
   "execution_count": 44,
   "metadata": {},
   "outputs": [],
   "source": [
    "prediccionesTotal=prediccionesRidge.merge(prediccionesLasso,on='ref_hash')\n",
    "prediccionesTotal=prediccionesTotal.merge(prediccionesElastic,on='ref_hash')"
   ]
  },
  {
   "cell_type": "code",
   "execution_count": 45,
   "metadata": {},
   "outputs": [
    {
     "data": {
      "text/html": [
       "<div>\n",
       "<style scoped>\n",
       "    .dataframe tbody tr th:only-of-type {\n",
       "        vertical-align: middle;\n",
       "    }\n",
       "\n",
       "    .dataframe tbody tr th {\n",
       "        vertical-align: top;\n",
       "    }\n",
       "\n",
       "    .dataframe thead th {\n",
       "        text-align: right;\n",
       "    }\n",
       "</style>\n",
       "<table border=\"1\" class=\"dataframe\">\n",
       "  <thead>\n",
       "    <tr style=\"text-align: right;\">\n",
       "      <th></th>\n",
       "      <th>ref_hash</th>\n",
       "      <th>obj</th>\n",
       "    </tr>\n",
       "  </thead>\n",
       "  <tbody>\n",
       "    <tr>\n",
       "      <th>0</th>\n",
       "      <td>1000169251625791246_st</td>\n",
       "      <td>108460.875554</td>\n",
       "    </tr>\n",
       "    <tr>\n",
       "      <th>1</th>\n",
       "      <td>1000169251625791246_sc</td>\n",
       "      <td>233580.236535</td>\n",
       "    </tr>\n",
       "    <tr>\n",
       "      <th>2</th>\n",
       "      <td>1000395625957344683_st</td>\n",
       "      <td>106302.386396</td>\n",
       "    </tr>\n",
       "    <tr>\n",
       "      <th>3</th>\n",
       "      <td>1000395625957344683_sc</td>\n",
       "      <td>208635.362840</td>\n",
       "    </tr>\n",
       "    <tr>\n",
       "      <th>4</th>\n",
       "      <td>1003027494996471685_st</td>\n",
       "      <td>168577.286272</td>\n",
       "    </tr>\n",
       "  </tbody>\n",
       "</table>\n",
       "</div>"
      ],
      "text/plain": [
       "                 ref_hash            obj\n",
       "0  1000169251625791246_st  108460.875554\n",
       "1  1000169251625791246_sc  233580.236535\n",
       "2  1000395625957344683_st  106302.386396\n",
       "3  1000395625957344683_sc  208635.362840\n",
       "4  1003027494996471685_st  168577.286272"
      ]
     },
     "execution_count": 45,
     "metadata": {},
     "output_type": "execute_result"
    }
   ],
   "source": [
    "prediccionesTotal['objt']=(prediccionesTotal['obj_x']+prediccionesTotal['obj_y']+prediccionesTotal['obj'])/3\n",
    "prediccionesTotal=prediccionesTotal.drop(['obj_x','obj_y','obj'],axis=1)\n",
    "prediccionesTotal=prediccionesTotal.rename(columns={'objt':'obj'})\n",
    "prediccionesTotal.head()"
   ]
  },
  {
   "cell_type": "code",
   "execution_count": 46,
   "metadata": {},
   "outputs": [],
   "source": [
    "prediccionesTotal.to_csv('data/prediccionesTotal.csv',index=False)"
   ]
  },
  {
   "cell_type": "code",
   "execution_count": null,
   "metadata": {},
   "outputs": [],
   "source": []
  },
  {
   "cell_type": "code",
   "execution_count": null,
   "metadata": {},
   "outputs": [],
   "source": []
  },
  {
   "cell_type": "code",
   "execution_count": null,
   "metadata": {},
   "outputs": [],
   "source": []
  }
 ],
 "metadata": {
  "kernelspec": {
   "display_name": "Python 2",
   "language": "python",
   "name": "python2"
  },
  "language_info": {
   "codemirror_mode": {
    "name": "ipython",
    "version": 2
   },
   "file_extension": ".py",
   "mimetype": "text/x-python",
   "name": "python",
   "nbconvert_exporter": "python",
   "pygments_lexer": "ipython2",
   "version": "2.7.15rc1"
  }
 },
 "nbformat": 4,
 "nbformat_minor": 2
}
