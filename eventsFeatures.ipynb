{
 "cells": [
  {
   "cell_type": "code",
   "execution_count": 1,
   "metadata": {},
   "outputs": [],
   "source": [
    "import pandas as pd"
   ]
  },
  {
   "cell_type": "markdown",
   "metadata": {},
   "source": [
    "Trabajo en el siguiente rango de dias:"
   ]
  },
  {
   "cell_type": "code",
   "execution_count": 2,
   "metadata": {},
   "outputs": [],
   "source": [
    "firstDay = pd.Timestamp(2019, 4, 24)\n",
    "lastDay = pd.Timestamp(2019, 4, 27)"
   ]
  },
  {
   "cell_type": "markdown",
   "metadata": {},
   "source": [
    "Los datos son los siguientes"
   ]
  },
  {
   "cell_type": "code",
   "execution_count": 3,
   "metadata": {},
   "outputs": [],
   "source": [
    "location = 'data/'\n",
    "eventsFile = location + 'events.csv'"
   ]
  },
  {
   "cell_type": "markdown",
   "metadata": {},
   "source": [
    "Cargo los datos de los primeros 3 dias"
   ]
  },
  {
   "cell_type": "code",
   "execution_count": 4,
   "metadata": {},
   "outputs": [],
   "source": [
    "dtype = {\n",
    "    'date': 'str',\n",
    "    'event_id': 'int8',\n",
    "    'ref_type': 'category',\n",
    "    'ref_hash': 'int64',\n",
    "    'application_id': 'int64',\n",
    "    'attributed': 'bool',\n",
    "    'device_os_version': 'float64',\n",
    "    'device_brand': 'float64',\n",
    "    'device_model': 'float64',\n",
    "    'device_city': 'float64',\n",
    "    'session_user_agent': 'float64',\n",
    "    'trans_id': 'str',\n",
    "    'user_agent': 'float64',\n",
    "    'event_uuid': 'str',\n",
    "    'carrier': 'float64',\n",
    "    'kind': 'float64',\n",
    "    'device_os': 'category',\n",
    "    'wifi': 'bool',\n",
    "    'connection_type': 'category',\n",
    "    'ip_address': 'int64',\n",
    "    'device_language': 'category'\n",
    "}"
   ]
  },
  {
   "cell_type": "code",
   "execution_count": 5,
   "metadata": {},
   "outputs": [],
   "source": [
    "chunksize = 50000"
   ]
  },
  {
   "cell_type": "code",
   "execution_count": 6,
   "metadata": {},
   "outputs": [],
   "source": [
    "eventsIterator = pd.read_csv(eventsFile, usecols=dtype.keys(), dtype=dtype, parse_dates=['date'], chunksize=chunksize)"
   ]
  },
  {
   "cell_type": "code",
   "execution_count": 7,
   "metadata": {},
   "outputs": [],
   "source": [
    "events = pd.DataFrame()\n",
    "for chunk in eventsIterator:\n",
    "    chunkIsInDateInterval = (chunk['date'] >= firstDay) & (chunk['date'] < lastDay)\n",
    "    events = pd.concat([events, chunk[chunkIsInDateInterval]], sort=False)"
   ]
  },
  {
   "cell_type": "code",
   "execution_count": 8,
   "metadata": {},
   "outputs": [],
   "source": [
    "events['seconds'] = (events['date'] - firstDay).dt.total_seconds()\n",
    "events['day'] = events['date'].dt.day - firstDay.day + 1"
   ]
  },
  {
   "cell_type": "code",
   "execution_count": 9,
   "metadata": {},
   "outputs": [],
   "source": [
    "events = events.rename(columns={'ref_hash': 'device_id'})"
   ]
  },
  {
   "cell_type": "code",
   "execution_count": 10,
   "metadata": {
    "scrolled": false
   },
   "outputs": [
    {
     "data": {
      "text/html": [
       "<div>\n",
       "<style scoped>\n",
       "    .dataframe tbody tr th:only-of-type {\n",
       "        vertical-align: middle;\n",
       "    }\n",
       "\n",
       "    .dataframe tbody tr th {\n",
       "        vertical-align: top;\n",
       "    }\n",
       "\n",
       "    .dataframe thead th {\n",
       "        text-align: right;\n",
       "    }\n",
       "</style>\n",
       "<table border=\"1\" class=\"dataframe\">\n",
       "  <thead>\n",
       "    <tr style=\"text-align: right;\">\n",
       "      <th></th>\n",
       "      <th>date</th>\n",
       "      <th>event_id</th>\n",
       "      <th>ref_type</th>\n",
       "      <th>device_id</th>\n",
       "      <th>application_id</th>\n",
       "      <th>attributed</th>\n",
       "      <th>device_os_version</th>\n",
       "      <th>device_brand</th>\n",
       "      <th>device_model</th>\n",
       "      <th>device_city</th>\n",
       "      <th>...</th>\n",
       "      <th>event_uuid</th>\n",
       "      <th>carrier</th>\n",
       "      <th>kind</th>\n",
       "      <th>device_os</th>\n",
       "      <th>wifi</th>\n",
       "      <th>connection_type</th>\n",
       "      <th>ip_address</th>\n",
       "      <th>device_language</th>\n",
       "      <th>seconds</th>\n",
       "      <th>day</th>\n",
       "    </tr>\n",
       "  </thead>\n",
       "  <tbody>\n",
       "    <tr>\n",
       "      <th>3015</th>\n",
       "      <td>2019-04-25 21:25:34.650</td>\n",
       "      <td>1</td>\n",
       "      <td>1891515180541284343</td>\n",
       "      <td>809939361959643854</td>\n",
       "      <td>210</td>\n",
       "      <td>False</td>\n",
       "      <td>NaN</td>\n",
       "      <td>NaN</td>\n",
       "      <td>NaN</td>\n",
       "      <td>NaN</td>\n",
       "      <td>...</td>\n",
       "      <td>eb50de22-8c0f-42e3-85c2-fb6c54782bd6</td>\n",
       "      <td>NaN</td>\n",
       "      <td>4.017674e+18</td>\n",
       "      <td>NaN</td>\n",
       "      <td>False</td>\n",
       "      <td>NaN</td>\n",
       "      <td>151684593053252001</td>\n",
       "      <td>NaN</td>\n",
       "      <td>163534.650</td>\n",
       "      <td>2</td>\n",
       "    </tr>\n",
       "    <tr>\n",
       "      <th>3016</th>\n",
       "      <td>2019-04-25 21:25:33.165</td>\n",
       "      <td>1</td>\n",
       "      <td>1891515180541284343</td>\n",
       "      <td>2704332589081852700</td>\n",
       "      <td>210</td>\n",
       "      <td>False</td>\n",
       "      <td>NaN</td>\n",
       "      <td>NaN</td>\n",
       "      <td>NaN</td>\n",
       "      <td>NaN</td>\n",
       "      <td>...</td>\n",
       "      <td>fc0e2e76-475d-4d60-bc0e-86070792a44b</td>\n",
       "      <td>NaN</td>\n",
       "      <td>4.017674e+18</td>\n",
       "      <td>NaN</td>\n",
       "      <td>False</td>\n",
       "      <td>NaN</td>\n",
       "      <td>6918006307204159217</td>\n",
       "      <td>NaN</td>\n",
       "      <td>163533.165</td>\n",
       "      <td>2</td>\n",
       "    </tr>\n",
       "    <tr>\n",
       "      <th>3017</th>\n",
       "      <td>2019-04-25 21:25:33.097</td>\n",
       "      <td>1</td>\n",
       "      <td>1891515180541284343</td>\n",
       "      <td>2704332589081852700</td>\n",
       "      <td>210</td>\n",
       "      <td>False</td>\n",
       "      <td>NaN</td>\n",
       "      <td>NaN</td>\n",
       "      <td>NaN</td>\n",
       "      <td>NaN</td>\n",
       "      <td>...</td>\n",
       "      <td>1113aebd-1ac9-4583-a8d0-9da011013ec9</td>\n",
       "      <td>NaN</td>\n",
       "      <td>4.017674e+18</td>\n",
       "      <td>NaN</td>\n",
       "      <td>False</td>\n",
       "      <td>NaN</td>\n",
       "      <td>6918006307204159217</td>\n",
       "      <td>NaN</td>\n",
       "      <td>163533.097</td>\n",
       "      <td>2</td>\n",
       "    </tr>\n",
       "    <tr>\n",
       "      <th>3018</th>\n",
       "      <td>2019-04-25 21:25:34.227</td>\n",
       "      <td>0</td>\n",
       "      <td>1891515180541284343</td>\n",
       "      <td>6376777580200607439</td>\n",
       "      <td>210</td>\n",
       "      <td>False</td>\n",
       "      <td>NaN</td>\n",
       "      <td>NaN</td>\n",
       "      <td>6.871161e+18</td>\n",
       "      <td>NaN</td>\n",
       "      <td>...</td>\n",
       "      <td>2a348381-848c-4fe4-bd83-48e6c1f8b4d2</td>\n",
       "      <td>NaN</td>\n",
       "      <td>5.882882e+18</td>\n",
       "      <td>NaN</td>\n",
       "      <td>False</td>\n",
       "      <td>NaN</td>\n",
       "      <td>8378906526277633862</td>\n",
       "      <td>3.3013777759776993e+18</td>\n",
       "      <td>163534.227</td>\n",
       "      <td>2</td>\n",
       "    </tr>\n",
       "    <tr>\n",
       "      <th>3019</th>\n",
       "      <td>2019-04-25 21:17:30.501</td>\n",
       "      <td>1</td>\n",
       "      <td>1891515180541284343</td>\n",
       "      <td>2602532777370559745</td>\n",
       "      <td>210</td>\n",
       "      <td>False</td>\n",
       "      <td>NaN</td>\n",
       "      <td>NaN</td>\n",
       "      <td>NaN</td>\n",
       "      <td>NaN</td>\n",
       "      <td>...</td>\n",
       "      <td>69b4057e-78f3-42c0-988b-9ad6d67613e7</td>\n",
       "      <td>NaN</td>\n",
       "      <td>4.017674e+18</td>\n",
       "      <td>NaN</td>\n",
       "      <td>False</td>\n",
       "      <td>NaN</td>\n",
       "      <td>7090887066466907036</td>\n",
       "      <td>NaN</td>\n",
       "      <td>163050.501</td>\n",
       "      <td>2</td>\n",
       "    </tr>\n",
       "  </tbody>\n",
       "</table>\n",
       "<p>5 rows × 23 columns</p>\n",
       "</div>"
      ],
      "text/plain": [
       "                        date  event_id             ref_type  \\\n",
       "3015 2019-04-25 21:25:34.650         1  1891515180541284343   \n",
       "3016 2019-04-25 21:25:33.165         1  1891515180541284343   \n",
       "3017 2019-04-25 21:25:33.097         1  1891515180541284343   \n",
       "3018 2019-04-25 21:25:34.227         0  1891515180541284343   \n",
       "3019 2019-04-25 21:17:30.501         1  1891515180541284343   \n",
       "\n",
       "                device_id  application_id  attributed  device_os_version  \\\n",
       "3015   809939361959643854             210       False                NaN   \n",
       "3016  2704332589081852700             210       False                NaN   \n",
       "3017  2704332589081852700             210       False                NaN   \n",
       "3018  6376777580200607439             210       False                NaN   \n",
       "3019  2602532777370559745             210       False                NaN   \n",
       "\n",
       "      device_brand  device_model  device_city ...   \\\n",
       "3015           NaN           NaN          NaN ...    \n",
       "3016           NaN           NaN          NaN ...    \n",
       "3017           NaN           NaN          NaN ...    \n",
       "3018           NaN  6.871161e+18          NaN ...    \n",
       "3019           NaN           NaN          NaN ...    \n",
       "\n",
       "                                event_uuid carrier          kind device_os  \\\n",
       "3015  eb50de22-8c0f-42e3-85c2-fb6c54782bd6     NaN  4.017674e+18       NaN   \n",
       "3016  fc0e2e76-475d-4d60-bc0e-86070792a44b     NaN  4.017674e+18       NaN   \n",
       "3017  1113aebd-1ac9-4583-a8d0-9da011013ec9     NaN  4.017674e+18       NaN   \n",
       "3018  2a348381-848c-4fe4-bd83-48e6c1f8b4d2     NaN  5.882882e+18       NaN   \n",
       "3019  69b4057e-78f3-42c0-988b-9ad6d67613e7     NaN  4.017674e+18       NaN   \n",
       "\n",
       "       wifi  connection_type           ip_address         device_language  \\\n",
       "3015  False              NaN   151684593053252001                     NaN   \n",
       "3016  False              NaN  6918006307204159217                     NaN   \n",
       "3017  False              NaN  6918006307204159217                     NaN   \n",
       "3018  False              NaN  8378906526277633862  3.3013777759776993e+18   \n",
       "3019  False              NaN  7090887066466907036                     NaN   \n",
       "\n",
       "         seconds  day  \n",
       "3015  163534.650    2  \n",
       "3016  163533.165    2  \n",
       "3017  163533.097    2  \n",
       "3018  163534.227    2  \n",
       "3019  163050.501    2  \n",
       "\n",
       "[5 rows x 23 columns]"
      ]
     },
     "execution_count": 10,
     "metadata": {},
     "output_type": "execute_result"
    }
   ],
   "source": [
    "events.head()"
   ]
  },
  {
   "cell_type": "code",
   "execution_count": 11,
   "metadata": {
    "scrolled": false
   },
   "outputs": [
    {
     "name": "stdout",
     "output_type": "stream",
     "text": [
      "<class 'pandas.core.frame.DataFrame'>\n",
      "Int64Index: 2980427 entries, 3015 to 7742221\n",
      "Data columns (total 23 columns):\n",
      "date                  datetime64[ns]\n",
      "event_id              int8\n",
      "ref_type              object\n",
      "device_id             int64\n",
      "application_id        int64\n",
      "attributed            bool\n",
      "device_os_version     float64\n",
      "device_brand          float64\n",
      "device_model          float64\n",
      "device_city           float64\n",
      "session_user_agent    float64\n",
      "trans_id              object\n",
      "user_agent            float64\n",
      "event_uuid            object\n",
      "carrier               float64\n",
      "kind                  float64\n",
      "device_os             object\n",
      "wifi                  bool\n",
      "connection_type       object\n",
      "ip_address            int64\n",
      "device_language       object\n",
      "seconds               float64\n",
      "day                   int64\n",
      "dtypes: bool(2), datetime64[ns](1), float64(9), int64(4), int8(1), object(6)\n",
      "memory usage: 486.0+ MB\n"
     ]
    }
   ],
   "source": [
    "events.info()"
   ]
  },
  {
   "cell_type": "markdown",
   "metadata": {},
   "source": [
    "## Busqueda de features"
   ]
  },
  {
   "cell_type": "code",
   "execution_count": 12,
   "metadata": {},
   "outputs": [],
   "source": [
    "features = pd.DataFrame(events['device_id'].unique(), columns=['device_id'])"
   ]
  },
  {
   "cell_type": "code",
   "execution_count": 13,
   "metadata": {},
   "outputs": [
    {
     "data": {
      "text/html": [
       "<div>\n",
       "<style scoped>\n",
       "    .dataframe tbody tr th:only-of-type {\n",
       "        vertical-align: middle;\n",
       "    }\n",
       "\n",
       "    .dataframe tbody tr th {\n",
       "        vertical-align: top;\n",
       "    }\n",
       "\n",
       "    .dataframe thead th {\n",
       "        text-align: right;\n",
       "    }\n",
       "</style>\n",
       "<table border=\"1\" class=\"dataframe\">\n",
       "  <thead>\n",
       "    <tr style=\"text-align: right;\">\n",
       "      <th></th>\n",
       "      <th>device_id</th>\n",
       "    </tr>\n",
       "  </thead>\n",
       "  <tbody>\n",
       "    <tr>\n",
       "      <th>0</th>\n",
       "      <td>809939361959643854</td>\n",
       "    </tr>\n",
       "    <tr>\n",
       "      <th>1</th>\n",
       "      <td>2704332589081852700</td>\n",
       "    </tr>\n",
       "    <tr>\n",
       "      <th>2</th>\n",
       "      <td>6376777580200607439</td>\n",
       "    </tr>\n",
       "    <tr>\n",
       "      <th>3</th>\n",
       "      <td>2602532777370559745</td>\n",
       "    </tr>\n",
       "    <tr>\n",
       "      <th>4</th>\n",
       "      <td>1392327325375134465</td>\n",
       "    </tr>\n",
       "  </tbody>\n",
       "</table>\n",
       "</div>"
      ],
      "text/plain": [
       "             device_id\n",
       "0   809939361959643854\n",
       "1  2704332589081852700\n",
       "2  6376777580200607439\n",
       "3  2602532777370559745\n",
       "4  1392327325375134465"
      ]
     },
     "execution_count": 13,
     "metadata": {},
     "output_type": "execute_result"
    }
   ],
   "source": [
    "features.head()"
   ]
  },
  {
   "cell_type": "code",
   "execution_count": 14,
   "metadata": {},
   "outputs": [],
   "source": [
    "eventsCount = events[['device_id']].groupby(by=['device_id']).size()\n",
    "eventsCount = eventsCount.reset_index().rename(columns={0: 'eventsCount'})\n",
    "features = features.merge(eventsCount, how='left')"
   ]
  },
  {
   "cell_type": "code",
   "execution_count": 15,
   "metadata": {},
   "outputs": [],
   "source": [
    "eventsMostFreqDay = events[['device_id', 'day']].groupby(by=['device_id']).agg(lambda x: x.value_counts().index[0])\n",
    "eventsMostFreqDay = eventsMostFreqDay.reset_index().rename(columns={'day': 'eventsMostFreqDay'})\n",
    "features = features.merge(eventsMostFreqDay, how='left')"
   ]
  },
  {
   "cell_type": "code",
   "execution_count": 16,
   "metadata": {},
   "outputs": [],
   "source": [
    "eventsMeanInterval = events[['device_id', 'seconds']].sort_values(by='seconds').groupby(by='device_id').agg(lambda x: (x['seconds'] - x['seconds'].shift(1).fillna(0)).mean())\n",
    "eventsMeanInterval = eventsMeanInterval.reset_index().rename(columns={'seconds': 'eventsMeanInterval'})\n",
    "features = features.merge(eventsMeanInterval, how='left')"
   ]
  },
  {
   "cell_type": "code",
   "execution_count": 17,
   "metadata": {},
   "outputs": [],
   "source": [
    "features['eventsAproxFreq'] = features['eventsMeanInterval']**-1"
   ]
  },
  {
   "cell_type": "code",
   "execution_count": 18,
   "metadata": {},
   "outputs": [],
   "source": [
    "eventsStdDevInterval = events[['device_id', 'seconds']].sort_values(by='seconds').groupby(by='device_id').agg(lambda x: (x['seconds'] - x['seconds'].shift(1).fillna(0)).std())\n",
    "eventsStdDevInterval = eventsStdDevInterval.reset_index().rename(columns={'seconds': 'eventsStdDevInterval'})\n",
    "features = features.merge(eventsStdDevInterval, how='left')"
   ]
  },
  {
   "cell_type": "code",
   "execution_count": 19,
   "metadata": {},
   "outputs": [],
   "source": [
    "eventsLast = events[['device_id', 'seconds']].groupby(by='device_id').max()\n",
    "eventsLast = eventsLast.reset_index().rename(columns={'seconds': 'eventsLast'})\n",
    "features = features.merge(eventsLast, how='left')"
   ]
  },
  {
   "cell_type": "code",
   "execution_count": 20,
   "metadata": {},
   "outputs": [
    {
     "data": {
      "text/html": [
       "<div>\n",
       "<style scoped>\n",
       "    .dataframe tbody tr th:only-of-type {\n",
       "        vertical-align: middle;\n",
       "    }\n",
       "\n",
       "    .dataframe tbody tr th {\n",
       "        vertical-align: top;\n",
       "    }\n",
       "\n",
       "    .dataframe thead th {\n",
       "        text-align: right;\n",
       "    }\n",
       "</style>\n",
       "<table border=\"1\" class=\"dataframe\">\n",
       "  <thead>\n",
       "    <tr style=\"text-align: right;\">\n",
       "      <th></th>\n",
       "      <th>device_id</th>\n",
       "      <th>eventsCount</th>\n",
       "      <th>eventsMostFreqDay</th>\n",
       "      <th>eventsMeanInterval</th>\n",
       "      <th>eventsAproxFreq</th>\n",
       "      <th>eventsStdDevInterval</th>\n",
       "      <th>eventsLast</th>\n",
       "    </tr>\n",
       "  </thead>\n",
       "  <tbody>\n",
       "    <tr>\n",
       "      <th>0</th>\n",
       "      <td>809939361959643854</td>\n",
       "      <td>40</td>\n",
       "      <td>2</td>\n",
       "      <td>4096.529200</td>\n",
       "      <td>0.000244</td>\n",
       "      <td>25839.686089</td>\n",
       "      <td>163861.168</td>\n",
       "    </tr>\n",
       "    <tr>\n",
       "      <th>1</th>\n",
       "      <td>2704332589081852700</td>\n",
       "      <td>546</td>\n",
       "      <td>3</td>\n",
       "      <td>472.258037</td>\n",
       "      <td>0.002117</td>\n",
       "      <td>5202.057220</td>\n",
       "      <td>257852.888</td>\n",
       "    </tr>\n",
       "    <tr>\n",
       "      <th>2</th>\n",
       "      <td>6376777580200607439</td>\n",
       "      <td>459</td>\n",
       "      <td>3</td>\n",
       "      <td>555.999065</td>\n",
       "      <td>0.001799</td>\n",
       "      <td>7486.065919</td>\n",
       "      <td>255203.571</td>\n",
       "    </tr>\n",
       "    <tr>\n",
       "      <th>3</th>\n",
       "      <td>2602532777370559745</td>\n",
       "      <td>62</td>\n",
       "      <td>2</td>\n",
       "      <td>4115.703210</td>\n",
       "      <td>0.000243</td>\n",
       "      <td>14779.361038</td>\n",
       "      <td>255173.599</td>\n",
       "    </tr>\n",
       "    <tr>\n",
       "      <th>4</th>\n",
       "      <td>1392327325375134465</td>\n",
       "      <td>94</td>\n",
       "      <td>2</td>\n",
       "      <td>1735.642904</td>\n",
       "      <td>0.000576</td>\n",
       "      <td>16660.849179</td>\n",
       "      <td>163150.433</td>\n",
       "    </tr>\n",
       "  </tbody>\n",
       "</table>\n",
       "</div>"
      ],
      "text/plain": [
       "             device_id  eventsCount  eventsMostFreqDay  eventsMeanInterval  \\\n",
       "0   809939361959643854           40                  2         4096.529200   \n",
       "1  2704332589081852700          546                  3          472.258037   \n",
       "2  6376777580200607439          459                  3          555.999065   \n",
       "3  2602532777370559745           62                  2         4115.703210   \n",
       "4  1392327325375134465           94                  2         1735.642904   \n",
       "\n",
       "   eventsAproxFreq  eventsStdDevInterval  eventsLast  \n",
       "0         0.000244          25839.686089  163861.168  \n",
       "1         0.002117           5202.057220  257852.888  \n",
       "2         0.001799           7486.065919  255203.571  \n",
       "3         0.000243          14779.361038  255173.599  \n",
       "4         0.000576          16660.849179  163150.433  "
      ]
     },
     "execution_count": 20,
     "metadata": {},
     "output_type": "execute_result"
    }
   ],
   "source": [
    "features.head()"
   ]
  },
  {
   "cell_type": "code",
   "execution_count": 21,
   "metadata": {},
   "outputs": [],
   "source": [
    "features.to_csv('data/eventsFeatures7.csv', index=False)"
   ]
  },
  {
   "cell_type": "code",
   "execution_count": null,
   "metadata": {},
   "outputs": [],
   "source": []
  }
 ],
 "metadata": {
  "kernelspec": {
   "display_name": "Python 3",
   "language": "python",
   "name": "python3"
  },
  "language_info": {
   "codemirror_mode": {
    "name": "ipython",
    "version": 3
   },
   "file_extension": ".py",
   "mimetype": "text/x-python",
   "name": "python",
   "nbconvert_exporter": "python",
   "pygments_lexer": "ipython3",
   "version": "3.7.3"
  }
 },
 "nbformat": 4,
 "nbformat_minor": 2
}
