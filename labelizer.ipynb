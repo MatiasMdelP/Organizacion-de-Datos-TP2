{
 "cells": [
  {
   "cell_type": "markdown",
   "metadata": {},
   "source": [
    "# Labelizer"
   ]
  },
  {
   "cell_type": "code",
   "execution_count": 1,
   "metadata": {},
   "outputs": [],
   "source": [
    "import pandas as pd"
   ]
  },
  {
   "cell_type": "markdown",
   "metadata": {},
   "source": [
    "Trabajo con el siguiente rango horario:"
   ]
  },
  {
   "cell_type": "code",
   "execution_count": 2,
   "metadata": {},
   "outputs": [],
   "source": [
    "firstDay = pd.Timestamp(2019, 4, 18)\n",
    "lastDay = pd.Timestamp(2019, 4, 21)\n",
    "secondLastDay = lastDay + pd.Timedelta(3, unit='D')"
   ]
  },
  {
   "cell_type": "markdown",
   "metadata": {},
   "source": [
    "Los datos son los siguientes:"
   ]
  },
  {
   "cell_type": "code",
   "execution_count": 3,
   "metadata": {},
   "outputs": [],
   "source": [
    "location = 'data/'\n",
    "auctionsFile = location + 'auctions.csv'\n",
    "eventsFile = location + 'events.csv'\n",
    "clicksFile = location + 'clicks.csv'\n",
    "installsFile = location + 'installs.csv'"
   ]
  },
  {
   "cell_type": "markdown",
   "metadata": {},
   "source": [
    "Cargo los datos de los primeros tres dias, y de los segundos tres dias de installs y auctions.\n",
    "\n",
    "Events y acutions son muy grandes asique los leo de a pedazos"
   ]
  },
  {
   "cell_type": "code",
   "execution_count": 4,
   "metadata": {},
   "outputs": [],
   "source": [
    "chunksize = 30000"
   ]
  },
  {
   "cell_type": "code",
   "execution_count": 5,
   "metadata": {},
   "outputs": [],
   "source": [
    "dtype = {\n",
    "    'date': 'str',\n",
    "    'ref_type_id': 'category',\n",
    "    'device_id': 'int64'\n",
    "}"
   ]
  },
  {
   "cell_type": "code",
   "execution_count": 6,
   "metadata": {},
   "outputs": [],
   "source": [
    "auctionsIterator = pd.read_csv(auctionsFile, usecols=dtype.keys(), dtype=dtype, parse_dates=['date'], chunksize=chunksize)"
   ]
  },
  {
   "cell_type": "code",
   "execution_count": 7,
   "metadata": {},
   "outputs": [],
   "source": [
    "auctions = pd.DataFrame()\n",
    "nextAuctions = pd.DataFrame()\n",
    "for chunk in auctionsIterator:\n",
    "    chunkIsInDateInterval = (chunk['date'] >= firstDay) & (chunk['date'] < lastDay)\n",
    "    chunkIsInSecondDateInterval = (chunk['date'] >= lastDay) & (chunk['date'] < secondLastDay)\n",
    "    auctions = pd.concat([auctions, chunk[chunkIsInDateInterval]], sort = False)\n",
    "    nextAuctions = pd.concat([nextAuctions, chunk[chunkIsInSecondDateInterval]], sort = False)"
   ]
  },
  {
   "cell_type": "code",
   "execution_count": 8,
   "metadata": {},
   "outputs": [],
   "source": [
    "dtype = {\n",
    "    'date': 'str',\n",
    "    'ref_type': 'category',\n",
    "    'ref_hash': 'int64'\n",
    "}"
   ]
  },
  {
   "cell_type": "code",
   "execution_count": 9,
   "metadata": {},
   "outputs": [],
   "source": [
    "eventsIterator = pd.read_csv(eventsFile, usecols=dtype.keys(), dtype=dtype, parse_dates=['date'], chunksize=chunksize)"
   ]
  },
  {
   "cell_type": "code",
   "execution_count": 10,
   "metadata": {},
   "outputs": [],
   "source": [
    "events = pd.DataFrame()\n",
    "for chunk in eventsIterator:\n",
    "    chunkIsInDateInterval = (chunk['date'] >= firstDay) & (chunk['date'] < lastDay)\n",
    "    events = pd.concat([events, chunk[chunkIsInDateInterval]], sort=False)"
   ]
  },
  {
   "cell_type": "code",
   "execution_count": 11,
   "metadata": {},
   "outputs": [],
   "source": [
    "dtype = {\n",
    "    'created': 'str',\n",
    "    'ref_type': 'category',\n",
    "    'ref_hash': 'int64'\n",
    "}"
   ]
  },
  {
   "cell_type": "code",
   "execution_count": 12,
   "metadata": {},
   "outputs": [],
   "source": [
    "installs = pd.read_csv(installsFile, usecols=dtype.keys(), dtype=dtype, parse_dates=['created'])"
   ]
  },
  {
   "cell_type": "code",
   "execution_count": 13,
   "metadata": {},
   "outputs": [],
   "source": [
    "installsIsInDateInterval = (installs['created'] >= firstDay) & (installs['created'] < lastDay)\n",
    "installs = installs[installsIsInDateInterval]"
   ]
  },
  {
   "cell_type": "code",
   "execution_count": 14,
   "metadata": {},
   "outputs": [],
   "source": [
    "installsIsInSecondDateInterval = (installs['created'] >= lastDay) & (installs['created'] < secondLastDay)\n",
    "nextInstalls = installs[installsIsInSecondDateInterval]"
   ]
  },
  {
   "cell_type": "code",
   "execution_count": 15,
   "metadata": {},
   "outputs": [],
   "source": [
    "clicks = pd.read_csv(clicksFile, usecols=dtype.keys(), dtype=dtype, parse_dates=['created'])"
   ]
  },
  {
   "cell_type": "code",
   "execution_count": 16,
   "metadata": {},
   "outputs": [],
   "source": [
    "clicks['created'] = clicks['created'].dt.tz_localize(None)"
   ]
  },
  {
   "cell_type": "code",
   "execution_count": 17,
   "metadata": {},
   "outputs": [],
   "source": [
    "clicksIsInDateInterval = (clicks['created'] >= firstDay) & (clicks['created'] < lastDay)\n",
    "clicks = clicks[clicksIsInDateInterval]"
   ]
  },
  {
   "cell_type": "markdown",
   "metadata": {},
   "source": [
    "Ahora quiero obtener todos los dispositivos que apareceieron en algun momento de los tres dias"
   ]
  },
  {
   "cell_type": "code",
   "execution_count": 18,
   "metadata": {},
   "outputs": [],
   "source": [
    "devicesInAuctions = pd.Series(auctions['device_id'].unique(), name='device_id')"
   ]
  },
  {
   "cell_type": "code",
   "execution_count": 19,
   "metadata": {},
   "outputs": [],
   "source": [
    "devicesInInstalls = pd.Series(installs['ref_hash'].unique(), name='device_id')"
   ]
  },
  {
   "cell_type": "code",
   "execution_count": 20,
   "metadata": {},
   "outputs": [],
   "source": [
    "devicesInClicks = pd.Series(clicks['ref_hash'].unique(), name='device_id')"
   ]
  },
  {
   "cell_type": "code",
   "execution_count": 21,
   "metadata": {},
   "outputs": [],
   "source": [
    "devicesInEvents = pd.Series(events['ref_hash'].unique(), name='device_id')"
   ]
  },
  {
   "cell_type": "code",
   "execution_count": 22,
   "metadata": {},
   "outputs": [],
   "source": [
    "devices = pd.concat([devicesInEvents, devicesInClicks, devicesInAuctions, devicesInInstalls], sort=False).unique()\n",
    "devices = pd.Series(devices)"
   ]
  },
  {
   "cell_type": "markdown",
   "metadata": {},
   "source": [
    "Ahora quiero conseguir los dispositivos que aparecieron en los segundos 3 dias y los valores de sc y st"
   ]
  },
  {
   "cell_type": "code",
   "execution_count": 23,
   "metadata": {},
   "outputs": [],
   "source": [
    "st = nextAuctions[['date', 'device_id']].groupby(['device_id']).min()\n",
    "st['st'] = (st['date'] - lastDay).dt.total_seconds()\n",
    "st = st.drop(columns=['date'])"
   ]
  },
  {
   "cell_type": "code",
   "execution_count": 24,
   "metadata": {},
   "outputs": [],
   "source": [
    "sc = nextInstalls[['created', 'ref_hash']].groupby(['ref_hash']).min()\n",
    "sc['sc'] = (sc['created'] - lastDay).dt.total_seconds()\n",
    "sc = sc.drop(columns=['created'])"
   ]
  },
  {
   "cell_type": "code",
   "execution_count": 25,
   "metadata": {},
   "outputs": [],
   "source": [
    "labels = pd.merge(sc, st, how='outer', left_index=True, right_index=True)"
   ]
  },
  {
   "cell_type": "markdown",
   "metadata": {},
   "source": [
    "Ahora junto los dispositivos que aparecieron en los primeros dias con los labels de los segundos dias, asi desecho aquellos dispositivos que no estaban en los primeros dias"
   ]
  },
  {
   "cell_type": "code",
   "execution_count": 26,
   "metadata": {},
   "outputs": [],
   "source": [
    "devices.name = 'device_id'"
   ]
  },
  {
   "cell_type": "code",
   "execution_count": 27,
   "metadata": {},
   "outputs": [],
   "source": [
    "labels = pd.merge(labels, devices, how='right', left_index=True, right_on='device_id')"
   ]
  },
  {
   "cell_type": "markdown",
   "metadata": {},
   "source": [
    "Por ultimo, reordeno las columnas y guardo el resultado a un csv"
   ]
  },
  {
   "cell_type": "code",
   "execution_count": 28,
   "metadata": {},
   "outputs": [],
   "source": [
    "labels = labels[['device_id', 'st', 'sc']]"
   ]
  },
  {
   "cell_type": "code",
   "execution_count": 29,
   "metadata": {},
   "outputs": [
    {
     "data": {
      "text/html": [
       "<div>\n",
       "<style scoped>\n",
       "    .dataframe tbody tr th:only-of-type {\n",
       "        vertical-align: middle;\n",
       "    }\n",
       "\n",
       "    .dataframe tbody tr th {\n",
       "        vertical-align: top;\n",
       "    }\n",
       "\n",
       "    .dataframe thead th {\n",
       "        text-align: right;\n",
       "    }\n",
       "</style>\n",
       "<table border=\"1\" class=\"dataframe\">\n",
       "  <thead>\n",
       "    <tr style=\"text-align: right;\">\n",
       "      <th></th>\n",
       "      <th>device_id</th>\n",
       "      <th>st</th>\n",
       "      <th>sc</th>\n",
       "    </tr>\n",
       "  </thead>\n",
       "  <tbody>\n",
       "    <tr>\n",
       "      <th>0</th>\n",
       "      <td>5857744372586891366</td>\n",
       "      <td>NaN</td>\n",
       "      <td>NaN</td>\n",
       "    </tr>\n",
       "    <tr>\n",
       "      <th>1</th>\n",
       "      <td>7642521036780133571</td>\n",
       "      <td>436.543534</td>\n",
       "      <td>NaN</td>\n",
       "    </tr>\n",
       "    <tr>\n",
       "      <th>2</th>\n",
       "      <td>2548841562898283198</td>\n",
       "      <td>NaN</td>\n",
       "      <td>NaN</td>\n",
       "    </tr>\n",
       "    <tr>\n",
       "      <th>3</th>\n",
       "      <td>609402887625919085</td>\n",
       "      <td>NaN</td>\n",
       "      <td>NaN</td>\n",
       "    </tr>\n",
       "    <tr>\n",
       "      <th>4</th>\n",
       "      <td>9114651763556439823</td>\n",
       "      <td>NaN</td>\n",
       "      <td>NaN</td>\n",
       "    </tr>\n",
       "  </tbody>\n",
       "</table>\n",
       "</div>"
      ],
      "text/plain": [
       "             device_id          st  sc\n",
       "0  5857744372586891366         NaN NaN\n",
       "1  7642521036780133571  436.543534 NaN\n",
       "2  2548841562898283198         NaN NaN\n",
       "3   609402887625919085         NaN NaN\n",
       "4  9114651763556439823         NaN NaN"
      ]
     },
     "execution_count": 29,
     "metadata": {},
     "output_type": "execute_result"
    }
   ],
   "source": [
    "labels.head()"
   ]
  },
  {
   "cell_type": "code",
   "execution_count": 30,
   "metadata": {},
   "outputs": [],
   "source": [
    "labels.to_csv('data/labelsFirstTheeDays.csv', index=False)"
   ]
  }
 ],
 "metadata": {
  "kernelspec": {
   "display_name": "Python 3",
   "language": "python",
   "name": "python3"
  },
  "language_info": {
   "codemirror_mode": {
    "name": "ipython",
    "version": 3
   },
   "file_extension": ".py",
   "mimetype": "text/x-python",
   "name": "python",
   "nbconvert_exporter": "python",
   "pygments_lexer": "ipython3",
   "version": "3.6.7"
  }
 },
 "nbformat": 4,
 "nbformat_minor": 2
}
