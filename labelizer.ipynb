{
 "cells": [
  {
   "cell_type": "markdown",
   "metadata": {},
   "source": [
    "# Labelizer"
   ]
  },
  {
   "cell_type": "markdown",
   "metadata": {},
   "source": [
    "Script para etiquetar los datos de auctions, y guardarlos en un csv aparte."
   ]
  },
  {
   "cell_type": "code",
   "execution_count": 1,
   "metadata": {},
   "outputs": [],
   "source": [
    "import pandas as pd"
   ]
  },
  {
   "cell_type": "markdown",
   "metadata": {},
   "source": [
    "## St(d)"
   ]
  },
  {
   "cell_type": "markdown",
   "metadata": {},
   "source": [
    "**Importante:** Sacar nrows para procesar el archivo completo"
   ]
  },
  {
   "cell_type": "code",
   "execution_count": 2,
   "metadata": {},
   "outputs": [],
   "source": [
    "auctions = pd.read_csv('data/auctions.csv', dtype={'date': str, 'ref_type_id': 'category', 'source_id': 'category'}, parse_dates=['date'], nrows=10000)"
   ]
  },
  {
   "cell_type": "markdown",
   "metadata": {},
   "source": [
    "Primero ordeno por fecha"
   ]
  },
  {
   "cell_type": "code",
   "execution_count": 3,
   "metadata": {},
   "outputs": [],
   "source": [
    "auctions = auctions.sort_values(by='date')"
   ]
  },
  {
   "cell_type": "markdown",
   "metadata": {},
   "source": [
    "Agrupo por dispositivo y para cada uno de ellos me fijo la diferencia de cada valor de la columna 'date' con la columna siguiente. Esa diferencia la agrego como una nueva columna."
   ]
  },
  {
   "cell_type": "code",
   "execution_count": 4,
   "metadata": {
    "scrolled": false
   },
   "outputs": [],
   "source": [
    "auctionsGroupBy = auctions.groupby(['ref_type_id', 'device_id'])\n",
    "labeledAuctions = auctionsGroupBy.apply(lambda x: pd.concat([x, -x['date'].diff(periods=-1).rename('s_t')], axis=1))"
   ]
  },
  {
   "cell_type": "markdown",
   "metadata": {},
   "source": [
    "Podemos ver que funciono si tomamos un dispositivo que aparezca mas de una vez, y vemos sus valores"
   ]
  },
  {
   "cell_type": "code",
   "execution_count": 5,
   "metadata": {},
   "outputs": [],
   "source": [
    "device = labeledAuctions['device_id'].value_counts().index[0]"
   ]
  },
  {
   "cell_type": "code",
   "execution_count": 6,
   "metadata": {},
   "outputs": [
    {
     "data": {
      "text/html": [
       "<div>\n",
       "<style scoped>\n",
       "    .dataframe tbody tr th:only-of-type {\n",
       "        vertical-align: middle;\n",
       "    }\n",
       "\n",
       "    .dataframe tbody tr th {\n",
       "        vertical-align: top;\n",
       "    }\n",
       "\n",
       "    .dataframe thead th {\n",
       "        text-align: right;\n",
       "    }\n",
       "</style>\n",
       "<table border=\"1\" class=\"dataframe\">\n",
       "  <thead>\n",
       "    <tr style=\"text-align: right;\">\n",
       "      <th></th>\n",
       "      <th>date</th>\n",
       "      <th>device_id</th>\n",
       "      <th>ref_type_id</th>\n",
       "      <th>source_id</th>\n",
       "      <th>s_t</th>\n",
       "    </tr>\n",
       "  </thead>\n",
       "  <tbody>\n",
       "    <tr>\n",
       "      <th>6017</th>\n",
       "      <td>2019-04-23 21:21:35.919273</td>\n",
       "      <td>1152087653449695535</td>\n",
       "      <td>1</td>\n",
       "      <td>3</td>\n",
       "      <td>00:00:22.263941</td>\n",
       "    </tr>\n",
       "    <tr>\n",
       "      <th>6060</th>\n",
       "      <td>2019-04-23 21:21:58.183214</td>\n",
       "      <td>1152087653449695535</td>\n",
       "      <td>1</td>\n",
       "      <td>3</td>\n",
       "      <td>00:00:03.144650</td>\n",
       "    </tr>\n",
       "    <tr>\n",
       "      <th>6067</th>\n",
       "      <td>2019-04-23 21:22:01.327864</td>\n",
       "      <td>1152087653449695535</td>\n",
       "      <td>1</td>\n",
       "      <td>3</td>\n",
       "      <td>00:00:07.378871</td>\n",
       "    </tr>\n",
       "    <tr>\n",
       "      <th>6085</th>\n",
       "      <td>2019-04-23 21:22:08.706735</td>\n",
       "      <td>1152087653449695535</td>\n",
       "      <td>1</td>\n",
       "      <td>5</td>\n",
       "      <td>00:00:47.275522</td>\n",
       "    </tr>\n",
       "    <tr>\n",
       "      <th>6187</th>\n",
       "      <td>2019-04-23 21:22:55.982257</td>\n",
       "      <td>1152087653449695535</td>\n",
       "      <td>1</td>\n",
       "      <td>3</td>\n",
       "      <td>00:00:01.720101</td>\n",
       "    </tr>\n",
       "  </tbody>\n",
       "</table>\n",
       "</div>"
      ],
      "text/plain": [
       "                           date            device_id ref_type_id source_id  \\\n",
       "6017 2019-04-23 21:21:35.919273  1152087653449695535           1         3   \n",
       "6060 2019-04-23 21:21:58.183214  1152087653449695535           1         3   \n",
       "6067 2019-04-23 21:22:01.327864  1152087653449695535           1         3   \n",
       "6085 2019-04-23 21:22:08.706735  1152087653449695535           1         5   \n",
       "6187 2019-04-23 21:22:55.982257  1152087653449695535           1         3   \n",
       "\n",
       "                 s_t  \n",
       "6017 00:00:22.263941  \n",
       "6060 00:00:03.144650  \n",
       "6067 00:00:07.378871  \n",
       "6085 00:00:47.275522  \n",
       "6187 00:00:01.720101  "
      ]
     },
     "execution_count": 6,
     "metadata": {},
     "output_type": "execute_result"
    }
   ],
   "source": [
    "labeledAuctions[labeledAuctions['device_id'] == device].head()"
   ]
  },
  {
   "cell_type": "markdown",
   "metadata": {},
   "source": [
    "Se ve que en la columna s_t esta el tiempo que falta para el date de la siguiente fila"
   ]
  },
  {
   "cell_type": "markdown",
   "metadata": {},
   "source": [
    "Por ultimo vuelvo al orden original"
   ]
  },
  {
   "cell_type": "code",
   "execution_count": 7,
   "metadata": {},
   "outputs": [],
   "source": [
    "labeledAuctions = labeledAuctions.sort_index()"
   ]
  },
  {
   "cell_type": "markdown",
   "metadata": {},
   "source": [
    "## Sc(d)"
   ]
  },
  {
   "cell_type": "code",
   "execution_count": 8,
   "metadata": {},
   "outputs": [],
   "source": [
    "installs = pd.read_csv('data/installs.csv', usecols=['created', 'ref_type', 'ref_hash'], dtype={'created': str, 'ref_type': 'category'}, parse_dates=['created'])"
   ]
  },
  {
   "cell_type": "markdown",
   "metadata": {},
   "source": [
    "Para cada fila de auctions, busco la minima fecha de instalacion de ese dispositivo, siempre que sea mayor que la fecha del auction. No se si existe una forma mas 'pandas' de hacer esto, asi es como se me ocurrio a mi."
   ]
  },
  {
   "cell_type": "code",
   "execution_count": 9,
   "metadata": {},
   "outputs": [],
   "source": [
    "next_install_date = pd.Series()\n",
    "for index, row in auctions.iterrows():\n",
    "    next_install_date.at[index] = installs[(installs['ref_type'] == row['ref_type_id']) & (installs['ref_hash'] == row['device_id']) & (installs['created'] > row['date'])]['created'].min()"
   ]
  },
  {
   "cell_type": "markdown",
   "metadata": {},
   "source": [
    "Ahora calculo Sc(d) restando a la fecha de conversion la fecha del auction."
   ]
  },
  {
   "cell_type": "code",
   "execution_count": 10,
   "metadata": {},
   "outputs": [],
   "source": [
    "labeledAuctions['s_c'] = next_install_date - auctions['date']"
   ]
  },
  {
   "cell_type": "code",
   "execution_count": 11,
   "metadata": {},
   "outputs": [
    {
     "data": {
      "text/html": [
       "<div>\n",
       "<style scoped>\n",
       "    .dataframe tbody tr th:only-of-type {\n",
       "        vertical-align: middle;\n",
       "    }\n",
       "\n",
       "    .dataframe tbody tr th {\n",
       "        vertical-align: top;\n",
       "    }\n",
       "\n",
       "    .dataframe thead th {\n",
       "        text-align: right;\n",
       "    }\n",
       "</style>\n",
       "<table border=\"1\" class=\"dataframe\">\n",
       "  <thead>\n",
       "    <tr style=\"text-align: right;\">\n",
       "      <th></th>\n",
       "      <th>date</th>\n",
       "      <th>device_id</th>\n",
       "      <th>ref_type_id</th>\n",
       "      <th>source_id</th>\n",
       "      <th>s_t</th>\n",
       "      <th>s_c</th>\n",
       "    </tr>\n",
       "  </thead>\n",
       "  <tbody>\n",
       "    <tr>\n",
       "      <th>0</th>\n",
       "      <td>2019-04-23 18:58:00.842116</td>\n",
       "      <td>2564673204772915246</td>\n",
       "      <td>1</td>\n",
       "      <td>0</td>\n",
       "      <td>NaT</td>\n",
       "      <td>NaT</td>\n",
       "    </tr>\n",
       "    <tr>\n",
       "      <th>1</th>\n",
       "      <td>2019-04-23 18:58:01.530771</td>\n",
       "      <td>4441121667607578179</td>\n",
       "      <td>7</td>\n",
       "      <td>0</td>\n",
       "      <td>00:10:08.526877</td>\n",
       "      <td>NaT</td>\n",
       "    </tr>\n",
       "    <tr>\n",
       "      <th>2</th>\n",
       "      <td>2019-04-23 18:58:01.767562</td>\n",
       "      <td>7721769811471055264</td>\n",
       "      <td>1</td>\n",
       "      <td>0</td>\n",
       "      <td>00:52:38.441254</td>\n",
       "      <td>NaT</td>\n",
       "    </tr>\n",
       "    <tr>\n",
       "      <th>3</th>\n",
       "      <td>2019-04-23 18:58:02.363468</td>\n",
       "      <td>6416039086842158968</td>\n",
       "      <td>1</td>\n",
       "      <td>0</td>\n",
       "      <td>NaT</td>\n",
       "      <td>NaT</td>\n",
       "    </tr>\n",
       "    <tr>\n",
       "      <th>4</th>\n",
       "      <td>2019-04-23 18:58:02.397559</td>\n",
       "      <td>1258642015983312729</td>\n",
       "      <td>1</td>\n",
       "      <td>0</td>\n",
       "      <td>NaT</td>\n",
       "      <td>NaT</td>\n",
       "    </tr>\n",
       "  </tbody>\n",
       "</table>\n",
       "</div>"
      ],
      "text/plain": [
       "                        date            device_id ref_type_id source_id  \\\n",
       "0 2019-04-23 18:58:00.842116  2564673204772915246           1         0   \n",
       "1 2019-04-23 18:58:01.530771  4441121667607578179           7         0   \n",
       "2 2019-04-23 18:58:01.767562  7721769811471055264           1         0   \n",
       "3 2019-04-23 18:58:02.363468  6416039086842158968           1         0   \n",
       "4 2019-04-23 18:58:02.397559  1258642015983312729           1         0   \n",
       "\n",
       "              s_t s_c  \n",
       "0             NaT NaT  \n",
       "1 00:10:08.526877 NaT  \n",
       "2 00:52:38.441254 NaT  \n",
       "3             NaT NaT  \n",
       "4             NaT NaT  "
      ]
     },
     "execution_count": 11,
     "metadata": {},
     "output_type": "execute_result"
    }
   ],
   "source": [
    "labeledAuctions.head()"
   ]
  },
  {
   "cell_type": "markdown",
   "metadata": {},
   "source": [
    "Por ultimo, genero un nuevo csv con los datos etiquetados"
   ]
  },
  {
   "cell_type": "code",
   "execution_count": 12,
   "metadata": {},
   "outputs": [],
   "source": [
    "labeledAuctions.to_csv('data/labeled_auctions.csv', index=False)"
   ]
  }
 ],
 "metadata": {
  "kernelspec": {
   "display_name": "Python 3",
   "language": "python",
   "name": "python3"
  },
  "language_info": {
   "codemirror_mode": {
    "name": "ipython",
    "version": 3
   },
   "file_extension": ".py",
   "mimetype": "text/x-python",
   "name": "python",
   "nbconvert_exporter": "python",
   "pygments_lexer": "ipython3",
   "version": "3.6.7"
  }
 },
 "nbformat": 4,
 "nbformat_minor": 2
}
