{
 "cells": [
  {
   "cell_type": "code",
   "execution_count": 48,
   "metadata": {},
   "outputs": [],
   "source": [
    "import pandas as pd\n",
    "import sklearn\n",
    "import numpy as np"
   ]
  },
  {
   "cell_type": "code",
   "execution_count": 49,
   "metadata": {},
   "outputs": [],
   "source": [
    "location = 'data/'\n",
    "featuresFile = location + 'features.csv'\n",
    "labelsFile = location + 'labels.csv'\n",
    "targetFile = location + 'target_competencia_ids.csv'\n",
    "featuresPredictFile = location + 'FeaturesFiltrado7.csv'\n",
    "featuresPredictFile2 = location + 'featuresPredict.csv'\n",
    "#featuresCategoricoFile = location + 'featuresCategorico.csv'"
   ]
  },
  {
   "cell_type": "code",
   "execution_count": 50,
   "metadata": {},
   "outputs": [],
   "source": [
    "dtypeFeatures = {\n",
    "    'device_id': 'str',\n",
    "    'eventsCount': 'float64',\n",
    "    'eventsMostFreqDay': 'float64',\n",
    "    'eventsMeanInterval': 'float64',\n",
    "    'eventsAproxFreq': 'float64',\n",
    "    'eventsStdDevInterval': 'float64',\n",
    "    'eventsLast': 'float64',\n",
    "    'installsCount': 'float64',\n",
    "    'installsMostFreqDay': 'float64',\n",
    "    'installsMeanInterval': 'float64',\n",
    "    'installsAproxFreq': 'float64',\n",
    "    'installsStdDevInterval': 'float64',\n",
    "    'installsLast': 'float64',\n",
    "    'clicksCount': 'float64',\n",
    "    'clicksMostFreqDay': 'float64',\n",
    "    'clicksMeanInterval': 'float64',\n",
    "    'clicksAproxFreq': 'float64',\n",
    "    'clicksStdDevInterval': 'float64',\n",
    "    'clicksLast': 'float64',\n",
    "    'auctionsCount': 'float64',\n",
    "    'auctionsMostFreqDay': 'float64',\n",
    "    'auctionsMeanInterval': 'float64',\n",
    "    'auctionsAproxFreq': 'float64',\n",
    "    'auctionsStdDevInterval': 'float64',\n",
    "    'auctionsLast': 'float64'\n",
    "}\n",
    "dtypeLabels = {\n",
    "    'device_id': 'str',\n",
    "    'st': 'float64',\n",
    "    'sc': 'float64'\n",
    "}\n",
    "dtypeTarget = {\n",
    "    'ref_hash': 'str',\n",
    "    'obj': 'float64',\n",
    "}"
   ]
  },
  {
   "cell_type": "code",
   "execution_count": 51,
   "metadata": {},
   "outputs": [],
   "source": [
    "labels = pd.read_csv(labelsFile, usecols=dtypeLabels.keys(), dtype=dtypeLabels)\n",
    "features = pd.read_csv(featuresFile, usecols=dtypeFeatures.keys(), dtype=dtypeFeatures)\n",
    "#featuresCategorico = pd.read_csv(featuresCategoricoFile)"
   ]
  },
  {
   "cell_type": "code",
   "execution_count": 52,
   "metadata": {},
   "outputs": [],
   "source": [
    "labels = labels.sort_values(by='device_id').reset_index(drop=True)\n",
    "features = features.sort_values(by='device_id').reset_index(drop=True)\n",
    "#featuresCategorico = featuresCategorico.sort_values(by='device_id').reset_index(drop=True)"
   ]
  },
  {
   "cell_type": "code",
   "execution_count": null,
   "metadata": {},
   "outputs": [],
   "source": []
  },
  {
   "cell_type": "code",
   "execution_count": 53,
   "metadata": {},
   "outputs": [],
   "source": [
    "labels = labels.drop('device_id', axis=1)"
   ]
  },
  {
   "cell_type": "code",
   "execution_count": 54,
   "metadata": {},
   "outputs": [],
   "source": [
    "featuresPredict = pd.read_csv(featuresPredictFile, usecols=dtypeFeatures.keys(), dtype=dtypeFeatures)\n",
    "featuresPredict2 = pd.read_csv(featuresPredictFile2, usecols=dtypeFeatures.keys(), dtype=dtypeFeatures)\n",
    "target = pd.read_csv(targetFile, usecols=dtypeTarget.keys(), dtype=dtypeTarget)"
   ]
  },
  {
   "cell_type": "code",
   "execution_count": 55,
   "metadata": {},
   "outputs": [],
   "source": [
    "target['device_id'] = target['ref_hash'].str[:-3]\n",
    "target = target.drop('ref_hash', axis=1)\n",
    "target = target.drop_duplicates(subset='device_id')"
   ]
  },
  {
   "cell_type": "code",
   "execution_count": 56,
   "metadata": {},
   "outputs": [],
   "source": [
    "labels=labels.fillna(259200)"
   ]
  },
  {
   "cell_type": "code",
   "execution_count": 57,
   "metadata": {},
   "outputs": [],
   "source": [
    "features = features.reindex(sorted(features.columns), axis=1)\n",
    "featuresPredict = featuresPredict.reindex(sorted(featuresPredict.columns), axis=1)\n",
    "featuresPredict2 = featuresPredict2.reindex(sorted(featuresPredict.columns), axis=1)\n",
    "#featuresCategorico = featuresCategorico.reindex(sorted(featuresCategorico.columns), axis=1)"
   ]
  },
  {
   "cell_type": "code",
   "execution_count": 58,
   "metadata": {},
   "outputs": [
    {
     "name": "stdout",
     "output_type": "stream",
     "text": [
      "\n"
     ]
    }
   ],
   "source": [
    "'''features['auctionsAproxFreq']=features['auctionsAproxFreq'].fillna(features['auctionsAproxFreq'].mean())\n",
    "features['auctionsCount']=features['auctionsCount'].fillna(features['auctionsCount'].mean())\n",
    "features['auctionsLast']=features['auctionsLast'].fillna(features['auctionsLast'].mean())\n",
    "features['auctionsMeanInterval']=features['auctionsMeanInterval'].fillna(features['auctionsMeanInterval'].mean())\n",
    "features['auctionsMostFreqDay']=features['auctionsMostFreqDay'].fillna(features['auctionsMostFreqDay'].mean())\n",
    "features['auctionsStdDevInterval']=features['auctionsStdDevInterval'].fillna(features['auctionsStdDevInterval'].mean())\n",
    "features['clicksAproxFreq']=features['clicksAproxFreq'].fillna(features['clicksAproxFreq'].mean())\n",
    "features['clicksCount']=features['clicksCount'].fillna(features['clicksCount'].mean())\n",
    "features['clicksLast']=features['clicksLast'].fillna(features['clicksLast'].mean())\n",
    "features['clicksMeanInterval']=features['clicksMeanInterval'].fillna(features['clicksMeanInterval'].mean())\n",
    "features['clicksMostFreqDay']=features['clicksMostFreqDay'].fillna(features['clicksMostFreqDay'].mean())\n",
    "features['clicksStdDevInterval']=features['clicksStdDevInterval'].fillna(features['clicksStdDevInterval'].mean())\n",
    "features['eventsAproxFreq']=features['eventsAproxFreq'].fillna(features['eventsAproxFreq'].mean())\n",
    "features['eventsCount']=features['eventsCount'].fillna(features['eventsCount'].mean())\n",
    "features['eventsLast']=features['eventsLast'].fillna(features['eventsLast'].mean())\n",
    "features['eventsMeanInterval']=features['eventsMeanInterval'].fillna(features['eventsMeanInterval'].mean())\n",
    "features['eventsMostFreqDay']=features['eventsMostFreqDay'].fillna(features['eventsMostFreqDay'].mean())\n",
    "features['eventsStdDevInterval']=features['eventsStdDevInterval'].fillna(features['eventsStdDevInterval'].mean())\n",
    "features['installsAproxFreq']=features['installsAproxFreq'].fillna(features['installsAproxFreq'].mean())\n",
    "features['installsCount']=features['installsCount'].fillna(features['installsCount'].mean())\n",
    "features['installsLast']=features['installsLast'].fillna(features['installsLast'].mean())\n",
    "features['installsMeanInterval']=features['installsMeanInterval'].fillna(features['installsMeanInterval'].mean())\n",
    "features['installsMostFreqDay']=features['installsMostFreqDay'].fillna(features['installsMostFreqDay'].mean())\n",
    "features['installsStdDevInterval']=features['installsStdDevInterval'].fillna(features['installsStdDevInterval'].mean())\n",
    "\n",
    "featuresPredict['auctionsAproxFreq']=features['auctionsAproxFreq'].fillna(features['auctionsAproxFreq'].mean())\n",
    "featuresPredict['auctionsCount']=features['auctionsCount'].fillna(features['auctionsCount'].mean())\n",
    "featuresPredict['auctionsLast']=features['auctionsLast'].fillna(features['auctionsLast'].mean())\n",
    "featuresPredict['auctionsMeanInterval']=features['auctionsMeanInterval'].fillna(features['auctionsMeanInterval'].mean())\n",
    "featuresPredict['auctionsMostFreqDay']=features['auctionsMostFreqDay'].fillna(features['auctionsMostFreqDay'].mean())\n",
    "featuresPredict['auctionsStdDevInterval']=features['auctionsStdDevInterval'].fillna(features['auctionsStdDevInterval'].mean())\n",
    "featuresPredict['clicksAproxFreq']=features['clicksAproxFreq'].fillna(features['clicksAproxFreq'].mean())\n",
    "featuresPredict['clicksCount']=features['clicksCount'].fillna(features['clicksCount'].mean())\n",
    "featuresPredict['clicksLast']=features['clicksLast'].fillna(features['clicksLast'].mean())\n",
    "featuresPredict['clicksMeanInterval']=features['clicksMeanInterval'].fillna(features['clicksMeanInterval'].mean())\n",
    "featuresPredict['clicksMostFreqDay']=features['clicksMostFreqDay'].fillna(features['clicksMostFreqDay'].mean())\n",
    "featuresPredict['clicksStdDevInterval']=features['clicksStdDevInterval'].fillna(features['clicksStdDevInterval'].mean())\n",
    "featuresPredict['eventsAproxFreq']=features['eventsAproxFreq'].fillna(features['eventsAproxFreq'].mean())\n",
    "featuresPredict['eventsCount']=features['eventsCount'].fillna(features['eventsCount'].mean())\n",
    "featuresPredict['eventsLast']=features['eventsLast'].fillna(features['eventsLast'].mean())\n",
    "featuresPredict['eventsMeanInterval']=features['eventsMeanInterval'].fillna(features['eventsMeanInterval'].mean())\n",
    "featuresPredict['eventsMostFreqDay']=features['eventsMostFreqDay'].fillna(features['eventsMostFreqDay'].mean())\n",
    "featuresPredict['eventsStdDevInterval']=features['eventsStdDevInterval'].fillna(features['eventsStdDevInterval'].mean())\n",
    "featuresPredict['installsAproxFreq']=features['installsAproxFreq'].fillna(features['installsAproxFreq'].mean())\n",
    "featuresPredict['installsCount']=features['installsCount'].fillna(features['installsCount'].mean())\n",
    "featuresPredict['installsLast']=features['installsLast'].fillna(features['installsLast'].mean())\n",
    "featuresPredict['installsMeanInterval']=features['installsMeanInterval'].fillna(features['installsMeanInterval'].mean())\n",
    "featuresPredict['installsMostFreqDay']=features['installsMostFreqDay'].fillna(features['installsMostFreqDay'].mean())\n",
    "featuresPredict['installsStdDevInterval']=features['installsStdDevInterval'].fillna(features['installsStdDevInterval'].mean())'''\n",
    "print('')"
   ]
  },
  {
   "cell_type": "code",
   "execution_count": null,
   "metadata": {},
   "outputs": [],
   "source": []
  },
  {
   "cell_type": "code",
   "execution_count": 59,
   "metadata": {},
   "outputs": [],
   "source": [
    "#featuresCategorico=featuresCategorico.astype({'device_id':'str'})\n",
    "features['device_id2']=features['device_id'].str[:-2]"
   ]
  },
  {
   "cell_type": "code",
   "execution_count": null,
   "metadata": {},
   "outputs": [],
   "source": []
  },
  {
   "cell_type": "code",
   "execution_count": null,
   "metadata": {},
   "outputs": [],
   "source": []
  },
  {
   "cell_type": "code",
   "execution_count": 60,
   "metadata": {},
   "outputs": [],
   "source": [
    "featuresPredict[['auctionsCount','clicksCount','eventsCount','installsCount','auctionsLast','clicksLast','eventsLast','installsLast','auctionsMostFreqDay','clicksMostFreqDay','eventsMostFreqDay','installsMostFreqDay']]=0\n",
    "targetFeatures=target.merge(featuresPredict2,on='device_id')\n",
    "targetFeatures=targetFeatures.append(target.merge(featuresPredict,on='device_id'))\n",
    "targetFeatures=targetFeatures.drop_duplicates(subset='device_id',keep='first')"
   ]
  },
  {
   "cell_type": "code",
   "execution_count": 61,
   "metadata": {},
   "outputs": [
    {
     "data": {
      "text/html": [
       "<div>\n",
       "<style scoped>\n",
       "    .dataframe tbody tr th:only-of-type {\n",
       "        vertical-align: middle;\n",
       "    }\n",
       "\n",
       "    .dataframe tbody tr th {\n",
       "        vertical-align: top;\n",
       "    }\n",
       "\n",
       "    .dataframe thead th {\n",
       "        text-align: right;\n",
       "    }\n",
       "</style>\n",
       "<table border=\"1\" class=\"dataframe\">\n",
       "  <thead>\n",
       "    <tr style=\"text-align: right;\">\n",
       "      <th></th>\n",
       "      <th>obj</th>\n",
       "      <th>device_id</th>\n",
       "      <th>auctionsAproxFreq</th>\n",
       "      <th>auctionsCount</th>\n",
       "      <th>auctionsLast</th>\n",
       "      <th>auctionsMeanInterval</th>\n",
       "      <th>auctionsMostFreqDay</th>\n",
       "      <th>auctionsStdDevInterval</th>\n",
       "      <th>clicksAproxFreq</th>\n",
       "      <th>clicksCount</th>\n",
       "      <th>...</th>\n",
       "      <th>eventsLast</th>\n",
       "      <th>eventsMeanInterval</th>\n",
       "      <th>eventsMostFreqDay</th>\n",
       "      <th>eventsStdDevInterval</th>\n",
       "      <th>installsAproxFreq</th>\n",
       "      <th>installsCount</th>\n",
       "      <th>installsLast</th>\n",
       "      <th>installsMeanInterval</th>\n",
       "      <th>installsMostFreqDay</th>\n",
       "      <th>installsStdDevInterval</th>\n",
       "    </tr>\n",
       "  </thead>\n",
       "  <tbody>\n",
       "    <tr>\n",
       "      <th>0</th>\n",
       "      <td>0.0</td>\n",
       "      <td>1000169251625791246</td>\n",
       "      <td>0.000051</td>\n",
       "      <td>13.0</td>\n",
       "      <td>255742.213270</td>\n",
       "      <td>19672.477944</td>\n",
       "      <td>3.0</td>\n",
       "      <td>25426.078244</td>\n",
       "      <td>NaN</td>\n",
       "      <td>NaN</td>\n",
       "      <td>...</td>\n",
       "      <td>155807.794</td>\n",
       "      <td>77903.897000</td>\n",
       "      <td>2.0</td>\n",
       "      <td>58027.428235</td>\n",
       "      <td>NaN</td>\n",
       "      <td>NaN</td>\n",
       "      <td>NaN</td>\n",
       "      <td>NaN</td>\n",
       "      <td>NaN</td>\n",
       "      <td>NaN</td>\n",
       "    </tr>\n",
       "    <tr>\n",
       "      <th>1</th>\n",
       "      <td>0.0</td>\n",
       "      <td>1000395625957344683</td>\n",
       "      <td>0.000060</td>\n",
       "      <td>15.0</td>\n",
       "      <td>251092.530737</td>\n",
       "      <td>16739.502049</td>\n",
       "      <td>1.0</td>\n",
       "      <td>24761.609512</td>\n",
       "      <td>NaN</td>\n",
       "      <td>NaN</td>\n",
       "      <td>...</td>\n",
       "      <td>NaN</td>\n",
       "      <td>NaN</td>\n",
       "      <td>NaN</td>\n",
       "      <td>NaN</td>\n",
       "      <td>NaN</td>\n",
       "      <td>NaN</td>\n",
       "      <td>NaN</td>\n",
       "      <td>NaN</td>\n",
       "      <td>NaN</td>\n",
       "      <td>NaN</td>\n",
       "    </tr>\n",
       "    <tr>\n",
       "      <th>2</th>\n",
       "      <td>0.0</td>\n",
       "      <td>1003027494996471685</td>\n",
       "      <td>0.001590</td>\n",
       "      <td>168.0</td>\n",
       "      <td>105662.836023</td>\n",
       "      <td>628.945453</td>\n",
       "      <td>1.0</td>\n",
       "      <td>4624.605939</td>\n",
       "      <td>NaN</td>\n",
       "      <td>NaN</td>\n",
       "      <td>...</td>\n",
       "      <td>256154.303</td>\n",
       "      <td>28461.589222</td>\n",
       "      <td>3.0</td>\n",
       "      <td>34811.038676</td>\n",
       "      <td>NaN</td>\n",
       "      <td>NaN</td>\n",
       "      <td>NaN</td>\n",
       "      <td>NaN</td>\n",
       "      <td>NaN</td>\n",
       "      <td>NaN</td>\n",
       "    </tr>\n",
       "    <tr>\n",
       "      <th>3</th>\n",
       "      <td>0.0</td>\n",
       "      <td>1006670001679961544</td>\n",
       "      <td>0.000013</td>\n",
       "      <td>3.0</td>\n",
       "      <td>237780.114576</td>\n",
       "      <td>79260.038192</td>\n",
       "      <td>3.0</td>\n",
       "      <td>87349.815378</td>\n",
       "      <td>NaN</td>\n",
       "      <td>NaN</td>\n",
       "      <td>...</td>\n",
       "      <td>NaN</td>\n",
       "      <td>NaN</td>\n",
       "      <td>NaN</td>\n",
       "      <td>NaN</td>\n",
       "      <td>NaN</td>\n",
       "      <td>NaN</td>\n",
       "      <td>NaN</td>\n",
       "      <td>NaN</td>\n",
       "      <td>NaN</td>\n",
       "      <td>NaN</td>\n",
       "    </tr>\n",
       "    <tr>\n",
       "      <th>4</th>\n",
       "      <td>0.0</td>\n",
       "      <td>1007573308966476713</td>\n",
       "      <td>0.000028</td>\n",
       "      <td>7.0</td>\n",
       "      <td>254084.485745</td>\n",
       "      <td>36297.783678</td>\n",
       "      <td>1.0</td>\n",
       "      <td>29939.808375</td>\n",
       "      <td>NaN</td>\n",
       "      <td>NaN</td>\n",
       "      <td>...</td>\n",
       "      <td>NaN</td>\n",
       "      <td>NaN</td>\n",
       "      <td>NaN</td>\n",
       "      <td>NaN</td>\n",
       "      <td>NaN</td>\n",
       "      <td>NaN</td>\n",
       "      <td>NaN</td>\n",
       "      <td>NaN</td>\n",
       "      <td>NaN</td>\n",
       "      <td>NaN</td>\n",
       "    </tr>\n",
       "  </tbody>\n",
       "</table>\n",
       "<p>5 rows × 26 columns</p>\n",
       "</div>"
      ],
      "text/plain": [
       "   obj            device_id  auctionsAproxFreq  auctionsCount   auctionsLast  \\\n",
       "0  0.0  1000169251625791246           0.000051           13.0  255742.213270   \n",
       "1  0.0  1000395625957344683           0.000060           15.0  251092.530737   \n",
       "2  0.0  1003027494996471685           0.001590          168.0  105662.836023   \n",
       "3  0.0  1006670001679961544           0.000013            3.0  237780.114576   \n",
       "4  0.0  1007573308966476713           0.000028            7.0  254084.485745   \n",
       "\n",
       "   auctionsMeanInterval  auctionsMostFreqDay  auctionsStdDevInterval  \\\n",
       "0          19672.477944                  3.0            25426.078244   \n",
       "1          16739.502049                  1.0            24761.609512   \n",
       "2            628.945453                  1.0             4624.605939   \n",
       "3          79260.038192                  3.0            87349.815378   \n",
       "4          36297.783678                  1.0            29939.808375   \n",
       "\n",
       "   clicksAproxFreq  clicksCount  ...  eventsLast  eventsMeanInterval  \\\n",
       "0              NaN          NaN  ...  155807.794        77903.897000   \n",
       "1              NaN          NaN  ...         NaN                 NaN   \n",
       "2              NaN          NaN  ...  256154.303        28461.589222   \n",
       "3              NaN          NaN  ...         NaN                 NaN   \n",
       "4              NaN          NaN  ...         NaN                 NaN   \n",
       "\n",
       "   eventsMostFreqDay  eventsStdDevInterval  installsAproxFreq  installsCount  \\\n",
       "0                2.0          58027.428235                NaN            NaN   \n",
       "1                NaN                   NaN                NaN            NaN   \n",
       "2                3.0          34811.038676                NaN            NaN   \n",
       "3                NaN                   NaN                NaN            NaN   \n",
       "4                NaN                   NaN                NaN            NaN   \n",
       "\n",
       "   installsLast  installsMeanInterval  installsMostFreqDay  \\\n",
       "0           NaN                   NaN                  NaN   \n",
       "1           NaN                   NaN                  NaN   \n",
       "2           NaN                   NaN                  NaN   \n",
       "3           NaN                   NaN                  NaN   \n",
       "4           NaN                   NaN                  NaN   \n",
       "\n",
       "   installsStdDevInterval  \n",
       "0                     NaN  \n",
       "1                     NaN  \n",
       "2                     NaN  \n",
       "3                     NaN  \n",
       "4                     NaN  \n",
       "\n",
       "[5 rows x 26 columns]"
      ]
     },
     "execution_count": 61,
     "metadata": {},
     "output_type": "execute_result"
    }
   ],
   "source": [
    "#targetFeatures=targetFeatures.merge(featuresCategorico,on='device_id')\n",
    "targetFeatures.head()"
   ]
  },
  {
   "cell_type": "code",
   "execution_count": 62,
   "metadata": {},
   "outputs": [
    {
     "data": {
      "text/html": [
       "<div>\n",
       "<style scoped>\n",
       "    .dataframe tbody tr th:only-of-type {\n",
       "        vertical-align: middle;\n",
       "    }\n",
       "\n",
       "    .dataframe tbody tr th {\n",
       "        vertical-align: top;\n",
       "    }\n",
       "\n",
       "    .dataframe thead th {\n",
       "        text-align: right;\n",
       "    }\n",
       "</style>\n",
       "<table border=\"1\" class=\"dataframe\">\n",
       "  <thead>\n",
       "    <tr style=\"text-align: right;\">\n",
       "      <th></th>\n",
       "      <th>auctionsAproxFreq</th>\n",
       "      <th>auctionsCount</th>\n",
       "      <th>auctionsLast</th>\n",
       "      <th>auctionsMeanInterval</th>\n",
       "      <th>auctionsMostFreqDay</th>\n",
       "      <th>auctionsStdDevInterval</th>\n",
       "      <th>clicksAproxFreq</th>\n",
       "      <th>clicksCount</th>\n",
       "      <th>clicksLast</th>\n",
       "      <th>clicksMeanInterval</th>\n",
       "      <th>...</th>\n",
       "      <th>eventsMeanInterval</th>\n",
       "      <th>eventsMostFreqDay</th>\n",
       "      <th>eventsStdDevInterval</th>\n",
       "      <th>installsAproxFreq</th>\n",
       "      <th>installsCount</th>\n",
       "      <th>installsLast</th>\n",
       "      <th>installsMeanInterval</th>\n",
       "      <th>installsMostFreqDay</th>\n",
       "      <th>installsStdDevInterval</th>\n",
       "      <th>device_id2</th>\n",
       "    </tr>\n",
       "  </thead>\n",
       "  <tbody>\n",
       "    <tr>\n",
       "      <th>0</th>\n",
       "      <td>0.000015</td>\n",
       "      <td>3.0</td>\n",
       "      <td>196173.950039</td>\n",
       "      <td>65391.316680</td>\n",
       "      <td>3.0</td>\n",
       "      <td>113207.422851</td>\n",
       "      <td>NaN</td>\n",
       "      <td>NaN</td>\n",
       "      <td>NaN</td>\n",
       "      <td>NaN</td>\n",
       "      <td>...</td>\n",
       "      <td>58353.77900</td>\n",
       "      <td>3.0</td>\n",
       "      <td>48363.774582</td>\n",
       "      <td>0.000006</td>\n",
       "      <td>1.0</td>\n",
       "      <td>179017.206</td>\n",
       "      <td>179017.206</td>\n",
       "      <td>3.0</td>\n",
       "      <td>NaN</td>\n",
       "      <td>1000001243847627208</td>\n",
       "    </tr>\n",
       "    <tr>\n",
       "      <th>1</th>\n",
       "      <td>0.000027</td>\n",
       "      <td>3.0</td>\n",
       "      <td>109773.950039</td>\n",
       "      <td>36591.316680</td>\n",
       "      <td>2.0</td>\n",
       "      <td>63324.361119</td>\n",
       "      <td>NaN</td>\n",
       "      <td>NaN</td>\n",
       "      <td>NaN</td>\n",
       "      <td>NaN</td>\n",
       "      <td>...</td>\n",
       "      <td>73507.55800</td>\n",
       "      <td>2.0</td>\n",
       "      <td>28564.499079</td>\n",
       "      <td>0.000011</td>\n",
       "      <td>1.0</td>\n",
       "      <td>92617.206</td>\n",
       "      <td>92617.206</td>\n",
       "      <td>2.0</td>\n",
       "      <td>NaN</td>\n",
       "      <td>1000001243847627208</td>\n",
       "    </tr>\n",
       "    <tr>\n",
       "      <th>2</th>\n",
       "      <td>0.000128</td>\n",
       "      <td>3.0</td>\n",
       "      <td>23373.950039</td>\n",
       "      <td>7791.316680</td>\n",
       "      <td>1.0</td>\n",
       "      <td>13441.310709</td>\n",
       "      <td>NaN</td>\n",
       "      <td>NaN</td>\n",
       "      <td>NaN</td>\n",
       "      <td>NaN</td>\n",
       "      <td>...</td>\n",
       "      <td>42345.89950</td>\n",
       "      <td>3.0</td>\n",
       "      <td>73977.713361</td>\n",
       "      <td>0.000161</td>\n",
       "      <td>1.0</td>\n",
       "      <td>6217.206</td>\n",
       "      <td>6217.206</td>\n",
       "      <td>1.0</td>\n",
       "      <td>NaN</td>\n",
       "      <td>1000001243847627208</td>\n",
       "    </tr>\n",
       "    <tr>\n",
       "      <th>3</th>\n",
       "      <td>NaN</td>\n",
       "      <td>NaN</td>\n",
       "      <td>NaN</td>\n",
       "      <td>NaN</td>\n",
       "      <td>NaN</td>\n",
       "      <td>NaN</td>\n",
       "      <td>NaN</td>\n",
       "      <td>NaN</td>\n",
       "      <td>NaN</td>\n",
       "      <td>NaN</td>\n",
       "      <td>...</td>\n",
       "      <td>41918.84925</td>\n",
       "      <td>2.0</td>\n",
       "      <td>79975.669164</td>\n",
       "      <td>NaN</td>\n",
       "      <td>NaN</td>\n",
       "      <td>NaN</td>\n",
       "      <td>NaN</td>\n",
       "      <td>NaN</td>\n",
       "      <td>NaN</td>\n",
       "      <td>1000001243847627208</td>\n",
       "    </tr>\n",
       "    <tr>\n",
       "      <th>4</th>\n",
       "      <td>0.000043</td>\n",
       "      <td>8.0</td>\n",
       "      <td>186198.308893</td>\n",
       "      <td>23274.788612</td>\n",
       "      <td>2.0</td>\n",
       "      <td>27735.809750</td>\n",
       "      <td>NaN</td>\n",
       "      <td>NaN</td>\n",
       "      <td>NaN</td>\n",
       "      <td>NaN</td>\n",
       "      <td>...</td>\n",
       "      <td>NaN</td>\n",
       "      <td>NaN</td>\n",
       "      <td>NaN</td>\n",
       "      <td>NaN</td>\n",
       "      <td>NaN</td>\n",
       "      <td>NaN</td>\n",
       "      <td>NaN</td>\n",
       "      <td>NaN</td>\n",
       "      <td>NaN</td>\n",
       "      <td>1000055965717261943</td>\n",
       "    </tr>\n",
       "  </tbody>\n",
       "</table>\n",
       "<p>5 rows × 26 columns</p>\n",
       "</div>"
      ],
      "text/plain": [
       "   auctionsAproxFreq  auctionsCount   auctionsLast  auctionsMeanInterval  \\\n",
       "0           0.000015            3.0  196173.950039          65391.316680   \n",
       "1           0.000027            3.0  109773.950039          36591.316680   \n",
       "2           0.000128            3.0   23373.950039           7791.316680   \n",
       "3                NaN            NaN            NaN                   NaN   \n",
       "4           0.000043            8.0  186198.308893          23274.788612   \n",
       "\n",
       "   auctionsMostFreqDay  auctionsStdDevInterval  clicksAproxFreq  clicksCount  \\\n",
       "0                  3.0           113207.422851              NaN          NaN   \n",
       "1                  2.0            63324.361119              NaN          NaN   \n",
       "2                  1.0            13441.310709              NaN          NaN   \n",
       "3                  NaN                     NaN              NaN          NaN   \n",
       "4                  2.0            27735.809750              NaN          NaN   \n",
       "\n",
       "   clicksLast  clicksMeanInterval  ...  eventsMeanInterval  eventsMostFreqDay  \\\n",
       "0         NaN                 NaN  ...         58353.77900                3.0   \n",
       "1         NaN                 NaN  ...         73507.55800                2.0   \n",
       "2         NaN                 NaN  ...         42345.89950                3.0   \n",
       "3         NaN                 NaN  ...         41918.84925                2.0   \n",
       "4         NaN                 NaN  ...                 NaN                NaN   \n",
       "\n",
       "  eventsStdDevInterval  installsAproxFreq  installsCount  installsLast  \\\n",
       "0         48363.774582           0.000006            1.0    179017.206   \n",
       "1         28564.499079           0.000011            1.0     92617.206   \n",
       "2         73977.713361           0.000161            1.0      6217.206   \n",
       "3         79975.669164                NaN            NaN           NaN   \n",
       "4                  NaN                NaN            NaN           NaN   \n",
       "\n",
       "   installsMeanInterval  installsMostFreqDay  installsStdDevInterval  \\\n",
       "0            179017.206                  3.0                     NaN   \n",
       "1             92617.206                  2.0                     NaN   \n",
       "2              6217.206                  1.0                     NaN   \n",
       "3                   NaN                  NaN                     NaN   \n",
       "4                   NaN                  NaN                     NaN   \n",
       "\n",
       "            device_id2  \n",
       "0  1000001243847627208  \n",
       "1  1000001243847627208  \n",
       "2  1000001243847627208  \n",
       "3  1000001243847627208  \n",
       "4  1000055965717261943  \n",
       "\n",
       "[5 rows x 26 columns]"
      ]
     },
     "execution_count": 62,
     "metadata": {},
     "output_type": "execute_result"
    }
   ],
   "source": [
    "features['device_id2']=features['device_id'].str[:-2]\n",
    "#features=features.merge(featuresCategorico,left_on='device_id2',right_on='device_id')\n",
    "features.head()"
   ]
  },
  {
   "cell_type": "code",
   "execution_count": null,
   "metadata": {},
   "outputs": [],
   "source": []
  },
  {
   "cell_type": "code",
   "execution_count": 63,
   "metadata": {},
   "outputs": [],
   "source": [
    "targetFeatures=targetFeatures.fillna(0)\n",
    "targetFeatures.loc[targetFeatures['installsAproxFreq'] == float('inf'), 'installsAproxFreq'] = 0\n",
    "targetFeatures=targetFeatures.drop(['device_id','obj'],axis=1)\n",
    "targetFeatures=targetFeatures.transform(lambda x: (x-x.mean())/x.std())"
   ]
  },
  {
   "cell_type": "code",
   "execution_count": 64,
   "metadata": {},
   "outputs": [],
   "source": [
    "features=features.fillna(0)\n",
    "features.loc[features['installsAproxFreq'] == float('inf'), 'installsAproxFreq'] = 0\n",
    "features=features.drop(['device_id','device_id2'],axis=1)\n",
    "features=features.transform(lambda x: (x-x.mean())/x.std())"
   ]
  },
  {
   "cell_type": "code",
   "execution_count": 65,
   "metadata": {},
   "outputs": [],
   "source": [
    "targetFeatures=targetFeatures.fillna(0)"
   ]
  },
  {
   "cell_type": "code",
   "execution_count": null,
   "metadata": {},
   "outputs": [],
   "source": []
  },
  {
   "cell_type": "code",
   "execution_count": 66,
   "metadata": {},
   "outputs": [],
   "source": [
    "#features.to_csv('data/featuresTrain.csv')\n",
    "#targetFeatures.to_csv('data/featuresPredict.csv')\n",
    "#labels.to_csv('data/labelsTrain.csv')"
   ]
  },
  {
   "cell_type": "code",
   "execution_count": 67,
   "metadata": {},
   "outputs": [
    {
     "data": {
      "text/html": [
       "<div>\n",
       "<style scoped>\n",
       "    .dataframe tbody tr th:only-of-type {\n",
       "        vertical-align: middle;\n",
       "    }\n",
       "\n",
       "    .dataframe tbody tr th {\n",
       "        vertical-align: top;\n",
       "    }\n",
       "\n",
       "    .dataframe thead th {\n",
       "        text-align: right;\n",
       "    }\n",
       "</style>\n",
       "<table border=\"1\" class=\"dataframe\">\n",
       "  <thead>\n",
       "    <tr style=\"text-align: right;\">\n",
       "      <th></th>\n",
       "      <th>auctionsAproxFreq</th>\n",
       "      <th>auctionsCount</th>\n",
       "      <th>auctionsLast</th>\n",
       "      <th>auctionsMeanInterval</th>\n",
       "      <th>auctionsMostFreqDay</th>\n",
       "      <th>auctionsStdDevInterval</th>\n",
       "      <th>clicksAproxFreq</th>\n",
       "      <th>clicksCount</th>\n",
       "      <th>clicksLast</th>\n",
       "      <th>clicksMeanInterval</th>\n",
       "      <th>...</th>\n",
       "      <th>eventsLast</th>\n",
       "      <th>eventsMeanInterval</th>\n",
       "      <th>eventsMostFreqDay</th>\n",
       "      <th>eventsStdDevInterval</th>\n",
       "      <th>installsAproxFreq</th>\n",
       "      <th>installsCount</th>\n",
       "      <th>installsLast</th>\n",
       "      <th>installsMeanInterval</th>\n",
       "      <th>installsMostFreqDay</th>\n",
       "      <th>installsStdDevInterval</th>\n",
       "    </tr>\n",
       "  </thead>\n",
       "  <tbody>\n",
       "    <tr>\n",
       "      <th>0</th>\n",
       "      <td>-0.115636</td>\n",
       "      <td>-0.200312</td>\n",
       "      <td>0.984836</td>\n",
       "      <td>-0.316594</td>\n",
       "      <td>1.125257</td>\n",
       "      <td>-0.189354</td>\n",
       "      <td>-0.092106</td>\n",
       "      <td>-0.14565</td>\n",
       "      <td>-0.188944</td>\n",
       "      <td>-0.178078</td>\n",
       "      <td>...</td>\n",
       "      <td>0.676200</td>\n",
       "      <td>0.643249</td>\n",
       "      <td>0.733146</td>\n",
       "      <td>0.670655</td>\n",
       "      <td>-0.06531</td>\n",
       "      <td>-0.701567</td>\n",
       "      <td>-0.66689</td>\n",
       "      <td>-0.697976</td>\n",
       "      <td>-0.721385</td>\n",
       "      <td>-0.269394</td>\n",
       "    </tr>\n",
       "    <tr>\n",
       "      <th>1</th>\n",
       "      <td>-0.111506</td>\n",
       "      <td>-0.189500</td>\n",
       "      <td>0.936063</td>\n",
       "      <td>-0.363904</td>\n",
       "      <td>-0.695449</td>\n",
       "      <td>-0.205833</td>\n",
       "      <td>-0.092106</td>\n",
       "      <td>-0.14565</td>\n",
       "      <td>-0.188944</td>\n",
       "      <td>-0.178078</td>\n",
       "      <td>...</td>\n",
       "      <td>-0.873659</td>\n",
       "      <td>-0.550113</td>\n",
       "      <td>-0.894857</td>\n",
       "      <td>-0.612610</td>\n",
       "      <td>-0.06531</td>\n",
       "      <td>-0.701567</td>\n",
       "      <td>-0.66689</td>\n",
       "      <td>-0.697976</td>\n",
       "      <td>-0.721385</td>\n",
       "      <td>-0.269394</td>\n",
       "    </tr>\n",
       "    <tr>\n",
       "      <th>2</th>\n",
       "      <td>0.597958</td>\n",
       "      <td>0.637622</td>\n",
       "      <td>-0.589411</td>\n",
       "      <td>-0.623775</td>\n",
       "      <td>-0.695449</td>\n",
       "      <td>-0.705247</td>\n",
       "      <td>-0.092106</td>\n",
       "      <td>-0.14565</td>\n",
       "      <td>-0.188944</td>\n",
       "      <td>-0.178078</td>\n",
       "      <td>...</td>\n",
       "      <td>1.674371</td>\n",
       "      <td>-0.114127</td>\n",
       "      <td>1.547148</td>\n",
       "      <td>0.157229</td>\n",
       "      <td>-0.06531</td>\n",
       "      <td>-0.701567</td>\n",
       "      <td>-0.66689</td>\n",
       "      <td>-0.697976</td>\n",
       "      <td>-0.721385</td>\n",
       "      <td>-0.269394</td>\n",
       "    </tr>\n",
       "    <tr>\n",
       "      <th>3</th>\n",
       "      <td>-0.133354</td>\n",
       "      <td>-0.254372</td>\n",
       "      <td>0.796424</td>\n",
       "      <td>0.644584</td>\n",
       "      <td>1.125257</td>\n",
       "      <td>1.346403</td>\n",
       "      <td>-0.092106</td>\n",
       "      <td>-0.14565</td>\n",
       "      <td>-0.188944</td>\n",
       "      <td>-0.178078</td>\n",
       "      <td>...</td>\n",
       "      <td>-0.873659</td>\n",
       "      <td>-0.550113</td>\n",
       "      <td>-0.894857</td>\n",
       "      <td>-0.612610</td>\n",
       "      <td>-0.06531</td>\n",
       "      <td>-0.701567</td>\n",
       "      <td>-0.66689</td>\n",
       "      <td>-0.697976</td>\n",
       "      <td>-0.721385</td>\n",
       "      <td>-0.269394</td>\n",
       "    </tr>\n",
       "    <tr>\n",
       "      <th>4</th>\n",
       "      <td>-0.126430</td>\n",
       "      <td>-0.232748</td>\n",
       "      <td>0.967447</td>\n",
       "      <td>-0.048419</td>\n",
       "      <td>-0.695449</td>\n",
       "      <td>-0.077410</td>\n",
       "      <td>-0.092106</td>\n",
       "      <td>-0.14565</td>\n",
       "      <td>-0.188944</td>\n",
       "      <td>-0.178078</td>\n",
       "      <td>...</td>\n",
       "      <td>-0.873659</td>\n",
       "      <td>-0.550113</td>\n",
       "      <td>-0.894857</td>\n",
       "      <td>-0.612610</td>\n",
       "      <td>-0.06531</td>\n",
       "      <td>-0.701567</td>\n",
       "      <td>-0.66689</td>\n",
       "      <td>-0.697976</td>\n",
       "      <td>-0.721385</td>\n",
       "      <td>-0.269394</td>\n",
       "    </tr>\n",
       "  </tbody>\n",
       "</table>\n",
       "<p>5 rows × 24 columns</p>\n",
       "</div>"
      ],
      "text/plain": [
       "   auctionsAproxFreq  auctionsCount  auctionsLast  auctionsMeanInterval  \\\n",
       "0          -0.115636      -0.200312      0.984836             -0.316594   \n",
       "1          -0.111506      -0.189500      0.936063             -0.363904   \n",
       "2           0.597958       0.637622     -0.589411             -0.623775   \n",
       "3          -0.133354      -0.254372      0.796424              0.644584   \n",
       "4          -0.126430      -0.232748      0.967447             -0.048419   \n",
       "\n",
       "   auctionsMostFreqDay  auctionsStdDevInterval  clicksAproxFreq  clicksCount  \\\n",
       "0             1.125257               -0.189354        -0.092106     -0.14565   \n",
       "1            -0.695449               -0.205833        -0.092106     -0.14565   \n",
       "2            -0.695449               -0.705247        -0.092106     -0.14565   \n",
       "3             1.125257                1.346403        -0.092106     -0.14565   \n",
       "4            -0.695449               -0.077410        -0.092106     -0.14565   \n",
       "\n",
       "   clicksLast  clicksMeanInterval  ...  eventsLast  eventsMeanInterval  \\\n",
       "0   -0.188944           -0.178078  ...    0.676200            0.643249   \n",
       "1   -0.188944           -0.178078  ...   -0.873659           -0.550113   \n",
       "2   -0.188944           -0.178078  ...    1.674371           -0.114127   \n",
       "3   -0.188944           -0.178078  ...   -0.873659           -0.550113   \n",
       "4   -0.188944           -0.178078  ...   -0.873659           -0.550113   \n",
       "\n",
       "   eventsMostFreqDay  eventsStdDevInterval  installsAproxFreq  installsCount  \\\n",
       "0           0.733146              0.670655           -0.06531      -0.701567   \n",
       "1          -0.894857             -0.612610           -0.06531      -0.701567   \n",
       "2           1.547148              0.157229           -0.06531      -0.701567   \n",
       "3          -0.894857             -0.612610           -0.06531      -0.701567   \n",
       "4          -0.894857             -0.612610           -0.06531      -0.701567   \n",
       "\n",
       "   installsLast  installsMeanInterval  installsMostFreqDay  \\\n",
       "0      -0.66689             -0.697976            -0.721385   \n",
       "1      -0.66689             -0.697976            -0.721385   \n",
       "2      -0.66689             -0.697976            -0.721385   \n",
       "3      -0.66689             -0.697976            -0.721385   \n",
       "4      -0.66689             -0.697976            -0.721385   \n",
       "\n",
       "   installsStdDevInterval  \n",
       "0               -0.269394  \n",
       "1               -0.269394  \n",
       "2               -0.269394  \n",
       "3               -0.269394  \n",
       "4               -0.269394  \n",
       "\n",
       "[5 rows x 24 columns]"
      ]
     },
     "execution_count": 67,
     "metadata": {},
     "output_type": "execute_result"
    }
   ],
   "source": [
    "targetFeatures.head()"
   ]
  },
  {
   "cell_type": "code",
   "execution_count": null,
   "metadata": {},
   "outputs": [],
   "source": []
  },
  {
   "cell_type": "code",
   "execution_count": null,
   "metadata": {},
   "outputs": [],
   "source": []
  },
  {
   "cell_type": "code",
   "execution_count": null,
   "metadata": {},
   "outputs": [],
   "source": []
  },
  {
   "cell_type": "markdown",
   "metadata": {},
   "source": [
    "Prediccion ST"
   ]
  },
  {
   "cell_type": "code",
   "execution_count": 68,
   "metadata": {},
   "outputs": [],
   "source": [
    "labelsST=labels['st']"
   ]
  },
  {
   "cell_type": "code",
   "execution_count": 69,
   "metadata": {},
   "outputs": [
    {
     "data": {
      "text/plain": [
       "0    259200.000000\n",
       "1    259200.000000\n",
       "2    184052.302630\n",
       "3     97652.302630\n",
       "4     24628.726364\n",
       "Name: st, dtype: float64"
      ]
     },
     "execution_count": 69,
     "metadata": {},
     "output_type": "execute_result"
    }
   ],
   "source": [
    "labelsST.head()"
   ]
  },
  {
   "cell_type": "code",
   "execution_count": 70,
   "metadata": {},
   "outputs": [],
   "source": [
    "X = features\n",
    "#X = X.drop('device_id', axis=1)\n",
    "y = labelsST\n",
    "#X=X[['auctions_ref_type_id1','auctions_ref_type_id7','auctionsLast','auctionsMeanInterval','auctions_source_id1','auctionsCount','auctions_source_id3','auctionsAproxFreq','auctionsStdDevInterval','auctions_source_id7','auctions_source_id2','auctions_source_id8','auctions_source_id5','auctions_source_id4','event_device_os0.1','auctions_source_id0','eventsMeanInterval','event_ref_type0','event_connection_type_Cable/DSL','clicks_1_ref_type','event_connection_type_Cellular','clicks_wifi_true','clicksAproxFreq']]\n",
    "#targetFeaturesST=targetFeatures[['auctions_ref_type_id1','auctions_ref_type_id7','auctionsLast','auctionsMeanInterval','auctions_source_id1','auctionsCount','auctions_source_id3','auctionsAproxFreq','auctionsStdDevInterval','auctions_source_id7','auctions_source_id2','auctions_source_id8','auctions_source_id5','auctions_source_id4','event_device_os0.1','auctions_source_id0','eventsMeanInterval','event_ref_type0','event_connection_type_Cable/DSL','clicks_1_ref_type','event_connection_type_Cellular','clicks_wifi_true','clicksAproxFreq']]"
   ]
  },
  {
   "cell_type": "code",
   "execution_count": 71,
   "metadata": {
    "scrolled": true
   },
   "outputs": [],
   "source": [
    "from sklearn.linear_model import Ridge\n",
    "RidgeModel=Ridge(alpha=0.1)\n",
    "RidgeModel.fit(X,y)\n",
    "ridge_predictST=RidgeModel.predict(targetFeatures)"
   ]
  },
  {
   "cell_type": "code",
   "execution_count": 72,
   "metadata": {},
   "outputs": [],
   "source": [
    "from sklearn import linear_model\n",
    "lasso = linear_model.Lasso(alpha=0.1,positive=True)\n",
    "lasso.fit(X,y)  \n",
    "lasso_predictST=lasso.predict(targetFeatures)"
   ]
  },
  {
   "cell_type": "code",
   "execution_count": 73,
   "metadata": {},
   "outputs": [],
   "source": [
    "from sklearn.linear_model import ElasticNet\n",
    "ElasticNet = ElasticNet(random_state=0)\n",
    "ElasticNet.fit(X, y)\n",
    "Elastic_predictST=ElasticNet.predict(targetFeatures)"
   ]
  },
  {
   "cell_type": "code",
   "execution_count": 74,
   "metadata": {},
   "outputs": [],
   "source": [
    "#from sklearn.metrics import mean_squared_error\n",
    "#mean_squared_error(y_test, ridge_predict)"
   ]
  },
  {
   "cell_type": "code",
   "execution_count": 75,
   "metadata": {},
   "outputs": [
    {
     "data": {
      "text/plain": [
       "0     68963.599935\n",
       "1     70410.102657\n",
       "2    166936.996742\n",
       "3    119755.302863\n",
       "4     76916.796896\n",
       "dtype: float64"
      ]
     },
     "execution_count": 75,
     "metadata": {},
     "output_type": "execute_result"
    }
   ],
   "source": [
    "pd.Series(ridge_predictST).head()"
   ]
  },
  {
   "cell_type": "code",
   "execution_count": 76,
   "metadata": {},
   "outputs": [
    {
     "data": {
      "text/plain": [
       "0    149601.093487\n",
       "1    120976.677316\n",
       "2    162646.588029\n",
       "3    126610.928674\n",
       "4    122739.238574\n",
       "dtype: float64"
      ]
     },
     "execution_count": 76,
     "metadata": {},
     "output_type": "execute_result"
    }
   ],
   "source": [
    "pd.Series(lasso_predictST).head()"
   ]
  },
  {
   "cell_type": "code",
   "execution_count": 77,
   "metadata": {},
   "outputs": [
    {
     "data": {
      "text/plain": [
       "0    100307.940455\n",
       "1    116908.563538\n",
       "2    166536.059868\n",
       "3    114752.849640\n",
       "4    120311.780814\n",
       "dtype: float64"
      ]
     },
     "execution_count": 77,
     "metadata": {},
     "output_type": "execute_result"
    }
   ],
   "source": [
    "pd.Series(Elastic_predictST).head()"
   ]
  },
  {
   "cell_type": "code",
   "execution_count": null,
   "metadata": {},
   "outputs": [],
   "source": []
  },
  {
   "cell_type": "code",
   "execution_count": null,
   "metadata": {},
   "outputs": [],
   "source": []
  },
  {
   "cell_type": "markdown",
   "metadata": {},
   "source": [
    "Predicciones SC"
   ]
  },
  {
   "cell_type": "code",
   "execution_count": 78,
   "metadata": {},
   "outputs": [],
   "source": [
    "labelsSC=labels['sc']"
   ]
  },
  {
   "cell_type": "code",
   "execution_count": 79,
   "metadata": {},
   "outputs": [],
   "source": [
    "X = features\n",
    "#X = X.drop('device_id', axis=1)\n",
    "y = labelsSC\n",
    "#X=X[['installs_attributed_false','installsMeanInterval','installsLast','installsCount','installs_implicit_false','eventsAproxFreq','installsMostFreqDay','installsStdDevInterval','installsAproxFreq','installs_implicit_true','event_attributed_false','installs_wifi_true','installs_attributed_true','installs_wifi_unknown','auctionsLast','event_connection_type_Unknown','eventsMeanInterval','auctionsMostFreqDay','eventsMostFreqDay','event_device_os0.1','event_wifiFalse','event_wifiTrue','event_connection_type_Cable/DSL','eventsCount','eventsLast','unknown','event_ref_type0','event_connection_type_Cellular','eventsStdDevInterval','event_device_os0']]\n",
    "#targetFeaturesSC=targetFeatures[['installs_attributed_false','installsMeanInterval','installsLast','installsCount','installs_implicit_false','eventsAproxFreq','installsMostFreqDay','installsStdDevInterval','installsAproxFreq','installs_implicit_true','event_attributed_false','installs_wifi_true','installs_attributed_true','installs_wifi_unknown','auctionsLast','event_connection_type_Unknown','eventsMeanInterval','auctionsMostFreqDay','eventsMostFreqDay','event_device_os0.1','event_wifiFalse','event_wifiTrue','event_connection_type_Cable/DSL','eventsCount','eventsLast','unknown','event_ref_type0','event_connection_type_Cellular','eventsStdDevInterval','event_device_os0']]"
   ]
  },
  {
   "cell_type": "code",
   "execution_count": 80,
   "metadata": {},
   "outputs": [],
   "source": [
    "from sklearn.linear_model import Ridge\n",
    "RidgeModel=Ridge(alpha=0.1)\n",
    "RidgeModel.fit(X,y)\n",
    "ridge_predictSC=RidgeModel.predict(targetFeatures)"
   ]
  },
  {
   "cell_type": "code",
   "execution_count": 81,
   "metadata": {},
   "outputs": [
    {
     "name": "stderr",
     "output_type": "stream",
     "text": [
      "/home/nicolas/.local/lib/python2.7/site-packages/sklearn/linear_model/coordinate_descent.py:492: ConvergenceWarning: Objective did not converge. You might want to increase the number of iterations. Fitting data with very small alpha may cause precision problems.\n",
      "  ConvergenceWarning)\n"
     ]
    }
   ],
   "source": [
    "from sklearn import linear_model\n",
    "lasso = linear_model.Lasso(alpha=0.1)\n",
    "lasso.fit(X,y)  \n",
    "lasso_predictSC=lasso.predict(targetFeatures)"
   ]
  },
  {
   "cell_type": "code",
   "execution_count": 82,
   "metadata": {},
   "outputs": [],
   "source": [
    "from sklearn.linear_model import ElasticNet\n",
    "ElasticNet = ElasticNet(random_state=0)\n",
    "ElasticNet.fit(X, y)\n",
    "Elastic_predictSC=ElasticNet.predict(targetFeatures)"
   ]
  },
  {
   "cell_type": "code",
   "execution_count": 83,
   "metadata": {},
   "outputs": [],
   "source": [
    "#from sklearn.metrics import mean_squared_error\n",
    "#mean_squared_error(y_test, ridge_predict)"
   ]
  },
  {
   "cell_type": "code",
   "execution_count": 84,
   "metadata": {},
   "outputs": [
    {
     "data": {
      "text/plain": [
       "0    235027.643304\n",
       "1    233104.782650\n",
       "2    241009.730745\n",
       "3    230857.975273\n",
       "4    232956.753786\n",
       "dtype: float64"
      ]
     },
     "execution_count": 84,
     "metadata": {},
     "output_type": "execute_result"
    }
   ],
   "source": [
    "pd.Series(ridge_predictSC).head()"
   ]
  },
  {
   "cell_type": "code",
   "execution_count": 85,
   "metadata": {},
   "outputs": [
    {
     "data": {
      "text/plain": [
       "0    235034.313440\n",
       "1    233113.304095\n",
       "2    241016.209225\n",
       "3    230865.770973\n",
       "4    232965.275613\n",
       "dtype: float64"
      ]
     },
     "execution_count": 85,
     "metadata": {},
     "output_type": "execute_result"
    }
   ],
   "source": [
    "pd.Series(lasso_predictSC).head()"
   ]
  },
  {
   "cell_type": "code",
   "execution_count": 86,
   "metadata": {},
   "outputs": [
    {
     "data": {
      "text/plain": [
       "0    237114.573390\n",
       "1    235987.915959\n",
       "2    242349.029033\n",
       "3    233102.921347\n",
       "4    235786.574651\n",
       "dtype: float64"
      ]
     },
     "execution_count": 86,
     "metadata": {},
     "output_type": "execute_result"
    }
   ],
   "source": [
    "pd.Series(Elastic_predictSC).head()"
   ]
  },
  {
   "cell_type": "code",
   "execution_count": null,
   "metadata": {},
   "outputs": [],
   "source": []
  },
  {
   "cell_type": "code",
   "execution_count": null,
   "metadata": {},
   "outputs": [],
   "source": []
  },
  {
   "cell_type": "code",
   "execution_count": null,
   "metadata": {},
   "outputs": [],
   "source": []
  },
  {
   "cell_type": "code",
   "execution_count": 87,
   "metadata": {},
   "outputs": [],
   "source": [
    "def funcionMistica(lista1,lista2,lista3):\n",
    "    a=[]\n",
    "    for i in range(len(lista1)):\n",
    "        a.append((str(lista3[i])+'_st',lista1[i]))\n",
    "        a.append((str(lista3[i])+'_sc',lista2[i]))\n",
    "    return a"
   ]
  },
  {
   "cell_type": "code",
   "execution_count": 88,
   "metadata": {},
   "outputs": [],
   "source": [
    "prediccionesRidge=pd.DataFrame(funcionMistica(abs(ridge_predictST),abs(ridge_predictSC),list(target['device_id'])))#.to_csv('data/prediccionesConcat.csv',index=False)\n",
    "prediccionesRidge=prediccionesRidge.rename(columns={0:'ref_hash',1:'obj'})\n",
    "prediccionesRidge.to_csv('data/prediccionesRidge.csv',index=False)"
   ]
  },
  {
   "cell_type": "code",
   "execution_count": 89,
   "metadata": {},
   "outputs": [],
   "source": [
    "prediccionesLasso=pd.DataFrame(funcionMistica(abs(lasso_predictST),abs(lasso_predictSC),list(target['device_id'])))\n",
    "prediccionesLasso=prediccionesLasso.rename(columns={0:'ref_hash',1:'obj'})\n",
    "prediccionesLasso.to_csv('data/prediccionesLasso.csv',index=False)"
   ]
  },
  {
   "cell_type": "code",
   "execution_count": 90,
   "metadata": {},
   "outputs": [],
   "source": [
    "prediccionesElastic=pd.DataFrame(funcionMistica(abs(Elastic_predictST),abs(Elastic_predictSC),list(target['device_id'])))\n",
    "prediccionesElastic=prediccionesElastic.rename(columns={0:'ref_hash',1:'obj'})\n",
    "prediccionesElastic.to_csv('data/prediccionesElastic.csv',index=False)"
   ]
  },
  {
   "cell_type": "code",
   "execution_count": null,
   "metadata": {},
   "outputs": [],
   "source": []
  },
  {
   "cell_type": "code",
   "execution_count": null,
   "metadata": {},
   "outputs": [],
   "source": []
  },
  {
   "cell_type": "code",
   "execution_count": 91,
   "metadata": {},
   "outputs": [
    {
     "data": {
      "text/html": [
       "<div>\n",
       "<style scoped>\n",
       "    .dataframe tbody tr th:only-of-type {\n",
       "        vertical-align: middle;\n",
       "    }\n",
       "\n",
       "    .dataframe tbody tr th {\n",
       "        vertical-align: top;\n",
       "    }\n",
       "\n",
       "    .dataframe thead th {\n",
       "        text-align: right;\n",
       "    }\n",
       "</style>\n",
       "<table border=\"1\" class=\"dataframe\">\n",
       "  <thead>\n",
       "    <tr style=\"text-align: right;\">\n",
       "      <th></th>\n",
       "      <th>ref_hash</th>\n",
       "      <th>obj</th>\n",
       "    </tr>\n",
       "  </thead>\n",
       "  <tbody>\n",
       "    <tr>\n",
       "      <th>0</th>\n",
       "      <td>1000169251625791246_st</td>\n",
       "      <td>68963.599935</td>\n",
       "    </tr>\n",
       "    <tr>\n",
       "      <th>1</th>\n",
       "      <td>1000169251625791246_sc</td>\n",
       "      <td>235027.643304</td>\n",
       "    </tr>\n",
       "    <tr>\n",
       "      <th>2</th>\n",
       "      <td>1000395625957344683_st</td>\n",
       "      <td>70410.102657</td>\n",
       "    </tr>\n",
       "    <tr>\n",
       "      <th>3</th>\n",
       "      <td>1000395625957344683_sc</td>\n",
       "      <td>233104.782650</td>\n",
       "    </tr>\n",
       "    <tr>\n",
       "      <th>4</th>\n",
       "      <td>1003027494996471685_st</td>\n",
       "      <td>166936.996742</td>\n",
       "    </tr>\n",
       "  </tbody>\n",
       "</table>\n",
       "</div>"
      ],
      "text/plain": [
       "                 ref_hash            obj\n",
       "0  1000169251625791246_st   68963.599935\n",
       "1  1000169251625791246_sc  235027.643304\n",
       "2  1000395625957344683_st   70410.102657\n",
       "3  1000395625957344683_sc  233104.782650\n",
       "4  1003027494996471685_st  166936.996742"
      ]
     },
     "execution_count": 91,
     "metadata": {},
     "output_type": "execute_result"
    }
   ],
   "source": [
    "prediccionesRidge.head()"
   ]
  },
  {
   "cell_type": "code",
   "execution_count": 92,
   "metadata": {},
   "outputs": [
    {
     "data": {
      "text/html": [
       "<div>\n",
       "<style scoped>\n",
       "    .dataframe tbody tr th:only-of-type {\n",
       "        vertical-align: middle;\n",
       "    }\n",
       "\n",
       "    .dataframe tbody tr th {\n",
       "        vertical-align: top;\n",
       "    }\n",
       "\n",
       "    .dataframe thead th {\n",
       "        text-align: right;\n",
       "    }\n",
       "</style>\n",
       "<table border=\"1\" class=\"dataframe\">\n",
       "  <thead>\n",
       "    <tr style=\"text-align: right;\">\n",
       "      <th></th>\n",
       "      <th>ref_hash</th>\n",
       "      <th>obj</th>\n",
       "    </tr>\n",
       "  </thead>\n",
       "  <tbody>\n",
       "    <tr>\n",
       "      <th>0</th>\n",
       "      <td>1000169251625791246_st</td>\n",
       "      <td>149601.093487</td>\n",
       "    </tr>\n",
       "    <tr>\n",
       "      <th>1</th>\n",
       "      <td>1000169251625791246_sc</td>\n",
       "      <td>235034.313440</td>\n",
       "    </tr>\n",
       "    <tr>\n",
       "      <th>2</th>\n",
       "      <td>1000395625957344683_st</td>\n",
       "      <td>120976.677316</td>\n",
       "    </tr>\n",
       "    <tr>\n",
       "      <th>3</th>\n",
       "      <td>1000395625957344683_sc</td>\n",
       "      <td>233113.304095</td>\n",
       "    </tr>\n",
       "    <tr>\n",
       "      <th>4</th>\n",
       "      <td>1003027494996471685_st</td>\n",
       "      <td>162646.588029</td>\n",
       "    </tr>\n",
       "  </tbody>\n",
       "</table>\n",
       "</div>"
      ],
      "text/plain": [
       "                 ref_hash            obj\n",
       "0  1000169251625791246_st  149601.093487\n",
       "1  1000169251625791246_sc  235034.313440\n",
       "2  1000395625957344683_st  120976.677316\n",
       "3  1000395625957344683_sc  233113.304095\n",
       "4  1003027494996471685_st  162646.588029"
      ]
     },
     "execution_count": 92,
     "metadata": {},
     "output_type": "execute_result"
    }
   ],
   "source": [
    "prediccionesLasso.head()"
   ]
  },
  {
   "cell_type": "code",
   "execution_count": 93,
   "metadata": {},
   "outputs": [
    {
     "data": {
      "text/html": [
       "<div>\n",
       "<style scoped>\n",
       "    .dataframe tbody tr th:only-of-type {\n",
       "        vertical-align: middle;\n",
       "    }\n",
       "\n",
       "    .dataframe tbody tr th {\n",
       "        vertical-align: top;\n",
       "    }\n",
       "\n",
       "    .dataframe thead th {\n",
       "        text-align: right;\n",
       "    }\n",
       "</style>\n",
       "<table border=\"1\" class=\"dataframe\">\n",
       "  <thead>\n",
       "    <tr style=\"text-align: right;\">\n",
       "      <th></th>\n",
       "      <th>ref_hash</th>\n",
       "      <th>obj</th>\n",
       "    </tr>\n",
       "  </thead>\n",
       "  <tbody>\n",
       "    <tr>\n",
       "      <th>0</th>\n",
       "      <td>1000169251625791246_st</td>\n",
       "      <td>100307.940455</td>\n",
       "    </tr>\n",
       "    <tr>\n",
       "      <th>1</th>\n",
       "      <td>1000169251625791246_sc</td>\n",
       "      <td>237114.573390</td>\n",
       "    </tr>\n",
       "    <tr>\n",
       "      <th>2</th>\n",
       "      <td>1000395625957344683_st</td>\n",
       "      <td>116908.563538</td>\n",
       "    </tr>\n",
       "    <tr>\n",
       "      <th>3</th>\n",
       "      <td>1000395625957344683_sc</td>\n",
       "      <td>235987.915959</td>\n",
       "    </tr>\n",
       "    <tr>\n",
       "      <th>4</th>\n",
       "      <td>1003027494996471685_st</td>\n",
       "      <td>166536.059868</td>\n",
       "    </tr>\n",
       "  </tbody>\n",
       "</table>\n",
       "</div>"
      ],
      "text/plain": [
       "                 ref_hash            obj\n",
       "0  1000169251625791246_st  100307.940455\n",
       "1  1000169251625791246_sc  237114.573390\n",
       "2  1000395625957344683_st  116908.563538\n",
       "3  1000395625957344683_sc  235987.915959\n",
       "4  1003027494996471685_st  166536.059868"
      ]
     },
     "execution_count": 93,
     "metadata": {},
     "output_type": "execute_result"
    }
   ],
   "source": [
    "prediccionesElastic.head()"
   ]
  },
  {
   "cell_type": "code",
   "execution_count": null,
   "metadata": {},
   "outputs": [],
   "source": []
  },
  {
   "cell_type": "code",
   "execution_count": 94,
   "metadata": {},
   "outputs": [],
   "source": [
    "prediccionesTotal=prediccionesRidge.merge(prediccionesLasso,on='ref_hash')\n",
    "prediccionesTotal=prediccionesTotal.merge(prediccionesElastic,on='ref_hash')"
   ]
  },
  {
   "cell_type": "code",
   "execution_count": 95,
   "metadata": {},
   "outputs": [
    {
     "data": {
      "text/html": [
       "<div>\n",
       "<style scoped>\n",
       "    .dataframe tbody tr th:only-of-type {\n",
       "        vertical-align: middle;\n",
       "    }\n",
       "\n",
       "    .dataframe tbody tr th {\n",
       "        vertical-align: top;\n",
       "    }\n",
       "\n",
       "    .dataframe thead th {\n",
       "        text-align: right;\n",
       "    }\n",
       "</style>\n",
       "<table border=\"1\" class=\"dataframe\">\n",
       "  <thead>\n",
       "    <tr style=\"text-align: right;\">\n",
       "      <th></th>\n",
       "      <th>ref_hash</th>\n",
       "      <th>obj</th>\n",
       "    </tr>\n",
       "  </thead>\n",
       "  <tbody>\n",
       "    <tr>\n",
       "      <th>0</th>\n",
       "      <td>1000169251625791246_st</td>\n",
       "      <td>106290.877959</td>\n",
       "    </tr>\n",
       "    <tr>\n",
       "      <th>1</th>\n",
       "      <td>1000169251625791246_sc</td>\n",
       "      <td>235725.510045</td>\n",
       "    </tr>\n",
       "    <tr>\n",
       "      <th>2</th>\n",
       "      <td>1000395625957344683_st</td>\n",
       "      <td>102765.114504</td>\n",
       "    </tr>\n",
       "    <tr>\n",
       "      <th>3</th>\n",
       "      <td>1000395625957344683_sc</td>\n",
       "      <td>234068.667568</td>\n",
       "    </tr>\n",
       "    <tr>\n",
       "      <th>4</th>\n",
       "      <td>1003027494996471685_st</td>\n",
       "      <td>165373.214880</td>\n",
       "    </tr>\n",
       "  </tbody>\n",
       "</table>\n",
       "</div>"
      ],
      "text/plain": [
       "                 ref_hash            obj\n",
       "0  1000169251625791246_st  106290.877959\n",
       "1  1000169251625791246_sc  235725.510045\n",
       "2  1000395625957344683_st  102765.114504\n",
       "3  1000395625957344683_sc  234068.667568\n",
       "4  1003027494996471685_st  165373.214880"
      ]
     },
     "execution_count": 95,
     "metadata": {},
     "output_type": "execute_result"
    }
   ],
   "source": [
    "prediccionesTotal['objt']=(prediccionesTotal['obj_x']+prediccionesTotal['obj_y']+prediccionesTotal['obj'])/3\n",
    "prediccionesTotal=prediccionesTotal.drop(['obj_x','obj_y','obj'],axis=1)\n",
    "prediccionesTotal=prediccionesTotal.rename(columns={'objt':'obj'})\n",
    "prediccionesTotal.head()"
   ]
  },
  {
   "cell_type": "code",
   "execution_count": 96,
   "metadata": {},
   "outputs": [],
   "source": [
    "prediccionesTotal.to_csv('data/prediccionesTotal.csv',index=False)"
   ]
  },
  {
   "cell_type": "code",
   "execution_count": null,
   "metadata": {},
   "outputs": [],
   "source": []
  },
  {
   "cell_type": "code",
   "execution_count": null,
   "metadata": {},
   "outputs": [],
   "source": []
  },
  {
   "cell_type": "code",
   "execution_count": null,
   "metadata": {},
   "outputs": [],
   "source": []
  }
 ],
 "metadata": {
  "kernelspec": {
   "display_name": "Python 2",
   "language": "python",
   "name": "python2"
  },
  "language_info": {
   "codemirror_mode": {
    "name": "ipython",
    "version": 2
   },
   "file_extension": ".py",
   "mimetype": "text/x-python",
   "name": "python",
   "nbconvert_exporter": "python",
   "pygments_lexer": "ipython2",
   "version": "2.7.15+"
  }
 },
 "nbformat": 4,
 "nbformat_minor": 2
}
