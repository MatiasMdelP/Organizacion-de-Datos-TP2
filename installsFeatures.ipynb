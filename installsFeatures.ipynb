{
 "cells": [
  {
   "cell_type": "markdown",
   "metadata": {},
   "source": [
    "# Features"
   ]
  },
  {
   "cell_type": "code",
   "execution_count": 1,
   "metadata": {},
   "outputs": [],
   "source": [
    "import pandas as pd"
   ]
  },
  {
   "cell_type": "markdown",
   "metadata": {},
   "source": [
    "Trabajo en el siguiente rango de dias:"
   ]
  },
  {
   "cell_type": "code",
   "execution_count": 2,
   "metadata": {},
   "outputs": [],
   "source": [
    "firstDay = pd.Timestamp(2019, 4, 24)\n",
    "lastDay = pd.Timestamp(2019, 4, 27)"
   ]
  },
  {
   "cell_type": "markdown",
   "metadata": {},
   "source": [
    "Los datos son los siguientes"
   ]
  },
  {
   "cell_type": "code",
   "execution_count": 3,
   "metadata": {},
   "outputs": [],
   "source": [
    "location = 'data/'\n",
    "installsFile = location + 'installs.csv'"
   ]
  },
  {
   "cell_type": "markdown",
   "metadata": {},
   "source": [
    "Cargo los datos de los primeros 3 dias"
   ]
  },
  {
   "cell_type": "markdown",
   "metadata": {},
   "source": [
    "## Installs"
   ]
  },
  {
   "cell_type": "code",
   "execution_count": 4,
   "metadata": {},
   "outputs": [],
   "source": [
    "dtype = {\n",
    "    'created': 'str',\n",
    "    'application_id': 'category',\n",
    "    'ref_type': 'category',\n",
    "    'ref_hash': 'int64',\n",
    "    'click_hash': 'str',\n",
    "    'attributed': 'bool',\n",
    "    'implicit': 'bool',\n",
    "    'device_brand': 'float64',\n",
    "    'device_model': 'float64',\n",
    "    'session_user_agent': 'str',\n",
    "    'user_agent': 'str',\n",
    "    'event_uuid': 'str',\n",
    "    'kind': 'str',\n",
    "    'wifi': 'str',\n",
    "    'trans_id': 'str',\n",
    "    'ip_address': 'int64',\n",
    "    'device_language': 'category',\n",
    "}"
   ]
  },
  {
   "cell_type": "code",
   "execution_count": 5,
   "metadata": {},
   "outputs": [],
   "source": [
    "installs = pd.read_csv(installsFile, usecols=dtype.keys(), dtype=dtype, parse_dates=['created'])"
   ]
  },
  {
   "cell_type": "code",
   "execution_count": 6,
   "metadata": {},
   "outputs": [],
   "source": [
    "installsIsInDateInterval = (installs['created'] >= firstDay) & (installs['created'] < lastDay)\n",
    "installs = installs[installsIsInDateInterval]"
   ]
  },
  {
   "cell_type": "code",
   "execution_count": 7,
   "metadata": {},
   "outputs": [],
   "source": [
    "installs = installs.rename(columns={'ref_hash': 'device_id'})"
   ]
  },
  {
   "cell_type": "code",
   "execution_count": 8,
   "metadata": {},
   "outputs": [],
   "source": [
    "installs['seconds'] = (installs['created'] - firstDay).dt.total_seconds()\n",
    "installs['day'] = installs['created'].dt.day - firstDay.day + 1"
   ]
  },
  {
   "cell_type": "code",
   "execution_count": 9,
   "metadata": {},
   "outputs": [
    {
     "data": {
      "text/html": [
       "<div>\n",
       "<style scoped>\n",
       "    .dataframe tbody tr th:only-of-type {\n",
       "        vertical-align: middle;\n",
       "    }\n",
       "\n",
       "    .dataframe tbody tr th {\n",
       "        vertical-align: top;\n",
       "    }\n",
       "\n",
       "    .dataframe thead th {\n",
       "        text-align: right;\n",
       "    }\n",
       "</style>\n",
       "<table border=\"1\" class=\"dataframe\">\n",
       "  <thead>\n",
       "    <tr style=\"text-align: right;\">\n",
       "      <th></th>\n",
       "      <th>created</th>\n",
       "      <th>application_id</th>\n",
       "      <th>ref_type</th>\n",
       "      <th>device_id</th>\n",
       "      <th>click_hash</th>\n",
       "      <th>attributed</th>\n",
       "      <th>implicit</th>\n",
       "      <th>device_brand</th>\n",
       "      <th>device_model</th>\n",
       "      <th>session_user_agent</th>\n",
       "      <th>user_agent</th>\n",
       "      <th>event_uuid</th>\n",
       "      <th>kind</th>\n",
       "      <th>wifi</th>\n",
       "      <th>trans_id</th>\n",
       "      <th>ip_address</th>\n",
       "      <th>device_language</th>\n",
       "      <th>seconds</th>\n",
       "      <th>day</th>\n",
       "    </tr>\n",
       "  </thead>\n",
       "  <tbody>\n",
       "    <tr>\n",
       "      <th>0</th>\n",
       "      <td>2019-04-24 06:23:29.495</td>\n",
       "      <td>1</td>\n",
       "      <td>1494519392962156891</td>\n",
       "      <td>4716708407362582887</td>\n",
       "      <td>NaN</td>\n",
       "      <td>False</td>\n",
       "      <td>True</td>\n",
       "      <td>NaN</td>\n",
       "      <td>3.739127e+17</td>\n",
       "      <td>adjust.com</td>\n",
       "      <td>NaN</td>\n",
       "      <td>79837499-2f2a-4605-a663-e322f759424f</td>\n",
       "      <td>app_open</td>\n",
       "      <td>NaN</td>\n",
       "      <td>NaN</td>\n",
       "      <td>4243443387795468703</td>\n",
       "      <td>3.3013777759776993e+18</td>\n",
       "      <td>23009.495</td>\n",
       "      <td>1</td>\n",
       "    </tr>\n",
       "    <tr>\n",
       "      <th>1</th>\n",
       "      <td>2019-04-24 02:06:01.032</td>\n",
       "      <td>1</td>\n",
       "      <td>1494519392962156891</td>\n",
       "      <td>7143568733100935872</td>\n",
       "      <td>NaN</td>\n",
       "      <td>False</td>\n",
       "      <td>False</td>\n",
       "      <td>NaN</td>\n",
       "      <td>7.805539e+18</td>\n",
       "      <td>adjust.com</td>\n",
       "      <td>NaN</td>\n",
       "      <td>NaN</td>\n",
       "      <td>NaN</td>\n",
       "      <td>NaN</td>\n",
       "      <td>NaN</td>\n",
       "      <td>4724288679627032761</td>\n",
       "      <td>3.3013777759776993e+18</td>\n",
       "      <td>7561.032</td>\n",
       "      <td>1</td>\n",
       "    </tr>\n",
       "    <tr>\n",
       "      <th>29</th>\n",
       "      <td>2019-04-26 12:17:29.831</td>\n",
       "      <td>1</td>\n",
       "      <td>1494519392962156891</td>\n",
       "      <td>8326131692284822715</td>\n",
       "      <td>NaN</td>\n",
       "      <td>False</td>\n",
       "      <td>True</td>\n",
       "      <td>NaN</td>\n",
       "      <td>4.780545e+18</td>\n",
       "      <td>adjust.com</td>\n",
       "      <td>NaN</td>\n",
       "      <td>c7c0f1c7-b5bd-4887-8c15-22faa9eed45a</td>\n",
       "      <td>app_open</td>\n",
       "      <td>NaN</td>\n",
       "      <td>NaN</td>\n",
       "      <td>7914241434760640009</td>\n",
       "      <td>3.3013777759776993e+18</td>\n",
       "      <td>217049.831</td>\n",
       "      <td>3</td>\n",
       "    </tr>\n",
       "    <tr>\n",
       "      <th>33</th>\n",
       "      <td>2019-04-24 16:08:49.392</td>\n",
       "      <td>3</td>\n",
       "      <td>1891515180541284343</td>\n",
       "      <td>7982672190758515108</td>\n",
       "      <td>NaN</td>\n",
       "      <td>False</td>\n",
       "      <td>False</td>\n",
       "      <td>NaN</td>\n",
       "      <td>7.047732e+18</td>\n",
       "      <td>adjust.com</td>\n",
       "      <td>NaN</td>\n",
       "      <td>NaN</td>\n",
       "      <td>NaN</td>\n",
       "      <td>NaN</td>\n",
       "      <td>NaN</td>\n",
       "      <td>2331161058149107059</td>\n",
       "      <td>3.3013777759776993e+18</td>\n",
       "      <td>58129.392</td>\n",
       "      <td>1</td>\n",
       "    </tr>\n",
       "    <tr>\n",
       "      <th>34</th>\n",
       "      <td>2019-04-24 01:43:29.697</td>\n",
       "      <td>3</td>\n",
       "      <td>1891515180541284343</td>\n",
       "      <td>2374271566729163309</td>\n",
       "      <td>NaN</td>\n",
       "      <td>False</td>\n",
       "      <td>False</td>\n",
       "      <td>NaN</td>\n",
       "      <td>3.017401e+18</td>\n",
       "      <td>adjust.com</td>\n",
       "      <td>NaN</td>\n",
       "      <td>NaN</td>\n",
       "      <td>NaN</td>\n",
       "      <td>NaN</td>\n",
       "      <td>NaN</td>\n",
       "      <td>4368472372578406700</td>\n",
       "      <td>3.3013777759776993e+18</td>\n",
       "      <td>6209.697</td>\n",
       "      <td>1</td>\n",
       "    </tr>\n",
       "  </tbody>\n",
       "</table>\n",
       "</div>"
      ],
      "text/plain": [
       "                   created application_id             ref_type  \\\n",
       "0  2019-04-24 06:23:29.495              1  1494519392962156891   \n",
       "1  2019-04-24 02:06:01.032              1  1494519392962156891   \n",
       "29 2019-04-26 12:17:29.831              1  1494519392962156891   \n",
       "33 2019-04-24 16:08:49.392              3  1891515180541284343   \n",
       "34 2019-04-24 01:43:29.697              3  1891515180541284343   \n",
       "\n",
       "              device_id click_hash  attributed  implicit  device_brand  \\\n",
       "0   4716708407362582887        NaN       False      True           NaN   \n",
       "1   7143568733100935872        NaN       False     False           NaN   \n",
       "29  8326131692284822715        NaN       False      True           NaN   \n",
       "33  7982672190758515108        NaN       False     False           NaN   \n",
       "34  2374271566729163309        NaN       False     False           NaN   \n",
       "\n",
       "    device_model session_user_agent user_agent  \\\n",
       "0   3.739127e+17         adjust.com        NaN   \n",
       "1   7.805539e+18         adjust.com        NaN   \n",
       "29  4.780545e+18         adjust.com        NaN   \n",
       "33  7.047732e+18         adjust.com        NaN   \n",
       "34  3.017401e+18         adjust.com        NaN   \n",
       "\n",
       "                              event_uuid      kind wifi trans_id  \\\n",
       "0   79837499-2f2a-4605-a663-e322f759424f  app_open  NaN      NaN   \n",
       "1                                    NaN       NaN  NaN      NaN   \n",
       "29  c7c0f1c7-b5bd-4887-8c15-22faa9eed45a  app_open  NaN      NaN   \n",
       "33                                   NaN       NaN  NaN      NaN   \n",
       "34                                   NaN       NaN  NaN      NaN   \n",
       "\n",
       "             ip_address         device_language     seconds  day  \n",
       "0   4243443387795468703  3.3013777759776993e+18   23009.495    1  \n",
       "1   4724288679627032761  3.3013777759776993e+18    7561.032    1  \n",
       "29  7914241434760640009  3.3013777759776993e+18  217049.831    3  \n",
       "33  2331161058149107059  3.3013777759776993e+18   58129.392    1  \n",
       "34  4368472372578406700  3.3013777759776993e+18    6209.697    1  "
      ]
     },
     "execution_count": 9,
     "metadata": {},
     "output_type": "execute_result"
    }
   ],
   "source": [
    "installs.head()"
   ]
  },
  {
   "cell_type": "code",
   "execution_count": 10,
   "metadata": {
    "scrolled": false
   },
   "outputs": [
    {
     "name": "stdout",
     "output_type": "stream",
     "text": [
      "<class 'pandas.core.frame.DataFrame'>\n",
      "Int64Index: 160033 entries, 0 to 481509\n",
      "Data columns (total 19 columns):\n",
      "created               160033 non-null datetime64[ns]\n",
      "application_id        160033 non-null category\n",
      "ref_type              160033 non-null category\n",
      "device_id             160033 non-null int64\n",
      "click_hash            523 non-null object\n",
      "attributed            160033 non-null bool\n",
      "implicit              160033 non-null bool\n",
      "device_brand          88505 non-null float64\n",
      "device_model          150272 non-null float64\n",
      "session_user_agent    153205 non-null object\n",
      "user_agent            108706 non-null object\n",
      "event_uuid            33265 non-null object\n",
      "kind                  33265 non-null object\n",
      "wifi                  95821 non-null object\n",
      "trans_id              3219 non-null object\n",
      "ip_address            160033 non-null int64\n",
      "device_language       149452 non-null category\n",
      "seconds               160033 non-null float64\n",
      "day                   160033 non-null int64\n",
      "dtypes: bool(2), category(3), datetime64[ns](1), float64(3), int64(3), object(7)\n",
      "memory usage: 19.4+ MB\n"
     ]
    }
   ],
   "source": [
    "installs.info()"
   ]
  },
  {
   "cell_type": "code",
   "execution_count": 11,
   "metadata": {},
   "outputs": [],
   "source": [
    "features = pd.DataFrame(installs['device_id'].unique(), columns=['device_id'])"
   ]
  },
  {
   "cell_type": "code",
   "execution_count": 12,
   "metadata": {},
   "outputs": [
    {
     "data": {
      "text/html": [
       "<div>\n",
       "<style scoped>\n",
       "    .dataframe tbody tr th:only-of-type {\n",
       "        vertical-align: middle;\n",
       "    }\n",
       "\n",
       "    .dataframe tbody tr th {\n",
       "        vertical-align: top;\n",
       "    }\n",
       "\n",
       "    .dataframe thead th {\n",
       "        text-align: right;\n",
       "    }\n",
       "</style>\n",
       "<table border=\"1\" class=\"dataframe\">\n",
       "  <thead>\n",
       "    <tr style=\"text-align: right;\">\n",
       "      <th></th>\n",
       "      <th>device_id</th>\n",
       "    </tr>\n",
       "  </thead>\n",
       "  <tbody>\n",
       "    <tr>\n",
       "      <th>0</th>\n",
       "      <td>4716708407362582887</td>\n",
       "    </tr>\n",
       "    <tr>\n",
       "      <th>1</th>\n",
       "      <td>7143568733100935872</td>\n",
       "    </tr>\n",
       "    <tr>\n",
       "      <th>2</th>\n",
       "      <td>8326131692284822715</td>\n",
       "    </tr>\n",
       "    <tr>\n",
       "      <th>3</th>\n",
       "      <td>7982672190758515108</td>\n",
       "    </tr>\n",
       "    <tr>\n",
       "      <th>4</th>\n",
       "      <td>2374271566729163309</td>\n",
       "    </tr>\n",
       "  </tbody>\n",
       "</table>\n",
       "</div>"
      ],
      "text/plain": [
       "             device_id\n",
       "0  4716708407362582887\n",
       "1  7143568733100935872\n",
       "2  8326131692284822715\n",
       "3  7982672190758515108\n",
       "4  2374271566729163309"
      ]
     },
     "execution_count": 12,
     "metadata": {},
     "output_type": "execute_result"
    }
   ],
   "source": [
    "features.head()"
   ]
  },
  {
   "cell_type": "code",
   "execution_count": 13,
   "metadata": {},
   "outputs": [],
   "source": [
    "installsCount = installs[['device_id']].groupby(by=['device_id']).size()\n",
    "installsCount = installsCount.reset_index().rename(columns={0: 'installsCount'})\n",
    "features = features.merge(installsCount, how='left')"
   ]
  },
  {
   "cell_type": "code",
   "execution_count": 14,
   "metadata": {},
   "outputs": [],
   "source": [
    "installsMostFreqDay = installs[['device_id', 'day']].groupby(by=['device_id']).agg(lambda x: x.value_counts().index[0])\n",
    "installsMostFreqDay = installsMostFreqDay.reset_index().rename(columns={'day': 'installsMostFreqDay'})\n",
    "features = features.merge(installsMostFreqDay, how='left')"
   ]
  },
  {
   "cell_type": "code",
   "execution_count": 15,
   "metadata": {},
   "outputs": [],
   "source": [
    "installsMeanInterval = installs[['device_id', 'seconds']].sort_values(by='seconds').groupby(by='device_id').agg(lambda x: (x['seconds'] - x['seconds'].shift(1).fillna(0)).mean())\n",
    "installsMeanInterval = installsMeanInterval.reset_index().rename(columns={'seconds': 'installsMeanInterval'})\n",
    "features = features.merge(installsMeanInterval, how='left')"
   ]
  },
  {
   "cell_type": "code",
   "execution_count": 16,
   "metadata": {},
   "outputs": [],
   "source": [
    "features['installsAproxFreq'] = features['installsMeanInterval']**-1"
   ]
  },
  {
   "cell_type": "code",
   "execution_count": 17,
   "metadata": {},
   "outputs": [],
   "source": [
    "installsStdDevInterval = installs[['device_id', 'seconds']].sort_values(by='seconds').groupby(by='device_id').agg(lambda x: (x['seconds'] - x['seconds'].shift(1).fillna(0)).std())\n",
    "installsStdDevInterval = installsStdDevInterval.reset_index().rename(columns={'seconds': 'installsStdDevInterval'})\n",
    "features = features.merge(installsStdDevInterval, how='left')"
   ]
  },
  {
   "cell_type": "code",
   "execution_count": 18,
   "metadata": {},
   "outputs": [],
   "source": [
    "installsLast = installs[['device_id', 'seconds']].groupby(by='device_id').max()\n",
    "installsLast = installsLast.reset_index().rename(columns={'seconds': 'installsLast'})\n",
    "features = features.merge(installsLast, how='left')"
   ]
  },
  {
   "cell_type": "code",
   "execution_count": 19,
   "metadata": {},
   "outputs": [
    {
     "data": {
      "text/html": [
       "<div>\n",
       "<style scoped>\n",
       "    .dataframe tbody tr th:only-of-type {\n",
       "        vertical-align: middle;\n",
       "    }\n",
       "\n",
       "    .dataframe tbody tr th {\n",
       "        vertical-align: top;\n",
       "    }\n",
       "\n",
       "    .dataframe thead th {\n",
       "        text-align: right;\n",
       "    }\n",
       "</style>\n",
       "<table border=\"1\" class=\"dataframe\">\n",
       "  <thead>\n",
       "    <tr style=\"text-align: right;\">\n",
       "      <th></th>\n",
       "      <th>device_id</th>\n",
       "      <th>installsCount</th>\n",
       "      <th>installsMostFreqDay</th>\n",
       "      <th>installsMeanInterval</th>\n",
       "      <th>installsAproxFreq</th>\n",
       "      <th>installsStdDevInterval</th>\n",
       "      <th>installsLast</th>\n",
       "    </tr>\n",
       "  </thead>\n",
       "  <tbody>\n",
       "    <tr>\n",
       "      <th>0</th>\n",
       "      <td>4716708407362582887</td>\n",
       "      <td>1</td>\n",
       "      <td>1</td>\n",
       "      <td>23009.495</td>\n",
       "      <td>0.000043</td>\n",
       "      <td>NaN</td>\n",
       "      <td>23009.495</td>\n",
       "    </tr>\n",
       "    <tr>\n",
       "      <th>1</th>\n",
       "      <td>7143568733100935872</td>\n",
       "      <td>1</td>\n",
       "      <td>1</td>\n",
       "      <td>7561.032</td>\n",
       "      <td>0.000132</td>\n",
       "      <td>NaN</td>\n",
       "      <td>7561.032</td>\n",
       "    </tr>\n",
       "    <tr>\n",
       "      <th>2</th>\n",
       "      <td>8326131692284822715</td>\n",
       "      <td>1</td>\n",
       "      <td>3</td>\n",
       "      <td>217049.831</td>\n",
       "      <td>0.000005</td>\n",
       "      <td>NaN</td>\n",
       "      <td>217049.831</td>\n",
       "    </tr>\n",
       "    <tr>\n",
       "      <th>3</th>\n",
       "      <td>7982672190758515108</td>\n",
       "      <td>1</td>\n",
       "      <td>1</td>\n",
       "      <td>58129.392</td>\n",
       "      <td>0.000017</td>\n",
       "      <td>NaN</td>\n",
       "      <td>58129.392</td>\n",
       "    </tr>\n",
       "    <tr>\n",
       "      <th>4</th>\n",
       "      <td>2374271566729163309</td>\n",
       "      <td>1</td>\n",
       "      <td>1</td>\n",
       "      <td>6209.697</td>\n",
       "      <td>0.000161</td>\n",
       "      <td>NaN</td>\n",
       "      <td>6209.697</td>\n",
       "    </tr>\n",
       "  </tbody>\n",
       "</table>\n",
       "</div>"
      ],
      "text/plain": [
       "             device_id  installsCount  installsMostFreqDay  \\\n",
       "0  4716708407362582887              1                    1   \n",
       "1  7143568733100935872              1                    1   \n",
       "2  8326131692284822715              1                    3   \n",
       "3  7982672190758515108              1                    1   \n",
       "4  2374271566729163309              1                    1   \n",
       "\n",
       "   installsMeanInterval  installsAproxFreq  installsStdDevInterval  \\\n",
       "0             23009.495           0.000043                     NaN   \n",
       "1              7561.032           0.000132                     NaN   \n",
       "2            217049.831           0.000005                     NaN   \n",
       "3             58129.392           0.000017                     NaN   \n",
       "4              6209.697           0.000161                     NaN   \n",
       "\n",
       "   installsLast  \n",
       "0     23009.495  \n",
       "1      7561.032  \n",
       "2    217049.831  \n",
       "3     58129.392  \n",
       "4      6209.697  "
      ]
     },
     "execution_count": 19,
     "metadata": {},
     "output_type": "execute_result"
    }
   ],
   "source": [
    "features.head()"
   ]
  },
  {
   "cell_type": "code",
   "execution_count": 20,
   "metadata": {},
   "outputs": [],
   "source": [
    "features.to_csv('data/installsFeatures7.csv', index=False)"
   ]
  },
  {
   "cell_type": "code",
   "execution_count": null,
   "metadata": {},
   "outputs": [],
   "source": []
  }
 ],
 "metadata": {
  "kernelspec": {
   "display_name": "Python 3",
   "language": "python",
   "name": "python3"
  },
  "language_info": {
   "codemirror_mode": {
    "name": "ipython",
    "version": 3
   },
   "file_extension": ".py",
   "mimetype": "text/x-python",
   "name": "python",
   "nbconvert_exporter": "python",
   "pygments_lexer": "ipython3",
   "version": "3.7.3"
  }
 },
 "nbformat": 4,
 "nbformat_minor": 2
}
