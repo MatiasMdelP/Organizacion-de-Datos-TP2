{
 "cells": [
  {
   "cell_type": "markdown",
   "metadata": {},
   "source": [
    "# Features"
   ]
  },
  {
   "cell_type": "code",
   "execution_count": 2,
   "metadata": {},
   "outputs": [],
   "source": [
    "import pandas as pd"
   ]
  },
  {
   "cell_type": "markdown",
   "metadata": {},
   "source": [
    "Trabajo en el siguiente rango de dias:"
   ]
  },
  {
   "cell_type": "code",
   "execution_count": 3,
   "metadata": {},
   "outputs": [],
   "source": [
    "firstDay = pd.Timestamp(2019, 4, 18)\n",
    "lastDay = pd.Timestamp(2019, 4, 21)"
   ]
  },
  {
   "cell_type": "markdown",
   "metadata": {},
   "source": [
    "Los datos son los siguientes"
   ]
  },
  {
   "cell_type": "code",
   "execution_count": 4,
   "metadata": {},
   "outputs": [],
   "source": [
    "location = 'data/'\n",
    "auctionsFile = location + 'auctions.csv'\n",
    "eventsFile = location + 'events.csv'\n",
    "clicksFile = location + 'clicks.csv'\n",
    "installsFile = location + 'installs.csv'"
   ]
  },
  {
   "cell_type": "markdown",
   "metadata": {},
   "source": [
    "Cargo los datos de los primeros 3 dias"
   ]
  },
  {
   "cell_type": "markdown",
   "metadata": {},
   "source": [
    "## Installs"
   ]
  },
  {
   "cell_type": "code",
   "execution_count": 58,
   "metadata": {},
   "outputs": [],
   "source": [
    "dtype = {\n",
    "    'created': 'str',\n",
    "    'application_id': 'category',\n",
    "    'ref_type': 'category',\n",
    "    'ref_hash': 'int64',\n",
    "    'click_hash': 'str',\n",
    "    'attributed': 'bool',\n",
    "    'implicit': 'bool',\n",
    "    'device_brand': 'float64',\n",
    "    'device_model': 'float64',\n",
    "    'session_user_agent': 'str',\n",
    "    'user_agent': 'str',\n",
    "    'event_uuid': 'str',\n",
    "    'kind': 'str',\n",
    "    'wifi': 'str',\n",
    "    'trans_id': 'str',\n",
    "    'ip_address': 'int64',\n",
    "    'device_language': 'category',\n",
    "}"
   ]
  },
  {
   "cell_type": "code",
   "execution_count": 59,
   "metadata": {},
   "outputs": [],
   "source": [
    "installs = pd.read_csv(installsFile, usecols=dtype.keys(), dtype=dtype, parse_dates=['created'])"
   ]
  },
  {
   "cell_type": "code",
   "execution_count": 60,
   "metadata": {},
   "outputs": [],
   "source": [
    "installsIsInDateInterval = (installs['created'] >= firstDay) & (installs['created'] < lastDay)\n",
    "installs = installs[installsIsInDateInterval]"
   ]
  },
  {
   "cell_type": "code",
   "execution_count": 61,
   "metadata": {},
   "outputs": [
    {
     "data": {
      "text/html": [
       "<div>\n",
       "<style scoped>\n",
       "    .dataframe tbody tr th:only-of-type {\n",
       "        vertical-align: middle;\n",
       "    }\n",
       "\n",
       "    .dataframe tbody tr th {\n",
       "        vertical-align: top;\n",
       "    }\n",
       "\n",
       "    .dataframe thead th {\n",
       "        text-align: right;\n",
       "    }\n",
       "</style>\n",
       "<table border=\"1\" class=\"dataframe\">\n",
       "  <thead>\n",
       "    <tr style=\"text-align: right;\">\n",
       "      <th></th>\n",
       "      <th>created</th>\n",
       "      <th>application_id</th>\n",
       "      <th>ref_type</th>\n",
       "      <th>ref_hash</th>\n",
       "      <th>click_hash</th>\n",
       "      <th>attributed</th>\n",
       "      <th>implicit</th>\n",
       "      <th>device_brand</th>\n",
       "      <th>device_model</th>\n",
       "      <th>session_user_agent</th>\n",
       "      <th>user_agent</th>\n",
       "      <th>event_uuid</th>\n",
       "      <th>kind</th>\n",
       "      <th>wifi</th>\n",
       "      <th>trans_id</th>\n",
       "      <th>ip_address</th>\n",
       "      <th>device_language</th>\n",
       "    </tr>\n",
       "  </thead>\n",
       "  <tbody>\n",
       "    <tr>\n",
       "      <th>2</th>\n",
       "      <td>2019-04-20 10:15:36.274</td>\n",
       "      <td>1</td>\n",
       "      <td>1494519392962156891</td>\n",
       "      <td>5230323462636548010</td>\n",
       "      <td>NaN</td>\n",
       "      <td>False</td>\n",
       "      <td>True</td>\n",
       "      <td>NaN</td>\n",
       "      <td>8.355496e+18</td>\n",
       "      <td>adjust.com</td>\n",
       "      <td>NaN</td>\n",
       "      <td>dda99e3c-9c4b-487d-891c-79f0a02cb4a8</td>\n",
       "      <td>app_open</td>\n",
       "      <td>NaN</td>\n",
       "      <td>NaN</td>\n",
       "      <td>8291809486355890410</td>\n",
       "      <td>4.060929664968129e+18</td>\n",
       "    </tr>\n",
       "    <tr>\n",
       "      <th>3</th>\n",
       "      <td>2019-04-20 21:56:47.151</td>\n",
       "      <td>1</td>\n",
       "      <td>1494519392962156891</td>\n",
       "      <td>5097163995161606833</td>\n",
       "      <td>NaN</td>\n",
       "      <td>False</td>\n",
       "      <td>True</td>\n",
       "      <td>NaN</td>\n",
       "      <td>2.355772e+18</td>\n",
       "      <td>adjust.com</td>\n",
       "      <td>NaN</td>\n",
       "      <td>7010c3ce-0fcf-46c6-9be8-374cc0e20af4</td>\n",
       "      <td>app_open</td>\n",
       "      <td>NaN</td>\n",
       "      <td>NaN</td>\n",
       "      <td>4006811922873399949</td>\n",
       "      <td>3.3013777759776993e+18</td>\n",
       "    </tr>\n",
       "    <tr>\n",
       "      <th>4</th>\n",
       "      <td>2019-04-20 22:40:41.239</td>\n",
       "      <td>1</td>\n",
       "      <td>1494519392962156891</td>\n",
       "      <td>6328027616411983332</td>\n",
       "      <td>NaN</td>\n",
       "      <td>False</td>\n",
       "      <td>False</td>\n",
       "      <td>NaN</td>\n",
       "      <td>6.156971e+18</td>\n",
       "      <td>adjust.com</td>\n",
       "      <td>NaN</td>\n",
       "      <td>NaN</td>\n",
       "      <td>NaN</td>\n",
       "      <td>NaN</td>\n",
       "      <td>NaN</td>\n",
       "      <td>3386455054590810771</td>\n",
       "      <td>3.3013777759776993e+18</td>\n",
       "    </tr>\n",
       "    <tr>\n",
       "      <th>5</th>\n",
       "      <td>2019-04-20 18:19:27.485</td>\n",
       "      <td>1</td>\n",
       "      <td>1494519392962156891</td>\n",
       "      <td>7522785771858684314</td>\n",
       "      <td>NaN</td>\n",
       "      <td>False</td>\n",
       "      <td>True</td>\n",
       "      <td>NaN</td>\n",
       "      <td>6.208879e+18</td>\n",
       "      <td>adjust.com</td>\n",
       "      <td>NaN</td>\n",
       "      <td>35e7504f-cd9b-4a78-b89f-7335a8bd735a</td>\n",
       "      <td>app_open</td>\n",
       "      <td>NaN</td>\n",
       "      <td>NaN</td>\n",
       "      <td>7297343258015606683</td>\n",
       "      <td>3.3013777759776993e+18</td>\n",
       "    </tr>\n",
       "    <tr>\n",
       "      <th>6</th>\n",
       "      <td>2019-04-20 03:40:21.239</td>\n",
       "      <td>1</td>\n",
       "      <td>1494519392962156891</td>\n",
       "      <td>7882044913917355073</td>\n",
       "      <td>NaN</td>\n",
       "      <td>False</td>\n",
       "      <td>True</td>\n",
       "      <td>NaN</td>\n",
       "      <td>4.566898e+18</td>\n",
       "      <td>adjust.com</td>\n",
       "      <td>NaN</td>\n",
       "      <td>f3a8649c-bd47-4874-a20e-8d3d5cedac2e</td>\n",
       "      <td>app_open</td>\n",
       "      <td>NaN</td>\n",
       "      <td>NaN</td>\n",
       "      <td>4764130939738113581</td>\n",
       "      <td>4.060929664968129e+18</td>\n",
       "    </tr>\n",
       "  </tbody>\n",
       "</table>\n",
       "</div>"
      ],
      "text/plain": [
       "                  created application_id             ref_type  \\\n",
       "2 2019-04-20 10:15:36.274              1  1494519392962156891   \n",
       "3 2019-04-20 21:56:47.151              1  1494519392962156891   \n",
       "4 2019-04-20 22:40:41.239              1  1494519392962156891   \n",
       "5 2019-04-20 18:19:27.485              1  1494519392962156891   \n",
       "6 2019-04-20 03:40:21.239              1  1494519392962156891   \n",
       "\n",
       "              ref_hash click_hash  attributed  implicit  device_brand  \\\n",
       "2  5230323462636548010        NaN       False      True           NaN   \n",
       "3  5097163995161606833        NaN       False      True           NaN   \n",
       "4  6328027616411983332        NaN       False     False           NaN   \n",
       "5  7522785771858684314        NaN       False      True           NaN   \n",
       "6  7882044913917355073        NaN       False      True           NaN   \n",
       "\n",
       "   device_model session_user_agent user_agent  \\\n",
       "2  8.355496e+18         adjust.com        NaN   \n",
       "3  2.355772e+18         adjust.com        NaN   \n",
       "4  6.156971e+18         adjust.com        NaN   \n",
       "5  6.208879e+18         adjust.com        NaN   \n",
       "6  4.566898e+18         adjust.com        NaN   \n",
       "\n",
       "                             event_uuid      kind wifi trans_id  \\\n",
       "2  dda99e3c-9c4b-487d-891c-79f0a02cb4a8  app_open  NaN      NaN   \n",
       "3  7010c3ce-0fcf-46c6-9be8-374cc0e20af4  app_open  NaN      NaN   \n",
       "4                                   NaN       NaN  NaN      NaN   \n",
       "5  35e7504f-cd9b-4a78-b89f-7335a8bd735a  app_open  NaN      NaN   \n",
       "6  f3a8649c-bd47-4874-a20e-8d3d5cedac2e  app_open  NaN      NaN   \n",
       "\n",
       "            ip_address         device_language  \n",
       "2  8291809486355890410   4.060929664968129e+18  \n",
       "3  4006811922873399949  3.3013777759776993e+18  \n",
       "4  3386455054590810771  3.3013777759776993e+18  \n",
       "5  7297343258015606683  3.3013777759776993e+18  \n",
       "6  4764130939738113581   4.060929664968129e+18  "
      ]
     },
     "execution_count": 61,
     "metadata": {},
     "output_type": "execute_result"
    }
   ],
   "source": [
    "installs.head()"
   ]
  },
  {
   "cell_type": "code",
   "execution_count": 62,
   "metadata": {
    "scrolled": false
   },
   "outputs": [
    {
     "name": "stdout",
     "output_type": "stream",
     "text": [
      "<class 'pandas.core.frame.DataFrame'>\n",
      "Int64Index: 160861 entries, 2 to 481415\n",
      "Data columns (total 17 columns):\n",
      "created               160861 non-null datetime64[ns]\n",
      "application_id        160861 non-null category\n",
      "ref_type              160861 non-null category\n",
      "ref_hash              160861 non-null int64\n",
      "click_hash            307 non-null object\n",
      "attributed            160861 non-null bool\n",
      "implicit              160861 non-null bool\n",
      "device_brand          95803 non-null float64\n",
      "device_model          152978 non-null float64\n",
      "session_user_agent    156740 non-null object\n",
      "user_agent            111880 non-null object\n",
      "event_uuid            35226 non-null object\n",
      "kind                  35226 non-null object\n",
      "wifi                  100903 non-null object\n",
      "trans_id              2867 non-null object\n",
      "ip_address            160861 non-null int64\n",
      "device_language       153042 non-null category\n",
      "dtypes: bool(2), category(3), datetime64[ns](1), float64(2), int64(2), object(7)\n",
      "memory usage: 17.1+ MB\n"
     ]
    }
   ],
   "source": [
    "installs.info()"
   ]
  },
  {
   "cell_type": "code",
   "execution_count": null,
   "metadata": {},
   "outputs": [],
   "source": []
  }
 ],
 "metadata": {
  "kernelspec": {
   "display_name": "Python 3",
   "language": "python",
   "name": "python3"
  },
  "language_info": {
   "codemirror_mode": {
    "name": "ipython",
    "version": 3
   },
   "file_extension": ".py",
   "mimetype": "text/x-python",
   "name": "python",
   "nbconvert_exporter": "python",
   "pygments_lexer": "ipython3",
   "version": "3.7.3"
  }
 },
 "nbformat": 4,
 "nbformat_minor": 2
}
