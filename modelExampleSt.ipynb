{
 "cells": [
  {
   "cell_type": "markdown",
   "metadata": {},
   "source": [
    "# Survival analysis"
   ]
  },
  {
   "cell_type": "markdown",
   "metadata": {},
   "source": [
    "Ver [notebook de ejemplo de la libreria](https://nbviewer.jupyter.org/github/sebp/scikit-survival/blob/master/examples/00-introduction.ipynb)"
   ]
  },
  {
   "cell_type": "markdown",
   "metadata": {},
   "source": [
    "Primero cargo los labels y los features."
   ]
  },
  {
   "cell_type": "code",
   "execution_count": 1,
   "metadata": {},
   "outputs": [],
   "source": [
    "import pandas as pd"
   ]
  },
  {
   "cell_type": "code",
   "execution_count": 2,
   "metadata": {},
   "outputs": [],
   "source": [
    "dtype = {\n",
    "    'device_id': 'int64',\n",
    "    'auctionsCount': 'float64',\n",
    "    'auctionsMostFreqDay': 'float64',\n",
    "    'auctionsMeanInterval': 'float64',\n",
    "    'auctionsStdDevInterval': 'float64',\n",
    "    'auctionsAproxFreq': 'float64',\n",
    "    'auctionsLast': 'float64'\n",
    "}"
   ]
  },
  {
   "cell_type": "code",
   "execution_count": 3,
   "metadata": {},
   "outputs": [],
   "source": [
    "featuresAuctions = pd.read_csv('data/auctionsFeaturesFirstThreeDays.csv', usecols=dtype.keys(), dtype=dtype)"
   ]
  },
  {
   "cell_type": "code",
   "execution_count": 4,
   "metadata": {},
   "outputs": [],
   "source": [
    "dtype = {\n",
    "    'device_id': 'int64',\n",
    "    'eventsCount': 'float64',\n",
    "    'eventsMostFreqDay': 'float64',\n",
    "    'eventsMeanInterval': 'float64',\n",
    "    'eventsStdDevInterval': 'float64',\n",
    "    'eventsAproxFreq': 'float64',\n",
    "    'eventsLast': 'float64'\n",
    "}"
   ]
  },
  {
   "cell_type": "code",
   "execution_count": 5,
   "metadata": {},
   "outputs": [],
   "source": [
    "featuresEvents = pd.read_csv('data/eventsFeaturesFirstThreeDays.csv', usecols=dtype.keys(), dtype=dtype)"
   ]
  },
  {
   "cell_type": "code",
   "execution_count": 6,
   "metadata": {},
   "outputs": [],
   "source": [
    "features = pd.merge(featuresAuctions, featuresEvents, how='outer')"
   ]
  },
  {
   "cell_type": "code",
   "execution_count": 7,
   "metadata": {},
   "outputs": [],
   "source": [
    "dtype = {\n",
    "    'device_id': 'int64',\n",
    "    'st': 'float64'\n",
    "}"
   ]
  },
  {
   "cell_type": "code",
   "execution_count": 8,
   "metadata": {},
   "outputs": [],
   "source": [
    "labels = pd.read_csv('data/labelsFirstThreeDays.csv', usecols=dtype.keys(), dtype=dtype)"
   ]
  },
  {
   "cell_type": "code",
   "execution_count": 9,
   "metadata": {},
   "outputs": [],
   "source": [
    "labels = labels.merge(features[['device_id']])"
   ]
  },
  {
   "cell_type": "markdown",
   "metadata": {},
   "source": [
    "El id del device no me interesa, pero las filas labels y features deben coincidir para un dispositivo. Por eso ordeno por dispositivo y luego tiro los id."
   ]
  },
  {
   "cell_type": "code",
   "execution_count": 10,
   "metadata": {},
   "outputs": [],
   "source": [
    "labels = labels.sort_values(by='device_id').reset_index(drop=True)"
   ]
  },
  {
   "cell_type": "code",
   "execution_count": 11,
   "metadata": {},
   "outputs": [],
   "source": [
    "features = features.sort_values(by='device_id').reset_index(drop=True)"
   ]
  },
  {
   "cell_type": "code",
   "execution_count": 12,
   "metadata": {},
   "outputs": [],
   "source": [
    "labels = labels.drop('device_id', axis=1)"
   ]
  },
  {
   "cell_type": "code",
   "execution_count": 13,
   "metadata": {},
   "outputs": [],
   "source": [
    "features = features.drop('device_id', axis=1)"
   ]
  },
  {
   "cell_type": "markdown",
   "metadata": {},
   "source": [
    "En analisis de supervivencia, si no se llegama a registrar un evento (porque esta fuera de la ventana de 3 dias) se dice que esta censurado. Para cualquier analisis que se quiera hacer, se necesita saber cual evento se registro (uncensored == `True`) y cual no (uncensored == `False`)."
   ]
  },
  {
   "cell_type": "code",
   "execution_count": 14,
   "metadata": {},
   "outputs": [],
   "source": [
    "labels['uncensored'] = labels['st'].notnull()"
   ]
  },
  {
   "cell_type": "markdown",
   "metadata": {},
   "source": [
    "Para los eventos censurados, el valor que importa es la ultima vez que se supo de ese dispositivo. En este caso, se sabe que hasta la ultima hora del tercer dia el evento (auction) no se produjo. Por los tanto, $y$ tiene ese valor."
   ]
  },
  {
   "cell_type": "code",
   "execution_count": 15,
   "metadata": {},
   "outputs": [],
   "source": [
    "secondsInThreeDays = 3 * 24 * 60 * 60\n",
    "labels['st'] = labels['st'].fillna(secondsInThreeDays)"
   ]
  },
  {
   "cell_type": "markdown",
   "metadata": {},
   "source": [
    "El modelo que vamos a entrenar no hacepta nulos"
   ]
  },
  {
   "cell_type": "code",
   "execution_count": 16,
   "metadata": {},
   "outputs": [],
   "source": [
    "features = features.fillna(0)"
   ]
  },
  {
   "cell_type": "code",
   "execution_count": 17,
   "metadata": {
    "scrolled": true
   },
   "outputs": [
    {
     "data": {
      "text/html": [
       "<div>\n",
       "<style scoped>\n",
       "    .dataframe tbody tr th:only-of-type {\n",
       "        vertical-align: middle;\n",
       "    }\n",
       "\n",
       "    .dataframe tbody tr th {\n",
       "        vertical-align: top;\n",
       "    }\n",
       "\n",
       "    .dataframe thead th {\n",
       "        text-align: right;\n",
       "    }\n",
       "</style>\n",
       "<table border=\"1\" class=\"dataframe\">\n",
       "  <thead>\n",
       "    <tr style=\"text-align: right;\">\n",
       "      <th></th>\n",
       "      <th>st</th>\n",
       "      <th>uncensored</th>\n",
       "    </tr>\n",
       "  </thead>\n",
       "  <tbody>\n",
       "    <tr>\n",
       "      <th>0</th>\n",
       "      <td>259200.000000</td>\n",
       "      <td>False</td>\n",
       "    </tr>\n",
       "    <tr>\n",
       "      <th>1</th>\n",
       "      <td>259200.000000</td>\n",
       "      <td>False</td>\n",
       "    </tr>\n",
       "    <tr>\n",
       "      <th>2</th>\n",
       "      <td>259200.000000</td>\n",
       "      <td>False</td>\n",
       "    </tr>\n",
       "    <tr>\n",
       "      <th>3</th>\n",
       "      <td>259200.000000</td>\n",
       "      <td>False</td>\n",
       "    </tr>\n",
       "    <tr>\n",
       "      <th>4</th>\n",
       "      <td>88.851558</td>\n",
       "      <td>True</td>\n",
       "    </tr>\n",
       "  </tbody>\n",
       "</table>\n",
       "</div>"
      ],
      "text/plain": [
       "              st  uncensored\n",
       "0  259200.000000       False\n",
       "1  259200.000000       False\n",
       "2  259200.000000       False\n",
       "3  259200.000000       False\n",
       "4      88.851558        True"
      ]
     },
     "execution_count": 17,
     "metadata": {},
     "output_type": "execute_result"
    }
   ],
   "source": [
    "labels.head()"
   ]
  },
  {
   "cell_type": "markdown",
   "metadata": {},
   "source": [
    "Vemos la cantidad de eventos registrados, y censurados."
   ]
  },
  {
   "cell_type": "code",
   "execution_count": 18,
   "metadata": {},
   "outputs": [
    {
     "data": {
      "text/plain": [
       "True     247656\n",
       "False    159413\n",
       "Name: uncensored, dtype: int64"
      ]
     },
     "execution_count": 18,
     "metadata": {},
     "output_type": "execute_result"
    }
   ],
   "source": [
    "labels['uncensored'].value_counts()"
   ]
  },
  {
   "cell_type": "code",
   "execution_count": 19,
   "metadata": {
    "scrolled": true
   },
   "outputs": [
    {
     "data": {
      "text/html": [
       "<div>\n",
       "<style scoped>\n",
       "    .dataframe tbody tr th:only-of-type {\n",
       "        vertical-align: middle;\n",
       "    }\n",
       "\n",
       "    .dataframe tbody tr th {\n",
       "        vertical-align: top;\n",
       "    }\n",
       "\n",
       "    .dataframe thead th {\n",
       "        text-align: right;\n",
       "    }\n",
       "</style>\n",
       "<table border=\"1\" class=\"dataframe\">\n",
       "  <thead>\n",
       "    <tr style=\"text-align: right;\">\n",
       "      <th></th>\n",
       "      <th>auctionsCount</th>\n",
       "      <th>auctionsMostFreqDay</th>\n",
       "      <th>auctionsMeanInterval</th>\n",
       "      <th>auctionsAproxFreq</th>\n",
       "      <th>auctionsStdDevInterval</th>\n",
       "      <th>auctionsLast</th>\n",
       "      <th>eventsCount</th>\n",
       "      <th>eventsMostFreqDay</th>\n",
       "      <th>eventsMeanInterval</th>\n",
       "      <th>eventsAproxFreq</th>\n",
       "      <th>eventsStdDevInterval</th>\n",
       "      <th>eventsLast</th>\n",
       "    </tr>\n",
       "  </thead>\n",
       "  <tbody>\n",
       "    <tr>\n",
       "      <th>0</th>\n",
       "      <td>35.0</td>\n",
       "      <td>3.0</td>\n",
       "      <td>5400.569164</td>\n",
       "      <td>0.000185</td>\n",
       "      <td>26777.818183</td>\n",
       "      <td>189019.920750</td>\n",
       "      <td>88.0</td>\n",
       "      <td>3.0</td>\n",
       "      <td>2190.301273</td>\n",
       "      <td>0.000457</td>\n",
       "      <td>12501.025059</td>\n",
       "      <td>192746.512</td>\n",
       "    </tr>\n",
       "    <tr>\n",
       "      <th>1</th>\n",
       "      <td>8.0</td>\n",
       "      <td>3.0</td>\n",
       "      <td>23581.596135</td>\n",
       "      <td>0.000042</td>\n",
       "      <td>66376.255608</td>\n",
       "      <td>188652.769083</td>\n",
       "      <td>0.0</td>\n",
       "      <td>0.0</td>\n",
       "      <td>0.000000</td>\n",
       "      <td>0.000000</td>\n",
       "      <td>0.000000</td>\n",
       "      <td>0.000</td>\n",
       "    </tr>\n",
       "    <tr>\n",
       "      <th>2</th>\n",
       "      <td>6.0</td>\n",
       "      <td>1.0</td>\n",
       "      <td>1748.256831</td>\n",
       "      <td>0.000572</td>\n",
       "      <td>4222.014848</td>\n",
       "      <td>10489.540987</td>\n",
       "      <td>8.0</td>\n",
       "      <td>2.0</td>\n",
       "      <td>18506.979875</td>\n",
       "      <td>0.000054</td>\n",
       "      <td>52213.999252</td>\n",
       "      <td>148055.839</td>\n",
       "    </tr>\n",
       "    <tr>\n",
       "      <th>3</th>\n",
       "      <td>1.0</td>\n",
       "      <td>3.0</td>\n",
       "      <td>256765.420614</td>\n",
       "      <td>0.000004</td>\n",
       "      <td>0.000000</td>\n",
       "      <td>256765.420614</td>\n",
       "      <td>0.0</td>\n",
       "      <td>0.0</td>\n",
       "      <td>0.000000</td>\n",
       "      <td>0.000000</td>\n",
       "      <td>0.000000</td>\n",
       "      <td>0.000</td>\n",
       "    </tr>\n",
       "    <tr>\n",
       "      <th>4</th>\n",
       "      <td>7.0</td>\n",
       "      <td>3.0</td>\n",
       "      <td>36811.037843</td>\n",
       "      <td>0.000027</td>\n",
       "      <td>46058.714104</td>\n",
       "      <td>257677.264901</td>\n",
       "      <td>13.0</td>\n",
       "      <td>1.0</td>\n",
       "      <td>4642.311923</td>\n",
       "      <td>0.000215</td>\n",
       "      <td>16645.826680</td>\n",
       "      <td>60350.055</td>\n",
       "    </tr>\n",
       "  </tbody>\n",
       "</table>\n",
       "</div>"
      ],
      "text/plain": [
       "   auctionsCount  auctionsMostFreqDay  auctionsMeanInterval  \\\n",
       "0           35.0                  3.0           5400.569164   \n",
       "1            8.0                  3.0          23581.596135   \n",
       "2            6.0                  1.0           1748.256831   \n",
       "3            1.0                  3.0         256765.420614   \n",
       "4            7.0                  3.0          36811.037843   \n",
       "\n",
       "   auctionsAproxFreq  auctionsStdDevInterval   auctionsLast  eventsCount  \\\n",
       "0           0.000185            26777.818183  189019.920750         88.0   \n",
       "1           0.000042            66376.255608  188652.769083          0.0   \n",
       "2           0.000572             4222.014848   10489.540987          8.0   \n",
       "3           0.000004                0.000000  256765.420614          0.0   \n",
       "4           0.000027            46058.714104  257677.264901         13.0   \n",
       "\n",
       "   eventsMostFreqDay  eventsMeanInterval  eventsAproxFreq  \\\n",
       "0                3.0         2190.301273         0.000457   \n",
       "1                0.0            0.000000         0.000000   \n",
       "2                2.0        18506.979875         0.000054   \n",
       "3                0.0            0.000000         0.000000   \n",
       "4                1.0         4642.311923         0.000215   \n",
       "\n",
       "   eventsStdDevInterval  eventsLast  \n",
       "0          12501.025059  192746.512  \n",
       "1              0.000000       0.000  \n",
       "2          52213.999252  148055.839  \n",
       "3              0.000000       0.000  \n",
       "4          16645.826680   60350.055  "
      ]
     },
     "execution_count": 19,
     "metadata": {},
     "output_type": "execute_result"
    }
   ],
   "source": [
    "features.head()"
   ]
  },
  {
   "cell_type": "markdown",
   "metadata": {},
   "source": [
    "Ahora que ya tengo los datos cargados y en orden, se puede pasar al modelo\n",
    "\n",
    "## Entrenamiento del modelo y analisis"
   ]
  },
  {
   "cell_type": "markdown",
   "metadata": {},
   "source": [
    "Defino la cantidad de datos que se van a usar para entrenar el modelo, y cuantos se van a usar para validar."
   ]
  },
  {
   "cell_type": "code",
   "execution_count": 20,
   "metadata": {},
   "outputs": [],
   "source": [
    "n1 = 300000\n",
    "n2 = 10000"
   ]
  },
  {
   "cell_type": "code",
   "execution_count": 21,
   "metadata": {},
   "outputs": [],
   "source": [
    "labelsTrain = labels.iloc[:n1]"
   ]
  },
  {
   "cell_type": "code",
   "execution_count": 22,
   "metadata": {},
   "outputs": [],
   "source": [
    "featuresTrain = features.iloc[:n1]"
   ]
  },
  {
   "cell_type": "code",
   "execution_count": 23,
   "metadata": {},
   "outputs": [],
   "source": [
    "labelsTest = labels.iloc[n1:n1+n2]"
   ]
  },
  {
   "cell_type": "code",
   "execution_count": 24,
   "metadata": {},
   "outputs": [],
   "source": [
    "featuresTest = features.iloc[n1:n1+n2]"
   ]
  },
  {
   "cell_type": "markdown",
   "metadata": {},
   "source": [
    "El modelo que se eligio es Cox proportional hazard's model (el mas simple). Hay algunos mas, habria que probarlos y analisar si producen mejores resultados."
   ]
  },
  {
   "cell_type": "code",
   "execution_count": 25,
   "metadata": {},
   "outputs": [],
   "source": [
    "from sksurv.linear_model import CoxPHSurvivalAnalysis\n",
    "estimator = CoxPHSurvivalAnalysis(verbose=True)"
   ]
  },
  {
   "cell_type": "markdown",
   "metadata": {},
   "source": [
    "El modelo pide que los labels sean un 'structured array' de python. Por suerte, la libreria provee funciones para obtener estos a partir de un DataFrame de Pandas"
   ]
  },
  {
   "cell_type": "code",
   "execution_count": 26,
   "metadata": {},
   "outputs": [],
   "source": [
    "from sksurv.util import Surv\n",
    "util = Surv()\n",
    "saLabelsTrain = util.from_dataframe('uncensored', 'st', labelsTrain)\n",
    "saLabelsTest = util.from_dataframe('uncensored', 'st', labelsTest)"
   ]
  },
  {
   "cell_type": "markdown",
   "metadata": {},
   "source": [
    "Entrenamos el modelo. Da un par de errores, creo que es porque en features hay una columna que es inversa de otra."
   ]
  },
  {
   "cell_type": "code",
   "execution_count": 27,
   "metadata": {},
   "outputs": [
    {
     "name": "stderr",
     "output_type": "stream",
     "text": [
      "C:\\Users\\matias\\Anaconda3\\lib\\site-packages\\sksurv\\linear_model\\coxph.py:330: LinAlgWarning: Ill-conditioned matrix (rcond=1.55016e-17): result may not be accurate.\n",
      "  overwrite_a=False, overwrite_b=False, check_finite=False)\n",
      "C:\\Users\\matias\\Anaconda3\\lib\\site-packages\\sksurv\\linear_model\\coxph.py:330: LinAlgWarning: Ill-conditioned matrix (rcond=6.69074e-17): result may not be accurate.\n",
      "  overwrite_a=False, overwrite_b=False, check_finite=False)\n",
      "C:\\Users\\matias\\Anaconda3\\lib\\site-packages\\sksurv\\linear_model\\coxph.py:330: LinAlgWarning: Ill-conditioned matrix (rcond=2.67451e-17): result may not be accurate.\n",
      "  overwrite_a=False, overwrite_b=False, check_finite=False)\n",
      "C:\\Users\\matias\\Anaconda3\\lib\\site-packages\\sksurv\\linear_model\\coxph.py:330: LinAlgWarning: Ill-conditioned matrix (rcond=2.04868e-17): result may not be accurate.\n",
      "  overwrite_a=False, overwrite_b=False, check_finite=False)\n",
      "C:\\Users\\matias\\Anaconda3\\lib\\site-packages\\sksurv\\linear_model\\coxph.py:330: LinAlgWarning: Ill-conditioned matrix (rcond=1.9723e-17): result may not be accurate.\n",
      "  overwrite_a=False, overwrite_b=False, check_finite=False)\n"
     ]
    },
    {
     "name": "stdout",
     "output_type": "stream",
     "text": [
      "iter      8: optimization converged\n"
     ]
    },
    {
     "data": {
      "text/plain": [
       "CoxPHSurvivalAnalysis(alpha=0, n_iter=100, tol=1e-09, verbose=True)"
      ]
     },
     "execution_count": 27,
     "metadata": {},
     "output_type": "execute_result"
    }
   ],
   "source": [
    "estimator.fit(featuresTrain, saLabelsTrain)"
   ]
  },
  {
   "cell_type": "markdown",
   "metadata": {},
   "source": [
    "El modelo devuelve un ceoficiente para cada feature llamado [Log Hazard Ratio](https://en.wikipedia.org/wiki/Hazard_ratio)."
   ]
  },
  {
   "cell_type": "code",
   "execution_count": 28,
   "metadata": {},
   "outputs": [
    {
     "data": {
      "text/plain": [
       "auctionsCount             4.478998e-04\n",
       "auctionsMostFreqDay       2.168486e-02\n",
       "auctionsMeanInterval     -5.334017e-06\n",
       "auctionsAproxFreq         7.421467e+00\n",
       "auctionsStdDevInterval   -6.648840e-06\n",
       "auctionsLast              9.541905e-06\n",
       "eventsCount              -5.288387e-04\n",
       "eventsMostFreqDay        -8.508809e-02\n",
       "eventsMeanInterval        1.245618e-08\n",
       "eventsAproxFreq          -1.302542e+01\n",
       "eventsStdDevInterval      1.395028e-08\n",
       "eventsLast                2.135336e-07\n",
       "dtype: float64"
      ]
     },
     "execution_count": 28,
     "metadata": {},
     "output_type": "execute_result"
    }
   ],
   "source": [
    "pd.Series(estimator.coef_, index=featuresTrain.columns)"
   ]
  },
  {
   "cell_type": "markdown",
   "metadata": {},
   "source": [
    "Ahora quiero ver que tan bien predice el modelo. Hago dos predicciones, una para una parte de los datos con los que se entreno el modelo, y otra para datos nuevos.\n",
    "\n",
    "Es importante aclarar que el modelo no predice el valor $S_t$ que queremos, sino un valor de 'riesgo' del dispositivo. Es decir, para cada instante $t$, cual es el riego de que suceda el evento"
   ]
  },
  {
   "cell_type": "code",
   "execution_count": 32,
   "metadata": {},
   "outputs": [],
   "source": [
    "predictionTrain = estimator.predict(featuresTrain.iloc[:n2])\n",
    "predictionTest = estimator.predict(featuresTest)"
   ]
  },
  {
   "cell_type": "markdown",
   "metadata": {},
   "source": [
    "La performance se mide con un indice que se fija que el orden corresponda con los labels. Es decir, que si $a$ tiene mayor riesgo que $b$, entonces $a$ debe haber sucedido primero."
   ]
  },
  {
   "cell_type": "code",
   "execution_count": 33,
   "metadata": {},
   "outputs": [],
   "source": [
    "from sksurv.metrics import concordance_index_censored\n",
    "resultTrain = concordance_index_censored(saLabelsTrain[:n2]['uncensored'], saLabelsTrain[:n2][\"st\"], predictionTrain)\n",
    "resultTest = concordance_index_censored(saLabelsTest['uncensored'], saLabelsTest[\"st\"], predictionTest)"
   ]
  },
  {
   "cell_type": "markdown",
   "metadata": {},
   "source": [
    "El valor que nos interesa aca es el primero. 0 indica un modelo totalmente contrario a la realidad, 0,5 un modelo aleatorio y 1 un modelo perfecto. El segundo valor es la cantidad de pares que concordaban, y el tercero es la cantidad de pares que no concordaban."
   ]
  },
  {
   "cell_type": "code",
   "execution_count": 34,
   "metadata": {},
   "outputs": [
    {
     "data": {
      "text/plain": [
       "(0.7510813979188226, 31784021, 10533657, 1, 0)"
      ]
     },
     "execution_count": 34,
     "metadata": {},
     "output_type": "execute_result"
    }
   ],
   "source": [
    "resultTrain"
   ]
  },
  {
   "cell_type": "code",
   "execution_count": 35,
   "metadata": {
    "scrolled": true
   },
   "outputs": [
    {
     "data": {
      "text/plain": [
       "(0.7420289463072816, 31631179, 10996779, 1, 0)"
      ]
     },
     "execution_count": 35,
     "metadata": {},
     "output_type": "execute_result"
    }
   ],
   "source": [
    "resultTest"
   ]
  },
  {
   "cell_type": "markdown",
   "metadata": {},
   "source": [
    "El modelo tambien puede predecir las funciones de supervivencia: $H(t) = P(T > t)$. Es decir, para cada instante $t$, la probabilidad de que el evento ocurra luego de $t$.\n",
    "\n",
    "Aca muestro las funciones de 5 muestras."
   ]
  },
  {
   "cell_type": "code",
   "execution_count": 36,
   "metadata": {},
   "outputs": [],
   "source": [
    "pred_surv = estimator.predict_survival_function(featuresTest.head(5))"
   ]
  },
  {
   "cell_type": "code",
   "execution_count": 38,
   "metadata": {},
   "outputs": [
    {
     "data": {
      "image/png": "[encoded data removed]",
      "text/plain": [
       "<Figure size 432x288 with 1 Axes>"
      ]
     },
     "metadata": {
      "needs_background": "light"
     },
     "output_type": "display_data"
    }
   ],
   "source": [
    "import matplotlib.pyplot as plt\n",
    "for i, c in enumerate(pred_surv):\n",
    "    plt.step(c.x, c.y, where=\"post\")\n",
    "plt.title('Predicted survival function of 5 samples')\n",
    "plt.ylabel(\"est. probability of survival $\\hat{S}(t)$\")\n",
    "plt.xlabel(\"time $t$ in seconds\")\n",
    "plt.show()"
   ]
  },
  {
   "cell_type": "markdown",
   "metadata": {},
   "source": [
    "Por ultimo, puedo entrenar el modelo para cada feature, usando solo esa feature y evaluar el resultado para cada una de ellas. De esta manera puede ver cual es la feature que mejor predice.\n",
    "\n",
    "score hace los mismo que hice antes, predice un resultado y luego obtiene su concordance index"
   ]
  },
  {
   "cell_type": "code",
   "execution_count": 39,
   "metadata": {},
   "outputs": [
    {
     "data": {
      "text/plain": [
       "auctionsLast              0.725827\n",
       "auctionsCount             0.717803\n",
       "auctionsAproxFreq         0.684577\n",
       "auctionsMostFreqDay       0.641353\n",
       "auctionsStdDevInterval    0.600921\n",
       "eventsAproxFreq           0.591417\n",
       "eventsCount               0.589641\n",
       "eventsMostFreqDay         0.586034\n",
       "eventsLast                0.585911\n",
       "eventsMeanInterval        0.584684\n",
       "eventsStdDevInterval      0.568352\n",
       "auctionsMeanInterval      0.451897\n",
       "dtype: float64"
      ]
     },
     "execution_count": 39,
     "metadata": {},
     "output_type": "execute_result"
    }
   ],
   "source": [
    "import numpy as np\n",
    "\n",
    "def fit_and_score_features(X, y):\n",
    "    n_features = X.shape[1]\n",
    "    scores = np.empty(n_features)\n",
    "    m = CoxPHSurvivalAnalysis()\n",
    "    for j in range(n_features):\n",
    "        Xj = X[:, j:j+1]\n",
    "        m.fit(Xj, y)\n",
    "        scores[j] = m.score(Xj, y)\n",
    "    return scores\n",
    "\n",
    "scores = fit_and_score_features(featuresTest.values, saLabelsTest)\n",
    "pd.Series(scores, index=featuresTest.columns).sort_values(ascending=False)"
   ]
  },
  {
   "cell_type": "markdown",
   "metadata": {},
   "source": [
    "La pregunta obvia es: Como mierda obtengo los valores de $S_t(d)$ a partir de esto? Las opciones que se me ocurren son:\n",
    "\n",
    "    1. La Esperanza de la funcion de supervicencia,\n",
    "    2. algun cuantil fijo de la funcion de supervicencia, o\n",
    "    3. con un algoritmo de machine learning de regresion, predecir el cuantil para cada dispositivo.\n",
    "\n",
    "Y por que no se puede usar un modelo de regresion directamente para predecir el valor de $S_t(d)$?\n",
    "\n",
    "    Se puede, pero como gran parte de los datos estan censurados, el modelo va a tratar de predecir casi siempre el tiempo maximo, y asi pegarle con exactitud a un monton de datos. Estos algoritmos de survival analisis estan pensados especialmente para atacar esta tipo de problemas.\n",
    "    De todas maneras, siempre se puede probar y ver que funciona mejor."
   ]
  },
  {
   "cell_type": "code",
   "execution_count": null,
   "metadata": {},
   "outputs": [],
   "source": []
  }
 ],
 "metadata": {
  "kernelspec": {
   "display_name": "Python 3",
   "language": "python",
   "name": "python3"
  },
  "language_info": {
   "codemirror_mode": {
    "name": "ipython",
    "version": 3
   },
   "file_extension": ".py",
   "mimetype": "text/x-python",
   "name": "python",
   "nbconvert_exporter": "python",
   "pygments_lexer": "ipython3",
   "version": "3.7.3"
  }
 },
 "nbformat": 4,
 "nbformat_minor": 2
}
