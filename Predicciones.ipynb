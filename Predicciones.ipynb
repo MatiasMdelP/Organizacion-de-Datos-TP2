{
 "cells": [
  {
   "cell_type": "code",
   "execution_count": 23,
   "metadata": {},
   "outputs": [],
   "source": [
    "import pandas as pd\n",
    "import sklearn\n",
    "import numpy as np"
   ]
  },
  {
   "cell_type": "code",
   "execution_count": 2,
   "metadata": {},
   "outputs": [],
   "source": [
    "location = 'data/'\n",
    "auctionsFeaturesFile = location + 'auctionsFeaturesFirstThreeDays.csv'\n",
    "eventsFeaturesFile = location + 'eventsFeaturesFirstThreeDays.csv'\n",
    "clicksFeaturesFile = location + 'clicksFeaturesFirstThreeDays.csv'\n",
    "installsFeaturesFile = location + 'installsFeaturesFirstThreeDays.csv'\n",
    "targetFile= location + 'target_competencia_ids.csv'"
   ]
  },
  {
   "cell_type": "code",
   "execution_count": 3,
   "metadata": {},
   "outputs": [],
   "source": [
    "auctionsFeatures=pd.read_csv(auctionsFeaturesFile)\n",
    "eventsFeatures=pd.read_csv(eventsFeaturesFile)\n",
    "clicksFeatures=pd.read_csv(clicksFeaturesFile)\n",
    "installsFeatures=pd.read_csv(installsFeaturesFile)"
   ]
  },
  {
   "cell_type": "code",
   "execution_count": 78,
   "metadata": {},
   "outputs": [
    {
     "data": {
      "text/html": [
       "<div>\n",
       "<style scoped>\n",
       "    .dataframe tbody tr th:only-of-type {\n",
       "        vertical-align: middle;\n",
       "    }\n",
       "\n",
       "    .dataframe tbody tr th {\n",
       "        vertical-align: top;\n",
       "    }\n",
       "\n",
       "    .dataframe thead th {\n",
       "        text-align: right;\n",
       "    }\n",
       "</style>\n",
       "<table border=\"1\" class=\"dataframe\">\n",
       "  <thead>\n",
       "    <tr style=\"text-align: right;\">\n",
       "      <th></th>\n",
       "      <th>device_id</th>\n",
       "      <th>value</th>\n",
       "    </tr>\n",
       "  </thead>\n",
       "  <tbody>\n",
       "    <tr>\n",
       "      <th>0</th>\n",
       "      <td>1000169251625791246</td>\n",
       "      <td>0.0</td>\n",
       "    </tr>\n",
       "    <tr>\n",
       "      <th>1</th>\n",
       "      <td>1000395625957344683</td>\n",
       "      <td>0.0</td>\n",
       "    </tr>\n",
       "    <tr>\n",
       "      <th>2</th>\n",
       "      <td>1003027494996471685</td>\n",
       "      <td>0.0</td>\n",
       "    </tr>\n",
       "    <tr>\n",
       "      <th>3</th>\n",
       "      <td>1006670001679961544</td>\n",
       "      <td>0.0</td>\n",
       "    </tr>\n",
       "    <tr>\n",
       "      <th>4</th>\n",
       "      <td>1007573308966476713</td>\n",
       "      <td>0.0</td>\n",
       "    </tr>\n",
       "  </tbody>\n",
       "</table>\n",
       "</div>"
      ],
      "text/plain": [
       "             device_id  value\n",
       "0  1000169251625791246    0.0\n",
       "1  1000395625957344683    0.0\n",
       "2  1003027494996471685    0.0\n",
       "3  1006670001679961544    0.0\n",
       "4  1007573308966476713    0.0"
      ]
     },
     "execution_count": 78,
     "metadata": {},
     "output_type": "execute_result"
    }
   ],
   "source": [
    "target = pd.read_csv(targetFile)\n",
    "target['ref_hash']=target['ref_hash'].str.strip('_sc')\n",
    "target['ref_hash']=target['ref_hash'].str.strip('_st')\n",
    "target=pd.DataFrame(target['ref_hash'].unique())\n",
    "target['value']=0\n",
    "target.columns=['device_id','value']\n",
    "target=target.astype({'device_id':'int64','value':'float'})\n",
    "target.head()"
   ]
  },
  {
   "cell_type": "code",
   "execution_count": 6,
   "metadata": {},
   "outputs": [],
   "source": [
    "labelsFile=location + 'labelsFirstThreeDays.csv'\n",
    "labels=pd.read_csv(labelsFile)"
   ]
  },
  {
   "cell_type": "code",
   "execution_count": 7,
   "metadata": {},
   "outputs": [],
   "source": [
    "labelsSC=labels.loc[labels['sc'].notnull()]\n",
    "labelsSC=labelsSC.drop('st',axis=1)\n",
    "labelsST=labels.loc[labels['st'].notnull()]\n",
    "labelsST=labelsST.drop('sc',axis=1)"
   ]
  },
  {
   "cell_type": "code",
   "execution_count": 9,
   "metadata": {},
   "outputs": [
    {
     "data": {
      "text/html": [
       "<div>\n",
       "<style scoped>\n",
       "    .dataframe tbody tr th:only-of-type {\n",
       "        vertical-align: middle;\n",
       "    }\n",
       "\n",
       "    .dataframe tbody tr th {\n",
       "        vertical-align: top;\n",
       "    }\n",
       "\n",
       "    .dataframe thead th {\n",
       "        text-align: right;\n",
       "    }\n",
       "</style>\n",
       "<table border=\"1\" class=\"dataframe\">\n",
       "  <thead>\n",
       "    <tr style=\"text-align: right;\">\n",
       "      <th></th>\n",
       "      <th>device_id</th>\n",
       "      <th>st</th>\n",
       "      <th>sc</th>\n",
       "    </tr>\n",
       "  </thead>\n",
       "  <tbody>\n",
       "    <tr>\n",
       "      <th>0</th>\n",
       "      <td>5857744372586891366</td>\n",
       "      <td>259200.000000</td>\n",
       "      <td>259200.0</td>\n",
       "    </tr>\n",
       "    <tr>\n",
       "      <th>1</th>\n",
       "      <td>7642521036780133571</td>\n",
       "      <td>436.543534</td>\n",
       "      <td>259200.0</td>\n",
       "    </tr>\n",
       "    <tr>\n",
       "      <th>2</th>\n",
       "      <td>2548841562898283198</td>\n",
       "      <td>259200.000000</td>\n",
       "      <td>259200.0</td>\n",
       "    </tr>\n",
       "    <tr>\n",
       "      <th>3</th>\n",
       "      <td>609402887625919085</td>\n",
       "      <td>259200.000000</td>\n",
       "      <td>259200.0</td>\n",
       "    </tr>\n",
       "    <tr>\n",
       "      <th>4</th>\n",
       "      <td>9114651763556439823</td>\n",
       "      <td>259200.000000</td>\n",
       "      <td>259200.0</td>\n",
       "    </tr>\n",
       "  </tbody>\n",
       "</table>\n",
       "</div>"
      ],
      "text/plain": [
       "             device_id             st        sc\n",
       "0  5857744372586891366  259200.000000  259200.0\n",
       "1  7642521036780133571     436.543534  259200.0\n",
       "2  2548841562898283198  259200.000000  259200.0\n",
       "3   609402887625919085  259200.000000  259200.0\n",
       "4  9114651763556439823  259200.000000  259200.0"
      ]
     },
     "execution_count": 9,
     "metadata": {},
     "output_type": "execute_result"
    }
   ],
   "source": [
    "labels=labels.fillna(259200)\n",
    "labels.head()"
   ]
  },
  {
   "cell_type": "code",
   "execution_count": 8,
   "metadata": {},
   "outputs": [
    {
     "data": {
      "text/plain": [
       "device_id    251508\n",
       "st           251508\n",
       "dtype: int64"
      ]
     },
     "execution_count": 8,
     "metadata": {},
     "output_type": "execute_result"
    }
   ],
   "source": [
    "labelsSC.count()#56850\n",
    "labelsST.count()#251508"
   ]
  },
  {
   "cell_type": "code",
   "execution_count": 13,
   "metadata": {},
   "outputs": [],
   "source": [
    "features=auctionsFeatures.merge(eventsFeatures,how='outer')\n",
    "features=features.merge(clicksFeatures,how='outer')\n",
    "features=features.merge(installsFeatures,how='outer')"
   ]
  },
  {
   "cell_type": "code",
   "execution_count": 14,
   "metadata": {},
   "outputs": [
    {
     "data": {
      "text/html": [
       "<div>\n",
       "<style scoped>\n",
       "    .dataframe tbody tr th:only-of-type {\n",
       "        vertical-align: middle;\n",
       "    }\n",
       "\n",
       "    .dataframe tbody tr th {\n",
       "        vertical-align: top;\n",
       "    }\n",
       "\n",
       "    .dataframe thead th {\n",
       "        text-align: right;\n",
       "    }\n",
       "</style>\n",
       "<table border=\"1\" class=\"dataframe\">\n",
       "  <thead>\n",
       "    <tr style=\"text-align: right;\">\n",
       "      <th></th>\n",
       "      <th>device_id</th>\n",
       "      <th>auctionsMeanHour</th>\n",
       "      <th>auctionsStdDevHour</th>\n",
       "      <th>auctionsCount</th>\n",
       "      <th>auctionsMostFreqDay</th>\n",
       "      <th>auctionsMeanInstant</th>\n",
       "      <th>auctionsStdDevInstant</th>\n",
       "      <th>auctionsTopSecond</th>\n",
       "      <th>auctionsMeanInterval</th>\n",
       "      <th>auctionsAproxFreq</th>\n",
       "      <th>...</th>\n",
       "      <th>clicksMeanInterval</th>\n",
       "      <th>clicksAproxFreq</th>\n",
       "      <th>clicksStdDevInterval</th>\n",
       "      <th>clicksLast</th>\n",
       "      <th>installsCount</th>\n",
       "      <th>installsMostFreqDay</th>\n",
       "      <th>installsMeanInterval</th>\n",
       "      <th>installsAproxFreq</th>\n",
       "      <th>installsStdDevInterval</th>\n",
       "      <th>installsLast</th>\n",
       "    </tr>\n",
       "  </thead>\n",
       "  <tbody>\n",
       "    <tr>\n",
       "      <th>0</th>\n",
       "      <td>1109595589636746168</td>\n",
       "      <td>20.344831</td>\n",
       "      <td>5.775980</td>\n",
       "      <td>128.0</td>\n",
       "      <td>3.0</td>\n",
       "      <td>217691.904097</td>\n",
       "      <td>78348.145610</td>\n",
       "      <td>252711.397215</td>\n",
       "      <td>2024.923399</td>\n",
       "      <td>0.000494</td>\n",
       "      <td>...</td>\n",
       "      <td>NaN</td>\n",
       "      <td>NaN</td>\n",
       "      <td>NaN</td>\n",
       "      <td>NaN</td>\n",
       "      <td>NaN</td>\n",
       "      <td>NaN</td>\n",
       "      <td>NaN</td>\n",
       "      <td>NaN</td>\n",
       "      <td>NaN</td>\n",
       "      <td>NaN</td>\n",
       "    </tr>\n",
       "    <tr>\n",
       "      <th>1</th>\n",
       "      <td>5896614299191635403</td>\n",
       "      <td>22.110936</td>\n",
       "      <td>5.441725</td>\n",
       "      <td>46.0</td>\n",
       "      <td>3.0</td>\n",
       "      <td>252399.878976</td>\n",
       "      <td>19590.204861</td>\n",
       "      <td>257059.673527</td>\n",
       "      <td>5631.657083</td>\n",
       "      <td>0.000178</td>\n",
       "      <td>...</td>\n",
       "      <td>NaN</td>\n",
       "      <td>NaN</td>\n",
       "      <td>NaN</td>\n",
       "      <td>NaN</td>\n",
       "      <td>1.0</td>\n",
       "      <td>19.0</td>\n",
       "      <td>56.0</td>\n",
       "      <td>0.017857</td>\n",
       "      <td>NaN</td>\n",
       "      <td>56.0</td>\n",
       "    </tr>\n",
       "    <tr>\n",
       "      <th>2</th>\n",
       "      <td>4172466725848941608</td>\n",
       "      <td>21.253534</td>\n",
       "      <td>5.540618</td>\n",
       "      <td>252.0</td>\n",
       "      <td>3.0</td>\n",
       "      <td>227027.493094</td>\n",
       "      <td>65290.937857</td>\n",
       "      <td>253271.814659</td>\n",
       "      <td>1028.449490</td>\n",
       "      <td>0.000972</td>\n",
       "      <td>...</td>\n",
       "      <td>NaN</td>\n",
       "      <td>NaN</td>\n",
       "      <td>NaN</td>\n",
       "      <td>NaN</td>\n",
       "      <td>NaN</td>\n",
       "      <td>NaN</td>\n",
       "      <td>NaN</td>\n",
       "      <td>NaN</td>\n",
       "      <td>NaN</td>\n",
       "      <td>NaN</td>\n",
       "    </tr>\n",
       "    <tr>\n",
       "      <th>3</th>\n",
       "      <td>2616279795187318849</td>\n",
       "      <td>16.785580</td>\n",
       "      <td>7.204283</td>\n",
       "      <td>191.0</td>\n",
       "      <td>1.0</td>\n",
       "      <td>128734.373984</td>\n",
       "      <td>72254.139672</td>\n",
       "      <td>155144.580698</td>\n",
       "      <td>1356.284096</td>\n",
       "      <td>0.000737</td>\n",
       "      <td>...</td>\n",
       "      <td>NaN</td>\n",
       "      <td>NaN</td>\n",
       "      <td>NaN</td>\n",
       "      <td>NaN</td>\n",
       "      <td>NaN</td>\n",
       "      <td>NaN</td>\n",
       "      <td>NaN</td>\n",
       "      <td>NaN</td>\n",
       "      <td>NaN</td>\n",
       "      <td>NaN</td>\n",
       "    </tr>\n",
       "    <tr>\n",
       "      <th>4</th>\n",
       "      <td>8034952072073026056</td>\n",
       "      <td>9.002714</td>\n",
       "      <td>6.712023</td>\n",
       "      <td>166.0</td>\n",
       "      <td>2.0</td>\n",
       "      <td>117769.315541</td>\n",
       "      <td>59901.949880</td>\n",
       "      <td>98475.225948</td>\n",
       "      <td>1560.535351</td>\n",
       "      <td>0.000641</td>\n",
       "      <td>...</td>\n",
       "      <td>NaN</td>\n",
       "      <td>NaN</td>\n",
       "      <td>NaN</td>\n",
       "      <td>NaN</td>\n",
       "      <td>1.0</td>\n",
       "      <td>19.0</td>\n",
       "      <td>32.0</td>\n",
       "      <td>0.031250</td>\n",
       "      <td>NaN</td>\n",
       "      <td>32.0</td>\n",
       "    </tr>\n",
       "  </tbody>\n",
       "</table>\n",
       "<p>5 rows × 30 columns</p>\n",
       "</div>"
      ],
      "text/plain": [
       "             device_id  auctionsMeanHour  auctionsStdDevHour  auctionsCount  \\\n",
       "0  1109595589636746168         20.344831            5.775980          128.0   \n",
       "1  5896614299191635403         22.110936            5.441725           46.0   \n",
       "2  4172466725848941608         21.253534            5.540618          252.0   \n",
       "3  2616279795187318849         16.785580            7.204283          191.0   \n",
       "4  8034952072073026056          9.002714            6.712023          166.0   \n",
       "\n",
       "   auctionsMostFreqDay  auctionsMeanInstant  auctionsStdDevInstant  \\\n",
       "0                  3.0        217691.904097           78348.145610   \n",
       "1                  3.0        252399.878976           19590.204861   \n",
       "2                  3.0        227027.493094           65290.937857   \n",
       "3                  1.0        128734.373984           72254.139672   \n",
       "4                  2.0        117769.315541           59901.949880   \n",
       "\n",
       "   auctionsTopSecond  auctionsMeanInterval  auctionsAproxFreq  ...  \\\n",
       "0      252711.397215           2024.923399           0.000494  ...   \n",
       "1      257059.673527           5631.657083           0.000178  ...   \n",
       "2      253271.814659           1028.449490           0.000972  ...   \n",
       "3      155144.580698           1356.284096           0.000737  ...   \n",
       "4       98475.225948           1560.535351           0.000641  ...   \n",
       "\n",
       "   clicksMeanInterval  clicksAproxFreq  clicksStdDevInterval  clicksLast  \\\n",
       "0                 NaN              NaN                   NaN         NaN   \n",
       "1                 NaN              NaN                   NaN         NaN   \n",
       "2                 NaN              NaN                   NaN         NaN   \n",
       "3                 NaN              NaN                   NaN         NaN   \n",
       "4                 NaN              NaN                   NaN         NaN   \n",
       "\n",
       "   installsCount  installsMostFreqDay  installsMeanInterval  \\\n",
       "0            NaN                  NaN                   NaN   \n",
       "1            1.0                 19.0                  56.0   \n",
       "2            NaN                  NaN                   NaN   \n",
       "3            NaN                  NaN                   NaN   \n",
       "4            1.0                 19.0                  32.0   \n",
       "\n",
       "   installsAproxFreq  installsStdDevInterval  installsLast  \n",
       "0                NaN                     NaN           NaN  \n",
       "1           0.017857                     NaN          56.0  \n",
       "2                NaN                     NaN           NaN  \n",
       "3                NaN                     NaN           NaN  \n",
       "4           0.031250                     NaN          32.0  \n",
       "\n",
       "[5 rows x 30 columns]"
      ]
     },
     "execution_count": 14,
     "metadata": {},
     "output_type": "execute_result"
    }
   ],
   "source": [
    "features.head()"
   ]
  },
  {
   "cell_type": "code",
   "execution_count": 183,
   "metadata": {},
   "outputs": [],
   "source": [
    "#pd.Series(features['device_id'].unique())#426755\n",
    "y=labelsST\n",
    "X=features\n",
    "X=y.merge(X,how='inner').drop('st',axis=1)\n",
    "y=labelsST['st']\n",
    "X=X.fillna(0)\n",
    "X.loc[X['installsAproxFreq'] == float('inf'), 'installsAproxFreq'] = 0\n"
   ]
  },
  {
   "cell_type": "code",
   "execution_count": 188,
   "metadata": {},
   "outputs": [],
   "source": [
    "X=X.transform(lambda x: (x-x.mean())/x.std())"
   ]
  },
  {
   "cell_type": "code",
   "execution_count": 241,
   "metadata": {},
   "outputs": [
    {
     "name": "stdout",
     "output_type": "stream",
     "text": [
      "(238932, 30) (238932,)\n",
      "(12576, 30) (12576,)\n"
     ]
    }
   ],
   "source": [
    "#X features, y labels\n",
    "#predict ST\n",
    "from sklearn.model_selection import train_test_split\n",
    "\n",
    "X_train, X_test, y_train, y_test = train_test_split(X,y, test_size=0.05, random_state=0)\n",
    "\n",
    "print(X_train.shape, y_train.shape)\n",
    "print(X_test.shape, y_test.shape)   \n",
    "\n",
    "\n"
   ]
  },
  {
   "cell_type": "code",
   "execution_count": 209,
   "metadata": {},
   "outputs": [],
   "source": [
    "from sklearn.linear_model import Ridge\n",
    "RidgeModel=Ridge(alpha=0.1)\n",
    "RidgeModel.fit(X_train,y_train)\n",
    "ridge_predict=RidgeModel.predict(X_test)"
   ]
  },
  {
   "cell_type": "code",
   "execution_count": 211,
   "metadata": {},
   "outputs": [
    {
     "data": {
      "text/plain": [
       "4044658602.0892677"
      ]
     },
     "execution_count": 211,
     "metadata": {},
     "output_type": "execute_result"
    }
   ],
   "source": [
    "from sklearn.metrics import mean_squared_error\n",
    "\n",
    "mean_squared_error(y_test, ridge_predict)"
   ]
  },
  {
   "cell_type": "code",
   "execution_count": 233,
   "metadata": {},
   "outputs": [
    {
     "name": "stdout",
     "output_type": "stream",
     "text": [
      "Accuracy: 0.13 (+/- 0.12)\n"
     ]
    }
   ],
   "source": [
    "from sklearn.model_selection import cross_val_score\n",
    "scores = cross_val_score(RidgeModel, X,y, cv=10)\n",
    "print(\"Accuracy: %0.2f (+/- %0.2f)\" % (scores.mean(), scores.std() * 2))"
   ]
  },
  {
   "cell_type": "code",
   "execution_count": 242,
   "metadata": {},
   "outputs": [
    {
     "name": "stderr",
     "output_type": "stream",
     "text": [
      "/home/nicolas/.local/lib/python3.6/site-packages/sklearn/linear_model/coordinate_descent.py:492: ConvergenceWarning: Objective did not converge. You might want to increase the number of iterations. Fitting data with very small alpha may cause precision problems.\n",
      "  ConvergenceWarning)\n"
     ]
    }
   ],
   "source": [
    "from sklearn import linear_model\n",
    "lasso = linear_model.Lasso(alpha=0.1)\n",
    "lasso.fit(X_train,y_train)  \n",
    "lasso_predict=lasso.predict(X_test)"
   ]
  },
  {
   "cell_type": "code",
   "execution_count": 243,
   "metadata": {},
   "outputs": [
    {
     "data": {
      "text/plain": [
       "4044650532.046977"
      ]
     },
     "execution_count": 243,
     "metadata": {},
     "output_type": "execute_result"
    }
   ],
   "source": [
    "mean_squared_error(y_test, lasso_predict)"
   ]
  },
  {
   "cell_type": "code",
   "execution_count": 239,
   "metadata": {},
   "outputs": [
    {
     "name": "stderr",
     "output_type": "stream",
     "text": [
      "/home/nicolas/.local/lib/python3.6/site-packages/sklearn/linear_model/coordinate_descent.py:492: ConvergenceWarning: Objective did not converge. You might want to increase the number of iterations. Fitting data with very small alpha may cause precision problems.\n",
      "  ConvergenceWarning)\n",
      "/home/nicolas/.local/lib/python3.6/site-packages/sklearn/linear_model/coordinate_descent.py:492: ConvergenceWarning: Objective did not converge. You might want to increase the number of iterations. Fitting data with very small alpha may cause precision problems.\n",
      "  ConvergenceWarning)\n",
      "/home/nicolas/.local/lib/python3.6/site-packages/sklearn/linear_model/coordinate_descent.py:492: ConvergenceWarning: Objective did not converge. You might want to increase the number of iterations. Fitting data with very small alpha may cause precision problems.\n",
      "  ConvergenceWarning)\n",
      "/home/nicolas/.local/lib/python3.6/site-packages/sklearn/linear_model/coordinate_descent.py:492: ConvergenceWarning: Objective did not converge. You might want to increase the number of iterations. Fitting data with very small alpha may cause precision problems.\n",
      "  ConvergenceWarning)\n"
     ]
    },
    {
     "name": "stdout",
     "output_type": "stream",
     "text": [
      "Accuracy: 0.13 (+/- 0.13)\n"
     ]
    },
    {
     "name": "stderr",
     "output_type": "stream",
     "text": [
      "/home/nicolas/.local/lib/python3.6/site-packages/sklearn/linear_model/coordinate_descent.py:492: ConvergenceWarning: Objective did not converge. You might want to increase the number of iterations. Fitting data with very small alpha may cause precision problems.\n",
      "  ConvergenceWarning)\n"
     ]
    }
   ],
   "source": [
    "from sklearn.model_selection import cross_val_score\n",
    "scores = cross_val_score(lasso, X, y, cv=5)\n",
    "print(\"Accuracy: %0.2f (+/- %0.2f)\" % (scores.mean(), scores.std() * 2))"
   ]
  }
 ],
 "metadata": {
  "kernelspec": {
   "display_name": "Python 3",
   "language": "python",
   "name": "python3"
  },
  "language_info": {
   "codemirror_mode": {
    "name": "ipython",
    "version": 3
   },
   "file_extension": ".py",
   "mimetype": "text/x-python",
   "name": "python",
   "nbconvert_exporter": "python",
   "pygments_lexer": "ipython3",
   "version": "3.6.7"
  }
 },
 "nbformat": 4,
 "nbformat_minor": 2
}
