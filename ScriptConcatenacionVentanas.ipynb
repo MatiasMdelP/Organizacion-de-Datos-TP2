{
 "cells": [
  {
   "cell_type": "code",
   "execution_count": 1,
   "metadata": {},
   "outputs": [],
   "source": [
    "import pandas as pd"
   ]
  },
  {
   "cell_type": "code",
   "execution_count": 2,
   "metadata": {},
   "outputs": [],
   "source": [
    "location = 'data/'\n",
    "eventsV1 = location + 'eventsFeaturesVentana1.csv'\n",
    "eventsV2 = location + 'eventsFeaturesVentana2.csv'\n",
    "eventsV3 = location + 'eventsFeaturesVentana3.csv'\n",
    "eventsV4 = location + 'eventsFeaturesVentana4.csv'\n",
    "eventsV5 = location + 'eventsFeaturesVentana5.csv'"
   ]
  },
  {
   "cell_type": "code",
   "execution_count": 3,
   "metadata": {},
   "outputs": [],
   "source": [
    "dtype = {\n",
    "    'device_id': 'str',\n",
    "    'eventsCount': 'int64',\n",
    "    'eventsMostFreqDay': 'int64',\n",
    "    'eventsMeanInterval': 'float64',\n",
    "    'eventsAproxFreq': 'float64',\n",
    "    'eventsStdDevInterval': 'float64',\n",
    "    'eventsLast': 'float64'\n",
    "}"
   ]
  },
  {
   "cell_type": "markdown",
   "metadata": {},
   "source": [
    "Leo los Features de Events de cada ventana por separado"
   ]
  },
  {
   "cell_type": "code",
   "execution_count": 4,
   "metadata": {},
   "outputs": [],
   "source": [
    "eventsFeaturesVentana1 = pd.read_csv(eventsV1, usecols=dtype.keys(), dtype=dtype)\n",
    "eventsFeaturesVentana2 = pd.read_csv(eventsV2, usecols=dtype.keys(), dtype=dtype)\n",
    "eventsFeaturesVentana3 = pd.read_csv(eventsV3, usecols=dtype.keys(), dtype=dtype)\n",
    "eventsFeaturesVentana4 = pd.read_csv(eventsV4, usecols=dtype.keys(), dtype=dtype)\n",
    "eventsFeaturesVentana5 = pd.read_csv(eventsV5, usecols=dtype.keys(), dtype=dtype)"
   ]
  },
  {
   "cell_type": "markdown",
   "metadata": {},
   "source": [
    "Agrego un sufijo según la ventana a la que representa"
   ]
  },
  {
   "cell_type": "code",
   "execution_count": 5,
   "metadata": {},
   "outputs": [],
   "source": [
    "eventsFeaturesVentana1['device_id'] = eventsFeaturesVentana1['device_id'] + ' - Ventana 1'\n",
    "eventsFeaturesVentana2['device_id'] = eventsFeaturesVentana2['device_id'] + ' - Ventana 2'\n",
    "eventsFeaturesVentana3['device_id'] = eventsFeaturesVentana3['device_id'] + ' - Ventana 3'\n",
    "eventsFeaturesVentana4['device_id'] = eventsFeaturesVentana4['device_id'] + ' - Ventana 4'\n",
    "eventsFeaturesVentana5['device_id'] = eventsFeaturesVentana5['device_id'] + ' - Ventana 5'"
   ]
  },
  {
   "cell_type": "markdown",
   "metadata": {},
   "source": [
    "Concateno todas las ventanas en un mismo DataFrame"
   ]
  },
  {
   "cell_type": "code",
   "execution_count": 6,
   "metadata": {},
   "outputs": [],
   "source": [
    "eventsFeaturesConcatenado = pd.concat([eventsFeaturesVentana1, eventsFeaturesVentana2, eventsFeaturesVentana3, \\\n",
    "                                       eventsFeaturesVentana4, eventsFeaturesVentana5])"
   ]
  },
  {
   "cell_type": "markdown",
   "metadata": {},
   "source": [
    "Ordeno según el dispositivo"
   ]
  },
  {
   "cell_type": "code",
   "execution_count": 7,
   "metadata": {},
   "outputs": [],
   "source": [
    "eventsFeaturesConcatenado = eventsFeaturesConcatenado.sort_values(['device_id'], ascending=[True])"
   ]
  },
  {
   "cell_type": "markdown",
   "metadata": {},
   "source": [
    "Al concatenar, los índices no se modifican, por lo que lo recalculo con el DataFrame ordenado."
   ]
  },
  {
   "cell_type": "code",
   "execution_count": 8,
   "metadata": {},
   "outputs": [],
   "source": [
    "eventsFeaturesConcatenado.index = range(eventsFeaturesConcatenado.shape[0])"
   ]
  },
  {
   "cell_type": "markdown",
   "metadata": {},
   "source": [
    "Veo como quedó el DataFrame."
   ]
  },
  {
   "cell_type": "code",
   "execution_count": 9,
   "metadata": {},
   "outputs": [
    {
     "data": {
      "text/html": [
       "<div>\n",
       "<style scoped>\n",
       "    .dataframe tbody tr th:only-of-type {\n",
       "        vertical-align: middle;\n",
       "    }\n",
       "\n",
       "    .dataframe tbody tr th {\n",
       "        vertical-align: top;\n",
       "    }\n",
       "\n",
       "    .dataframe thead th {\n",
       "        text-align: right;\n",
       "    }\n",
       "</style>\n",
       "<table border=\"1\" class=\"dataframe\">\n",
       "  <thead>\n",
       "    <tr style=\"text-align: right;\">\n",
       "      <th></th>\n",
       "      <th>device_id</th>\n",
       "      <th>eventsCount</th>\n",
       "      <th>eventsMostFreqDay</th>\n",
       "      <th>eventsMeanInterval</th>\n",
       "      <th>eventsAproxFreq</th>\n",
       "      <th>eventsStdDevInterval</th>\n",
       "      <th>eventsLast</th>\n",
       "    </tr>\n",
       "  </thead>\n",
       "  <tbody>\n",
       "    <tr>\n",
       "      <th>0</th>\n",
       "      <td>1000001243847627208 - Ventana 1</td>\n",
       "      <td>4</td>\n",
       "      <td>3</td>\n",
       "      <td>58353.779000</td>\n",
       "      <td>0.000017</td>\n",
       "      <td>48363.774582</td>\n",
       "      <td>233415.116</td>\n",
       "    </tr>\n",
       "    <tr>\n",
       "      <th>1</th>\n",
       "      <td>1000001243847627208 - Ventana 2</td>\n",
       "      <td>2</td>\n",
       "      <td>2</td>\n",
       "      <td>73507.558000</td>\n",
       "      <td>0.000014</td>\n",
       "      <td>28564.499079</td>\n",
       "      <td>147015.116</td>\n",
       "    </tr>\n",
       "    <tr>\n",
       "      <th>2</th>\n",
       "      <td>1000001243847627208 - Ventana 3</td>\n",
       "      <td>6</td>\n",
       "      <td>3</td>\n",
       "      <td>42345.899500</td>\n",
       "      <td>0.000024</td>\n",
       "      <td>73977.713361</td>\n",
       "      <td>254075.397</td>\n",
       "    </tr>\n",
       "    <tr>\n",
       "      <th>3</th>\n",
       "      <td>1000001243847627208 - Ventana 4</td>\n",
       "      <td>4</td>\n",
       "      <td>2</td>\n",
       "      <td>41918.849250</td>\n",
       "      <td>0.000024</td>\n",
       "      <td>79975.669164</td>\n",
       "      <td>167675.397</td>\n",
       "    </tr>\n",
       "    <tr>\n",
       "      <th>4</th>\n",
       "      <td>1000001243847627208 - Ventana 5</td>\n",
       "      <td>4</td>\n",
       "      <td>1</td>\n",
       "      <td>20318.849250</td>\n",
       "      <td>0.000049</td>\n",
       "      <td>36819.423035</td>\n",
       "      <td>81275.397</td>\n",
       "    </tr>\n",
       "    <tr>\n",
       "      <th>5</th>\n",
       "      <td>1000085014918096773 - Ventana 4</td>\n",
       "      <td>33</td>\n",
       "      <td>3</td>\n",
       "      <td>5477.084545</td>\n",
       "      <td>0.000183</td>\n",
       "      <td>31196.172983</td>\n",
       "      <td>180743.790</td>\n",
       "    </tr>\n",
       "    <tr>\n",
       "      <th>6</th>\n",
       "      <td>1000085014918096773 - Ventana 5</td>\n",
       "      <td>34</td>\n",
       "      <td>2</td>\n",
       "      <td>5261.645824</td>\n",
       "      <td>0.000190</td>\n",
       "      <td>21198.860959</td>\n",
       "      <td>178895.958</td>\n",
       "    </tr>\n",
       "    <tr>\n",
       "      <th>7</th>\n",
       "      <td>1000095322020146100 - Ventana 3</td>\n",
       "      <td>2</td>\n",
       "      <td>3</td>\n",
       "      <td>90626.976000</td>\n",
       "      <td>0.000011</td>\n",
       "      <td>127020.795712</td>\n",
       "      <td>181253.952</td>\n",
       "    </tr>\n",
       "    <tr>\n",
       "      <th>8</th>\n",
       "      <td>1000095322020146100 - Ventana 4</td>\n",
       "      <td>2</td>\n",
       "      <td>2</td>\n",
       "      <td>47426.976000</td>\n",
       "      <td>0.000021</td>\n",
       "      <td>65926.769818</td>\n",
       "      <td>94853.952</td>\n",
       "    </tr>\n",
       "    <tr>\n",
       "      <th>9</th>\n",
       "      <td>1000095322020146100 - Ventana 5</td>\n",
       "      <td>2</td>\n",
       "      <td>1</td>\n",
       "      <td>4226.976000</td>\n",
       "      <td>0.000237</td>\n",
       "      <td>4832.743923</td>\n",
       "      <td>8453.952</td>\n",
       "    </tr>\n",
       "  </tbody>\n",
       "</table>\n",
       "</div>"
      ],
      "text/plain": [
       "                         device_id  eventsCount  eventsMostFreqDay  \\\n",
       "0  1000001243847627208 - Ventana 1            4                  3   \n",
       "1  1000001243847627208 - Ventana 2            2                  2   \n",
       "2  1000001243847627208 - Ventana 3            6                  3   \n",
       "3  1000001243847627208 - Ventana 4            4                  2   \n",
       "4  1000001243847627208 - Ventana 5            4                  1   \n",
       "5  1000085014918096773 - Ventana 4           33                  3   \n",
       "6  1000085014918096773 - Ventana 5           34                  2   \n",
       "7  1000095322020146100 - Ventana 3            2                  3   \n",
       "8  1000095322020146100 - Ventana 4            2                  2   \n",
       "9  1000095322020146100 - Ventana 5            2                  1   \n",
       "\n",
       "   eventsMeanInterval  eventsAproxFreq  eventsStdDevInterval  eventsLast  \n",
       "0        58353.779000         0.000017          48363.774582  233415.116  \n",
       "1        73507.558000         0.000014          28564.499079  147015.116  \n",
       "2        42345.899500         0.000024          73977.713361  254075.397  \n",
       "3        41918.849250         0.000024          79975.669164  167675.397  \n",
       "4        20318.849250         0.000049          36819.423035   81275.397  \n",
       "5         5477.084545         0.000183          31196.172983  180743.790  \n",
       "6         5261.645824         0.000190          21198.860959  178895.958  \n",
       "7        90626.976000         0.000011         127020.795712  181253.952  \n",
       "8        47426.976000         0.000021          65926.769818   94853.952  \n",
       "9         4226.976000         0.000237           4832.743923    8453.952  "
      ]
     },
     "execution_count": 9,
     "metadata": {},
     "output_type": "execute_result"
    }
   ],
   "source": [
    "eventsFeaturesConcatenado.head(10)"
   ]
  },
  {
   "cell_type": "code",
   "execution_count": 10,
   "metadata": {},
   "outputs": [
    {
     "name": "stdout",
     "output_type": "stream",
     "text": [
      "<class 'pandas.core.frame.DataFrame'>\n",
      "RangeIndex: 871198 entries, 0 to 871197\n",
      "Data columns (total 7 columns):\n",
      "device_id               871198 non-null object\n",
      "eventsCount             871198 non-null int64\n",
      "eventsMostFreqDay       871198 non-null int64\n",
      "eventsMeanInterval      871198 non-null float64\n",
      "eventsAproxFreq         871198 non-null float64\n",
      "eventsStdDevInterval    691026 non-null float64\n",
      "eventsLast              871198 non-null float64\n",
      "dtypes: float64(4), int64(2), object(1)\n",
      "memory usage: 46.5+ MB\n"
     ]
    }
   ],
   "source": [
    "eventsFeaturesConcatenado.info()"
   ]
  },
  {
   "cell_type": "markdown",
   "metadata": {},
   "source": [
    "Guardo el nuevo DataFrame en un csv."
   ]
  },
  {
   "cell_type": "code",
   "execution_count": 11,
   "metadata": {},
   "outputs": [],
   "source": [
    "eventsFeaturesConcatenado.to_csv('data/eventsFeaturesConcatenado.csv', index=False)"
   ]
  },
  {
   "cell_type": "code",
   "execution_count": 12,
   "metadata": {},
   "outputs": [
    {
     "data": {
      "text/plain": [
       "871198"
      ]
     },
     "execution_count": 12,
     "metadata": {},
     "output_type": "execute_result"
    }
   ],
   "source": [
    "eventsFeaturesVentana1.shape[0] + eventsFeaturesVentana2.shape[0] + eventsFeaturesVentana3.shape[0] \\\n",
    "    + eventsFeaturesVentana4.shape[0] + eventsFeaturesVentana5.shape[0]"
   ]
  },
  {
   "cell_type": "code",
   "execution_count": null,
   "metadata": {},
   "outputs": [],
   "source": []
  }
 ],
 "metadata": {
  "kernelspec": {
   "display_name": "Python 3",
   "language": "python",
   "name": "python3"
  },
  "language_info": {
   "codemirror_mode": {
    "name": "ipython",
    "version": 3
   },
   "file_extension": ".py",
   "mimetype": "text/x-python",
   "name": "python",
   "nbconvert_exporter": "python",
   "pygments_lexer": "ipython3",
   "version": "3.7.3"
  }
 },
 "nbformat": 4,
 "nbformat_minor": 2
}
