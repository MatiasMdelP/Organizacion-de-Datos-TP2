{
 "cells": [
  {
   "cell_type": "code",
   "execution_count": 128,
   "metadata": {},
   "outputs": [],
   "source": [
    "import pandas as pd\n",
    "import sklearn\n",
    "import numpy as np"
   ]
  },
  {
   "cell_type": "code",
   "execution_count": 129,
   "metadata": {},
   "outputs": [],
   "source": [
    "location = 'data/'\n",
    "featuresFile = location + 'features.csv'\n",
    "labelsFile = location + 'labels.csv'\n",
    "targetFile = location + 'target_competencia_ids.csv'\n",
    "featuresPredictFile = location + 'FeaturesFiltrado7.csv'"
   ]
  },
  {
   "cell_type": "code",
   "execution_count": 130,
   "metadata": {},
   "outputs": [],
   "source": [
    "dtypeFeatures = {\n",
    "    'device_id': 'str',\n",
    "    'eventsCount': 'float64',\n",
    "    'eventsMostFreqDay': 'float64',\n",
    "    'eventsMeanInterval': 'float64',\n",
    "    'eventsAproxFreq': 'float64',\n",
    "    'eventsStdDevInterval': 'float64',\n",
    "    'eventsLast': 'float64',\n",
    "    'installsCount': 'float64',\n",
    "    'installsMostFreqDay': 'float64',\n",
    "    'installsMeanInterval': 'float64',\n",
    "    'installsAproxFreq': 'float64',\n",
    "    'installsStdDevInterval': 'float64',\n",
    "    'installsLast': 'float64',\n",
    "    'clicksCount': 'float64',\n",
    "    'clicksMostFreqDay': 'float64',\n",
    "    'clicksMeanInterval': 'float64',\n",
    "    'clicksAproxFreq': 'float64',\n",
    "    'clicksStdDevInterval': 'float64',\n",
    "    'clicksLast': 'float64',\n",
    "    'auctionsCount': 'float64',\n",
    "    'auctionsMostFreqDay': 'float64',\n",
    "    'auctionsMeanInterval': 'float64',\n",
    "    'auctionsAproxFreq': 'float64',\n",
    "    'auctionsStdDevInterval': 'float64',\n",
    "    'auctionsLast': 'float64'\n",
    "}\n",
    "dtypeLabels = {\n",
    "    'device_id': 'str',\n",
    "    'st': 'float64',\n",
    "    'sc': 'float64'\n",
    "}\n",
    "dtypeTarget = {\n",
    "    'ref_hash': 'str',\n",
    "    'obj': 'float64',\n",
    "}"
   ]
  },
  {
   "cell_type": "code",
   "execution_count": 131,
   "metadata": {},
   "outputs": [],
   "source": [
    "features = pd.read_csv(featuresFile, usecols=dtypeFeatures.keys(), dtype=dtypeFeatures)\n",
    "labels = pd.read_csv(labelsFile, usecols=dtypeLabels.keys(), dtype=dtypeLabels)"
   ]
  },
  {
   "cell_type": "code",
   "execution_count": 132,
   "metadata": {},
   "outputs": [],
   "source": [
    "labels = labels.sort_values(by='device_id').reset_index(drop=True)"
   ]
  },
  {
   "cell_type": "code",
   "execution_count": 133,
   "metadata": {},
   "outputs": [],
   "source": [
    "features = features.sort_values(by='device_id').reset_index(drop=True)"
   ]
  },
  {
   "cell_type": "code",
   "execution_count": 134,
   "metadata": {},
   "outputs": [],
   "source": [
    "labels = labels.drop('device_id', axis=1)"
   ]
  },
  {
   "cell_type": "code",
   "execution_count": 135,
   "metadata": {},
   "outputs": [],
   "source": [
    "featuresPredict = pd.read_csv(featuresPredictFile, usecols=dtypeFeatures.keys(), dtype=dtypeFeatures)\n",
    "target = pd.read_csv(targetFile, usecols=dtypeTarget.keys(), dtype=dtypeTarget)"
   ]
  },
  {
   "cell_type": "code",
   "execution_count": 136,
   "metadata": {},
   "outputs": [],
   "source": [
    "target['device_id'] = target['ref_hash'].str[:-3]\n",
    "target = target.drop('ref_hash', axis=1)\n",
    "target = target.drop_duplicates(subset='device_id')"
   ]
  },
  {
   "cell_type": "code",
   "execution_count": 137,
   "metadata": {},
   "outputs": [],
   "source": [
    "labels=labels.fillna(259200)"
   ]
  },
  {
   "cell_type": "code",
   "execution_count": 138,
   "metadata": {},
   "outputs": [],
   "source": [
    "features = features.reindex(sorted(features.columns), axis=1)\n",
    "featuresPredict = featuresPredict.reindex(sorted(featuresPredict.columns), axis=1)"
   ]
  },
  {
   "cell_type": "code",
   "execution_count": 139,
   "metadata": {},
   "outputs": [],
   "source": [
    "features['auctionsAproxFreq']=features['auctionsAproxFreq'].fillna(features['auctionsAproxFreq'].mean())\n",
    "features['auctionsCount']=features['auctionsCount'].fillna(features['auctionsCount'].mean())\n",
    "features['auctionsLast']=features['auctionsLast'].fillna(features['auctionsLast'].mean())\n",
    "features['auctionsMeanInterval']=features['auctionsMeanInterval'].fillna(features['auctionsMeanInterval'].mean())\n",
    "features['auctionsMostFreqDay']=features['auctionsMostFreqDay'].fillna(features['auctionsMostFreqDay'].mean())\n",
    "features['auctionsStdDevInterval']=features['auctionsStdDevInterval'].fillna(features['auctionsStdDevInterval'].mean())\n",
    "features['clicksAproxFreq']=features['clicksAproxFreq'].fillna(features['clicksAproxFreq'].mean())\n",
    "features['clicksCount']=features['clicksCount'].fillna(features['clicksCount'].mean())\n",
    "features['clicksLast']=features['clicksLast'].fillna(features['clicksLast'].mean())\n",
    "features['clicksMeanInterval']=features['clicksMeanInterval'].fillna(features['clicksMeanInterval'].mean())\n",
    "features['clicksMostFreqDay']=features['clicksMostFreqDay'].fillna(features['clicksMostFreqDay'].mean())\n",
    "features['clicksStdDevInterval']=features['clicksStdDevInterval'].fillna(features['clicksStdDevInterval'].mean())\n",
    "features['eventsAproxFreq']=features['eventsAproxFreq'].fillna(features['eventsAproxFreq'].mean())\n",
    "features['eventsCount']=features['eventsCount'].fillna(features['eventsCount'].mean())\n",
    "features['eventsLast']=features['eventsLast'].fillna(features['eventsLast'].mean())\n",
    "features['eventsMeanInterval']=features['eventsMeanInterval'].fillna(features['eventsMeanInterval'].mean())\n",
    "features['eventsMostFreqDay']=features['eventsMostFreqDay'].fillna(features['eventsMostFreqDay'].mean())\n",
    "features['eventsStdDevInterval']=features['eventsStdDevInterval'].fillna(features['eventsStdDevInterval'].mean())\n",
    "features['installsAproxFreq']=features['installsAproxFreq'].fillna(features['installsAproxFreq'].mean())\n",
    "features['installsCount']=features['installsCount'].fillna(features['installsCount'].mean())\n",
    "features['installsLast']=features['installsLast'].fillna(features['installsLast'].mean())\n",
    "features['installsMeanInterval']=features['installsMeanInterval'].fillna(features['installsMeanInterval'].mean())\n",
    "features['installsMostFreqDay']=features['installsMostFreqDay'].fillna(features['installsMostFreqDay'].mean())\n",
    "features['installsStdDevInterval']=features['installsStdDevInterval'].fillna(features['installsStdDevInterval'].mean())"
   ]
  },
  {
   "cell_type": "code",
   "execution_count": 140,
   "metadata": {},
   "outputs": [
    {
     "data": {
      "text/html": [
       "<div>\n",
       "<style scoped>\n",
       "    .dataframe tbody tr th:only-of-type {\n",
       "        vertical-align: middle;\n",
       "    }\n",
       "\n",
       "    .dataframe tbody tr th {\n",
       "        vertical-align: top;\n",
       "    }\n",
       "\n",
       "    .dataframe thead th {\n",
       "        text-align: right;\n",
       "    }\n",
       "</style>\n",
       "<table border=\"1\" class=\"dataframe\">\n",
       "  <thead>\n",
       "    <tr style=\"text-align: right;\">\n",
       "      <th></th>\n",
       "      <th>auctionsAproxFreq</th>\n",
       "      <th>auctionsCount</th>\n",
       "      <th>auctionsLast</th>\n",
       "      <th>auctionsMeanInterval</th>\n",
       "      <th>auctionsMostFreqDay</th>\n",
       "      <th>auctionsStdDevInterval</th>\n",
       "      <th>clicksAproxFreq</th>\n",
       "      <th>clicksCount</th>\n",
       "      <th>clicksLast</th>\n",
       "      <th>clicksMeanInterval</th>\n",
       "      <th>...</th>\n",
       "      <th>eventsLast</th>\n",
       "      <th>eventsMeanInterval</th>\n",
       "      <th>eventsMostFreqDay</th>\n",
       "      <th>eventsStdDevInterval</th>\n",
       "      <th>installsAproxFreq</th>\n",
       "      <th>installsCount</th>\n",
       "      <th>installsLast</th>\n",
       "      <th>installsMeanInterval</th>\n",
       "      <th>installsMostFreqDay</th>\n",
       "      <th>installsStdDevInterval</th>\n",
       "    </tr>\n",
       "  </thead>\n",
       "  <tbody>\n",
       "    <tr>\n",
       "      <th>0</th>\n",
       "      <td>0.000015</td>\n",
       "      <td>3.000000</td>\n",
       "      <td>196173.950039</td>\n",
       "      <td>65391.316680</td>\n",
       "      <td>3.000000</td>\n",
       "      <td>113207.422851</td>\n",
       "      <td>0.000035</td>\n",
       "      <td>1.444264</td>\n",
       "      <td>142407.199898</td>\n",
       "      <td>116571.154533</td>\n",
       "      <td>...</td>\n",
       "      <td>233415.116000</td>\n",
       "      <td>58353.779000</td>\n",
       "      <td>3.000000</td>\n",
       "      <td>48363.774582</td>\n",
       "      <td>0.000006</td>\n",
       "      <td>1.00000</td>\n",
       "      <td>179017.206000</td>\n",
       "      <td>179017.206000</td>\n",
       "      <td>3.000000</td>\n",
       "      <td>87978.988798</td>\n",
       "    </tr>\n",
       "    <tr>\n",
       "      <th>1</th>\n",
       "      <td>0.000027</td>\n",
       "      <td>3.000000</td>\n",
       "      <td>109773.950039</td>\n",
       "      <td>36591.316680</td>\n",
       "      <td>2.000000</td>\n",
       "      <td>63324.361119</td>\n",
       "      <td>0.000035</td>\n",
       "      <td>1.444264</td>\n",
       "      <td>142407.199898</td>\n",
       "      <td>116571.154533</td>\n",
       "      <td>...</td>\n",
       "      <td>147015.116000</td>\n",
       "      <td>73507.558000</td>\n",
       "      <td>2.000000</td>\n",
       "      <td>28564.499079</td>\n",
       "      <td>0.000011</td>\n",
       "      <td>1.00000</td>\n",
       "      <td>92617.206000</td>\n",
       "      <td>92617.206000</td>\n",
       "      <td>2.000000</td>\n",
       "      <td>87978.988798</td>\n",
       "    </tr>\n",
       "    <tr>\n",
       "      <th>2</th>\n",
       "      <td>0.000128</td>\n",
       "      <td>3.000000</td>\n",
       "      <td>23373.950039</td>\n",
       "      <td>7791.316680</td>\n",
       "      <td>1.000000</td>\n",
       "      <td>13441.310709</td>\n",
       "      <td>0.000035</td>\n",
       "      <td>1.444264</td>\n",
       "      <td>142407.199898</td>\n",
       "      <td>116571.154533</td>\n",
       "      <td>...</td>\n",
       "      <td>254075.397000</td>\n",
       "      <td>42345.899500</td>\n",
       "      <td>3.000000</td>\n",
       "      <td>73977.713361</td>\n",
       "      <td>0.000161</td>\n",
       "      <td>1.00000</td>\n",
       "      <td>6217.206000</td>\n",
       "      <td>6217.206000</td>\n",
       "      <td>1.000000</td>\n",
       "      <td>87978.988798</td>\n",
       "    </tr>\n",
       "    <tr>\n",
       "      <th>3</th>\n",
       "      <td>0.000309</td>\n",
       "      <td>48.631814</td>\n",
       "      <td>178851.034409</td>\n",
       "      <td>39971.371145</td>\n",
       "      <td>2.036233</td>\n",
       "      <td>37851.761749</td>\n",
       "      <td>0.000035</td>\n",
       "      <td>1.444264</td>\n",
       "      <td>142407.199898</td>\n",
       "      <td>116571.154533</td>\n",
       "      <td>...</td>\n",
       "      <td>167675.397000</td>\n",
       "      <td>41918.849250</td>\n",
       "      <td>2.000000</td>\n",
       "      <td>79975.669164</td>\n",
       "      <td>0.000128</td>\n",
       "      <td>1.21085</td>\n",
       "      <td>131794.309927</td>\n",
       "      <td>118909.977278</td>\n",
       "      <td>2.004882</td>\n",
       "      <td>87978.988798</td>\n",
       "    </tr>\n",
       "    <tr>\n",
       "      <th>4</th>\n",
       "      <td>0.000043</td>\n",
       "      <td>8.000000</td>\n",
       "      <td>186198.308893</td>\n",
       "      <td>23274.788612</td>\n",
       "      <td>2.000000</td>\n",
       "      <td>27735.809750</td>\n",
       "      <td>0.000035</td>\n",
       "      <td>1.444264</td>\n",
       "      <td>142407.199898</td>\n",
       "      <td>116571.154533</td>\n",
       "      <td>...</td>\n",
       "      <td>157366.262801</td>\n",
       "      <td>53564.315374</td>\n",
       "      <td>2.038419</td>\n",
       "      <td>53369.365361</td>\n",
       "      <td>0.000128</td>\n",
       "      <td>1.21085</td>\n",
       "      <td>131794.309927</td>\n",
       "      <td>118909.977278</td>\n",
       "      <td>2.004882</td>\n",
       "      <td>87978.988798</td>\n",
       "    </tr>\n",
       "  </tbody>\n",
       "</table>\n",
       "<p>5 rows × 25 columns</p>\n",
       "</div>"
      ],
      "text/plain": [
       "   auctionsAproxFreq  auctionsCount   auctionsLast  auctionsMeanInterval  \\\n",
       "0           0.000015       3.000000  196173.950039          65391.316680   \n",
       "1           0.000027       3.000000  109773.950039          36591.316680   \n",
       "2           0.000128       3.000000   23373.950039           7791.316680   \n",
       "3           0.000309      48.631814  178851.034409          39971.371145   \n",
       "4           0.000043       8.000000  186198.308893          23274.788612   \n",
       "\n",
       "   auctionsMostFreqDay  auctionsStdDevInterval  clicksAproxFreq  clicksCount  \\\n",
       "0             3.000000           113207.422851         0.000035     1.444264   \n",
       "1             2.000000            63324.361119         0.000035     1.444264   \n",
       "2             1.000000            13441.310709         0.000035     1.444264   \n",
       "3             2.036233            37851.761749         0.000035     1.444264   \n",
       "4             2.000000            27735.809750         0.000035     1.444264   \n",
       "\n",
       "      clicksLast  clicksMeanInterval           ...               eventsLast  \\\n",
       "0  142407.199898       116571.154533           ...            233415.116000   \n",
       "1  142407.199898       116571.154533           ...            147015.116000   \n",
       "2  142407.199898       116571.154533           ...            254075.397000   \n",
       "3  142407.199898       116571.154533           ...            167675.397000   \n",
       "4  142407.199898       116571.154533           ...            157366.262801   \n",
       "\n",
       "   eventsMeanInterval eventsMostFreqDay  eventsStdDevInterval  \\\n",
       "0        58353.779000          3.000000          48363.774582   \n",
       "1        73507.558000          2.000000          28564.499079   \n",
       "2        42345.899500          3.000000          73977.713361   \n",
       "3        41918.849250          2.000000          79975.669164   \n",
       "4        53564.315374          2.038419          53369.365361   \n",
       "\n",
       "   installsAproxFreq  installsCount   installsLast  installsMeanInterval  \\\n",
       "0           0.000006        1.00000  179017.206000         179017.206000   \n",
       "1           0.000011        1.00000   92617.206000          92617.206000   \n",
       "2           0.000161        1.00000    6217.206000           6217.206000   \n",
       "3           0.000128        1.21085  131794.309927         118909.977278   \n",
       "4           0.000128        1.21085  131794.309927         118909.977278   \n",
       "\n",
       "   installsMostFreqDay  installsStdDevInterval  \n",
       "0             3.000000            87978.988798  \n",
       "1             2.000000            87978.988798  \n",
       "2             1.000000            87978.988798  \n",
       "3             2.004882            87978.988798  \n",
       "4             2.004882            87978.988798  \n",
       "\n",
       "[5 rows x 25 columns]"
      ]
     },
     "execution_count": 140,
     "metadata": {},
     "output_type": "execute_result"
    }
   ],
   "source": [
    "features.head()"
   ]
  },
  {
   "cell_type": "code",
   "execution_count": 141,
   "metadata": {},
   "outputs": [],
   "source": [
    "featuresPredict['auctionsAproxFreq']=features['auctionsAproxFreq'].fillna(features['auctionsAproxFreq'].mean())\n",
    "featuresPredict['auctionsCount']=features['auctionsCount'].fillna(features['auctionsCount'].mean())\n",
    "featuresPredict['auctionsLast']=features['auctionsLast'].fillna(features['auctionsLast'].mean())\n",
    "featuresPredict['auctionsMeanInterval']=features['auctionsMeanInterval'].fillna(features['auctionsMeanInterval'].mean())\n",
    "featuresPredict['auctionsMostFreqDay']=features['auctionsMostFreqDay'].fillna(features['auctionsMostFreqDay'].mean())\n",
    "featuresPredict['auctionsStdDevInterval']=features['auctionsStdDevInterval'].fillna(features['auctionsStdDevInterval'].mean())\n",
    "featuresPredict['clicksAproxFreq']=features['clicksAproxFreq'].fillna(features['clicksAproxFreq'].mean())\n",
    "featuresPredict['clicksCount']=features['clicksCount'].fillna(features['clicksCount'].mean())\n",
    "featuresPredict['clicksLast']=features['clicksLast'].fillna(features['clicksLast'].mean())\n",
    "featuresPredict['clicksMeanInterval']=features['clicksMeanInterval'].fillna(features['clicksMeanInterval'].mean())\n",
    "featuresPredict['clicksMostFreqDay']=features['clicksMostFreqDay'].fillna(features['clicksMostFreqDay'].mean())\n",
    "featuresPredict['clicksStdDevInterval']=features['clicksStdDevInterval'].fillna(features['clicksStdDevInterval'].mean())\n",
    "featuresPredict['eventsAproxFreq']=features['eventsAproxFreq'].fillna(features['eventsAproxFreq'].mean())\n",
    "featuresPredict['eventsCount']=features['eventsCount'].fillna(features['eventsCount'].mean())\n",
    "featuresPredict['eventsLast']=features['eventsLast'].fillna(features['eventsLast'].mean())\n",
    "featuresPredict['eventsMeanInterval']=features['eventsMeanInterval'].fillna(features['eventsMeanInterval'].mean())\n",
    "featuresPredict['eventsMostFreqDay']=features['eventsMostFreqDay'].fillna(features['eventsMostFreqDay'].mean())\n",
    "featuresPredict['eventsStdDevInterval']=features['eventsStdDevInterval'].fillna(features['eventsStdDevInterval'].mean())\n",
    "featuresPredict['installsAproxFreq']=features['installsAproxFreq'].fillna(features['installsAproxFreq'].mean())\n",
    "featuresPredict['installsCount']=features['installsCount'].fillna(features['installsCount'].mean())\n",
    "featuresPredict['installsLast']=features['installsLast'].fillna(features['installsLast'].mean())\n",
    "featuresPredict['installsMeanInterval']=features['installsMeanInterval'].fillna(features['installsMeanInterval'].mean())\n",
    "featuresPredict['installsMostFreqDay']=features['installsMostFreqDay'].fillna(features['installsMostFreqDay'].mean())\n",
    "featuresPredict['installsStdDevInterval']=features['installsStdDevInterval'].fillna(features['installsStdDevInterval'].mean())"
   ]
  },
  {
   "cell_type": "code",
   "execution_count": null,
   "metadata": {},
   "outputs": [],
   "source": []
  },
  {
   "cell_type": "code",
   "execution_count": null,
   "metadata": {},
   "outputs": [],
   "source": []
  },
  {
   "cell_type": "code",
   "execution_count": null,
   "metadata": {},
   "outputs": [],
   "source": []
  },
  {
   "cell_type": "code",
   "execution_count": 142,
   "metadata": {},
   "outputs": [],
   "source": [
    "#features=features.fillna(0)\n",
    "features.loc[features['installsAproxFreq'] == float('inf'), 'installsAproxFreq'] = 0"
   ]
  },
  {
   "cell_type": "code",
   "execution_count": 143,
   "metadata": {},
   "outputs": [],
   "source": [
    "#featuresPredict = featuresPredict.fillna(0)\n",
    "featuresPredict.loc[featuresPredict['installsAproxFreq'] == float('inf'), 'installsAproxFreq'] = 0"
   ]
  },
  {
   "cell_type": "code",
   "execution_count": 144,
   "metadata": {},
   "outputs": [],
   "source": [
    "featuresPredict=featuresPredict.drop('device_id',axis=1)"
   ]
  },
  {
   "cell_type": "code",
   "execution_count": null,
   "metadata": {},
   "outputs": [],
   "source": []
  },
  {
   "cell_type": "code",
   "execution_count": null,
   "metadata": {},
   "outputs": [],
   "source": []
  },
  {
   "cell_type": "code",
   "execution_count": null,
   "metadata": {},
   "outputs": [],
   "source": []
  },
  {
   "cell_type": "code",
   "execution_count": null,
   "metadata": {},
   "outputs": [],
   "source": []
  },
  {
   "cell_type": "code",
   "execution_count": null,
   "metadata": {},
   "outputs": [],
   "source": []
  },
  {
   "cell_type": "code",
   "execution_count": null,
   "metadata": {},
   "outputs": [],
   "source": []
  },
  {
   "cell_type": "code",
   "execution_count": null,
   "metadata": {},
   "outputs": [],
   "source": []
  },
  {
   "cell_type": "markdown",
   "metadata": {},
   "source": [
    "Prediccion ST"
   ]
  },
  {
   "cell_type": "code",
   "execution_count": 145,
   "metadata": {},
   "outputs": [],
   "source": [
    "labelsST=labels['st']"
   ]
  },
  {
   "cell_type": "code",
   "execution_count": 146,
   "metadata": {},
   "outputs": [
    {
     "data": {
      "text/plain": [
       "0    259200.000000\n",
       "1    259200.000000\n",
       "2    184052.302630\n",
       "3     97652.302630\n",
       "4     24628.726364\n",
       "Name: st, dtype: float64"
      ]
     },
     "execution_count": 146,
     "metadata": {},
     "output_type": "execute_result"
    }
   ],
   "source": [
    "labelsST.head()"
   ]
  },
  {
   "cell_type": "code",
   "execution_count": 174,
   "metadata": {},
   "outputs": [],
   "source": [
    "X = features\n",
    "X = X.drop('device_id', axis=1)\n",
    "y = labelsST"
   ]
  },
  {
   "cell_type": "code",
   "execution_count": 148,
   "metadata": {},
   "outputs": [
    {
     "name": "stdout",
     "output_type": "stream",
     "text": [
      "((1561138, 24), (1561138,))\n",
      "((173460, 24), (173460,))\n"
     ]
    }
   ],
   "source": [
    "from sklearn.model_selection import train_test_split\n",
    "\n",
    "X_train, X_test, y_train, y_test = train_test_split(X,y, test_size=0.1, random_state=0)\n",
    "\n",
    "print(X_train.shape, y_train.shape)\n",
    "print(X_test.shape, y_test.shape)   "
   ]
  },
  {
   "cell_type": "code",
   "execution_count": 149,
   "metadata": {},
   "outputs": [],
   "source": [
    "from sklearn.linear_model import Ridge\n",
    "RidgeModel=Ridge(alpha=0.1)\n",
    "RidgeModel.fit(X,y)\n",
    "ridge_predictST=RidgeModel.predict(featuresPredict)"
   ]
  },
  {
   "cell_type": "code",
   "execution_count": 150,
   "metadata": {},
   "outputs": [],
   "source": [
    "from sklearn import linear_model\n",
    "lasso = linear_model.Lasso(alpha=0.1,positive=True)\n",
    "lasso.fit(X,y)  \n",
    "lasso_predictST=lasso.predict(featuresPredict)"
   ]
  },
  {
   "cell_type": "code",
   "execution_count": 175,
   "metadata": {},
   "outputs": [],
   "source": [
    "from sklearn.linear_model import ElasticNet\n",
    "ElasticNet = ElasticNet(random_state=0)\n",
    "ElasticNet.fit(X, y)\n",
    "Elastic_predictST=ElasticNet.predict(featuresPredict)"
   ]
  },
  {
   "cell_type": "code",
   "execution_count": 151,
   "metadata": {},
   "outputs": [],
   "source": [
    "#from sklearn.metrics import mean_squared_error\n",
    "#mean_squared_error(y_test, ridge_predict)"
   ]
  },
  {
   "cell_type": "code",
   "execution_count": 166,
   "metadata": {},
   "outputs": [
    {
     "data": {
      "text/plain": [
       "0    184561.525924\n",
       "1    200144.411122\n",
       "2    212586.198807\n",
       "3    148856.297893\n",
       "4    134675.211164\n",
       "dtype: float64"
      ]
     },
     "execution_count": 166,
     "metadata": {},
     "output_type": "execute_result"
    }
   ],
   "source": [
    "pd.Series(ridge_predictST).head()"
   ]
  },
  {
   "cell_type": "code",
   "execution_count": 153,
   "metadata": {},
   "outputs": [
    {
     "data": {
      "text/plain": [
       "0    184854.098432\n",
       "1    156461.100953\n",
       "2    128247.251384\n",
       "3    148773.069028\n",
       "4    139768.596578\n",
       "dtype: float64"
      ]
     },
     "execution_count": 153,
     "metadata": {},
     "output_type": "execute_result"
    }
   ],
   "source": [
    "pd.Series(lasso_predictST).head()"
   ]
  },
  {
   "cell_type": "code",
   "execution_count": 176,
   "metadata": {},
   "outputs": [
    {
     "data": {
      "text/plain": [
       "0    185073.378366\n",
       "1    200906.165287\n",
       "2    212631.357268\n",
       "3    149107.508771\n",
       "4    134625.121987\n",
       "dtype: float64"
      ]
     },
     "execution_count": 176,
     "metadata": {},
     "output_type": "execute_result"
    }
   ],
   "source": [
    "pd.Series(Elastic_predictST).head()"
   ]
  },
  {
   "cell_type": "code",
   "execution_count": null,
   "metadata": {},
   "outputs": [],
   "source": []
  },
  {
   "cell_type": "code",
   "execution_count": null,
   "metadata": {},
   "outputs": [],
   "source": []
  },
  {
   "cell_type": "markdown",
   "metadata": {},
   "source": [
    "Predicciones SC"
   ]
  },
  {
   "cell_type": "code",
   "execution_count": 154,
   "metadata": {},
   "outputs": [],
   "source": [
    "labelsSC=labels['sc']"
   ]
  },
  {
   "cell_type": "code",
   "execution_count": 155,
   "metadata": {},
   "outputs": [],
   "source": [
    "X = features\n",
    "X = X.drop('device_id', axis=1)\n",
    "y = labelsSC"
   ]
  },
  {
   "cell_type": "code",
   "execution_count": 156,
   "metadata": {},
   "outputs": [
    {
     "name": "stdout",
     "output_type": "stream",
     "text": [
      "((1561138, 24), (1561138,))\n",
      "((173460, 24), (173460,))\n"
     ]
    }
   ],
   "source": [
    "from sklearn.model_selection import train_test_split\n",
    "\n",
    "X_train, X_test, y_train, y_test = train_test_split(X,y, test_size=0.1, random_state=0)\n",
    "\n",
    "print(X_train.shape, y_train.shape)\n",
    "print(X_test.shape, y_test.shape)   "
   ]
  },
  {
   "cell_type": "code",
   "execution_count": 157,
   "metadata": {},
   "outputs": [],
   "source": [
    "from sklearn.linear_model import Ridge\n",
    "RidgeModel=Ridge(alpha=0.1)\n",
    "RidgeModel.fit(X,y)\n",
    "ridge_predictSC=RidgeModel.predict(featuresPredict)"
   ]
  },
  {
   "cell_type": "code",
   "execution_count": 158,
   "metadata": {},
   "outputs": [],
   "source": [
    "from sklearn import linear_model\n",
    "lasso = linear_model.Lasso(alpha=0.1)\n",
    "lasso.fit(X,y)  \n",
    "lasso_predictSC=lasso.predict(featuresPredict)"
   ]
  },
  {
   "cell_type": "code",
   "execution_count": 168,
   "metadata": {},
   "outputs": [],
   "source": [
    "from sklearn.linear_model import ElasticNet\n",
    "ElasticNet = ElasticNet(random_state=0)\n",
    "ElasticNet.fit(X, y)\n",
    "Elastic_predictSC=ElasticNet.predict(featuresPredict)"
   ]
  },
  {
   "cell_type": "code",
   "execution_count": 159,
   "metadata": {},
   "outputs": [],
   "source": [
    "#from sklearn.metrics import mean_squared_error\n",
    "#mean_squared_error(y_test, ridge_predict)"
   ]
  },
  {
   "cell_type": "code",
   "execution_count": 173,
   "metadata": {},
   "outputs": [
    {
     "data": {
      "text/plain": [
       "0    238995.602459\n",
       "1    243057.134527\n",
       "2    244121.722686\n",
       "3    242138.539409\n",
       "4    242288.071112\n",
       "dtype: float64"
      ]
     },
     "execution_count": 173,
     "metadata": {},
     "output_type": "execute_result"
    }
   ],
   "source": [
    "pd.Series(ridge_predictSC).head()"
   ]
  },
  {
   "cell_type": "code",
   "execution_count": 169,
   "metadata": {},
   "outputs": [
    {
     "data": {
      "text/plain": [
       "0    238996.595784\n",
       "1    243060.241500\n",
       "2    244125.920890\n",
       "3    242138.769421\n",
       "4    242288.807521\n",
       "dtype: float64"
      ]
     },
     "execution_count": 169,
     "metadata": {},
     "output_type": "execute_result"
    }
   ],
   "source": [
    "pd.Series(lasso_predictSC).head()"
   ]
  },
  {
   "cell_type": "code",
   "execution_count": 170,
   "metadata": {},
   "outputs": [
    {
     "data": {
      "text/plain": [
       "0    239183.933509\n",
       "1    243242.464953\n",
       "2    244101.296389\n",
       "3    242190.641083\n",
       "4    242298.260220\n",
       "dtype: float64"
      ]
     },
     "execution_count": 170,
     "metadata": {},
     "output_type": "execute_result"
    }
   ],
   "source": [
    "pd.Series(Elastic_predictSC).head()"
   ]
  },
  {
   "cell_type": "code",
   "execution_count": null,
   "metadata": {},
   "outputs": [],
   "source": []
  },
  {
   "cell_type": "code",
   "execution_count": null,
   "metadata": {},
   "outputs": [],
   "source": []
  },
  {
   "cell_type": "code",
   "execution_count": null,
   "metadata": {},
   "outputs": [],
   "source": []
  },
  {
   "cell_type": "code",
   "execution_count": 162,
   "metadata": {},
   "outputs": [],
   "source": [
    "def funcionMistica(lista1,lista2,lista3):\n",
    "    a=[]\n",
    "    for i in range(len(lista1)):\n",
    "        a.append((str(lista3[i])+'_st',lista1[i]))\n",
    "        a.append((str(lista3[i])+'_sc',lista2[i]))\n",
    "    return a"
   ]
  },
  {
   "cell_type": "code",
   "execution_count": 163,
   "metadata": {},
   "outputs": [],
   "source": [
    "prediccionesRidge=pd.DataFrame(funcionMistica(abs(ridge_predictST),abs(ridge_predictSC),list(target['device_id'])))#.to_csv('data/prediccionesConcat.csv',index=False)\n",
    "prediccionesRidge=prediccionesRidge.rename(columns={0:'ref_hash',1:'obj'})\n",
    "prediccionesRidge.to_csv('data/prediccionesRidge.csv',index=False)"
   ]
  },
  {
   "cell_type": "code",
   "execution_count": 164,
   "metadata": {},
   "outputs": [],
   "source": [
    "prediccionesLasso=pd.DataFrame(funcionMistica(abs(lasso_predictST),abs(lasso_predictSC),list(target['device_id'])))\n",
    "prediccionesLasso=prediccionesLasso.rename(columns={0:'ref_hash',1:'obj'})\n",
    "prediccionesLasso.to_csv('data/prediccionesLasso.csv',index=False)"
   ]
  },
  {
   "cell_type": "code",
   "execution_count": 177,
   "metadata": {},
   "outputs": [],
   "source": [
    "prediccionesElastic=pd.DataFrame(funcionMistica(abs(Elastic_predictST),abs(Elastic_predictSC),list(target['device_id'])))\n",
    "prediccionesElastic=prediccionesElastic.rename(columns={0:'ref_hash',1:'obj'})\n",
    "prediccionesElastic.to_csv('data/prediccionesElastic.csv',index=False)"
   ]
  },
  {
   "cell_type": "code",
   "execution_count": null,
   "metadata": {},
   "outputs": [],
   "source": []
  },
  {
   "cell_type": "code",
   "execution_count": null,
   "metadata": {},
   "outputs": [],
   "source": []
  },
  {
   "cell_type": "code",
   "execution_count": 180,
   "metadata": {},
   "outputs": [
    {
     "data": {
      "text/html": [
       "<div>\n",
       "<style scoped>\n",
       "    .dataframe tbody tr th:only-of-type {\n",
       "        vertical-align: middle;\n",
       "    }\n",
       "\n",
       "    .dataframe tbody tr th {\n",
       "        vertical-align: top;\n",
       "    }\n",
       "\n",
       "    .dataframe thead th {\n",
       "        text-align: right;\n",
       "    }\n",
       "</style>\n",
       "<table border=\"1\" class=\"dataframe\">\n",
       "  <thead>\n",
       "    <tr style=\"text-align: right;\">\n",
       "      <th></th>\n",
       "      <th>ref_hash</th>\n",
       "      <th>obj</th>\n",
       "    </tr>\n",
       "  </thead>\n",
       "  <tbody>\n",
       "    <tr>\n",
       "      <th>0</th>\n",
       "      <td>1000169251625791246_st</td>\n",
       "      <td>184561.525924</td>\n",
       "    </tr>\n",
       "    <tr>\n",
       "      <th>1</th>\n",
       "      <td>1000169251625791246_sc</td>\n",
       "      <td>238995.602459</td>\n",
       "    </tr>\n",
       "    <tr>\n",
       "      <th>2</th>\n",
       "      <td>1000395625957344683_st</td>\n",
       "      <td>200144.411122</td>\n",
       "    </tr>\n",
       "    <tr>\n",
       "      <th>3</th>\n",
       "      <td>1000395625957344683_sc</td>\n",
       "      <td>243057.134527</td>\n",
       "    </tr>\n",
       "    <tr>\n",
       "      <th>4</th>\n",
       "      <td>1003027494996471685_st</td>\n",
       "      <td>212586.198807</td>\n",
       "    </tr>\n",
       "  </tbody>\n",
       "</table>\n",
       "</div>"
      ],
      "text/plain": [
       "                 ref_hash            obj\n",
       "0  1000169251625791246_st  184561.525924\n",
       "1  1000169251625791246_sc  238995.602459\n",
       "2  1000395625957344683_st  200144.411122\n",
       "3  1000395625957344683_sc  243057.134527\n",
       "4  1003027494996471685_st  212586.198807"
      ]
     },
     "execution_count": 180,
     "metadata": {},
     "output_type": "execute_result"
    }
   ],
   "source": [
    "prediccionesRidge.head()"
   ]
  },
  {
   "cell_type": "code",
   "execution_count": 178,
   "metadata": {},
   "outputs": [
    {
     "data": {
      "text/html": [
       "<div>\n",
       "<style scoped>\n",
       "    .dataframe tbody tr th:only-of-type {\n",
       "        vertical-align: middle;\n",
       "    }\n",
       "\n",
       "    .dataframe tbody tr th {\n",
       "        vertical-align: top;\n",
       "    }\n",
       "\n",
       "    .dataframe thead th {\n",
       "        text-align: right;\n",
       "    }\n",
       "</style>\n",
       "<table border=\"1\" class=\"dataframe\">\n",
       "  <thead>\n",
       "    <tr style=\"text-align: right;\">\n",
       "      <th></th>\n",
       "      <th>ref_hash</th>\n",
       "      <th>obj</th>\n",
       "    </tr>\n",
       "  </thead>\n",
       "  <tbody>\n",
       "    <tr>\n",
       "      <th>0</th>\n",
       "      <td>1000169251625791246_st</td>\n",
       "      <td>184854.098432</td>\n",
       "    </tr>\n",
       "    <tr>\n",
       "      <th>1</th>\n",
       "      <td>1000169251625791246_sc</td>\n",
       "      <td>238996.595784</td>\n",
       "    </tr>\n",
       "    <tr>\n",
       "      <th>2</th>\n",
       "      <td>1000395625957344683_st</td>\n",
       "      <td>156461.100953</td>\n",
       "    </tr>\n",
       "    <tr>\n",
       "      <th>3</th>\n",
       "      <td>1000395625957344683_sc</td>\n",
       "      <td>243060.241500</td>\n",
       "    </tr>\n",
       "    <tr>\n",
       "      <th>4</th>\n",
       "      <td>1003027494996471685_st</td>\n",
       "      <td>128247.251384</td>\n",
       "    </tr>\n",
       "  </tbody>\n",
       "</table>\n",
       "</div>"
      ],
      "text/plain": [
       "                 ref_hash            obj\n",
       "0  1000169251625791246_st  184854.098432\n",
       "1  1000169251625791246_sc  238996.595784\n",
       "2  1000395625957344683_st  156461.100953\n",
       "3  1000395625957344683_sc  243060.241500\n",
       "4  1003027494996471685_st  128247.251384"
      ]
     },
     "execution_count": 178,
     "metadata": {},
     "output_type": "execute_result"
    }
   ],
   "source": [
    "prediccionesLasso.head()"
   ]
  },
  {
   "cell_type": "code",
   "execution_count": 179,
   "metadata": {},
   "outputs": [
    {
     "data": {
      "text/html": [
       "<div>\n",
       "<style scoped>\n",
       "    .dataframe tbody tr th:only-of-type {\n",
       "        vertical-align: middle;\n",
       "    }\n",
       "\n",
       "    .dataframe tbody tr th {\n",
       "        vertical-align: top;\n",
       "    }\n",
       "\n",
       "    .dataframe thead th {\n",
       "        text-align: right;\n",
       "    }\n",
       "</style>\n",
       "<table border=\"1\" class=\"dataframe\">\n",
       "  <thead>\n",
       "    <tr style=\"text-align: right;\">\n",
       "      <th></th>\n",
       "      <th>ref_hash</th>\n",
       "      <th>obj</th>\n",
       "    </tr>\n",
       "  </thead>\n",
       "  <tbody>\n",
       "    <tr>\n",
       "      <th>0</th>\n",
       "      <td>1000169251625791246_st</td>\n",
       "      <td>185073.378366</td>\n",
       "    </tr>\n",
       "    <tr>\n",
       "      <th>1</th>\n",
       "      <td>1000169251625791246_sc</td>\n",
       "      <td>239183.933509</td>\n",
       "    </tr>\n",
       "    <tr>\n",
       "      <th>2</th>\n",
       "      <td>1000395625957344683_st</td>\n",
       "      <td>200906.165287</td>\n",
       "    </tr>\n",
       "    <tr>\n",
       "      <th>3</th>\n",
       "      <td>1000395625957344683_sc</td>\n",
       "      <td>243242.464953</td>\n",
       "    </tr>\n",
       "    <tr>\n",
       "      <th>4</th>\n",
       "      <td>1003027494996471685_st</td>\n",
       "      <td>212631.357268</td>\n",
       "    </tr>\n",
       "  </tbody>\n",
       "</table>\n",
       "</div>"
      ],
      "text/plain": [
       "                 ref_hash            obj\n",
       "0  1000169251625791246_st  185073.378366\n",
       "1  1000169251625791246_sc  239183.933509\n",
       "2  1000395625957344683_st  200906.165287\n",
       "3  1000395625957344683_sc  243242.464953\n",
       "4  1003027494996471685_st  212631.357268"
      ]
     },
     "execution_count": 179,
     "metadata": {},
     "output_type": "execute_result"
    }
   ],
   "source": [
    "prediccionesElastic.head()"
   ]
  },
  {
   "cell_type": "code",
   "execution_count": 184,
   "metadata": {},
   "outputs": [],
   "source": [
    "prediccionesTotal=prediccionesRidge.merge(prediccionesLasso,on='ref_hash')\n",
    "prediccionesTotal=prediccionesTotal.merge(prediccionesElastic,on='ref_hash')"
   ]
  },
  {
   "cell_type": "code",
   "execution_count": 190,
   "metadata": {},
   "outputs": [
    {
     "data": {
      "text/html": [
       "<div>\n",
       "<style scoped>\n",
       "    .dataframe tbody tr th:only-of-type {\n",
       "        vertical-align: middle;\n",
       "    }\n",
       "\n",
       "    .dataframe tbody tr th {\n",
       "        vertical-align: top;\n",
       "    }\n",
       "\n",
       "    .dataframe thead th {\n",
       "        text-align: right;\n",
       "    }\n",
       "</style>\n",
       "<table border=\"1\" class=\"dataframe\">\n",
       "  <thead>\n",
       "    <tr style=\"text-align: right;\">\n",
       "      <th></th>\n",
       "      <th>ref_hash</th>\n",
       "      <th>obj</th>\n",
       "    </tr>\n",
       "  </thead>\n",
       "  <tbody>\n",
       "    <tr>\n",
       "      <th>0</th>\n",
       "      <td>1000169251625791246_st</td>\n",
       "      <td>184829.667574</td>\n",
       "    </tr>\n",
       "    <tr>\n",
       "      <th>1</th>\n",
       "      <td>1000169251625791246_sc</td>\n",
       "      <td>239058.710584</td>\n",
       "    </tr>\n",
       "    <tr>\n",
       "      <th>2</th>\n",
       "      <td>1000395625957344683_st</td>\n",
       "      <td>185837.225787</td>\n",
       "    </tr>\n",
       "    <tr>\n",
       "      <th>3</th>\n",
       "      <td>1000395625957344683_sc</td>\n",
       "      <td>243119.946994</td>\n",
       "    </tr>\n",
       "    <tr>\n",
       "      <th>4</th>\n",
       "      <td>1003027494996471685_st</td>\n",
       "      <td>184488.269153</td>\n",
       "    </tr>\n",
       "  </tbody>\n",
       "</table>\n",
       "</div>"
      ],
      "text/plain": [
       "                 ref_hash            obj\n",
       "0  1000169251625791246_st  184829.667574\n",
       "1  1000169251625791246_sc  239058.710584\n",
       "2  1000395625957344683_st  185837.225787\n",
       "3  1000395625957344683_sc  243119.946994\n",
       "4  1003027494996471685_st  184488.269153"
      ]
     },
     "execution_count": 190,
     "metadata": {},
     "output_type": "execute_result"
    }
   ],
   "source": [
    "prediccionesTotal['objt']=(prediccionesTotal['obj_x']+prediccionesTotal['obj_y']+prediccionesTotal['obj'])/3\n",
    "prediccionesTotal=prediccionesTotal.drop(['obj_x','obj_y','obj'],axis=1)\n",
    "prediccionesTotal=prediccionesTotal.rename(columns={'objt':'obj'})\n",
    "prediccionesTotal.head()"
   ]
  },
  {
   "cell_type": "code",
   "execution_count": 191,
   "metadata": {},
   "outputs": [],
   "source": [
    "prediccionesTotal.to_csv('data/prediccionesTotal.csv',index=False)"
   ]
  },
  {
   "cell_type": "code",
   "execution_count": null,
   "metadata": {},
   "outputs": [],
   "source": []
  },
  {
   "cell_type": "code",
   "execution_count": null,
   "metadata": {},
   "outputs": [],
   "source": []
  },
  {
   "cell_type": "code",
   "execution_count": null,
   "metadata": {},
   "outputs": [],
   "source": []
  }
 ],
 "metadata": {
  "kernelspec": {
   "display_name": "Python 2",
   "language": "python",
   "name": "python2"
  },
  "language_info": {
   "codemirror_mode": {
    "name": "ipython",
    "version": 2
   },
   "file_extension": ".py",
   "mimetype": "text/x-python",
   "name": "python",
   "nbconvert_exporter": "python",
   "pygments_lexer": "ipython2",
   "version": "2.7.15rc1"
  }
 },
 "nbformat": 4,
 "nbformat_minor": 2
}
