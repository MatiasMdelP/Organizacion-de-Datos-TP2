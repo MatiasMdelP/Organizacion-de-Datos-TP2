{
 "cells": [
  {
   "cell_type": "code",
   "execution_count": 2,
   "metadata": {},
   "outputs": [],
   "source": [
    "import pandas as pd"
   ]
  },
  {
   "cell_type": "markdown",
   "metadata": {},
   "source": [
    "Trabajo en el siguiente rango de dias:"
   ]
  },
  {
   "cell_type": "code",
   "execution_count": 3,
   "metadata": {},
   "outputs": [],
   "source": [
    "firstDay = pd.Timestamp(2019, 4, 18)\n",
    "lastDay = pd.Timestamp(2019, 4, 21)"
   ]
  },
  {
   "cell_type": "markdown",
   "metadata": {},
   "source": [
    "Los datos son los siguientes"
   ]
  },
  {
   "cell_type": "code",
   "execution_count": 4,
   "metadata": {},
   "outputs": [],
   "source": [
    "location = 'data/'\n",
    "clicksFile = location + 'clicks.csv'"
   ]
  },
  {
   "cell_type": "markdown",
   "metadata": {},
   "source": [
    "Cargo los datos de las auctions en el rango de dias indicado"
   ]
  },
  {
   "cell_type": "code",
   "execution_count": 63,
   "metadata": {},
   "outputs": [],
   "source": [
    "dtype = {\n",
    "    'advertiser_id': 'category',\n",
    "    'source_id': 'category',\n",
    "    'created': 'str',\n",
    "    'latitude': 'float32',\n",
    "    'longitude': 'float32',\n",
    "    'wifi_connection': 'bool',\n",
    "    'carrier_id': 'category',\n",
    "    'os_minor': 'category',\n",
    "    'os_major': 'category',\n",
    "    'agent_device': 'category',\n",
    "    'specs_brand': 'category',\n",
    "    'brand': 'category',\n",
    "    'timeToClick': 'float32',\n",
    "    'touchX': 'str',\n",
    "    'touchY': 'str',\n",
    "    'ref_type': 'category',\n",
    "    'ref_hash': 'int64',\n",
    "}"
   ]
  },
  {
   "cell_type": "code",
   "execution_count": 64,
   "metadata": {},
   "outputs": [],
   "source": [
    "clicks = pd.read_csv(clicksFile, usecols=dtype.keys(), dtype=dtype, parse_dates=['created'])"
   ]
  },
  {
   "cell_type": "code",
   "execution_count": 72,
   "metadata": {},
   "outputs": [],
   "source": [
    "clicksIsInDateInterval = (clicks['created'] >= firstDay) & (clicks['created'] < lastDay)\n",
    "clicks = clicks[clicksIsInDateInterval]"
   ]
  },
  {
   "cell_type": "code",
   "execution_count": 67,
   "metadata": {},
   "outputs": [
    {
     "data": {
      "text/html": [
       "<div>\n",
       "<style scoped>\n",
       "    .dataframe tbody tr th:only-of-type {\n",
       "        vertical-align: middle;\n",
       "    }\n",
       "\n",
       "    .dataframe tbody tr th {\n",
       "        vertical-align: top;\n",
       "    }\n",
       "\n",
       "    .dataframe thead th {\n",
       "        text-align: right;\n",
       "    }\n",
       "</style>\n",
       "<table border=\"1\" class=\"dataframe\">\n",
       "  <thead>\n",
       "    <tr style=\"text-align: right;\">\n",
       "      <th></th>\n",
       "      <th>advertiser_id</th>\n",
       "      <th>source_id</th>\n",
       "      <th>created</th>\n",
       "      <th>latitude</th>\n",
       "      <th>longitude</th>\n",
       "      <th>wifi_connection</th>\n",
       "      <th>carrier_id</th>\n",
       "      <th>os_minor</th>\n",
       "      <th>agent_device</th>\n",
       "      <th>os_major</th>\n",
       "      <th>specs_brand</th>\n",
       "      <th>brand</th>\n",
       "      <th>timeToClick</th>\n",
       "      <th>touchX</th>\n",
       "      <th>touchY</th>\n",
       "      <th>ref_type</th>\n",
       "      <th>ref_hash</th>\n",
       "    </tr>\n",
       "  </thead>\n",
       "  <tbody>\n",
       "    <tr>\n",
       "      <th>7854</th>\n",
       "      <td>2</td>\n",
       "      <td>6</td>\n",
       "      <td>2019-04-13 01:31:38.175</td>\n",
       "      <td>1.714512</td>\n",
       "      <td>0.871062</td>\n",
       "      <td>False</td>\n",
       "      <td>25.0</td>\n",
       "      <td>5.1066709110782554e+17</td>\n",
       "      <td>6.794880020077885e+18</td>\n",
       "      <td>7.623717670320203e+18</td>\n",
       "      <td>71913840936116953</td>\n",
       "      <td>NaN</td>\n",
       "      <td>NaN</td>\n",
       "      <td>Infinity</td>\n",
       "      <td>Infinity</td>\n",
       "      <td>1494519392962156891</td>\n",
       "      <td>7295739950564334720</td>\n",
       "    </tr>\n",
       "  </tbody>\n",
       "</table>\n",
       "</div>"
      ],
      "text/plain": [
       "     advertiser_id source_id                 created  latitude  longitude  \\\n",
       "7854             2         6 2019-04-13 01:31:38.175  1.714512   0.871062   \n",
       "\n",
       "      wifi_connection carrier_id                os_minor  \\\n",
       "7854            False       25.0  5.1066709110782554e+17   \n",
       "\n",
       "               agent_device               os_major        specs_brand brand  \\\n",
       "7854  6.794880020077885e+18  7.623717670320203e+18  71913840936116953   NaN   \n",
       "\n",
       "      timeToClick    touchX    touchY             ref_type  \\\n",
       "7854          NaN  Infinity  Infinity  1494519392962156891   \n",
       "\n",
       "                 ref_hash  \n",
       "7854  7295739950564334720  "
      ]
     },
     "execution_count": 67,
     "metadata": {},
     "output_type": "execute_result"
    }
   ],
   "source": [
    "clicks[clicks['touchX'] == 'Infinity']"
   ]
  },
  {
   "cell_type": "code",
   "execution_count": 68,
   "metadata": {},
   "outputs": [],
   "source": [
    "clicks = clicks.drop([7854])"
   ]
  },
  {
   "cell_type": "code",
   "execution_count": 69,
   "metadata": {},
   "outputs": [],
   "source": [
    "clicks['touchX'] = clicks['touchX'].astype('float32')"
   ]
  },
  {
   "cell_type": "code",
   "execution_count": 70,
   "metadata": {},
   "outputs": [],
   "source": [
    "clicks['touchY'] = clicks['touchY'].astype('float32')"
   ]
  },
  {
   "cell_type": "code",
   "execution_count": 71,
   "metadata": {},
   "outputs": [],
   "source": [
    "clicks['created'] = clicks['created'].dt.tz_localize(None)"
   ]
  },
  {
   "cell_type": "code",
   "execution_count": 73,
   "metadata": {
    "scrolled": true
   },
   "outputs": [
    {
     "data": {
      "text/html": [
       "<div>\n",
       "<style scoped>\n",
       "    .dataframe tbody tr th:only-of-type {\n",
       "        vertical-align: middle;\n",
       "    }\n",
       "\n",
       "    .dataframe tbody tr th {\n",
       "        vertical-align: top;\n",
       "    }\n",
       "\n",
       "    .dataframe thead th {\n",
       "        text-align: right;\n",
       "    }\n",
       "</style>\n",
       "<table border=\"1\" class=\"dataframe\">\n",
       "  <thead>\n",
       "    <tr style=\"text-align: right;\">\n",
       "      <th></th>\n",
       "      <th>advertiser_id</th>\n",
       "      <th>source_id</th>\n",
       "      <th>created</th>\n",
       "      <th>latitude</th>\n",
       "      <th>longitude</th>\n",
       "      <th>wifi_connection</th>\n",
       "      <th>carrier_id</th>\n",
       "      <th>os_minor</th>\n",
       "      <th>agent_device</th>\n",
       "      <th>os_major</th>\n",
       "      <th>specs_brand</th>\n",
       "      <th>brand</th>\n",
       "      <th>timeToClick</th>\n",
       "      <th>touchX</th>\n",
       "      <th>touchY</th>\n",
       "      <th>ref_type</th>\n",
       "      <th>ref_hash</th>\n",
       "    </tr>\n",
       "  </thead>\n",
       "  <tbody>\n",
       "    <tr>\n",
       "      <th>0</th>\n",
       "      <td>1</td>\n",
       "      <td>2</td>\n",
       "      <td>2019-04-18 05:27:42.197</td>\n",
       "      <td>1.714547</td>\n",
       "      <td>0.871535</td>\n",
       "      <td>False</td>\n",
       "      <td>3.0</td>\n",
       "      <td>1.5176438893491397e+18</td>\n",
       "      <td>NaN</td>\n",
       "      <td>5.131615556736863e+18</td>\n",
       "      <td>71913840936116953</td>\n",
       "      <td>0.0</td>\n",
       "      <td>2.317000</td>\n",
       "      <td>0.968</td>\n",
       "      <td>0.503</td>\n",
       "      <td>1891515180541284343</td>\n",
       "      <td>1293710398598742392</td>\n",
       "    </tr>\n",
       "    <tr>\n",
       "      <th>1</th>\n",
       "      <td>1</td>\n",
       "      <td>1</td>\n",
       "      <td>2019-04-18 05:27:03.164</td>\n",
       "      <td>1.714512</td>\n",
       "      <td>0.871062</td>\n",
       "      <td>True</td>\n",
       "      <td>2.0</td>\n",
       "      <td>1.2885781261232225e+18</td>\n",
       "      <td>NaN</td>\n",
       "      <td>3.908390200756879e+18</td>\n",
       "      <td>3576558787748411622</td>\n",
       "      <td>1.0</td>\n",
       "      <td>7.653000</td>\n",
       "      <td>0.712</td>\n",
       "      <td>1.689</td>\n",
       "      <td>1891515180541284343</td>\n",
       "      <td>1663930990551616564</td>\n",
       "    </tr>\n",
       "    <tr>\n",
       "      <th>2</th>\n",
       "      <td>1</td>\n",
       "      <td>1</td>\n",
       "      <td>2019-04-18 05:42:07.926</td>\n",
       "      <td>1.714547</td>\n",
       "      <td>0.871535</td>\n",
       "      <td>True</td>\n",
       "      <td>4.0</td>\n",
       "      <td>2.2387361390161664e+18</td>\n",
       "      <td>NaN</td>\n",
       "      <td>3.581232574980917e+18</td>\n",
       "      <td>3576558787748411622</td>\n",
       "      <td>NaN</td>\n",
       "      <td>464.795990</td>\n",
       "      <td>0.227</td>\n",
       "      <td>0.251</td>\n",
       "      <td>1891515180541284343</td>\n",
       "      <td>8488038938665586188</td>\n",
       "    </tr>\n",
       "    <tr>\n",
       "      <th>3</th>\n",
       "      <td>1</td>\n",
       "      <td>1</td>\n",
       "      <td>2019-04-18 05:26:04.446</td>\n",
       "      <td>1.708041</td>\n",
       "      <td>0.870772</td>\n",
       "      <td>True</td>\n",
       "      <td>1.0</td>\n",
       "      <td>2.411639939918313e+18</td>\n",
       "      <td>NaN</td>\n",
       "      <td>3.908390200756879e+18</td>\n",
       "      <td>3576558787748411622</td>\n",
       "      <td>NaN</td>\n",
       "      <td>225.311005</td>\n",
       "      <td>0.696</td>\n",
       "      <td>6.587</td>\n",
       "      <td>1891515180541284343</td>\n",
       "      <td>6488361690105189959</td>\n",
       "    </tr>\n",
       "    <tr>\n",
       "      <th>4</th>\n",
       "      <td>1</td>\n",
       "      <td>1</td>\n",
       "      <td>2019-04-18 05:23:37.764</td>\n",
       "      <td>1.715514</td>\n",
       "      <td>0.870772</td>\n",
       "      <td>True</td>\n",
       "      <td>2.0</td>\n",
       "      <td>1.5176438893491397e+18</td>\n",
       "      <td>NaN</td>\n",
       "      <td>5.131615556736863e+18</td>\n",
       "      <td>3576558787748411622</td>\n",
       "      <td>0.0</td>\n",
       "      <td>84.736000</td>\n",
       "      <td>0.059</td>\n",
       "      <td>0.142</td>\n",
       "      <td>1891515180541284343</td>\n",
       "      <td>1348993302102753419</td>\n",
       "    </tr>\n",
       "  </tbody>\n",
       "</table>\n",
       "</div>"
      ],
      "text/plain": [
       "  advertiser_id source_id                 created  latitude  longitude  \\\n",
       "0             1         2 2019-04-18 05:27:42.197  1.714547   0.871535   \n",
       "1             1         1 2019-04-18 05:27:03.164  1.714512   0.871062   \n",
       "2             1         1 2019-04-18 05:42:07.926  1.714547   0.871535   \n",
       "3             1         1 2019-04-18 05:26:04.446  1.708041   0.870772   \n",
       "4             1         1 2019-04-18 05:23:37.764  1.715514   0.870772   \n",
       "\n",
       "   wifi_connection carrier_id                os_minor agent_device  \\\n",
       "0            False        3.0  1.5176438893491397e+18          NaN   \n",
       "1             True        2.0  1.2885781261232225e+18          NaN   \n",
       "2             True        4.0  2.2387361390161664e+18          NaN   \n",
       "3             True        1.0   2.411639939918313e+18          NaN   \n",
       "4             True        2.0  1.5176438893491397e+18          NaN   \n",
       "\n",
       "                os_major          specs_brand brand  timeToClick  touchX  \\\n",
       "0  5.131615556736863e+18    71913840936116953   0.0     2.317000   0.968   \n",
       "1  3.908390200756879e+18  3576558787748411622   1.0     7.653000   0.712   \n",
       "2  3.581232574980917e+18  3576558787748411622   NaN   464.795990   0.227   \n",
       "3  3.908390200756879e+18  3576558787748411622   NaN   225.311005   0.696   \n",
       "4  5.131615556736863e+18  3576558787748411622   0.0    84.736000   0.059   \n",
       "\n",
       "   touchY             ref_type             ref_hash  \n",
       "0   0.503  1891515180541284343  1293710398598742392  \n",
       "1   1.689  1891515180541284343  1663930990551616564  \n",
       "2   0.251  1891515180541284343  8488038938665586188  \n",
       "3   6.587  1891515180541284343  6488361690105189959  \n",
       "4   0.142  1891515180541284343  1348993302102753419  "
      ]
     },
     "execution_count": 73,
     "metadata": {},
     "output_type": "execute_result"
    }
   ],
   "source": [
    "clicks.head()"
   ]
  },
  {
   "cell_type": "code",
   "execution_count": 74,
   "metadata": {},
   "outputs": [
    {
     "name": "stdout",
     "output_type": "stream",
     "text": [
      "<class 'pandas.core.frame.DataFrame'>\n",
      "Int64Index: 12768 entries, 0 to 64212\n",
      "Data columns (total 17 columns):\n",
      "advertiser_id      12768 non-null category\n",
      "source_id          12768 non-null category\n",
      "created            12768 non-null datetime64[ns]\n",
      "latitude           12768 non-null float32\n",
      "longitude          12768 non-null float32\n",
      "wifi_connection    12768 non-null bool\n",
      "carrier_id         12548 non-null category\n",
      "os_minor           12761 non-null category\n",
      "agent_device       2004 non-null category\n",
      "os_major           12761 non-null category\n",
      "specs_brand        12768 non-null category\n",
      "brand              2923 non-null category\n",
      "timeToClick        7510 non-null float32\n",
      "touchX             8571 non-null float32\n",
      "touchY             8571 non-null float32\n",
      "ref_type           12768 non-null category\n",
      "ref_hash           12768 non-null int64\n",
      "dtypes: bool(1), category(9), datetime64[ns](1), float32(5), int64(1)\n",
      "memory usage: 720.6 KB\n"
     ]
    }
   ],
   "source": [
    "clicks.info()"
   ]
  },
  {
   "cell_type": "markdown",
   "metadata": {},
   "source": [
    "## Busqueda de features"
   ]
  },
  {
   "cell_type": "code",
   "execution_count": null,
   "metadata": {},
   "outputs": [],
   "source": []
  }
 ],
 "metadata": {
  "kernelspec": {
   "display_name": "Python 3",
   "language": "python",
   "name": "python3"
  },
  "language_info": {
   "codemirror_mode": {
    "name": "ipython",
    "version": 3
   },
   "file_extension": ".py",
   "mimetype": "text/x-python",
   "name": "python",
   "nbconvert_exporter": "python",
   "pygments_lexer": "ipython3",
   "version": "3.7.3"
  }
 },
 "nbformat": 4,
 "nbformat_minor": 2
}
