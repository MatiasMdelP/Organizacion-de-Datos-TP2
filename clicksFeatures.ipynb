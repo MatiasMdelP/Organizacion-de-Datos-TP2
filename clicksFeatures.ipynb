{
 "cells": [
  {
   "cell_type": "code",
   "execution_count": 1,
   "metadata": {},
   "outputs": [],
   "source": [
    "import pandas as pd"
   ]
  },
  {
   "cell_type": "markdown",
   "metadata": {},
   "source": [
    "Trabajo en el siguiente rango de dias:"
   ]
  },
  {
   "cell_type": "code",
   "execution_count": 2,
   "metadata": {},
   "outputs": [],
   "source": [
    "firstDay = pd.Timestamp(2019, 4, 24)\n",
    "lastDay = pd.Timestamp(2019, 4, 27)"
   ]
  },
  {
   "cell_type": "markdown",
   "metadata": {},
   "source": [
    "Los datos son los siguientes"
   ]
  },
  {
   "cell_type": "code",
   "execution_count": 3,
   "metadata": {},
   "outputs": [],
   "source": [
    "location = 'data/'\n",
    "clicksFile = location + 'clicks.csv'"
   ]
  },
  {
   "cell_type": "markdown",
   "metadata": {},
   "source": [
    "Cargo los datos de las auctions en el rango de dias indicado"
   ]
  },
  {
   "cell_type": "code",
   "execution_count": 4,
   "metadata": {},
   "outputs": [],
   "source": [
    "dtype = {\n",
    "    'advertiser_id': 'category',\n",
    "    'source_id': 'category',\n",
    "    'created': 'str',\n",
    "    'latitude': 'float32',\n",
    "    'longitude': 'float32',\n",
    "    'wifi_connection': 'bool',\n",
    "    'carrier_id': 'category',\n",
    "    'os_minor': 'category',\n",
    "    'os_major': 'category',\n",
    "    'agent_device': 'category',\n",
    "    'specs_brand': 'category',\n",
    "    'brand': 'category',\n",
    "    'timeToClick': 'float32',\n",
    "    'touchX': 'str',\n",
    "    'touchY': 'str',\n",
    "    'ref_type': 'category',\n",
    "    'ref_hash': 'int64',\n",
    "}"
   ]
  },
  {
   "cell_type": "code",
   "execution_count": 5,
   "metadata": {},
   "outputs": [],
   "source": [
    "clicks = pd.read_csv(clicksFile, usecols=dtype.keys(), dtype=dtype, parse_dates=['created'])"
   ]
  },
  {
   "cell_type": "code",
   "execution_count": 6,
   "metadata": {},
   "outputs": [],
   "source": [
    "clicksIsInDateInterval = (clicks['created'] >= firstDay) & (clicks['created'] < lastDay)\n",
    "clicks = clicks[clicksIsInDateInterval]"
   ]
  },
  {
   "cell_type": "code",
   "execution_count": 7,
   "metadata": {},
   "outputs": [],
   "source": [
    "clicks = clicks.drop(clicks[clicks['touchX'] == 'Infinity'].index)"
   ]
  },
  {
   "cell_type": "code",
   "execution_count": 8,
   "metadata": {},
   "outputs": [],
   "source": [
    "clicks['touchX'] = clicks['touchX'].astype('float32')"
   ]
  },
  {
   "cell_type": "code",
   "execution_count": 9,
   "metadata": {},
   "outputs": [],
   "source": [
    "clicks['touchY'] = clicks['touchY'].astype('float32')"
   ]
  },
  {
   "cell_type": "code",
   "execution_count": 10,
   "metadata": {},
   "outputs": [],
   "source": [
    "clicks['created'] = clicks['created'].dt.tz_localize(None)"
   ]
  },
  {
   "cell_type": "code",
   "execution_count": 11,
   "metadata": {},
   "outputs": [],
   "source": [
    "clicks = clicks.rename(columns={'ref_hash': 'device_id'})"
   ]
  },
  {
   "cell_type": "code",
   "execution_count": 12,
   "metadata": {},
   "outputs": [],
   "source": [
    "clicks['seconds'] = (clicks['created'] - firstDay).dt.total_seconds()\n",
    "clicks['day'] = clicks['created'].dt.day - firstDay.day + 1"
   ]
  },
  {
   "cell_type": "code",
   "execution_count": 13,
   "metadata": {
    "scrolled": true
   },
   "outputs": [
    {
     "data": {
      "text/html": [
       "<div>\n",
       "<style scoped>\n",
       "    .dataframe tbody tr th:only-of-type {\n",
       "        vertical-align: middle;\n",
       "    }\n",
       "\n",
       "    .dataframe tbody tr th {\n",
       "        vertical-align: top;\n",
       "    }\n",
       "\n",
       "    .dataframe thead th {\n",
       "        text-align: right;\n",
       "    }\n",
       "</style>\n",
       "<table border=\"1\" class=\"dataframe\">\n",
       "  <thead>\n",
       "    <tr style=\"text-align: right;\">\n",
       "      <th></th>\n",
       "      <th>advertiser_id</th>\n",
       "      <th>source_id</th>\n",
       "      <th>created</th>\n",
       "      <th>latitude</th>\n",
       "      <th>longitude</th>\n",
       "      <th>wifi_connection</th>\n",
       "      <th>carrier_id</th>\n",
       "      <th>os_minor</th>\n",
       "      <th>agent_device</th>\n",
       "      <th>os_major</th>\n",
       "      <th>specs_brand</th>\n",
       "      <th>brand</th>\n",
       "      <th>timeToClick</th>\n",
       "      <th>touchX</th>\n",
       "      <th>touchY</th>\n",
       "      <th>ref_type</th>\n",
       "      <th>device_id</th>\n",
       "      <th>seconds</th>\n",
       "      <th>day</th>\n",
       "    </tr>\n",
       "  </thead>\n",
       "  <tbody>\n",
       "    <tr>\n",
       "      <th>20</th>\n",
       "      <td>1</td>\n",
       "      <td>0</td>\n",
       "      <td>2019-04-25 13:47:20.817</td>\n",
       "      <td>1.714547</td>\n",
       "      <td>0.871535</td>\n",
       "      <td>False</td>\n",
       "      <td>9.0</td>\n",
       "      <td>6.795761880764845e+18</td>\n",
       "      <td>NaN</td>\n",
       "      <td>5.131615556736863e+18</td>\n",
       "      <td>71913840936116953</td>\n",
       "      <td>NaN</td>\n",
       "      <td>4.706000</td>\n",
       "      <td>0.910</td>\n",
       "      <td>0.036</td>\n",
       "      <td>1891515180541284343</td>\n",
       "      <td>7727410219160218534</td>\n",
       "      <td>136040.817</td>\n",
       "      <td>2</td>\n",
       "    </tr>\n",
       "    <tr>\n",
       "      <th>21</th>\n",
       "      <td>1</td>\n",
       "      <td>1</td>\n",
       "      <td>2019-04-25 16:16:56.642</td>\n",
       "      <td>1.686080</td>\n",
       "      <td>0.880132</td>\n",
       "      <td>True</td>\n",
       "      <td>1.0</td>\n",
       "      <td>7.531669329342818e+18</td>\n",
       "      <td>NaN</td>\n",
       "      <td>5.648867414868049e+18</td>\n",
       "      <td>3576558787748411622</td>\n",
       "      <td>NaN</td>\n",
       "      <td>3.620000</td>\n",
       "      <td>0.577</td>\n",
       "      <td>4.626</td>\n",
       "      <td>1891515180541284343</td>\n",
       "      <td>1054780916525454915</td>\n",
       "      <td>145016.642</td>\n",
       "      <td>2</td>\n",
       "    </tr>\n",
       "    <tr>\n",
       "      <th>22</th>\n",
       "      <td>1</td>\n",
       "      <td>1</td>\n",
       "      <td>2019-04-25 16:58:53.030</td>\n",
       "      <td>1.714512</td>\n",
       "      <td>0.871062</td>\n",
       "      <td>True</td>\n",
       "      <td>1.0</td>\n",
       "      <td>3.575963029724781e+18</td>\n",
       "      <td>NaN</td>\n",
       "      <td>5.754947116114108e+18</td>\n",
       "      <td>3576558787748411622</td>\n",
       "      <td>NaN</td>\n",
       "      <td>39.522999</td>\n",
       "      <td>0.816</td>\n",
       "      <td>0.875</td>\n",
       "      <td>1891515180541284343</td>\n",
       "      <td>4412003964704268712</td>\n",
       "      <td>147533.030</td>\n",
       "      <td>2</td>\n",
       "    </tr>\n",
       "    <tr>\n",
       "      <th>23</th>\n",
       "      <td>1</td>\n",
       "      <td>3</td>\n",
       "      <td>2019-04-25 16:30:33.253</td>\n",
       "      <td>1.747826</td>\n",
       "      <td>0.864290</td>\n",
       "      <td>True</td>\n",
       "      <td>7.0</td>\n",
       "      <td>3.575963029724781e+18</td>\n",
       "      <td>NaN</td>\n",
       "      <td>5.754947116114108e+18</td>\n",
       "      <td>71913840936116953</td>\n",
       "      <td>NaN</td>\n",
       "      <td>0.919000</td>\n",
       "      <td>0.956</td>\n",
       "      <td>0.069</td>\n",
       "      <td>1891515180541284343</td>\n",
       "      <td>3891350874593022574</td>\n",
       "      <td>145833.253</td>\n",
       "      <td>2</td>\n",
       "    </tr>\n",
       "    <tr>\n",
       "      <th>24</th>\n",
       "      <td>1</td>\n",
       "      <td>1</td>\n",
       "      <td>2019-04-25 17:02:30.824</td>\n",
       "      <td>1.730828</td>\n",
       "      <td>0.855571</td>\n",
       "      <td>True</td>\n",
       "      <td>1.0</td>\n",
       "      <td>5.310344816890522e+18</td>\n",
       "      <td>NaN</td>\n",
       "      <td>3.581232574980917e+18</td>\n",
       "      <td>3576558787748411622</td>\n",
       "      <td>NaN</td>\n",
       "      <td>128.764999</td>\n",
       "      <td>0.613</td>\n",
       "      <td>0.709</td>\n",
       "      <td>1891515180541284343</td>\n",
       "      <td>4541657187949816744</td>\n",
       "      <td>147750.824</td>\n",
       "      <td>2</td>\n",
       "    </tr>\n",
       "  </tbody>\n",
       "</table>\n",
       "</div>"
      ],
      "text/plain": [
       "   advertiser_id source_id                 created  latitude  longitude  \\\n",
       "20             1         0 2019-04-25 13:47:20.817  1.714547   0.871535   \n",
       "21             1         1 2019-04-25 16:16:56.642  1.686080   0.880132   \n",
       "22             1         1 2019-04-25 16:58:53.030  1.714512   0.871062   \n",
       "23             1         3 2019-04-25 16:30:33.253  1.747826   0.864290   \n",
       "24             1         1 2019-04-25 17:02:30.824  1.730828   0.855571   \n",
       "\n",
       "    wifi_connection carrier_id               os_minor agent_device  \\\n",
       "20            False        9.0  6.795761880764845e+18          NaN   \n",
       "21             True        1.0  7.531669329342818e+18          NaN   \n",
       "22             True        1.0  3.575963029724781e+18          NaN   \n",
       "23             True        7.0  3.575963029724781e+18          NaN   \n",
       "24             True        1.0  5.310344816890522e+18          NaN   \n",
       "\n",
       "                 os_major          specs_brand brand  timeToClick  touchX  \\\n",
       "20  5.131615556736863e+18    71913840936116953   NaN     4.706000   0.910   \n",
       "21  5.648867414868049e+18  3576558787748411622   NaN     3.620000   0.577   \n",
       "22  5.754947116114108e+18  3576558787748411622   NaN    39.522999   0.816   \n",
       "23  5.754947116114108e+18    71913840936116953   NaN     0.919000   0.956   \n",
       "24  3.581232574980917e+18  3576558787748411622   NaN   128.764999   0.613   \n",
       "\n",
       "    touchY             ref_type            device_id     seconds  day  \n",
       "20   0.036  1891515180541284343  7727410219160218534  136040.817    2  \n",
       "21   4.626  1891515180541284343  1054780916525454915  145016.642    2  \n",
       "22   0.875  1891515180541284343  4412003964704268712  147533.030    2  \n",
       "23   0.069  1891515180541284343  3891350874593022574  145833.253    2  \n",
       "24   0.709  1891515180541284343  4541657187949816744  147750.824    2  "
      ]
     },
     "execution_count": 13,
     "metadata": {},
     "output_type": "execute_result"
    }
   ],
   "source": [
    "clicks.head()"
   ]
  },
  {
   "cell_type": "code",
   "execution_count": 14,
   "metadata": {},
   "outputs": [
    {
     "name": "stdout",
     "output_type": "stream",
     "text": [
      "<class 'pandas.core.frame.DataFrame'>\n",
      "Int64Index: 16927 entries, 20 to 61878\n",
      "Data columns (total 19 columns):\n",
      "advertiser_id      16927 non-null category\n",
      "source_id          16927 non-null category\n",
      "created            16927 non-null datetime64[ns]\n",
      "latitude           16927 non-null float32\n",
      "longitude          16927 non-null float32\n",
      "wifi_connection    16927 non-null bool\n",
      "carrier_id         16650 non-null category\n",
      "os_minor           16920 non-null category\n",
      "agent_device       2030 non-null category\n",
      "os_major           16920 non-null category\n",
      "specs_brand        16927 non-null category\n",
      "brand              4009 non-null category\n",
      "timeToClick        9497 non-null float32\n",
      "touchX             11343 non-null float32\n",
      "touchY             11343 non-null float32\n",
      "ref_type           16927 non-null category\n",
      "device_id          16927 non-null int64\n",
      "seconds            16927 non-null float64\n",
      "day                16927 non-null int64\n",
      "dtypes: bool(1), category(9), datetime64[ns](1), float32(5), float64(1), int64(2)\n",
      "memory usage: 1.2 MB\n"
     ]
    }
   ],
   "source": [
    "clicks.info()"
   ]
  },
  {
   "cell_type": "markdown",
   "metadata": {},
   "source": [
    "## Busqueda de features"
   ]
  },
  {
   "cell_type": "code",
   "execution_count": 15,
   "metadata": {},
   "outputs": [],
   "source": [
    "features = pd.DataFrame(clicks['device_id'].unique(), columns=['device_id'])"
   ]
  },
  {
   "cell_type": "code",
   "execution_count": 16,
   "metadata": {},
   "outputs": [
    {
     "data": {
      "text/html": [
       "<div>\n",
       "<style scoped>\n",
       "    .dataframe tbody tr th:only-of-type {\n",
       "        vertical-align: middle;\n",
       "    }\n",
       "\n",
       "    .dataframe tbody tr th {\n",
       "        vertical-align: top;\n",
       "    }\n",
       "\n",
       "    .dataframe thead th {\n",
       "        text-align: right;\n",
       "    }\n",
       "</style>\n",
       "<table border=\"1\" class=\"dataframe\">\n",
       "  <thead>\n",
       "    <tr style=\"text-align: right;\">\n",
       "      <th></th>\n",
       "      <th>device_id</th>\n",
       "    </tr>\n",
       "  </thead>\n",
       "  <tbody>\n",
       "    <tr>\n",
       "      <th>0</th>\n",
       "      <td>7727410219160218534</td>\n",
       "    </tr>\n",
       "    <tr>\n",
       "      <th>1</th>\n",
       "      <td>1054780916525454915</td>\n",
       "    </tr>\n",
       "    <tr>\n",
       "      <th>2</th>\n",
       "      <td>4412003964704268712</td>\n",
       "    </tr>\n",
       "    <tr>\n",
       "      <th>3</th>\n",
       "      <td>3891350874593022574</td>\n",
       "    </tr>\n",
       "    <tr>\n",
       "      <th>4</th>\n",
       "      <td>4541657187949816744</td>\n",
       "    </tr>\n",
       "  </tbody>\n",
       "</table>\n",
       "</div>"
      ],
      "text/plain": [
       "             device_id\n",
       "0  7727410219160218534\n",
       "1  1054780916525454915\n",
       "2  4412003964704268712\n",
       "3  3891350874593022574\n",
       "4  4541657187949816744"
      ]
     },
     "execution_count": 16,
     "metadata": {},
     "output_type": "execute_result"
    }
   ],
   "source": [
    "features.head()"
   ]
  },
  {
   "cell_type": "code",
   "execution_count": 17,
   "metadata": {},
   "outputs": [],
   "source": [
    "clicksCount = clicks[['device_id']].groupby(by=['device_id']).size()\n",
    "clicksCount = clicksCount.reset_index().rename(columns={0: 'clicksCount'})\n",
    "features = features.merge(clicksCount, how='left')"
   ]
  },
  {
   "cell_type": "code",
   "execution_count": 18,
   "metadata": {},
   "outputs": [],
   "source": [
    "clicksMostFreqDay = clicks[['device_id', 'day']].groupby(by=['device_id']).agg(lambda x: x.value_counts().index[0])\n",
    "clicksMostFreqDay = clicksMostFreqDay.reset_index().rename(columns={'day': 'clicksMostFreqDay'})\n",
    "features = features.merge(clicksMostFreqDay, how='left')"
   ]
  },
  {
   "cell_type": "code",
   "execution_count": 19,
   "metadata": {},
   "outputs": [],
   "source": [
    "clicksMeanInterval = clicks[['device_id', 'seconds']].sort_values(by='seconds').groupby(by='device_id').agg(lambda x: (x['seconds'] - x['seconds'].shift(1).fillna(0)).mean())\n",
    "clicksMeanInterval = clicksMeanInterval.reset_index().rename(columns={'seconds': 'clicksMeanInterval'})\n",
    "features = features.merge(clicksMeanInterval, how='left')"
   ]
  },
  {
   "cell_type": "code",
   "execution_count": 20,
   "metadata": {},
   "outputs": [],
   "source": [
    "features['clicksAproxFreq'] = features['clicksMeanInterval']**-1"
   ]
  },
  {
   "cell_type": "code",
   "execution_count": 21,
   "metadata": {},
   "outputs": [],
   "source": [
    "clicksStdDevInterval = clicks[['device_id', 'seconds']].sort_values(by='seconds').groupby(by='device_id').agg(lambda x: (x['seconds'] - x['seconds'].shift(1).fillna(0)).std())\n",
    "clicksStdDevInterval = clicksStdDevInterval.reset_index().rename(columns={'seconds': 'clicksStdDevInterval'})\n",
    "features = features.merge(clicksStdDevInterval, how='left')"
   ]
  },
  {
   "cell_type": "code",
   "execution_count": 22,
   "metadata": {},
   "outputs": [],
   "source": [
    "clicksLast = clicks[['device_id', 'seconds']].groupby(by='device_id').max()\n",
    "clicksLast = clicksLast.reset_index().rename(columns={'seconds': 'clicksLast'})\n",
    "features = features.merge(clicksLast, how='left')"
   ]
  },
  {
   "cell_type": "code",
   "execution_count": 23,
   "metadata": {},
   "outputs": [
    {
     "data": {
      "text/html": [
       "<div>\n",
       "<style scoped>\n",
       "    .dataframe tbody tr th:only-of-type {\n",
       "        vertical-align: middle;\n",
       "    }\n",
       "\n",
       "    .dataframe tbody tr th {\n",
       "        vertical-align: top;\n",
       "    }\n",
       "\n",
       "    .dataframe thead th {\n",
       "        text-align: right;\n",
       "    }\n",
       "</style>\n",
       "<table border=\"1\" class=\"dataframe\">\n",
       "  <thead>\n",
       "    <tr style=\"text-align: right;\">\n",
       "      <th></th>\n",
       "      <th>device_id</th>\n",
       "      <th>clicksCount</th>\n",
       "      <th>clicksMostFreqDay</th>\n",
       "      <th>clicksMeanInterval</th>\n",
       "      <th>clicksAproxFreq</th>\n",
       "      <th>clicksStdDevInterval</th>\n",
       "      <th>clicksLast</th>\n",
       "    </tr>\n",
       "  </thead>\n",
       "  <tbody>\n",
       "    <tr>\n",
       "      <th>0</th>\n",
       "      <td>7727410219160218534</td>\n",
       "      <td>3</td>\n",
       "      <td>2</td>\n",
       "      <td>45997.182667</td>\n",
       "      <td>0.000022</td>\n",
       "      <td>77981.990853</td>\n",
       "      <td>137991.548</td>\n",
       "    </tr>\n",
       "    <tr>\n",
       "      <th>1</th>\n",
       "      <td>1054780916525454915</td>\n",
       "      <td>11</td>\n",
       "      <td>2</td>\n",
       "      <td>22061.224364</td>\n",
       "      <td>0.000045</td>\n",
       "      <td>14027.039449</td>\n",
       "      <td>242673.468</td>\n",
       "    </tr>\n",
       "    <tr>\n",
       "      <th>2</th>\n",
       "      <td>4412003964704268712</td>\n",
       "      <td>1</td>\n",
       "      <td>2</td>\n",
       "      <td>147533.030000</td>\n",
       "      <td>0.000007</td>\n",
       "      <td>NaN</td>\n",
       "      <td>147533.030</td>\n",
       "    </tr>\n",
       "    <tr>\n",
       "      <th>3</th>\n",
       "      <td>3891350874593022574</td>\n",
       "      <td>3</td>\n",
       "      <td>2</td>\n",
       "      <td>48611.084333</td>\n",
       "      <td>0.000021</td>\n",
       "      <td>40846.527403</td>\n",
       "      <td>145833.253</td>\n",
       "    </tr>\n",
       "    <tr>\n",
       "      <th>4</th>\n",
       "      <td>4541657187949816744</td>\n",
       "      <td>2</td>\n",
       "      <td>2</td>\n",
       "      <td>73875.412000</td>\n",
       "      <td>0.000014</td>\n",
       "      <td>104270.830038</td>\n",
       "      <td>147750.824</td>\n",
       "    </tr>\n",
       "  </tbody>\n",
       "</table>\n",
       "</div>"
      ],
      "text/plain": [
       "             device_id  clicksCount  clicksMostFreqDay  clicksMeanInterval  \\\n",
       "0  7727410219160218534            3                  2        45997.182667   \n",
       "1  1054780916525454915           11                  2        22061.224364   \n",
       "2  4412003964704268712            1                  2       147533.030000   \n",
       "3  3891350874593022574            3                  2        48611.084333   \n",
       "4  4541657187949816744            2                  2        73875.412000   \n",
       "\n",
       "   clicksAproxFreq  clicksStdDevInterval  clicksLast  \n",
       "0         0.000022          77981.990853  137991.548  \n",
       "1         0.000045          14027.039449  242673.468  \n",
       "2         0.000007                   NaN  147533.030  \n",
       "3         0.000021          40846.527403  145833.253  \n",
       "4         0.000014         104270.830038  147750.824  "
      ]
     },
     "execution_count": 23,
     "metadata": {},
     "output_type": "execute_result"
    }
   ],
   "source": [
    "features.head()"
   ]
  },
  {
   "cell_type": "code",
   "execution_count": 24,
   "metadata": {},
   "outputs": [],
   "source": [
    "features.to_csv('data/clicksFeatures7.csv', index=False)"
   ]
  },
  {
   "cell_type": "code",
   "execution_count": null,
   "metadata": {},
   "outputs": [],
   "source": []
  }
 ],
 "metadata": {
  "kernelspec": {
   "display_name": "Python 3",
   "language": "python",
   "name": "python3"
  },
  "language_info": {
   "codemirror_mode": {
    "name": "ipython",
    "version": 3
   },
   "file_extension": ".py",
   "mimetype": "text/x-python",
   "name": "python",
   "nbconvert_exporter": "python",
   "pygments_lexer": "ipython3",
   "version": "3.7.3"
  }
 },
 "nbformat": 4,
 "nbformat_minor": 2
}
