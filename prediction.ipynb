{
 "cells": [
  {
   "cell_type": "code",
   "execution_count": 1,
   "metadata": {},
   "outputs": [],
   "source": [
    "import pandas as pd"
   ]
  },
  {
   "cell_type": "code",
   "execution_count": 2,
   "metadata": {},
   "outputs": [],
   "source": [
    "location = 'data/'\n",
    "featuresFile = location + 'features.csv'\n",
    "labelsFile = location + 'labels.csv'\n",
    "featuresPredictFile = location + 'featuresPredict.csv'\n",
    "targetFile = location + 'target_competencia_ids.csv'"
   ]
  },
  {
   "cell_type": "code",
   "execution_count": 41,
   "metadata": {},
   "outputs": [],
   "source": [
    "dtypeFeatures = {\n",
    "    'device_id': 'str',\n",
    "    'eventsCount': 'float64',\n",
    "    'eventsMostFreqDay': 'float64',\n",
    "    'eventsMeanInterval': 'float64',\n",
    "    'eventsAproxFreq': 'float64',\n",
    "    'eventsStdDevInterval': 'float64',\n",
    "    'eventsLast': 'float64',\n",
    "    'installsCount': 'float64',\n",
    "    'installsMostFreqDay': 'float64',\n",
    "    'installsMeanInterval': 'float64',\n",
    "    'installsAproxFreq': 'float64',\n",
    "    'installsStdDevInterval': 'float64',\n",
    "    'installsLast': 'float64',\n",
    "    'clicksCount': 'float64',\n",
    "    'clicksMostFreqDay': 'float64',\n",
    "    'clicksMeanInterval': 'float64',\n",
    "    'clicksAproxFreq': 'float64',\n",
    "    'clicksStdDevInterval': 'float64',\n",
    "    'clicksLast': 'float64',\n",
    "    'auctionsCount': 'float64',\n",
    "    'auctionsMostFreqDay': 'float64',\n",
    "    'auctionsMeanInterval': 'float64',\n",
    "    'auctionsAproxFreq': 'float64',\n",
    "    'auctionsStdDevInterval': 'float64',\n",
    "    'auctionsLast': 'float64'\n",
    "}\n",
    "dtypeLabels = {\n",
    "    'device_id': 'str',\n",
    "    'st': 'float64',\n",
    "    'sc': 'float64'\n",
    "}\n",
    "dtypeTarget = {\n",
    "    'ref_hash': 'str',\n",
    "    'obj': 'float64',\n",
    "}"
   ]
  },
  {
   "cell_type": "code",
   "execution_count": 12,
   "metadata": {},
   "outputs": [],
   "source": [
    "features = pd.read_csv(featuresFile, usecols=dtypeFeatures.keys(), dtype=dtypeFeatures)\n",
    "labels = pd.read_csv(labelsFile, usecols=dtypeLabels.keys(), dtype=dtypeLabels)"
   ]
  },
  {
   "cell_type": "code",
   "execution_count": 13,
   "metadata": {},
   "outputs": [],
   "source": [
    "labels = labels.sort_values(by='device_id').reset_index(drop=True)"
   ]
  },
  {
   "cell_type": "code",
   "execution_count": 14,
   "metadata": {},
   "outputs": [],
   "source": [
    "features = features.sort_values(by='device_id').reset_index(drop=True)"
   ]
  },
  {
   "cell_type": "code",
   "execution_count": 17,
   "metadata": {},
   "outputs": [
    {
     "data": {
      "text/plain": [
       "True    1734598\n",
       "Name: device_id, dtype: int64"
      ]
     },
     "execution_count": 17,
     "metadata": {},
     "output_type": "execute_result"
    }
   ],
   "source": [
    "(features['device_id'] == labels['device_id']).value_counts()"
   ]
  },
  {
   "cell_type": "code",
   "execution_count": 18,
   "metadata": {},
   "outputs": [],
   "source": [
    "labels = labels.drop('device_id', axis=1)"
   ]
  },
  {
   "cell_type": "code",
   "execution_count": 19,
   "metadata": {},
   "outputs": [],
   "source": [
    "features = features.drop('device_id', axis=1)"
   ]
  },
  {
   "cell_type": "code",
   "execution_count": 20,
   "metadata": {},
   "outputs": [],
   "source": [
    "labels['st_uncensored'] = labels['st'].notnull()"
   ]
  },
  {
   "cell_type": "code",
   "execution_count": 22,
   "metadata": {},
   "outputs": [],
   "source": [
    "labels['sc_uncensored'] = labels['sc'].notnull()"
   ]
  },
  {
   "cell_type": "code",
   "execution_count": 23,
   "metadata": {},
   "outputs": [],
   "source": [
    "secondsInThreeDays = 3 * 24 * 60 * 60\n",
    "labels = labels.fillna(secondsInThreeDays)"
   ]
  },
  {
   "cell_type": "code",
   "execution_count": 32,
   "metadata": {},
   "outputs": [],
   "source": [
    "features = features.fillna(0)"
   ]
  },
  {
   "cell_type": "code",
   "execution_count": 35,
   "metadata": {},
   "outputs": [
    {
     "data": {
      "text/plain": [
       "True     1006611\n",
       "False     727987\n",
       "Name: st_uncensored, dtype: int64"
      ]
     },
     "execution_count": 35,
     "metadata": {},
     "output_type": "execute_result"
    }
   ],
   "source": [
    "labels['st_uncensored'].value_counts()"
   ]
  },
  {
   "cell_type": "code",
   "execution_count": 36,
   "metadata": {},
   "outputs": [
    {
     "data": {
      "text/plain": [
       "False    1509053\n",
       "True      225545\n",
       "Name: sc_uncensored, dtype: int64"
      ]
     },
     "execution_count": 36,
     "metadata": {},
     "output_type": "execute_result"
    }
   ],
   "source": [
    "labels['sc_uncensored'].value_counts()"
   ]
  },
  {
   "cell_type": "code",
   "execution_count": 38,
   "metadata": {},
   "outputs": [],
   "source": [
    "from sksurv.linear_model import CoxPHSurvivalAnalysis\n",
    "estimatorSt = CoxPHSurvivalAnalysis(verbose=True)\n",
    "estimatorSc = CoxPHSurvivalAnalysis(verbose=True)"
   ]
  },
  {
   "cell_type": "code",
   "execution_count": 39,
   "metadata": {},
   "outputs": [],
   "source": [
    "from sksurv.util import Surv as util\n",
    "saLabelsSt = util.from_dataframe('st_uncensored', 'st', labels)\n",
    "saLabelsSc = util.from_dataframe('sc_uncensored', 'sc', labels)"
   ]
  },
  {
   "cell_type": "code",
   "execution_count": 40,
   "metadata": {},
   "outputs": [
    {
     "name": "stderr",
     "output_type": "stream",
     "text": [
      "C:\\Users\\matias\\Anaconda3\\lib\\site-packages\\sksurv\\linear_model\\coxph.py:330: LinAlgWarning: Ill-conditioned matrix (rcond=5.33704e-19): result may not be accurate.\n",
      "  overwrite_a=False, overwrite_b=False, check_finite=False)\n",
      "C:\\Users\\matias\\Anaconda3\\lib\\site-packages\\sksurv\\linear_model\\coxph.py:330: LinAlgWarning: Ill-conditioned matrix (rcond=1.51517e-21): result may not be accurate.\n",
      "  overwrite_a=False, overwrite_b=False, check_finite=False)\n",
      "C:\\Users\\matias\\Anaconda3\\lib\\site-packages\\sksurv\\linear_model\\coxph.py:330: LinAlgWarning: Ill-conditioned matrix (rcond=8.83453e-19): result may not be accurate.\n",
      "  overwrite_a=False, overwrite_b=False, check_finite=False)\n",
      "C:\\Users\\matias\\Anaconda3\\lib\\site-packages\\sksurv\\linear_model\\coxph.py:330: LinAlgWarning: Ill-conditioned matrix (rcond=7.61407e-19): result may not be accurate.\n",
      "  overwrite_a=False, overwrite_b=False, check_finite=False)\n",
      "C:\\Users\\matias\\Anaconda3\\lib\\site-packages\\sksurv\\linear_model\\coxph.py:330: LinAlgWarning: Ill-conditioned matrix (rcond=1.65284e-18): result may not be accurate.\n",
      "  overwrite_a=False, overwrite_b=False, check_finite=False)\n",
      "C:\\Users\\matias\\Anaconda3\\lib\\site-packages\\sksurv\\linear_model\\coxph.py:330: LinAlgWarning: Ill-conditioned matrix (rcond=1.65555e-18): result may not be accurate.\n",
      "  overwrite_a=False, overwrite_b=False, check_finite=False)\n",
      "C:\\Users\\matias\\Anaconda3\\lib\\site-packages\\sksurv\\linear_model\\coxph.py:330: LinAlgWarning: Ill-conditioned matrix (rcond=1.6576e-18): result may not be accurate.\n",
      "  overwrite_a=False, overwrite_b=False, check_finite=False)\n",
      "C:\\Users\\matias\\Anaconda3\\lib\\site-packages\\sksurv\\linear_model\\coxph.py:330: LinAlgWarning: Ill-conditioned matrix (rcond=1.65522e-18): result may not be accurate.\n",
      "  overwrite_a=False, overwrite_b=False, check_finite=False)\n",
      "C:\\Users\\matias\\Anaconda3\\lib\\site-packages\\sksurv\\linear_model\\coxph.py:330: LinAlgWarning: Ill-conditioned matrix (rcond=1.65473e-18): result may not be accurate.\n",
      "  overwrite_a=False, overwrite_b=False, check_finite=False)\n",
      "C:\\Users\\matias\\Anaconda3\\lib\\site-packages\\sksurv\\linear_model\\coxph.py:330: LinAlgWarning: Ill-conditioned matrix (rcond=1.6547e-18): result may not be accurate.\n",
      "  overwrite_a=False, overwrite_b=False, check_finite=False)\n"
     ]
    },
    {
     "name": "stdout",
     "output_type": "stream",
     "text": [
      "iter     10: optimization converged\n"
     ]
    },
    {
     "name": "stderr",
     "output_type": "stream",
     "text": [
      "C:\\Users\\matias\\Anaconda3\\lib\\site-packages\\sksurv\\linear_model\\coxph.py:330: LinAlgWarning: Ill-conditioned matrix (rcond=5.1779e-19): result may not be accurate.\n",
      "  overwrite_a=False, overwrite_b=False, check_finite=False)\n",
      "C:\\Users\\matias\\Anaconda3\\lib\\site-packages\\sksurv\\linear_model\\coxph.py:330: LinAlgWarning: Ill-conditioned matrix (rcond=3.48962e-19): result may not be accurate.\n",
      "  overwrite_a=False, overwrite_b=False, check_finite=False)\n",
      "C:\\Users\\matias\\Anaconda3\\lib\\site-packages\\sksurv\\linear_model\\coxph.py:330: LinAlgWarning: Ill-conditioned matrix (rcond=3.05725e-19): result may not be accurate.\n",
      "  overwrite_a=False, overwrite_b=False, check_finite=False)\n",
      "C:\\Users\\matias\\Anaconda3\\lib\\site-packages\\sksurv\\linear_model\\coxph.py:330: LinAlgWarning: Ill-conditioned matrix (rcond=3.09792e-19): result may not be accurate.\n",
      "  overwrite_a=False, overwrite_b=False, check_finite=False)\n",
      "C:\\Users\\matias\\Anaconda3\\lib\\site-packages\\sksurv\\linear_model\\coxph.py:330: LinAlgWarning: Ill-conditioned matrix (rcond=3.14306e-19): result may not be accurate.\n",
      "  overwrite_a=False, overwrite_b=False, check_finite=False)\n",
      "C:\\Users\\matias\\Anaconda3\\lib\\site-packages\\sksurv\\linear_model\\coxph.py:330: LinAlgWarning: Ill-conditioned matrix (rcond=3.147e-19): result may not be accurate.\n",
      "  overwrite_a=False, overwrite_b=False, check_finite=False)\n"
     ]
    },
    {
     "name": "stdout",
     "output_type": "stream",
     "text": [
      "iter      6: optimization converged\n"
     ]
    },
    {
     "data": {
      "text/plain": [
       "CoxPHSurvivalAnalysis(alpha=0, n_iter=100, tol=1e-09, verbose=True)"
      ]
     },
     "execution_count": 40,
     "metadata": {},
     "output_type": "execute_result"
    }
   ],
   "source": [
    "estimatorSt.fit(features, saLabelsSt)\n",
    "estimatorSc.fit(features, saLabelsSc)"
   ]
  },
  {
   "cell_type": "code",
   "execution_count": 42,
   "metadata": {},
   "outputs": [],
   "source": [
    "import numpy as np"
   ]
  },
  {
   "cell_type": "code",
   "execution_count": 43,
   "metadata": {},
   "outputs": [],
   "source": [
    "def quantileOfStepSurvivalFunction (t, p, t0):\n",
    "    i = np.searchsorted(t, t0, side='right')\n",
    "    if i - 1 < 0: return p[0]\n",
    "    else: return p[i-1]"
   ]
  },
  {
   "cell_type": "code",
   "execution_count": null,
   "metadata": {},
   "outputs": [],
   "source": [
    "quantilesSt = np.array([])\n",
    "for i, x in features.iterrows():\n",
    "    pred_surv = estimatorSt.predict_survival_function(x)\n",
    "    newQuantile = quantileOfStepSurvivalFunction(pred_surv[0].x, pred_surv[0].y, labels.loc[i]['st'])\n",
    "    quantiles = np.append(quantilesSt, newQuantile)"
   ]
  },
  {
   "cell_type": "code",
   "execution_count": null,
   "metadata": {},
   "outputs": [],
   "source": [
    "quantilesSc = np.array([])\n",
    "for i, x in features.iterrows():\n",
    "    pred_surv = estimatorSc.predict_survival_function(x)\n",
    "    newQuantile = quantileOfStepSurvivalFunction(pred_surv[0].x, pred_surv[0].y, labels.loc[i]['sc'])\n",
    "    quantilesSt = np.append(quantilesSc, newQuantile)"
   ]
  },
  {
   "cell_type": "code",
   "execution_count": null,
   "metadata": {},
   "outputs": [],
   "source": [
    "from sklearn.linear_model import Ridge\n",
    "quantileEstimatorSt = Ridge()\n",
    "quantileEstimatorSc = Ridge()"
   ]
  },
  {
   "cell_type": "code",
   "execution_count": null,
   "metadata": {},
   "outputs": [],
   "source": [
    "quantileEstimatorSt.fit(features, quantilesSt)\n",
    "quantileEstimatorSc.fit(features, quantilesSc)"
   ]
  },
  {
   "cell_type": "code",
   "execution_count": null,
   "metadata": {},
   "outputs": [],
   "source": [
    "featuresPredict = pd.read_csv(featuresPredictFile, usecols=dtypeFeatures.keys(), dtype=dtypeFeatures)\n",
    "target = pd.read_csv(featuresPredictFile, usecols=dtypeFeatures.keys(), dtype=dtypeFeatures)"
   ]
  },
  {
   "cell_type": "code",
   "execution_count": null,
   "metadata": {},
   "outputs": [],
   "source": [
    "target['device_id'] = target['ref_hash'].str[:-3]"
   ]
  },
  {
   "cell_type": "code",
   "execution_count": null,
   "metadata": {},
   "outputs": [],
   "source": [
    "target = target.drop('ref_hash', axis=1)"
   ]
  },
  {
   "cell_type": "code",
   "execution_count": null,
   "metadata": {},
   "outputs": [],
   "source": [
    "target.drop_duplicates('device_id')"
   ]
  },
  {
   "cell_type": "code",
   "execution_count": null,
   "metadata": {},
   "outputs": [],
   "source": [
    "featuresPredict = featuresPredict.merge(target)"
   ]
  },
  {
   "cell_type": "code",
   "execution_count": null,
   "metadata": {},
   "outputs": [],
   "source": [
    "featuresPredict = featuresPredict.fillna(0)"
   ]
  },
  {
   "cell_type": "code",
   "execution_count": null,
   "metadata": {},
   "outputs": [],
   "source": [
    "predictedQuantilesSt = quantileEstimatorSt.predict(featuresPredict.drop('device_id', axis=1))\n",
    "predictedQuantilesSc = quantileEstimatorSc.predict(featuresPredict.drop('device_id', axis=1))"
   ]
  },
  {
   "cell_type": "code",
   "execution_count": null,
   "metadata": {},
   "outputs": [],
   "source": [
    "def preimageOfStepSurvivalFunction (t, p, p0):\n",
    "    i = p.size - np.searchsorted(p[::-1], p0, side = \"left\")\n",
    "    if i >= t.size: return t[t.size - 1]\n",
    "    elif i - 1 < 0: return t[0]\n",
    "    else: return (t[i] + t[i-1]) / 2"
   ]
  },
  {
   "cell_type": "code",
   "execution_count": null,
   "metadata": {},
   "outputs": [],
   "source": [
    "j = 0\n",
    "predictedValuesSt = np.array([])\n",
    "for i, x in featuresPredict.iterrows():\n",
    "    pred_surv = estimatorSt.predict_survival_function(x)\n",
    "    preimageOfStepSurvivalFunction(pred_surv[0].x, pred_surv[0].y, predictedQuantilesSt[j])\n",
    "    j += 1"
   ]
  },
  {
   "cell_type": "code",
   "execution_count": null,
   "metadata": {},
   "outputs": [],
   "source": [
    "j = 0\n",
    "predictedValuesSc = np.array([])\n",
    "for i, x in featuresPredict.iterrows():\n",
    "    pred_surv = estimatorSc.predict_survival_function(x)\n",
    "    preimageOfStepSurvivalFunction(pred_surv[0].x, pred_surv[0].y, predictedQuantilesSc[j])\n",
    "    j += 1"
   ]
  }
 ],
 "metadata": {
  "kernelspec": {
   "display_name": "Python 3",
   "language": "python",
   "name": "python3"
  },
  "language_info": {
   "codemirror_mode": {
    "name": "ipython",
    "version": 3
   },
   "file_extension": ".py",
   "mimetype": "text/x-python",
   "name": "python",
   "nbconvert_exporter": "python",
   "pygments_lexer": "ipython3",
   "version": "3.7.3"
  }
 },
 "nbformat": 4,
 "nbformat_minor": 2
}
