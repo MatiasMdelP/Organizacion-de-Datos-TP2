{
 "cells": [
  {
   "cell_type": "code",
   "execution_count": 1,
   "metadata": {},
   "outputs": [],
   "source": [
    "import pandas as pd"
   ]
  },
  {
   "cell_type": "code",
   "execution_count": 2,
   "metadata": {},
   "outputs": [],
   "source": [
    "location = 'data/'\n",
    "featuresFile = location + 'features.csv'\n",
    "labelsFile = location + 'labels.csv'\n",
    "featuresPredictFile = location + 'featuresPredict.csv'\n",
    "targetFile = location + 'target_competencia_ids.csv'"
   ]
  },
  {
   "cell_type": "code",
   "execution_count": 3,
   "metadata": {},
   "outputs": [],
   "source": [
    "dtypeFeatures = {\n",
    "    'device_id': 'str',\n",
    "    'eventsCount': 'float64',\n",
    "    'eventsMostFreqDay': 'float64',\n",
    "    'eventsMeanInterval': 'float64',\n",
    "    'eventsAproxFreq': 'float64',\n",
    "    'eventsStdDevInterval': 'float64',\n",
    "    'eventsLast': 'float64',\n",
    "    'installsCount': 'float64',\n",
    "    'installsMostFreqDay': 'float64',\n",
    "    'installsMeanInterval': 'float64',\n",
    "    'installsAproxFreq': 'float64',\n",
    "    'installsStdDevInterval': 'float64',\n",
    "    'installsLast': 'float64',\n",
    "    'clicksCount': 'float64',\n",
    "    'clicksMostFreqDay': 'float64',\n",
    "    'clicksMeanInterval': 'float64',\n",
    "    'clicksAproxFreq': 'float64',\n",
    "    'clicksStdDevInterval': 'float64',\n",
    "    'clicksLast': 'float64',\n",
    "    'auctionsCount': 'float64',\n",
    "    'auctionsMostFreqDay': 'float64',\n",
    "    'auctionsMeanInterval': 'float64',\n",
    "    'auctionsAproxFreq': 'float64',\n",
    "    'auctionsStdDevInterval': 'float64',\n",
    "    'auctionsLast': 'float64'\n",
    "}\n",
    "dtypeLabels = {\n",
    "    'device_id': 'str',\n",
    "    'st': 'float64',\n",
    "    'sc': 'float64'\n",
    "}\n",
    "dtypeTarget = {\n",
    "    'ref_hash': 'str',\n",
    "    'obj': 'float64',\n",
    "}"
   ]
  },
  {
   "cell_type": "code",
   "execution_count": 4,
   "metadata": {},
   "outputs": [],
   "source": [
    "features = pd.read_csv(featuresFile, usecols=dtypeFeatures.keys(), dtype=dtypeFeatures)\n",
    "labels = pd.read_csv(labelsFile, usecols=dtypeLabels.keys(), dtype=dtypeLabels)"
   ]
  },
  {
   "cell_type": "code",
   "execution_count": 5,
   "metadata": {},
   "outputs": [],
   "source": [
    "labels = labels.sort_values(by='device_id').reset_index(drop=True)"
   ]
  },
  {
   "cell_type": "code",
   "execution_count": 6,
   "metadata": {},
   "outputs": [],
   "source": [
    "features = features.sort_values(by='device_id').reset_index(drop=True)"
   ]
  },
  {
   "cell_type": "code",
   "execution_count": 7,
   "metadata": {},
   "outputs": [
    {
     "data": {
      "text/plain": [
       "True    1734598\n",
       "Name: device_id, dtype: int64"
      ]
     },
     "execution_count": 7,
     "metadata": {},
     "output_type": "execute_result"
    }
   ],
   "source": [
    "(features['device_id'] == labels['device_id']).value_counts()"
   ]
  },
  {
   "cell_type": "code",
   "execution_count": 8,
   "metadata": {},
   "outputs": [],
   "source": [
    "labels = labels.drop('device_id', axis=1)"
   ]
  },
  {
   "cell_type": "code",
   "execution_count": 9,
   "metadata": {},
   "outputs": [],
   "source": [
    "features = features.drop('device_id', axis=1)"
   ]
  },
  {
   "cell_type": "code",
   "execution_count": 10,
   "metadata": {},
   "outputs": [],
   "source": [
    "labels['st_uncensored'] = labels['st'].notnull()"
   ]
  },
  {
   "cell_type": "code",
   "execution_count": 11,
   "metadata": {},
   "outputs": [],
   "source": [
    "labels['sc_uncensored'] = labels['sc'].notnull()"
   ]
  },
  {
   "cell_type": "code",
   "execution_count": 12,
   "metadata": {},
   "outputs": [],
   "source": [
    "secondsInThreeDays = 3 * 24 * 60 * 60\n",
    "labels = labels.fillna(secondsInThreeDays)"
   ]
  },
  {
   "cell_type": "code",
   "execution_count": 13,
   "metadata": {},
   "outputs": [],
   "source": [
    "features = features.fillna(0)"
   ]
  },
  {
   "cell_type": "code",
   "execution_count": 14,
   "metadata": {},
   "outputs": [
    {
     "data": {
      "text/plain": [
       "True     1006611\n",
       "False     727987\n",
       "Name: st_uncensored, dtype: int64"
      ]
     },
     "execution_count": 14,
     "metadata": {},
     "output_type": "execute_result"
    }
   ],
   "source": [
    "labels['st_uncensored'].value_counts()"
   ]
  },
  {
   "cell_type": "code",
   "execution_count": 15,
   "metadata": {},
   "outputs": [
    {
     "data": {
      "text/plain": [
       "False    1509053\n",
       "True      225545\n",
       "Name: sc_uncensored, dtype: int64"
      ]
     },
     "execution_count": 15,
     "metadata": {},
     "output_type": "execute_result"
    }
   ],
   "source": [
    "labels['sc_uncensored'].value_counts()"
   ]
  },
  {
   "cell_type": "code",
   "execution_count": 16,
   "metadata": {},
   "outputs": [],
   "source": [
    "from sksurv.linear_model import CoxPHSurvivalAnalysis\n",
    "estimatorSt = CoxPHSurvivalAnalysis(verbose=True)\n",
    "estimatorSc = CoxPHSurvivalAnalysis(verbose=True)"
   ]
  },
  {
   "cell_type": "code",
   "execution_count": 17,
   "metadata": {},
   "outputs": [],
   "source": [
    "from sksurv.util import Surv as util\n",
    "saLabelsSt = util.from_dataframe('st_uncensored', 'st', labels)\n",
    "saLabelsSc = util.from_dataframe('sc_uncensored', 'sc', labels)"
   ]
  },
  {
   "cell_type": "code",
   "execution_count": 18,
   "metadata": {},
   "outputs": [],
   "source": [
    "n = 10000"
   ]
  },
  {
   "cell_type": "code",
   "execution_count": 19,
   "metadata": {},
   "outputs": [
    {
     "name": "stderr",
     "output_type": "stream",
     "text": [
      "C:\\Users\\matias\\Anaconda3\\lib\\site-packages\\sksurv\\linear_model\\coxph.py:330: LinAlgWarning: Ill-conditioned matrix (rcond=1.04532e-21): result may not be accurate.\n",
      "  overwrite_a=False, overwrite_b=False, check_finite=False)\n",
      "C:\\Users\\matias\\Anaconda3\\lib\\site-packages\\sksurv\\linear_model\\coxph.py:330: LinAlgWarning: Ill-conditioned matrix (rcond=4.21399e-21): result may not be accurate.\n",
      "  overwrite_a=False, overwrite_b=False, check_finite=False)\n",
      "C:\\Users\\matias\\Anaconda3\\lib\\site-packages\\sksurv\\linear_model\\coxph.py:330: LinAlgWarning: Ill-conditioned matrix (rcond=4.23862e-21): result may not be accurate.\n",
      "  overwrite_a=False, overwrite_b=False, check_finite=False)\n",
      "C:\\Users\\matias\\Anaconda3\\lib\\site-packages\\sksurv\\linear_model\\coxph.py:330: LinAlgWarning: Ill-conditioned matrix (rcond=4.15426e-21): result may not be accurate.\n",
      "  overwrite_a=False, overwrite_b=False, check_finite=False)\n",
      "C:\\Users\\matias\\Anaconda3\\lib\\site-packages\\sksurv\\linear_model\\coxph.py:330: LinAlgWarning: Ill-conditioned matrix (rcond=4.2337e-21): result may not be accurate.\n",
      "  overwrite_a=False, overwrite_b=False, check_finite=False)\n",
      "C:\\Users\\matias\\Anaconda3\\lib\\site-packages\\sksurv\\linear_model\\coxph.py:330: LinAlgWarning: Ill-conditioned matrix (rcond=4.31258e-21): result may not be accurate.\n",
      "  overwrite_a=False, overwrite_b=False, check_finite=False)\n",
      "C:\\Users\\matias\\Anaconda3\\lib\\site-packages\\sksurv\\linear_model\\coxph.py:330: LinAlgWarning: Ill-conditioned matrix (rcond=4.29153e-21): result may not be accurate.\n",
      "  overwrite_a=False, overwrite_b=False, check_finite=False)\n",
      "C:\\Users\\matias\\Anaconda3\\lib\\site-packages\\sksurv\\linear_model\\coxph.py:330: LinAlgWarning: Ill-conditioned matrix (rcond=4.29367e-21): result may not be accurate.\n",
      "  overwrite_a=False, overwrite_b=False, check_finite=False)\n",
      "C:\\Users\\matias\\Anaconda3\\lib\\site-packages\\sksurv\\linear_model\\coxph.py:330: LinAlgWarning: Ill-conditioned matrix (rcond=4.2979e-21): result may not be accurate.\n",
      "  overwrite_a=False, overwrite_b=False, check_finite=False)\n",
      "C:\\Users\\matias\\Anaconda3\\lib\\site-packages\\sksurv\\linear_model\\coxph.py:330: LinAlgWarning: Ill-conditioned matrix (rcond=4.2996e-21): result may not be accurate.\n",
      "  overwrite_a=False, overwrite_b=False, check_finite=False)\n",
      "C:\\Users\\matias\\Anaconda3\\lib\\site-packages\\sksurv\\linear_model\\coxph.py:330: LinAlgWarning: Ill-conditioned matrix (rcond=4.29981e-21): result may not be accurate.\n",
      "  overwrite_a=False, overwrite_b=False, check_finite=False)\n"
     ]
    },
    {
     "name": "stdout",
     "output_type": "stream",
     "text": [
      "iter     11: optimization converged\n"
     ]
    },
    {
     "name": "stderr",
     "output_type": "stream",
     "text": [
      "C:\\Users\\matias\\Anaconda3\\lib\\site-packages\\sksurv\\linear_model\\coxph.py:330: LinAlgWarning: Ill-conditioned matrix (rcond=1.90298e-21): result may not be accurate.\n",
      "  overwrite_a=False, overwrite_b=False, check_finite=False)\n",
      "C:\\Users\\matias\\Anaconda3\\lib\\site-packages\\sksurv\\linear_model\\coxph.py:330: LinAlgWarning: Ill-conditioned matrix (rcond=9.65005e-22): result may not be accurate.\n",
      "  overwrite_a=False, overwrite_b=False, check_finite=False)\n",
      "C:\\Users\\matias\\Anaconda3\\lib\\site-packages\\sksurv\\linear_model\\coxph.py:330: LinAlgWarning: Ill-conditioned matrix (rcond=1.04686e-21): result may not be accurate.\n",
      "  overwrite_a=False, overwrite_b=False, check_finite=False)\n",
      "C:\\Users\\matias\\Anaconda3\\lib\\site-packages\\sksurv\\linear_model\\coxph.py:330: LinAlgWarning: Ill-conditioned matrix (rcond=9.77662e-22): result may not be accurate.\n",
      "  overwrite_a=False, overwrite_b=False, check_finite=False)\n",
      "C:\\Users\\matias\\Anaconda3\\lib\\site-packages\\sksurv\\linear_model\\coxph.py:330: LinAlgWarning: Ill-conditioned matrix (rcond=9.5728e-22): result may not be accurate.\n",
      "  overwrite_a=False, overwrite_b=False, check_finite=False)\n",
      "C:\\Users\\matias\\Anaconda3\\lib\\site-packages\\sksurv\\linear_model\\coxph.py:330: LinAlgWarning: Ill-conditioned matrix (rcond=8.30069e-22): result may not be accurate.\n",
      "  overwrite_a=False, overwrite_b=False, check_finite=False)\n",
      "C:\\Users\\matias\\Anaconda3\\lib\\site-packages\\sksurv\\linear_model\\coxph.py:330: LinAlgWarning: Ill-conditioned matrix (rcond=8.28872e-22): result may not be accurate.\n",
      "  overwrite_a=False, overwrite_b=False, check_finite=False)\n",
      "C:\\Users\\matias\\Anaconda3\\lib\\site-packages\\sksurv\\linear_model\\coxph.py:330: LinAlgWarning: Ill-conditioned matrix (rcond=8.31545e-22): result may not be accurate.\n",
      "  overwrite_a=False, overwrite_b=False, check_finite=False)\n",
      "C:\\Users\\matias\\Anaconda3\\lib\\site-packages\\sksurv\\linear_model\\coxph.py:330: LinAlgWarning: Ill-conditioned matrix (rcond=8.27949e-22): result may not be accurate.\n",
      "  overwrite_a=False, overwrite_b=False, check_finite=False)\n",
      "C:\\Users\\matias\\Anaconda3\\lib\\site-packages\\sksurv\\linear_model\\coxph.py:330: LinAlgWarning: Ill-conditioned matrix (rcond=8.23911e-22): result may not be accurate.\n",
      "  overwrite_a=False, overwrite_b=False, check_finite=False)\n",
      "C:\\Users\\matias\\Anaconda3\\lib\\site-packages\\sksurv\\linear_model\\coxph.py:330: LinAlgWarning: Ill-conditioned matrix (rcond=8.22343e-22): result may not be accurate.\n",
      "  overwrite_a=False, overwrite_b=False, check_finite=False)\n"
     ]
    },
    {
     "name": "stdout",
     "output_type": "stream",
     "text": [
      "iter     12: optimization converged\n"
     ]
    },
    {
     "name": "stderr",
     "output_type": "stream",
     "text": [
      "C:\\Users\\matias\\Anaconda3\\lib\\site-packages\\sksurv\\linear_model\\coxph.py:330: LinAlgWarning: Ill-conditioned matrix (rcond=8.22166e-22): result may not be accurate.\n",
      "  overwrite_a=False, overwrite_b=False, check_finite=False)\n"
     ]
    },
    {
     "data": {
      "text/plain": [
       "CoxPHSurvivalAnalysis(alpha=0, n_iter=100, tol=1e-09, verbose=True)"
      ]
     },
     "execution_count": 19,
     "metadata": {},
     "output_type": "execute_result"
    }
   ],
   "source": [
    "estimatorSt.fit(features.iloc[:n], saLabelsSt[:n])\n",
    "estimatorSc.fit(features[:n], saLabelsSc[:n])"
   ]
  },
  {
   "cell_type": "code",
   "execution_count": 20,
   "metadata": {},
   "outputs": [],
   "source": [
    "import numpy as np"
   ]
  },
  {
   "cell_type": "code",
   "execution_count": 21,
   "metadata": {},
   "outputs": [],
   "source": [
    "def quantileOfStepSurvivalFunction (t, p, t0):\n",
    "    i = np.searchsorted(t, t0, side='right')\n",
    "    if i - 1 < 0: return p[0]\n",
    "    else: return p[i-1]"
   ]
  },
  {
   "cell_type": "code",
   "execution_count": 26,
   "metadata": {},
   "outputs": [],
   "source": [
    "quantilesSt = np.array([])\n",
    "for i, x in features[:n].iterrows():\n",
    "    pred_surv = estimatorSt.predict_survival_function(x)\n",
    "    newQuantile = quantileOfStepSurvivalFunction(pred_surv[0].x, pred_surv[0].y, labels.loc[i]['st'])\n",
    "    quantilesSt = np.append(quantilesSt, newQuantile)"
   ]
  },
  {
   "cell_type": "code",
   "execution_count": 27,
   "metadata": {},
   "outputs": [],
   "source": [
    "quantilesSc = np.array([])\n",
    "for i, x in features[:n].iterrows():\n",
    "    pred_surv = estimatorSc.predict_survival_function(x)\n",
    "    newQuantile = quantileOfStepSurvivalFunction(pred_surv[0].x, pred_surv[0].y, labels.loc[i]['sc'])\n",
    "    quantilesSc = np.append(quantilesSc, newQuantile)"
   ]
  },
  {
   "cell_type": "code",
   "execution_count": 35,
   "metadata": {},
   "outputs": [],
   "source": [
    "from sklearn.linear_model import Ridge\n",
    "quantileEstimatorSt = Ridge()\n",
    "quantileEstimatorSc = Ridge()"
   ]
  },
  {
   "cell_type": "code",
   "execution_count": 37,
   "metadata": {},
   "outputs": [
    {
     "data": {
      "text/plain": [
       "Ridge(alpha=1.0, copy_X=True, fit_intercept=True, max_iter=None,\n",
       "   normalize=False, random_state=None, solver='auto', tol=0.001)"
      ]
     },
     "execution_count": 37,
     "metadata": {},
     "output_type": "execute_result"
    }
   ],
   "source": [
    "quantileEstimatorSt.fit(features[:n], quantilesSt)\n",
    "quantileEstimatorSc.fit(features[:n], quantilesSc)"
   ]
  },
  {
   "cell_type": "code",
   "execution_count": 57,
   "metadata": {},
   "outputs": [],
   "source": [
    "featuresPredict = pd.read_csv(featuresPredictFile, usecols=dtypeFeatures.keys(), dtype=dtypeFeatures)\n",
    "target = pd.read_csv(targetFile, usecols=dtypeTarget.keys(), dtype=dtypeTarget)"
   ]
  },
  {
   "cell_type": "code",
   "execution_count": 58,
   "metadata": {
    "scrolled": false
   },
   "outputs": [],
   "source": [
    "target['device_id'] = target['ref_hash'].str[:-3]"
   ]
  },
  {
   "cell_type": "code",
   "execution_count": 59,
   "metadata": {},
   "outputs": [],
   "source": [
    "target = target.drop('ref_hash', axis=1)"
   ]
  },
  {
   "cell_type": "code",
   "execution_count": 60,
   "metadata": {},
   "outputs": [],
   "source": [
    "target = target.drop_duplicates('device_id')"
   ]
  },
  {
   "cell_type": "code",
   "execution_count": 61,
   "metadata": {},
   "outputs": [],
   "source": [
    "featuresPredict = featuresPredict.merge(target[['device_id']], how='right')"
   ]
  },
  {
   "cell_type": "code",
   "execution_count": 62,
   "metadata": {},
   "outputs": [],
   "source": [
    "featuresPredict = featuresPredict.fillna(0)"
   ]
  },
  {
   "cell_type": "code",
   "execution_count": 63,
   "metadata": {},
   "outputs": [],
   "source": [
    "predictedQuantilesSt = quantileEstimatorSt.predict(featuresPredict.drop('device_id', axis=1))\n",
    "predictedQuantilesSc = quantileEstimatorSc.predict(featuresPredict.drop('device_id', axis=1))"
   ]
  },
  {
   "cell_type": "code",
   "execution_count": 64,
   "metadata": {},
   "outputs": [],
   "source": [
    "def preimageOfStepSurvivalFunction (t, p, p0):\n",
    "    i = p.size - np.searchsorted(p[::-1], p0, side = \"left\")\n",
    "    if i >= t.size: return t[t.size - 1]\n",
    "    elif i - 1 < 0: return t[0]\n",
    "    else: return (t[i] + t[i-1]) / 2"
   ]
  },
  {
   "cell_type": "code",
   "execution_count": 74,
   "metadata": {},
   "outputs": [],
   "source": [
    "j = 0\n",
    "predictedValuesSt = np.array([])\n",
    "for i, x in featuresPredict.drop('device_id', axis=1).iterrows():\n",
    "    pred_surv = estimatorSt.predict_survival_function(x)\n",
    "    newSt = preimageOfStepSurvivalFunction(pred_surv[0].x, pred_surv[0].y, predictedQuantilesSt[j])\n",
    "    predictedValuesSt = np.append(predictedValuesSt, newSt)\n",
    "    j += 1"
   ]
  },
  {
   "cell_type": "code",
   "execution_count": 75,
   "metadata": {},
   "outputs": [],
   "source": [
    "j = 0\n",
    "predictedValuesSc = np.array([])\n",
    "for i, x in featuresPredict.drop('device_id', axis=1).iterrows():\n",
    "    pred_surv = estimatorSc.predict_survival_function(x)\n",
    "    newSc = preimageOfStepSurvivalFunction(pred_surv[0].x, pred_surv[0].y, predictedQuantilesSc[j])\n",
    "    predictedValuesSc = np.append(predictedValuesSc, newSc)\n",
    "    j += 1"
   ]
  },
  {
   "cell_type": "code",
   "execution_count": 97,
   "metadata": {},
   "outputs": [],
   "source": [
    "st = pd.DataFrame({'obj': predictedValuesSt, 'ref_hash': target['device_id']})"
   ]
  },
  {
   "cell_type": "code",
   "execution_count": 98,
   "metadata": {},
   "outputs": [],
   "source": [
    "sc = pd.DataFrame({'obj': predictedValuesSc,'ref_hash': target['device_id']})"
   ]
  },
  {
   "cell_type": "code",
   "execution_count": 101,
   "metadata": {},
   "outputs": [],
   "source": [
    "st['ref_hash'] = st['ref_hash'] + '_st'\n",
    "sc['ref_hash'] = sc['ref_hash'] + '_sc'"
   ]
  },
  {
   "cell_type": "code",
   "execution_count": 108,
   "metadata": {},
   "outputs": [],
   "source": [
    "result = pd.concat([st, sc], sort=True)"
   ]
  },
  {
   "cell_type": "code",
   "execution_count": 110,
   "metadata": {},
   "outputs": [
    {
     "data": {
      "text/html": [
       "<div>\n",
       "<style scoped>\n",
       "    .dataframe tbody tr th:only-of-type {\n",
       "        vertical-align: middle;\n",
       "    }\n",
       "\n",
       "    .dataframe tbody tr th {\n",
       "        vertical-align: top;\n",
       "    }\n",
       "\n",
       "    .dataframe thead th {\n",
       "        text-align: right;\n",
       "    }\n",
       "</style>\n",
       "<table border=\"1\" class=\"dataframe\">\n",
       "  <thead>\n",
       "    <tr style=\"text-align: right;\">\n",
       "      <th></th>\n",
       "      <th>ref_hash</th>\n",
       "      <th>obj</th>\n",
       "    </tr>\n",
       "  </thead>\n",
       "  <tbody>\n",
       "    <tr>\n",
       "      <th>0</th>\n",
       "      <td>1000169251625791246_st</td>\n",
       "      <td>20708.697529</td>\n",
       "    </tr>\n",
       "    <tr>\n",
       "      <th>2</th>\n",
       "      <td>1000395625957344683_st</td>\n",
       "      <td>46660.795206</td>\n",
       "    </tr>\n",
       "    <tr>\n",
       "      <th>4</th>\n",
       "      <td>1003027494996471685_st</td>\n",
       "      <td>236821.004360</td>\n",
       "    </tr>\n",
       "    <tr>\n",
       "      <th>6</th>\n",
       "      <td>1006670001679961544_st</td>\n",
       "      <td>20674.976981</td>\n",
       "    </tr>\n",
       "    <tr>\n",
       "      <th>8</th>\n",
       "      <td>1007573308966476713_st</td>\n",
       "      <td>233583.495290</td>\n",
       "    </tr>\n",
       "    <tr>\n",
       "      <th>10</th>\n",
       "      <td>1010070503877148763_st</td>\n",
       "      <td>65122.382645</td>\n",
       "    </tr>\n",
       "    <tr>\n",
       "      <th>12</th>\n",
       "      <td>1010265377387765028_st</td>\n",
       "      <td>11192.108893</td>\n",
       "    </tr>\n",
       "    <tr>\n",
       "      <th>14</th>\n",
       "      <td>1010531372912327058_st</td>\n",
       "      <td>15041.238008</td>\n",
       "    </tr>\n",
       "    <tr>\n",
       "      <th>16</th>\n",
       "      <td>1011610998357271358_st</td>\n",
       "      <td>89257.387900</td>\n",
       "    </tr>\n",
       "    <tr>\n",
       "      <th>18</th>\n",
       "      <td>1013543838965040946_st</td>\n",
       "      <td>233647.932224</td>\n",
       "    </tr>\n",
       "    <tr>\n",
       "      <th>20</th>\n",
       "      <td>1014428234021750342_st</td>\n",
       "      <td>8411.433803</td>\n",
       "    </tr>\n",
       "    <tr>\n",
       "      <th>22</th>\n",
       "      <td>101763096421653092_st</td>\n",
       "      <td>187247.276378</td>\n",
       "    </tr>\n",
       "    <tr>\n",
       "      <th>24</th>\n",
       "      <td>1017668882534236751_st</td>\n",
       "      <td>74497.594714</td>\n",
       "    </tr>\n",
       "    <tr>\n",
       "      <th>26</th>\n",
       "      <td>1017958004932387739_st</td>\n",
       "      <td>57158.211294</td>\n",
       "    </tr>\n",
       "    <tr>\n",
       "      <th>28</th>\n",
       "      <td>1018126962792619181_st</td>\n",
       "      <td>5448.349095</td>\n",
       "    </tr>\n",
       "    <tr>\n",
       "      <th>30</th>\n",
       "      <td>1021582875881379650_st</td>\n",
       "      <td>149792.002778</td>\n",
       "    </tr>\n",
       "    <tr>\n",
       "      <th>32</th>\n",
       "      <td>1022093956983448460_st</td>\n",
       "      <td>187874.701020</td>\n",
       "    </tr>\n",
       "    <tr>\n",
       "      <th>34</th>\n",
       "      <td>1022155574388897311_st</td>\n",
       "      <td>15855.105127</td>\n",
       "    </tr>\n",
       "    <tr>\n",
       "      <th>36</th>\n",
       "      <td>1024792555410741306_st</td>\n",
       "      <td>249200.192672</td>\n",
       "    </tr>\n",
       "    <tr>\n",
       "      <th>38</th>\n",
       "      <td>1026825193119998092_st</td>\n",
       "      <td>175497.492324</td>\n",
       "    </tr>\n",
       "    <tr>\n",
       "      <th>40</th>\n",
       "      <td>1030603044158081433_st</td>\n",
       "      <td>100099.252705</td>\n",
       "    </tr>\n",
       "    <tr>\n",
       "      <th>42</th>\n",
       "      <td>1030865855693267844_st</td>\n",
       "      <td>194683.889709</td>\n",
       "    </tr>\n",
       "    <tr>\n",
       "      <th>44</th>\n",
       "      <td>1032938399279723623_st</td>\n",
       "      <td>59315.917747</td>\n",
       "    </tr>\n",
       "    <tr>\n",
       "      <th>46</th>\n",
       "      <td>1036919443887988520_st</td>\n",
       "      <td>159835.319434</td>\n",
       "    </tr>\n",
       "    <tr>\n",
       "      <th>48</th>\n",
       "      <td>1037575899869926_st</td>\n",
       "      <td>14309.554988</td>\n",
       "    </tr>\n",
       "    <tr>\n",
       "      <th>50</th>\n",
       "      <td>1042912100594917197_st</td>\n",
       "      <td>190427.135849</td>\n",
       "    </tr>\n",
       "    <tr>\n",
       "      <th>52</th>\n",
       "      <td>104412862089502190_st</td>\n",
       "      <td>130650.817942</td>\n",
       "    </tr>\n",
       "    <tr>\n",
       "      <th>54</th>\n",
       "      <td>1048460865075142817_st</td>\n",
       "      <td>49568.460926</td>\n",
       "    </tr>\n",
       "    <tr>\n",
       "      <th>56</th>\n",
       "      <td>1048487908287530052_st</td>\n",
       "      <td>232656.950965</td>\n",
       "    </tr>\n",
       "    <tr>\n",
       "      <th>58</th>\n",
       "      <td>1048782984015604883_st</td>\n",
       "      <td>233647.932224</td>\n",
       "    </tr>\n",
       "    <tr>\n",
       "      <th>...</th>\n",
       "      <td>...</td>\n",
       "      <td>...</td>\n",
       "    </tr>\n",
       "    <tr>\n",
       "      <th>8014</th>\n",
       "      <td>920133863974417940_sc</td>\n",
       "      <td>249843.133000</td>\n",
       "    </tr>\n",
       "    <tr>\n",
       "      <th>8016</th>\n",
       "      <td>9201763056911976665_sc</td>\n",
       "      <td>249843.133000</td>\n",
       "    </tr>\n",
       "    <tr>\n",
       "      <th>8018</th>\n",
       "      <td>9202591485087100048_sc</td>\n",
       "      <td>249843.133000</td>\n",
       "    </tr>\n",
       "    <tr>\n",
       "      <th>8020</th>\n",
       "      <td>9204600717983774215_sc</td>\n",
       "      <td>249843.133000</td>\n",
       "    </tr>\n",
       "    <tr>\n",
       "      <th>8022</th>\n",
       "      <td>9210211798524147977_sc</td>\n",
       "      <td>249843.133000</td>\n",
       "    </tr>\n",
       "    <tr>\n",
       "      <th>8024</th>\n",
       "      <td>9214306696431615228_sc</td>\n",
       "      <td>249843.133000</td>\n",
       "    </tr>\n",
       "    <tr>\n",
       "      <th>8026</th>\n",
       "      <td>9215274230034407241_sc</td>\n",
       "      <td>249843.133000</td>\n",
       "    </tr>\n",
       "    <tr>\n",
       "      <th>8028</th>\n",
       "      <td>923580934104999070_sc</td>\n",
       "      <td>249843.133000</td>\n",
       "    </tr>\n",
       "    <tr>\n",
       "      <th>8030</th>\n",
       "      <td>926513304015298690_sc</td>\n",
       "      <td>249843.133000</td>\n",
       "    </tr>\n",
       "    <tr>\n",
       "      <th>8032</th>\n",
       "      <td>928322998219934684_sc</td>\n",
       "      <td>249843.133000</td>\n",
       "    </tr>\n",
       "    <tr>\n",
       "      <th>8034</th>\n",
       "      <td>934102789941509295_sc</td>\n",
       "      <td>249843.133000</td>\n",
       "    </tr>\n",
       "    <tr>\n",
       "      <th>8036</th>\n",
       "      <td>940602545239263062_sc</td>\n",
       "      <td>249843.133000</td>\n",
       "    </tr>\n",
       "    <tr>\n",
       "      <th>8038</th>\n",
       "      <td>943221576691294743_sc</td>\n",
       "      <td>249843.133000</td>\n",
       "    </tr>\n",
       "    <tr>\n",
       "      <th>8040</th>\n",
       "      <td>947121781706964554_sc</td>\n",
       "      <td>249843.133000</td>\n",
       "    </tr>\n",
       "    <tr>\n",
       "      <th>8042</th>\n",
       "      <td>948984908655259886_sc</td>\n",
       "      <td>249843.133000</td>\n",
       "    </tr>\n",
       "    <tr>\n",
       "      <th>8044</th>\n",
       "      <td>950195972417607793_sc</td>\n",
       "      <td>249843.133000</td>\n",
       "    </tr>\n",
       "    <tr>\n",
       "      <th>8046</th>\n",
       "      <td>954110623376544206_sc</td>\n",
       "      <td>249843.133000</td>\n",
       "    </tr>\n",
       "    <tr>\n",
       "      <th>8048</th>\n",
       "      <td>954940018576714924_sc</td>\n",
       "      <td>249843.133000</td>\n",
       "    </tr>\n",
       "    <tr>\n",
       "      <th>8050</th>\n",
       "      <td>956704247780926402_sc</td>\n",
       "      <td>249843.133000</td>\n",
       "    </tr>\n",
       "    <tr>\n",
       "      <th>8052</th>\n",
       "      <td>960623204161846765_sc</td>\n",
       "      <td>249843.133000</td>\n",
       "    </tr>\n",
       "    <tr>\n",
       "      <th>8054</th>\n",
       "      <td>961631829441650729_sc</td>\n",
       "      <td>249843.133000</td>\n",
       "    </tr>\n",
       "    <tr>\n",
       "      <th>8056</th>\n",
       "      <td>962595921037755088_sc</td>\n",
       "      <td>249843.133000</td>\n",
       "    </tr>\n",
       "    <tr>\n",
       "      <th>8058</th>\n",
       "      <td>964658792449865522_sc</td>\n",
       "      <td>249843.133000</td>\n",
       "    </tr>\n",
       "    <tr>\n",
       "      <th>8060</th>\n",
       "      <td>974553511695777483_sc</td>\n",
       "      <td>249843.133000</td>\n",
       "    </tr>\n",
       "    <tr>\n",
       "      <th>8062</th>\n",
       "      <td>97694307709005918_sc</td>\n",
       "      <td>249843.133000</td>\n",
       "    </tr>\n",
       "    <tr>\n",
       "      <th>8064</th>\n",
       "      <td>977508757724050464_sc</td>\n",
       "      <td>249843.133000</td>\n",
       "    </tr>\n",
       "    <tr>\n",
       "      <th>8066</th>\n",
       "      <td>979880031097032355_sc</td>\n",
       "      <td>249843.133000</td>\n",
       "    </tr>\n",
       "    <tr>\n",
       "      <th>8068</th>\n",
       "      <td>987443249627191692_sc</td>\n",
       "      <td>249843.133000</td>\n",
       "    </tr>\n",
       "    <tr>\n",
       "      <th>8070</th>\n",
       "      <td>997953354533822687_sc</td>\n",
       "      <td>249843.133000</td>\n",
       "    </tr>\n",
       "    <tr>\n",
       "      <th>8072</th>\n",
       "      <td>998948062397755366_sc</td>\n",
       "      <td>249843.133000</td>\n",
       "    </tr>\n",
       "  </tbody>\n",
       "</table>\n",
       "<p>8074 rows × 2 columns</p>\n",
       "</div>"
      ],
      "text/plain": [
       "                    ref_hash            obj\n",
       "0     1000169251625791246_st   20708.697529\n",
       "2     1000395625957344683_st   46660.795206\n",
       "4     1003027494996471685_st  236821.004360\n",
       "6     1006670001679961544_st   20674.976981\n",
       "8     1007573308966476713_st  233583.495290\n",
       "10    1010070503877148763_st   65122.382645\n",
       "12    1010265377387765028_st   11192.108893\n",
       "14    1010531372912327058_st   15041.238008\n",
       "16    1011610998357271358_st   89257.387900\n",
       "18    1013543838965040946_st  233647.932224\n",
       "20    1014428234021750342_st    8411.433803\n",
       "22     101763096421653092_st  187247.276378\n",
       "24    1017668882534236751_st   74497.594714\n",
       "26    1017958004932387739_st   57158.211294\n",
       "28    1018126962792619181_st    5448.349095\n",
       "30    1021582875881379650_st  149792.002778\n",
       "32    1022093956983448460_st  187874.701020\n",
       "34    1022155574388897311_st   15855.105127\n",
       "36    1024792555410741306_st  249200.192672\n",
       "38    1026825193119998092_st  175497.492324\n",
       "40    1030603044158081433_st  100099.252705\n",
       "42    1030865855693267844_st  194683.889709\n",
       "44    1032938399279723623_st   59315.917747\n",
       "46    1036919443887988520_st  159835.319434\n",
       "48       1037575899869926_st   14309.554988\n",
       "50    1042912100594917197_st  190427.135849\n",
       "52     104412862089502190_st  130650.817942\n",
       "54    1048460865075142817_st   49568.460926\n",
       "56    1048487908287530052_st  232656.950965\n",
       "58    1048782984015604883_st  233647.932224\n",
       "...                      ...            ...\n",
       "8014   920133863974417940_sc  249843.133000\n",
       "8016  9201763056911976665_sc  249843.133000\n",
       "8018  9202591485087100048_sc  249843.133000\n",
       "8020  9204600717983774215_sc  249843.133000\n",
       "8022  9210211798524147977_sc  249843.133000\n",
       "8024  9214306696431615228_sc  249843.133000\n",
       "8026  9215274230034407241_sc  249843.133000\n",
       "8028   923580934104999070_sc  249843.133000\n",
       "8030   926513304015298690_sc  249843.133000\n",
       "8032   928322998219934684_sc  249843.133000\n",
       "8034   934102789941509295_sc  249843.133000\n",
       "8036   940602545239263062_sc  249843.133000\n",
       "8038   943221576691294743_sc  249843.133000\n",
       "8040   947121781706964554_sc  249843.133000\n",
       "8042   948984908655259886_sc  249843.133000\n",
       "8044   950195972417607793_sc  249843.133000\n",
       "8046   954110623376544206_sc  249843.133000\n",
       "8048   954940018576714924_sc  249843.133000\n",
       "8050   956704247780926402_sc  249843.133000\n",
       "8052   960623204161846765_sc  249843.133000\n",
       "8054   961631829441650729_sc  249843.133000\n",
       "8056   962595921037755088_sc  249843.133000\n",
       "8058   964658792449865522_sc  249843.133000\n",
       "8060   974553511695777483_sc  249843.133000\n",
       "8062    97694307709005918_sc  249843.133000\n",
       "8064   977508757724050464_sc  249843.133000\n",
       "8066   979880031097032355_sc  249843.133000\n",
       "8068   987443249627191692_sc  249843.133000\n",
       "8070   997953354533822687_sc  249843.133000\n",
       "8072   998948062397755366_sc  249843.133000\n",
       "\n",
       "[8074 rows x 2 columns]"
      ]
     },
     "execution_count": 110,
     "metadata": {},
     "output_type": "execute_result"
    }
   ],
   "source": [
    "result[['ref_hash', 'obj']]"
   ]
  },
  {
   "cell_type": "code",
   "execution_count": 111,
   "metadata": {},
   "outputs": [],
   "source": [
    "result.to_csv('data/result.csv', index=False)"
   ]
  },
  {
   "cell_type": "code",
   "execution_count": null,
   "metadata": {},
   "outputs": [],
   "source": []
  }
 ],
 "metadata": {
  "kernelspec": {
   "display_name": "Python 3",
   "language": "python",
   "name": "python3"
  },
  "language_info": {
   "codemirror_mode": {
    "name": "ipython",
    "version": 3
   },
   "file_extension": ".py",
   "mimetype": "text/x-python",
   "name": "python",
   "nbconvert_exporter": "python",
   "pygments_lexer": "ipython3",
   "version": "3.7.3"
  }
 },
 "nbformat": 4,
 "nbformat_minor": 2
}
